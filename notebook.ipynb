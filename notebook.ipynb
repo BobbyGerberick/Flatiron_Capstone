{
 "cells": [
  {
   "cell_type": "code",
   "execution_count": 23,
   "metadata": {},
   "outputs": [],
   "source": [
    "#Basic Imports\n",
    "from sklearn.model_selection import cross_validate\n",
    "from sklearn.model_selection import train_test_split\n",
    "from sklearn.tree import DecisionTreeClassifier, plot_tree\n",
    "from sklearn.metrics import accuracy_score, confusion_matrix, classification_report\n",
    "from sklearn.ensemble import  RandomForestClassifier\n",
    "\n",
    "import pandas as pd\n",
    "import matplotlib.pyplot as plot\n",
    "import numpy as np\n",
    "import matplotlib.pyplot as plt\n",
    "import seaborn as sns\n"
   ]
  },
  {
   "cell_type": "code",
   "execution_count": 2,
   "metadata": {},
   "outputs": [],
   "source": [
    "df = pd.read_stata('data/ANESTimeSeriesStudy2016.dta')"
   ]
  },
  {
   "cell_type": "code",
   "execution_count": 3,
   "metadata": {
    "scrolled": false
   },
   "outputs": [
    {
     "name": "stdout",
     "output_type": "stream",
     "text": [
      "<class 'pandas.core.frame.DataFrame'>\n",
      "Int64Index: 4271 entries, 0 to 4270\n",
      "Columns: 1200 entries, version to I_MARITAL\n",
      "dtypes: category(1182), float64(6), int16(1), int32(1), int8(7), object(3)\n",
      "memory usage: 5.8+ MB\n"
     ]
    }
   ],
   "source": [
    "df.info()"
   ]
  },
  {
   "cell_type": "code",
   "execution_count": 4,
   "metadata": {
    "scrolled": true
   },
   "outputs": [
    {
     "data": {
      "text/plain": [
       "Democratic Presidential candidate: voted for candidate      1290\n",
       "Republican Presidential candidate: voted for candidate      1178\n",
       "No post-election interview                                   536\n",
       "Inapplicable                                                 515\n",
       "Republican Presidential candidate: preference (nonvoter)     219\n",
       "Democratic Presidential candidate: preference (nonvoter)     219\n",
       "Other Presidential candidate: voted for candidate            185\n",
       "No post data, incomplete IW                                   86\n",
       "Other Presidential candidate: preference (nonvoter)           43\n",
       "Name: V162058X, dtype: int64"
      ]
     },
     "execution_count": 4,
     "metadata": {},
     "output_type": "execute_result"
    }
   ],
   "source": [
    "df['V162058X'].value_counts()"
   ]
  },
  {
   "cell_type": "code",
   "execution_count": 5,
   "metadata": {},
   "outputs": [
    {
     "data": {
      "text/plain": [
       "CategoricalIndex(['No post-election interview', 'Inapplicable',\n",
       "                  'Republican Presidential candidate: preference (nonvoter)',\n",
       "                  'Democratic Presidential candidate: preference (nonvoter)',\n",
       "                  'Other Presidential candidate: voted for candidate',\n",
       "                  'No post data, incomplete IW',\n",
       "                  'Other Presidential candidate: preference (nonvoter)'],\n",
       "                 categories=['No post data, incomplete IW', 'No post-election interview', 'Inapplicable', 'Democratic Presidential candidate: voted for candidate', 'Republican Presidential candidate: voted for candidate', 'Other Presidential candidate: voted for candidate', 'Democratic Presidential candidate: preference (nonvoter)', 'Republican Presidential candidate: preference (nonvoter)', ...], ordered=True, dtype='category')"
      ]
     },
     "execution_count": 5,
     "metadata": {},
     "output_type": "execute_result"
    }
   ],
   "source": [
    "df['V162058X'].value_counts().index[2:9]"
   ]
  },
  {
   "cell_type": "code",
   "execution_count": 6,
   "metadata": {},
   "outputs": [],
   "source": [
    "drop = ['No post data, incomplete IW',\n",
    "                  'Other Presidential candidate: preference (nonvoter)',\n",
    "                  'Republican Presidential candidate: preference (nonvoter)',\n",
    "                  'Democratic Presidential candidate: preference (nonvoter)',\n",
    "                  'Other Presidential candidate: voted for candidate',\n",
    "                  'Inapplicable', 'No post-election interview']"
   ]
  },
  {
   "cell_type": "code",
   "execution_count": 7,
   "metadata": {},
   "outputs": [],
   "source": [
    "df.drop(df[df['V162058X'] == drop[0]].index, inplace = True)\n",
    "df.drop(df[df['V162058X'] == drop[1]].index, inplace = True)\n",
    "df.drop(df[df['V162058X'] == drop[2]].index, inplace = True)\n",
    "df.drop(df[df['V162058X'] == drop[3]].index, inplace = True)\n",
    "df.drop(df[df['V162058X'] == drop[4]].index, inplace = True)\n",
    "df.drop(df[df['V162058X'] == drop[5]].index, inplace = True)\n",
    "df.drop(df[df['V162058X'] == drop[6]].index, inplace = True)"
   ]
  },
  {
   "cell_type": "code",
   "execution_count": 8,
   "metadata": {
    "scrolled": true
   },
   "outputs": [
    {
     "data": {
      "text/plain": [
       "Democratic Presidential candidate: voted for candidate      1290\n",
       "Republican Presidential candidate: voted for candidate      1178\n",
       "Other Presidential candidate: preference (nonvoter)            0\n",
       "Republican Presidential candidate: preference (nonvoter)       0\n",
       "Democratic Presidential candidate: preference (nonvoter)       0\n",
       "Other Presidential candidate: voted for candidate              0\n",
       "Inapplicable                                                   0\n",
       "No post-election interview                                     0\n",
       "No post data, incomplete IW                                    0\n",
       "Name: V162058X, dtype: int64"
      ]
     },
     "execution_count": 8,
     "metadata": {},
     "output_type": "execute_result"
    }
   ],
   "source": [
    "df['V162058X'].value_counts()"
   ]
  },
  {
   "cell_type": "code",
   "execution_count": 9,
   "metadata": {
    "scrolled": true
   },
   "outputs": [
    {
     "data": {
      "text/plain": [
       "0       Republican Presidential candidate: voted for c...\n",
       "1       Republican Presidential candidate: voted for c...\n",
       "5       Republican Presidential candidate: voted for c...\n",
       "6       Democratic Presidential candidate: voted for c...\n",
       "7       Republican Presidential candidate: voted for c...\n",
       "                              ...                        \n",
       "4264    Republican Presidential candidate: voted for c...\n",
       "4265    Democratic Presidential candidate: voted for c...\n",
       "4266    Democratic Presidential candidate: voted for c...\n",
       "4267    Republican Presidential candidate: voted for c...\n",
       "4269    Democratic Presidential candidate: voted for c...\n",
       "Name: V162058X, Length: 2468, dtype: category\n",
       "Categories (9, object): ['No post data, incomplete IW' < 'No post-election interview' < 'Inapplicable' < 'Democratic Presidential candidate: voted for ... ... 'Other Presidential candidate: voted for candi... < 'Democratic Presidential candidate: preference... < 'Republican Presidential candidate: preference... < 'Other Presidential candidate: preference (non...]"
      ]
     },
     "execution_count": 9,
     "metadata": {},
     "output_type": "execute_result"
    }
   ],
   "source": [
    "df['V162058X']"
   ]
  },
  {
   "cell_type": "code",
   "execution_count": 15,
   "metadata": {},
   "outputs": [],
   "source": [
    "y = df['V162058X']\n",
    "X= df[[\"V160001\", \"V160101\", \"V160101F\", \"V160101W\", \"V160102\", \"V160102F\", \"V160102W\"]]"
   ]
  },
  {
   "cell_type": "code",
   "execution_count": 16,
   "metadata": {},
   "outputs": [],
   "source": [
    "X_train, X_test, y_train, y_test = train_test_split(X, y, random_state=42)"
   ]
  },
  {
   "cell_type": "markdown",
   "metadata": {},
   "source": [
    "# Decision Tree"
   ]
  },
  {
   "cell_type": "code",
   "execution_count": 18,
   "metadata": {},
   "outputs": [],
   "source": [
    "data_train, data_test, target_train, target_test = train_test_split(X, y, random_state=42)"
   ]
  },
  {
   "cell_type": "code",
   "execution_count": 19,
   "metadata": {},
   "outputs": [
    {
     "data": {
      "text/plain": [
       "DecisionTreeClassifier(max_depth=5)"
      ]
     },
     "execution_count": 19,
     "metadata": {},
     "output_type": "execute_result"
    }
   ],
   "source": [
    "tree_clf = DecisionTreeClassifier(criterion='gini', max_depth=5) \n",
    "tree_clf.fit(data_train, target_train)"
   ]
  },
  {
   "cell_type": "code",
   "execution_count": 20,
   "metadata": {},
   "outputs": [
    {
     "data": {
      "text/plain": [
       "DecisionTreeClassifier(max_depth=5)"
      ]
     },
     "execution_count": 20,
     "metadata": {},
     "output_type": "execute_result"
    }
   ],
   "source": [
    "DecisionTreeClassifier(max_depth=5)"
   ]
  },
  {
   "cell_type": "code",
   "execution_count": 32,
   "metadata": {},
   "outputs": [
    {
     "data": {
      "image/png": "[encoded data removed]",
      "text/plain": [
       "<Figure size 576x576 with 1 Axes>"
      ]
     },
     "metadata": {
      "needs_background": "light"
     },
     "output_type": "display_data"
    }
   ],
   "source": [
    "def plot_feature_importances(model):\n",
    "    n_features = data_train.shape[1]\n",
    "    plt.figure(figsize=(8,8))\n",
    "    plt.barh(range(n_features), model.feature_importances_, align='center') \n",
    "    plt.yticks(np.arange(n_features), data_train.columns.values) \n",
    "    plt.xlabel('Feature importance')\n",
    "    plt.ylabel('Feature')\n",
    "\n",
    "plot_feature_importances(tree_clf)"
   ]
  },
  {
   "cell_type": "code",
   "execution_count": 28,
   "metadata": {},
   "outputs": [
    {
     "name": "stdout",
     "output_type": "stream",
     "text": [
      "                                                        precision    recall  f1-score   support\n",
      "\n",
      "Democratic Presidential candidate: voted for candidate       0.55      0.78      0.64       329\n",
      "Republican Presidential candidate: voted for candidate       0.51      0.27      0.35       288\n",
      "\n",
      "                                              accuracy                           0.54       617\n",
      "                                             macro avg       0.53      0.52      0.50       617\n",
      "                                          weighted avg       0.53      0.54      0.51       617\n",
      "\n"
     ]
    }
   ],
   "source": [
    "pred = tree_clf.predict(data_test)\n",
    "print(classification_report(target_test, pred))"
   ]
  },
  {
   "cell_type": "markdown",
   "metadata": {},
   "source": [
    "# Random Forest"
   ]
  },
  {
   "cell_type": "code",
   "execution_count": 29,
   "metadata": {},
   "outputs": [
    {
     "data": {
      "text/plain": [
       "RandomForestClassifier(max_depth=5, n_estimators=50)"
      ]
     },
     "execution_count": 29,
     "metadata": {},
     "output_type": "execute_result"
    }
   ],
   "source": [
    "forest = RandomForestClassifier(n_estimators=50, max_depth= 5)\n",
    "forest.fit(data_train, target_train)"
   ]
  },
  {
   "cell_type": "code",
   "execution_count": 30,
   "metadata": {
    "scrolled": true
   },
   "outputs": [
    {
     "data": {
      "image/png": "[encoded data removed]",
      "text/plain": [
       "<Figure size 576x576 with 1 Axes>"
      ]
     },
     "metadata": {
      "needs_background": "light"
     },
     "output_type": "display_data"
    }
   ],
   "source": [
    "plot_feature_importances(forest)"
   ]
  },
  {
   "cell_type": "code",
   "execution_count": null,
   "metadata": {},
   "outputs": [],
   "source": []
  }
 ],
 "metadata": {
  "kernelspec": {
   "display_name": "Python (learn-env)",
   "language": "python",
   "name": "learn-env"
  },
  "language_info": {
   "codemirror_mode": {
    "name": "ipython",
    "version": 3
   },
   "file_extension": ".py",
   "mimetype": "text/x-python",
   "name": "python",
   "nbconvert_exporter": "python",
   "pygments_lexer": "ipython3",
   "version": "3.8.5"
  }
 },
 "nbformat": 4,
 "nbformat_minor": 4
}
