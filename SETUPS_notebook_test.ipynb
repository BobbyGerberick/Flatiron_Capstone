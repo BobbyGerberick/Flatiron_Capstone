{
 "cells": [
  {
   "cell_type": "code",
   "execution_count": 178,
   "metadata": {},
   "outputs": [],
   "source": [
    "#Basic Imports\n",
    "from sklearn.model_selection import cross_validate, cross_val_score, RandomizedSearchCV, train_test_split, GridSearchCV\n",
    "from sklearn.tree import DecisionTreeClassifier, plot_tree\n",
    "from sklearn.metrics import accuracy_score, confusion_matrix, classification_report\n",
    "from sklearn.ensemble import RandomForestClassifier\n",
    "from sklearn.dummy import DummyClassifier\n",
    "from sklearn.decomposition import TruncatedSVD\n",
    "from sklearn.compose import ColumnTransformer\n",
    "from sklearn.impute import SimpleImputer\n",
    "from sklearn.pipeline import Pipeline\n",
    "from sklearn.preprocessing import OneHotEncoder\n",
    "\n",
    "import pandas as pd\n",
    "import numpy as np\n",
    "import matplotlib.pyplot as plt\n",
    "import seaborn as sns"
   ]
  },
  {
   "cell_type": "code",
   "execution_count": 2,
   "metadata": {},
   "outputs": [],
   "source": [
    "df2012 = pd.read_stata('data/SETUPS2012/SETUPS2012.dta')\n",
    "df2016 = pd.read_stata('data/SETUPS2016/SETUPS2016.dta')\n",
    "df2020 = pd.read_stata('data/SETUPS2020/SETUPS2020.dta')"
   ]
  },
  {
   "cell_type": "code",
   "execution_count": 3,
   "metadata": {},
   "outputs": [
    {
     "data": {
      "text/plain": [
       "((5914, 195), (3649, 204), (7453, 257))"
      ]
     },
     "execution_count": 3,
     "metadata": {},
     "output_type": "execute_result"
    }
   ],
   "source": [
    "df2012.shape, df2016.shape, df2020.shape"
   ]
  },
  {
   "cell_type": "code",
   "execution_count": 4,
   "metadata": {
    "scrolled": false
   },
   "outputs": [],
   "source": [
    "df2012.drop(['CASEID','WEIGHT_FULL'], axis=1, inplace=True)\n",
    "df2016.drop(['CASEID','WEIGHT'], axis=1, inplace=True)\n",
    "df2020.drop(['CASEID','WEIGHT'], axis=1, inplace=True)"
   ]
  },
  {
   "cell_type": "code",
   "execution_count": 5,
   "metadata": {},
   "outputs": [],
   "source": [
    "df2020 = df2020.loc[(df2020['A01'] == '1. Voted') & ((df2020['A02'] == '1. Joe Biden') | (df2020['A02'] == '2. Donald Trump'))]"
   ]
  },
  {
   "cell_type": "code",
   "execution_count": 6,
   "metadata": {},
   "outputs": [
    {
     "data": {
      "text/plain": [
       "((5914, 193), (3649, 202), (6075, 255))"
      ]
     },
     "execution_count": 6,
     "metadata": {},
     "output_type": "execute_result"
    }
   ],
   "source": [
    "df2012.shape, df2016.shape, df2020.shape"
   ]
  },
  {
   "cell_type": "code",
   "execution_count": 7,
   "metadata": {},
   "outputs": [],
   "source": [
    "y = df2020['A02']\n",
    "X = df2020.drop(['A02'], axis=1, errors = \"ignore\")"
   ]
  },
  {
   "cell_type": "code",
   "execution_count": 8,
   "metadata": {},
   "outputs": [],
   "source": [
    "def get_columns(df):\n",
    "    dictionary = {}\n",
    "    import string\n",
    "    alphabet = list(string.ascii_uppercase[0:26])\n",
    "    for char in alphabet:\n",
    "        dictionary[char] = []\n",
    "        for num in list(range(df.shape[1])):\n",
    "            if df.columns[num].startswith(char):\n",
    "                dictionary[char].append(df.columns[num])            \n",
    "        temp = dictionary.pop(char)\n",
    "        if temp != []:\n",
    "            dictionary[char] = temp\n",
    "    return dictionary"
   ]
  },
  {
   "cell_type": "code",
   "execution_count": 9,
   "metadata": {},
   "outputs": [],
   "source": [
    "_2012_dictionary = get_columns(df2012)\n",
    "_2016_dictionary = get_columns(df2016)\n",
    "_2020_dictionary = get_columns(df2020)"
   ]
  },
  {
   "cell_type": "code",
   "execution_count": 10,
   "metadata": {},
   "outputs": [],
   "source": [
    "df2020.drop(_2020_dictionary['A'], axis=1, inplace=True, errors = \"ignore\")\n",
    "df2020.drop(_2020_dictionary['D'], axis=1, inplace=True)\n",
    "df2020.drop(_2020_dictionary['E'], axis=1, inplace=True)"
   ]
  },
  {
   "cell_type": "code",
   "execution_count": 11,
   "metadata": {},
   "outputs": [],
   "source": [
    "_2020_dictionary.pop('A')\n",
    "_2020_dictionary.pop('D')\n",
    "_2020_dictionary.pop('E');"
   ]
  },
  {
   "cell_type": "code",
   "execution_count": 12,
   "metadata": {},
   "outputs": [],
   "source": [
    "# import csv\n",
    "# with open('test.csv', 'w') as f:\n",
    "#     for key in _2020_dictionary.keys():\n",
    "#         f.write(\"%s,%s\\n\"%(key,_2020_dictionary[key]))"
   ]
  },
  {
   "cell_type": "code",
   "execution_count": 13,
   "metadata": {},
   "outputs": [],
   "source": [
    "# Survey_Subset = input(\"What section of the survey would you like to analyze? \")\n",
    "Survey_Subset = 'C'"
   ]
  },
  {
   "cell_type": "code",
   "execution_count": 14,
   "metadata": {},
   "outputs": [],
   "source": [
    "# categorical_columns = _2020_dictionary[Survey_Subset]\n",
    "# numerical_columns = []"
   ]
  },
  {
   "cell_type": "code",
   "execution_count": 131,
   "metadata": {},
   "outputs": [],
   "source": [
    "categorical_columns = list(df2020.columns)\n",
    "numerical_columns = []"
   ]
  },
  {
   "cell_type": "markdown",
   "metadata": {},
   "source": [
    "# Train Test Split"
   ]
  },
  {
   "cell_type": "code",
   "execution_count": 132,
   "metadata": {},
   "outputs": [],
   "source": [
    "X = X[categorical_columns + numerical_columns]\n",
    "X_train, X_test, y_train, y_test = train_test_split(X, y, stratify=y, random_state=42)"
   ]
  },
  {
   "cell_type": "code",
   "execution_count": 17,
   "metadata": {},
   "outputs": [
    {
     "data": {
      "text/plain": [
       "1. Joe Biden                    0.5777\n",
       "2. Donald Trump                 0.4223\n",
       "9. NA                           0.0000\n",
       "5. Other candidate {SPECIFY}    0.0000\n",
       "4. Howie Hawkins                0.0000\n",
       "3. Jo Jorgensen                 0.0000\n",
       "Name: A02, dtype: float64"
      ]
     },
     "execution_count": 17,
     "metadata": {},
     "output_type": "execute_result"
    }
   ],
   "source": [
    "y_train.value_counts(normalize=True)"
   ]
  },
  {
   "cell_type": "markdown",
   "metadata": {},
   "source": [
    "# Dummy Model"
   ]
  },
  {
   "cell_type": "markdown",
   "metadata": {},
   "source": [
    "Using the uniform strategy for the dumy model should result in a roughly 50/50 chance of getting each of our two choices which is what we see. This will serve as our baseline to compare the following models against"
   ]
  },
  {
   "cell_type": "code",
   "execution_count": 18,
   "metadata": {},
   "outputs": [
    {
     "data": {
      "text/plain": [
       "0.4950625411454905"
      ]
     },
     "execution_count": 18,
     "metadata": {},
     "output_type": "execute_result"
    }
   ],
   "source": [
    "dummy_clf = DummyClassifier(strategy = \"uniform\")\n",
    "dummy_clf.fit(X_train, y_train)\n",
    "dummy_clf.score(X_test, y_test)"
   ]
  },
  {
   "cell_type": "markdown",
   "metadata": {},
   "source": [
    "# Decision Tree"
   ]
  },
  {
   "cell_type": "code",
   "execution_count": 133,
   "metadata": {
    "scrolled": true
   },
   "outputs": [
    {
     "data": {
      "text/html": [
       "<style>#sk-container-id-14 {color: black;background-color: white;}#sk-container-id-14 pre{padding: 0;}#sk-container-id-14 div.sk-toggleable {background-color: white;}#sk-container-id-14 label.sk-toggleable__label {cursor: pointer;display: block;width: 100%;margin-bottom: 0;padding: 0.3em;box-sizing: border-box;text-align: center;}#sk-container-id-14 label.sk-toggleable__label-arrow:before {content: \"▸\";float: left;margin-right: 0.25em;color: #696969;}#sk-container-id-14 label.sk-toggleable__label-arrow:hover:before {color: black;}#sk-container-id-14 div.sk-estimator:hover label.sk-toggleable__label-arrow:before {color: black;}#sk-container-id-14 div.sk-toggleable__content {max-height: 0;max-width: 0;overflow: hidden;text-align: left;background-color: #f0f8ff;}#sk-container-id-14 div.sk-toggleable__content pre {margin: 0.2em;color: black;border-radius: 0.25em;background-color: #f0f8ff;}#sk-container-id-14 input.sk-toggleable__control:checked~div.sk-toggleable__content {max-height: 200px;max-width: 100%;overflow: auto;}#sk-container-id-14 input.sk-toggleable__control:checked~label.sk-toggleable__label-arrow:before {content: \"▾\";}#sk-container-id-14 div.sk-estimator input.sk-toggleable__control:checked~label.sk-toggleable__label {background-color: #d4ebff;}#sk-container-id-14 div.sk-label input.sk-toggleable__control:checked~label.sk-toggleable__label {background-color: #d4ebff;}#sk-container-id-14 input.sk-hidden--visually {border: 0;clip: rect(1px 1px 1px 1px);clip: rect(1px, 1px, 1px, 1px);height: 1px;margin: -1px;overflow: hidden;padding: 0;position: absolute;width: 1px;}#sk-container-id-14 div.sk-estimator {font-family: monospace;background-color: #f0f8ff;border: 1px dotted black;border-radius: 0.25em;box-sizing: border-box;margin-bottom: 0.5em;}#sk-container-id-14 div.sk-estimator:hover {background-color: #d4ebff;}#sk-container-id-14 div.sk-parallel-item::after {content: \"\";width: 100%;border-bottom: 1px solid gray;flex-grow: 1;}#sk-container-id-14 div.sk-label:hover label.sk-toggleable__label {background-color: #d4ebff;}#sk-container-id-14 div.sk-serial::before {content: \"\";position: absolute;border-left: 1px solid gray;box-sizing: border-box;top: 0;bottom: 0;left: 50%;z-index: 0;}#sk-container-id-14 div.sk-serial {display: flex;flex-direction: column;align-items: center;background-color: white;padding-right: 0.2em;padding-left: 0.2em;position: relative;}#sk-container-id-14 div.sk-item {position: relative;z-index: 1;}#sk-container-id-14 div.sk-parallel {display: flex;align-items: stretch;justify-content: center;background-color: white;position: relative;}#sk-container-id-14 div.sk-item::before, #sk-container-id-14 div.sk-parallel-item::before {content: \"\";position: absolute;border-left: 1px solid gray;box-sizing: border-box;top: 0;bottom: 0;left: 50%;z-index: -1;}#sk-container-id-14 div.sk-parallel-item {display: flex;flex-direction: column;z-index: 1;position: relative;background-color: white;}#sk-container-id-14 div.sk-parallel-item:first-child::after {align-self: flex-end;width: 50%;}#sk-container-id-14 div.sk-parallel-item:last-child::after {align-self: flex-start;width: 50%;}#sk-container-id-14 div.sk-parallel-item:only-child::after {width: 0;}#sk-container-id-14 div.sk-dashed-wrapped {border: 1px dashed gray;margin: 0 0.4em 0.5em 0.4em;box-sizing: border-box;padding-bottom: 0.4em;background-color: white;}#sk-container-id-14 div.sk-label label {font-family: monospace;font-weight: bold;display: inline-block;line-height: 1.2em;}#sk-container-id-14 div.sk-label-container {text-align: center;}#sk-container-id-14 div.sk-container {/* jupyter's `normalize.less` sets `[hidden] { display: none; }` but bootstrap.min.css set `[hidden] { display: none !important; }` so we also need the `!important` here to be able to override the default hidden behavior on the sphinx rendered scikit-learn.org. See: https://github.com/scikit-learn/scikit-learn/issues/21755 */display: inline-block !important;position: relative;}#sk-container-id-14 div.sk-text-repr-fallback {display: none;}</style><div id=\"sk-container-id-14\" class=\"sk-top-container\"><div class=\"sk-text-repr-fallback\"><pre>Pipeline(steps=[(&#x27;preprocess&#x27;,\n",
       "                 ColumnTransformer(transformers=[(&#x27;cat&#x27;,\n",
       "                                                  OneHotEncoder(handle_unknown=&#x27;ignore&#x27;),\n",
       "                                                  [&#x27;B01&#x27;, &#x27;B02&#x27;, &#x27;B03&#x27;, &#x27;B04&#x27;,\n",
       "                                                   &#x27;B05&#x27;, &#x27;B06&#x27;, &#x27;B07&#x27;, &#x27;B08&#x27;,\n",
       "                                                   &#x27;B09&#x27;, &#x27;B10&#x27;, &#x27;B11&#x27;, &#x27;B12&#x27;,\n",
       "                                                   &#x27;B13&#x27;, &#x27;B14&#x27;, &#x27;B15&#x27;, &#x27;B16&#x27;,\n",
       "                                                   &#x27;B17&#x27;, &#x27;B18&#x27;, &#x27;B19&#x27;, &#x27;B20&#x27;,\n",
       "                                                   &#x27;B21&#x27;, &#x27;B22&#x27;, &#x27;B23&#x27;, &#x27;C01&#x27;,\n",
       "                                                   &#x27;C02&#x27;, &#x27;C03&#x27;, &#x27;C04&#x27;, &#x27;C05&#x27;,\n",
       "                                                   &#x27;C06&#x27;, &#x27;C07&#x27;, ...]),\n",
       "                                                 (&#x27;num&#x27;, SimpleImputer(), [])],\n",
       "                                   verbose_feature_names_out=False)),\n",
       "                (&#x27;classifier&#x27;, DecisionTreeClassifier(random_state=42))])</pre><b>In a Jupyter environment, please rerun this cell to show the HTML representation or trust the notebook. <br />On GitHub, the HTML representation is unable to render, please try loading this page with nbviewer.org.</b></div><div class=\"sk-container\" hidden><div class=\"sk-item sk-dashed-wrapped\"><div class=\"sk-label-container\"><div class=\"sk-label sk-toggleable\"><input class=\"sk-toggleable__control sk-hidden--visually\" id=\"sk-estimator-id-97\" type=\"checkbox\" ><label for=\"sk-estimator-id-97\" class=\"sk-toggleable__label sk-toggleable__label-arrow\">Pipeline</label><div class=\"sk-toggleable__content\"><pre>Pipeline(steps=[(&#x27;preprocess&#x27;,\n",
       "                 ColumnTransformer(transformers=[(&#x27;cat&#x27;,\n",
       "                                                  OneHotEncoder(handle_unknown=&#x27;ignore&#x27;),\n",
       "                                                  [&#x27;B01&#x27;, &#x27;B02&#x27;, &#x27;B03&#x27;, &#x27;B04&#x27;,\n",
       "                                                   &#x27;B05&#x27;, &#x27;B06&#x27;, &#x27;B07&#x27;, &#x27;B08&#x27;,\n",
       "                                                   &#x27;B09&#x27;, &#x27;B10&#x27;, &#x27;B11&#x27;, &#x27;B12&#x27;,\n",
       "                                                   &#x27;B13&#x27;, &#x27;B14&#x27;, &#x27;B15&#x27;, &#x27;B16&#x27;,\n",
       "                                                   &#x27;B17&#x27;, &#x27;B18&#x27;, &#x27;B19&#x27;, &#x27;B20&#x27;,\n",
       "                                                   &#x27;B21&#x27;, &#x27;B22&#x27;, &#x27;B23&#x27;, &#x27;C01&#x27;,\n",
       "                                                   &#x27;C02&#x27;, &#x27;C03&#x27;, &#x27;C04&#x27;, &#x27;C05&#x27;,\n",
       "                                                   &#x27;C06&#x27;, &#x27;C07&#x27;, ...]),\n",
       "                                                 (&#x27;num&#x27;, SimpleImputer(), [])],\n",
       "                                   verbose_feature_names_out=False)),\n",
       "                (&#x27;classifier&#x27;, DecisionTreeClassifier(random_state=42))])</pre></div></div></div><div class=\"sk-serial\"><div class=\"sk-item sk-dashed-wrapped\"><div class=\"sk-label-container\"><div class=\"sk-label sk-toggleable\"><input class=\"sk-toggleable__control sk-hidden--visually\" id=\"sk-estimator-id-98\" type=\"checkbox\" ><label for=\"sk-estimator-id-98\" class=\"sk-toggleable__label sk-toggleable__label-arrow\">preprocess: ColumnTransformer</label><div class=\"sk-toggleable__content\"><pre>ColumnTransformer(transformers=[(&#x27;cat&#x27;, OneHotEncoder(handle_unknown=&#x27;ignore&#x27;),\n",
       "                                 [&#x27;B01&#x27;, &#x27;B02&#x27;, &#x27;B03&#x27;, &#x27;B04&#x27;, &#x27;B05&#x27;, &#x27;B06&#x27;,\n",
       "                                  &#x27;B07&#x27;, &#x27;B08&#x27;, &#x27;B09&#x27;, &#x27;B10&#x27;, &#x27;B11&#x27;, &#x27;B12&#x27;,\n",
       "                                  &#x27;B13&#x27;, &#x27;B14&#x27;, &#x27;B15&#x27;, &#x27;B16&#x27;, &#x27;B17&#x27;, &#x27;B18&#x27;,\n",
       "                                  &#x27;B19&#x27;, &#x27;B20&#x27;, &#x27;B21&#x27;, &#x27;B22&#x27;, &#x27;B23&#x27;, &#x27;C01&#x27;,\n",
       "                                  &#x27;C02&#x27;, &#x27;C03&#x27;, &#x27;C04&#x27;, &#x27;C05&#x27;, &#x27;C06&#x27;, &#x27;C07&#x27;, ...]),\n",
       "                                (&#x27;num&#x27;, SimpleImputer(), [])],\n",
       "                  verbose_feature_names_out=False)</pre></div></div></div><div class=\"sk-parallel\"><div class=\"sk-parallel-item\"><div class=\"sk-item\"><div class=\"sk-label-container\"><div class=\"sk-label sk-toggleable\"><input class=\"sk-toggleable__control sk-hidden--visually\" id=\"sk-estimator-id-99\" type=\"checkbox\" ><label for=\"sk-estimator-id-99\" class=\"sk-toggleable__label sk-toggleable__label-arrow\">cat</label><div class=\"sk-toggleable__content\"><pre>[&#x27;B01&#x27;, &#x27;B02&#x27;, &#x27;B03&#x27;, &#x27;B04&#x27;, &#x27;B05&#x27;, &#x27;B06&#x27;, &#x27;B07&#x27;, &#x27;B08&#x27;, &#x27;B09&#x27;, &#x27;B10&#x27;, &#x27;B11&#x27;, &#x27;B12&#x27;, &#x27;B13&#x27;, &#x27;B14&#x27;, &#x27;B15&#x27;, &#x27;B16&#x27;, &#x27;B17&#x27;, &#x27;B18&#x27;, &#x27;B19&#x27;, &#x27;B20&#x27;, &#x27;B21&#x27;, &#x27;B22&#x27;, &#x27;B23&#x27;, &#x27;C01&#x27;, &#x27;C02&#x27;, &#x27;C03&#x27;, &#x27;C04&#x27;, &#x27;C05&#x27;, &#x27;C06&#x27;, &#x27;C07&#x27;, &#x27;F01&#x27;, &#x27;F02&#x27;, &#x27;F03&#x27;, &#x27;F04&#x27;, &#x27;F05&#x27;, &#x27;F06&#x27;, &#x27;F07&#x27;, &#x27;F08&#x27;, &#x27;F09&#x27;, &#x27;F10&#x27;, &#x27;F11&#x27;, &#x27;F12&#x27;, &#x27;F13&#x27;, &#x27;F14&#x27;, &#x27;F15&#x27;, &#x27;F16&#x27;, &#x27;F17&#x27;, &#x27;F18&#x27;, &#x27;F19&#x27;, &#x27;F20&#x27;, &#x27;F21&#x27;, &#x27;F22&#x27;, &#x27;F23&#x27;, &#x27;F24&#x27;, &#x27;F25&#x27;, &#x27;F26&#x27;, &#x27;F27&#x27;, &#x27;G01&#x27;, &#x27;G02&#x27;, &#x27;G03&#x27;, &#x27;G04&#x27;, &#x27;G05&#x27;, &#x27;G06&#x27;, &#x27;G07&#x27;, &#x27;G08&#x27;, &#x27;G09&#x27;, &#x27;G10&#x27;, &#x27;G11&#x27;, &#x27;H01&#x27;, &#x27;H02&#x27;, &#x27;H03&#x27;, &#x27;H04&#x27;, &#x27;H05&#x27;, &#x27;H06&#x27;, &#x27;H07&#x27;, &#x27;H08&#x27;, &#x27;H09&#x27;, &#x27;H10&#x27;, &#x27;H11&#x27;, &#x27;H12&#x27;, &#x27;H13&#x27;, &#x27;H14&#x27;, &#x27;H15&#x27;, &#x27;H16&#x27;, &#x27;H17&#x27;, &#x27;J01&#x27;, &#x27;J02&#x27;, &#x27;J03&#x27;, &#x27;J04&#x27;, &#x27;J05&#x27;, &#x27;J06&#x27;, &#x27;J07&#x27;, &#x27;J08&#x27;, &#x27;J09&#x27;, &#x27;J10&#x27;, &#x27;J11&#x27;, &#x27;J12&#x27;, &#x27;K01&#x27;, &#x27;K02&#x27;, &#x27;K03&#x27;, &#x27;K04&#x27;, &#x27;K05&#x27;, &#x27;K06&#x27;, &#x27;K07&#x27;, &#x27;K08&#x27;, &#x27;K09&#x27;, &#x27;K10&#x27;, &#x27;K11&#x27;, &#x27;K12&#x27;, &#x27;K13&#x27;, &#x27;K14&#x27;, &#x27;K15&#x27;, &#x27;K16&#x27;, &#x27;K17&#x27;, &#x27;K18&#x27;, &#x27;L01&#x27;, &#x27;L02&#x27;, &#x27;L03&#x27;, &#x27;L04&#x27;, &#x27;L05&#x27;, &#x27;L06&#x27;, &#x27;M01&#x27;, &#x27;M02&#x27;, &#x27;M03&#x27;, &#x27;M04&#x27;, &#x27;M05&#x27;, &#x27;M06&#x27;, &#x27;M07&#x27;, &#x27;M08&#x27;, &#x27;M09&#x27;, &#x27;M10&#x27;, &#x27;M11&#x27;, &#x27;M12&#x27;, &#x27;M13&#x27;, &#x27;M14&#x27;, &#x27;M15&#x27;, &#x27;M16&#x27;, &#x27;M17&#x27;, &#x27;M18&#x27;, &#x27;M19&#x27;, &#x27;M20&#x27;, &#x27;N01&#x27;, &#x27;N02&#x27;, &#x27;N03&#x27;, &#x27;N04&#x27;, &#x27;N05&#x27;, &#x27;N06&#x27;, &#x27;N07&#x27;, &#x27;N08&#x27;, &#x27;P01&#x27;, &#x27;P02&#x27;, &#x27;P03&#x27;, &#x27;P04&#x27;, &#x27;P05&#x27;, &#x27;P06&#x27;, &#x27;P07&#x27;, &#x27;P08&#x27;, &#x27;P09&#x27;, &#x27;P10&#x27;, &#x27;P11&#x27;, &#x27;P12&#x27;, &#x27;P13&#x27;, &#x27;P14&#x27;, &#x27;P15&#x27;, &#x27;P16&#x27;, &#x27;P17&#x27;, &#x27;P18&#x27;, &#x27;P19&#x27;, &#x27;P20&#x27;, &#x27;P21&#x27;, &#x27;P22&#x27;, &#x27;P23&#x27;, &#x27;P24&#x27;, &#x27;P25&#x27;, &#x27;P26&#x27;, &#x27;P27&#x27;, &#x27;P28&#x27;, &#x27;P29&#x27;, &#x27;Q01&#x27;, &#x27;Q02&#x27;, &#x27;Q03&#x27;, &#x27;Q04&#x27;, &#x27;Q05&#x27;, &#x27;Q06&#x27;, &#x27;Q07&#x27;, &#x27;Q08&#x27;, &#x27;R01&#x27;, &#x27;R02&#x27;, &#x27;R03&#x27;, &#x27;R04&#x27;, &#x27;R05&#x27;, &#x27;R06&#x27;, &#x27;R07&#x27;, &#x27;R08&#x27;, &#x27;R09&#x27;, &#x27;R10&#x27;, &#x27;R11&#x27;, &#x27;R12&#x27;, &#x27;R13&#x27;, &#x27;R14&#x27;, &#x27;R15&#x27;, &#x27;R16&#x27;, &#x27;R17&#x27;, &#x27;R18&#x27;]</pre></div></div></div><div class=\"sk-serial\"><div class=\"sk-item\"><div class=\"sk-estimator sk-toggleable\"><input class=\"sk-toggleable__control sk-hidden--visually\" id=\"sk-estimator-id-100\" type=\"checkbox\" ><label for=\"sk-estimator-id-100\" class=\"sk-toggleable__label sk-toggleable__label-arrow\">OneHotEncoder</label><div class=\"sk-toggleable__content\"><pre>OneHotEncoder(handle_unknown=&#x27;ignore&#x27;)</pre></div></div></div></div></div></div><div class=\"sk-parallel-item\"><div class=\"sk-item\"><div class=\"sk-label-container\"><div class=\"sk-label sk-toggleable\"><input class=\"sk-toggleable__control sk-hidden--visually\" id=\"sk-estimator-id-101\" type=\"checkbox\" ><label for=\"sk-estimator-id-101\" class=\"sk-toggleable__label sk-toggleable__label-arrow\">num</label><div class=\"sk-toggleable__content\"><pre>[]</pre></div></div></div><div class=\"sk-serial\"><div class=\"sk-item\"><div class=\"sk-estimator sk-toggleable\"><input class=\"sk-toggleable__control sk-hidden--visually\" id=\"sk-estimator-id-102\" type=\"checkbox\" ><label for=\"sk-estimator-id-102\" class=\"sk-toggleable__label sk-toggleable__label-arrow\">SimpleImputer</label><div class=\"sk-toggleable__content\"><pre>SimpleImputer()</pre></div></div></div></div></div></div></div></div><div class=\"sk-item\"><div class=\"sk-estimator sk-toggleable\"><input class=\"sk-toggleable__control sk-hidden--visually\" id=\"sk-estimator-id-103\" type=\"checkbox\" ><label for=\"sk-estimator-id-103\" class=\"sk-toggleable__label sk-toggleable__label-arrow\">DecisionTreeClassifier</label><div class=\"sk-toggleable__content\"><pre>DecisionTreeClassifier(random_state=42)</pre></div></div></div></div></div></div></div>"
      ],
      "text/plain": [
       "Pipeline(steps=[('preprocess',\n",
       "                 ColumnTransformer(transformers=[('cat',\n",
       "                                                  OneHotEncoder(handle_unknown='ignore'),\n",
       "                                                  ['B01', 'B02', 'B03', 'B04',\n",
       "                                                   'B05', 'B06', 'B07', 'B08',\n",
       "                                                   'B09', 'B10', 'B11', 'B12',\n",
       "                                                   'B13', 'B14', 'B15', 'B16',\n",
       "                                                   'B17', 'B18', 'B19', 'B20',\n",
       "                                                   'B21', 'B22', 'B23', 'C01',\n",
       "                                                   'C02', 'C03', 'C04', 'C05',\n",
       "                                                   'C06', 'C07', ...]),\n",
       "                                                 ('num', SimpleImputer(), [])],\n",
       "                                   verbose_feature_names_out=False)),\n",
       "                ('classifier', DecisionTreeClassifier(random_state=42))])"
      ]
     },
     "execution_count": 133,
     "metadata": {},
     "output_type": "execute_result"
    }
   ],
   "source": [
    "categorical_processing = OneHotEncoder(handle_unknown='ignore')\n",
    "numerical_pipe = SimpleImputer(strategy=\"mean\")\n",
    "\n",
    "preprocessing = ColumnTransformer(\n",
    "    [\n",
    "        (\"cat\", categorical_processing, categorical_columns),\n",
    "        (\"num\", numerical_pipe, numerical_columns),\n",
    "    ],\n",
    "    verbose_feature_names_out=False,\n",
    ")\n",
    "\n",
    "tree_pipe = Pipeline(\n",
    "    [\n",
    "        (\"preprocess\", preprocessing),\n",
    "        (\"classifier\", DecisionTreeClassifier(random_state=42)),\n",
    "    ]\n",
    ")\n",
    "tree_pipe.fit(X_train, y_train)"
   ]
  },
  {
   "cell_type": "code",
   "execution_count": 134,
   "metadata": {
    "scrolled": true
   },
   "outputs": [
    {
     "name": "stdout",
     "output_type": "stream",
     "text": [
      "Training data prediction accuracy:  1.0\n",
      "CV train accuracy: 0.9242730178905003\n"
     ]
    }
   ],
   "source": [
    "y_pred = tree_pipe.predict(X_train)\n",
    "#Checking accuracy of predictions\n",
    "print(f\"Training data prediction accuracy: \", accuracy_score(y_train, y_pred))\n",
    "\n",
    "#getting cross validation score for training data \n",
    "print(f\"CV train accuracy: {cross_val_score(tree_pipe, X_train, y_train, cv=5, scoring = 'accuracy').mean()}\")"
   ]
  },
  {
   "cell_type": "markdown",
   "metadata": {},
   "source": [
    "# Tree Second Iteration "
   ]
  },
  {
   "cell_type": "code",
   "execution_count": 179,
   "metadata": {},
   "outputs": [
    {
     "data": {
      "text/html": [
       "<style>#sk-container-id-17 {color: black;background-color: white;}#sk-container-id-17 pre{padding: 0;}#sk-container-id-17 div.sk-toggleable {background-color: white;}#sk-container-id-17 label.sk-toggleable__label {cursor: pointer;display: block;width: 100%;margin-bottom: 0;padding: 0.3em;box-sizing: border-box;text-align: center;}#sk-container-id-17 label.sk-toggleable__label-arrow:before {content: \"▸\";float: left;margin-right: 0.25em;color: #696969;}#sk-container-id-17 label.sk-toggleable__label-arrow:hover:before {color: black;}#sk-container-id-17 div.sk-estimator:hover label.sk-toggleable__label-arrow:before {color: black;}#sk-container-id-17 div.sk-toggleable__content {max-height: 0;max-width: 0;overflow: hidden;text-align: left;background-color: #f0f8ff;}#sk-container-id-17 div.sk-toggleable__content pre {margin: 0.2em;color: black;border-radius: 0.25em;background-color: #f0f8ff;}#sk-container-id-17 input.sk-toggleable__control:checked~div.sk-toggleable__content {max-height: 200px;max-width: 100%;overflow: auto;}#sk-container-id-17 input.sk-toggleable__control:checked~label.sk-toggleable__label-arrow:before {content: \"▾\";}#sk-container-id-17 div.sk-estimator input.sk-toggleable__control:checked~label.sk-toggleable__label {background-color: #d4ebff;}#sk-container-id-17 div.sk-label input.sk-toggleable__control:checked~label.sk-toggleable__label {background-color: #d4ebff;}#sk-container-id-17 input.sk-hidden--visually {border: 0;clip: rect(1px 1px 1px 1px);clip: rect(1px, 1px, 1px, 1px);height: 1px;margin: -1px;overflow: hidden;padding: 0;position: absolute;width: 1px;}#sk-container-id-17 div.sk-estimator {font-family: monospace;background-color: #f0f8ff;border: 1px dotted black;border-radius: 0.25em;box-sizing: border-box;margin-bottom: 0.5em;}#sk-container-id-17 div.sk-estimator:hover {background-color: #d4ebff;}#sk-container-id-17 div.sk-parallel-item::after {content: \"\";width: 100%;border-bottom: 1px solid gray;flex-grow: 1;}#sk-container-id-17 div.sk-label:hover label.sk-toggleable__label {background-color: #d4ebff;}#sk-container-id-17 div.sk-serial::before {content: \"\";position: absolute;border-left: 1px solid gray;box-sizing: border-box;top: 0;bottom: 0;left: 50%;z-index: 0;}#sk-container-id-17 div.sk-serial {display: flex;flex-direction: column;align-items: center;background-color: white;padding-right: 0.2em;padding-left: 0.2em;position: relative;}#sk-container-id-17 div.sk-item {position: relative;z-index: 1;}#sk-container-id-17 div.sk-parallel {display: flex;align-items: stretch;justify-content: center;background-color: white;position: relative;}#sk-container-id-17 div.sk-item::before, #sk-container-id-17 div.sk-parallel-item::before {content: \"\";position: absolute;border-left: 1px solid gray;box-sizing: border-box;top: 0;bottom: 0;left: 50%;z-index: -1;}#sk-container-id-17 div.sk-parallel-item {display: flex;flex-direction: column;z-index: 1;position: relative;background-color: white;}#sk-container-id-17 div.sk-parallel-item:first-child::after {align-self: flex-end;width: 50%;}#sk-container-id-17 div.sk-parallel-item:last-child::after {align-self: flex-start;width: 50%;}#sk-container-id-17 div.sk-parallel-item:only-child::after {width: 0;}#sk-container-id-17 div.sk-dashed-wrapped {border: 1px dashed gray;margin: 0 0.4em 0.5em 0.4em;box-sizing: border-box;padding-bottom: 0.4em;background-color: white;}#sk-container-id-17 div.sk-label label {font-family: monospace;font-weight: bold;display: inline-block;line-height: 1.2em;}#sk-container-id-17 div.sk-label-container {text-align: center;}#sk-container-id-17 div.sk-container {/* jupyter's `normalize.less` sets `[hidden] { display: none; }` but bootstrap.min.css set `[hidden] { display: none !important; }` so we also need the `!important` here to be able to override the default hidden behavior on the sphinx rendered scikit-learn.org. See: https://github.com/scikit-learn/scikit-learn/issues/21755 */display: inline-block !important;position: relative;}#sk-container-id-17 div.sk-text-repr-fallback {display: none;}</style><div id=\"sk-container-id-17\" class=\"sk-top-container\"><div class=\"sk-text-repr-fallback\"><pre>GridSearchCV(cv=5,\n",
       "             estimator=Pipeline(steps=[(&#x27;preprocess&#x27;,\n",
       "                                        ColumnTransformer(transformers=[(&#x27;cat&#x27;,\n",
       "                                                                         OneHotEncoder(handle_unknown=&#x27;ignore&#x27;),\n",
       "                                                                         [&#x27;B01&#x27;,\n",
       "                                                                          &#x27;B02&#x27;,\n",
       "                                                                          &#x27;B03&#x27;,\n",
       "                                                                          &#x27;B04&#x27;,\n",
       "                                                                          &#x27;B05&#x27;,\n",
       "                                                                          &#x27;B06&#x27;,\n",
       "                                                                          &#x27;B07&#x27;,\n",
       "                                                                          &#x27;B08&#x27;,\n",
       "                                                                          &#x27;B09&#x27;,\n",
       "                                                                          &#x27;B10&#x27;,\n",
       "                                                                          &#x27;B11&#x27;,\n",
       "                                                                          &#x27;B12&#x27;,\n",
       "                                                                          &#x27;B13&#x27;,\n",
       "                                                                          &#x27;B14&#x27;,\n",
       "                                                                          &#x27;B15&#x27;,\n",
       "                                                                          &#x27;B16&#x27;,\n",
       "                                                                          &#x27;B17&#x27;,\n",
       "                                                                          &#x27;B18&#x27;,\n",
       "                                                                          &#x27;B19&#x27;,\n",
       "                                                                          &#x27;B20&#x27;,\n",
       "                                                                          &#x27;B21&#x27;,\n",
       "                                                                          &#x27;B22&#x27;,\n",
       "                                                                          &#x27;B23&#x27;,\n",
       "                                                                          &#x27;C01&#x27;,\n",
       "                                                                          &#x27;C02&#x27;,\n",
       "                                                                          &#x27;C03&#x27;,\n",
       "                                                                          &#x27;C04&#x27;,\n",
       "                                                                          &#x27;C05&#x27;,\n",
       "                                                                          &#x27;C06&#x27;,\n",
       "                                                                          &#x27;C07&#x27;, ...]),\n",
       "                                                                        (&#x27;num&#x27;,\n",
       "                                                                         SimpleImputer(),\n",
       "                                                                         [])],\n",
       "                                                          verbose_feature_names_out=False)),\n",
       "                                       (&#x27;classifier&#x27;,\n",
       "                                        DecisionTreeClassifier(max_depth=8,\n",
       "                                                               random_state=42))]),\n",
       "             n_jobs=3,\n",
       "             param_grid={&#x27;classifier__criterion&#x27;: [&#x27;gini&#x27;, &#x27;entropy&#x27;,\n",
       "                                                   &#x27;log_loss&#x27;],\n",
       "                         &#x27;classifier__max_depth&#x27;: [2, 4, 6, 8, 10, 12]},\n",
       "             scoring=&#x27;accuracy&#x27;)</pre><b>In a Jupyter environment, please rerun this cell to show the HTML representation or trust the notebook. <br />On GitHub, the HTML representation is unable to render, please try loading this page with nbviewer.org.</b></div><div class=\"sk-container\" hidden><div class=\"sk-item sk-dashed-wrapped\"><div class=\"sk-label-container\"><div class=\"sk-label sk-toggleable\"><input class=\"sk-toggleable__control sk-hidden--visually\" id=\"sk-estimator-id-119\" type=\"checkbox\" ><label for=\"sk-estimator-id-119\" class=\"sk-toggleable__label sk-toggleable__label-arrow\">GridSearchCV</label><div class=\"sk-toggleable__content\"><pre>GridSearchCV(cv=5,\n",
       "             estimator=Pipeline(steps=[(&#x27;preprocess&#x27;,\n",
       "                                        ColumnTransformer(transformers=[(&#x27;cat&#x27;,\n",
       "                                                                         OneHotEncoder(handle_unknown=&#x27;ignore&#x27;),\n",
       "                                                                         [&#x27;B01&#x27;,\n",
       "                                                                          &#x27;B02&#x27;,\n",
       "                                                                          &#x27;B03&#x27;,\n",
       "                                                                          &#x27;B04&#x27;,\n",
       "                                                                          &#x27;B05&#x27;,\n",
       "                                                                          &#x27;B06&#x27;,\n",
       "                                                                          &#x27;B07&#x27;,\n",
       "                                                                          &#x27;B08&#x27;,\n",
       "                                                                          &#x27;B09&#x27;,\n",
       "                                                                          &#x27;B10&#x27;,\n",
       "                                                                          &#x27;B11&#x27;,\n",
       "                                                                          &#x27;B12&#x27;,\n",
       "                                                                          &#x27;B13&#x27;,\n",
       "                                                                          &#x27;B14&#x27;,\n",
       "                                                                          &#x27;B15&#x27;,\n",
       "                                                                          &#x27;B16&#x27;,\n",
       "                                                                          &#x27;B17&#x27;,\n",
       "                                                                          &#x27;B18&#x27;,\n",
       "                                                                          &#x27;B19&#x27;,\n",
       "                                                                          &#x27;B20&#x27;,\n",
       "                                                                          &#x27;B21&#x27;,\n",
       "                                                                          &#x27;B22&#x27;,\n",
       "                                                                          &#x27;B23&#x27;,\n",
       "                                                                          &#x27;C01&#x27;,\n",
       "                                                                          &#x27;C02&#x27;,\n",
       "                                                                          &#x27;C03&#x27;,\n",
       "                                                                          &#x27;C04&#x27;,\n",
       "                                                                          &#x27;C05&#x27;,\n",
       "                                                                          &#x27;C06&#x27;,\n",
       "                                                                          &#x27;C07&#x27;, ...]),\n",
       "                                                                        (&#x27;num&#x27;,\n",
       "                                                                         SimpleImputer(),\n",
       "                                                                         [])],\n",
       "                                                          verbose_feature_names_out=False)),\n",
       "                                       (&#x27;classifier&#x27;,\n",
       "                                        DecisionTreeClassifier(max_depth=8,\n",
       "                                                               random_state=42))]),\n",
       "             n_jobs=3,\n",
       "             param_grid={&#x27;classifier__criterion&#x27;: [&#x27;gini&#x27;, &#x27;entropy&#x27;,\n",
       "                                                   &#x27;log_loss&#x27;],\n",
       "                         &#x27;classifier__max_depth&#x27;: [2, 4, 6, 8, 10, 12]},\n",
       "             scoring=&#x27;accuracy&#x27;)</pre></div></div></div><div class=\"sk-parallel\"><div class=\"sk-parallel-item\"><div class=\"sk-item\"><div class=\"sk-label-container\"><div class=\"sk-label sk-toggleable\"><input class=\"sk-toggleable__control sk-hidden--visually\" id=\"sk-estimator-id-120\" type=\"checkbox\" ><label for=\"sk-estimator-id-120\" class=\"sk-toggleable__label sk-toggleable__label-arrow\">estimator: Pipeline</label><div class=\"sk-toggleable__content\"><pre>Pipeline(steps=[(&#x27;preprocess&#x27;,\n",
       "                 ColumnTransformer(transformers=[(&#x27;cat&#x27;,\n",
       "                                                  OneHotEncoder(handle_unknown=&#x27;ignore&#x27;),\n",
       "                                                  [&#x27;B01&#x27;, &#x27;B02&#x27;, &#x27;B03&#x27;, &#x27;B04&#x27;,\n",
       "                                                   &#x27;B05&#x27;, &#x27;B06&#x27;, &#x27;B07&#x27;, &#x27;B08&#x27;,\n",
       "                                                   &#x27;B09&#x27;, &#x27;B10&#x27;, &#x27;B11&#x27;, &#x27;B12&#x27;,\n",
       "                                                   &#x27;B13&#x27;, &#x27;B14&#x27;, &#x27;B15&#x27;, &#x27;B16&#x27;,\n",
       "                                                   &#x27;B17&#x27;, &#x27;B18&#x27;, &#x27;B19&#x27;, &#x27;B20&#x27;,\n",
       "                                                   &#x27;B21&#x27;, &#x27;B22&#x27;, &#x27;B23&#x27;, &#x27;C01&#x27;,\n",
       "                                                   &#x27;C02&#x27;, &#x27;C03&#x27;, &#x27;C04&#x27;, &#x27;C05&#x27;,\n",
       "                                                   &#x27;C06&#x27;, &#x27;C07&#x27;, ...]),\n",
       "                                                 (&#x27;num&#x27;, SimpleImputer(), [])],\n",
       "                                   verbose_feature_names_out=False)),\n",
       "                (&#x27;classifier&#x27;,\n",
       "                 DecisionTreeClassifier(max_depth=8, random_state=42))])</pre></div></div></div><div class=\"sk-serial\"><div class=\"sk-item\"><div class=\"sk-serial\"><div class=\"sk-item sk-dashed-wrapped\"><div class=\"sk-label-container\"><div class=\"sk-label sk-toggleable\"><input class=\"sk-toggleable__control sk-hidden--visually\" id=\"sk-estimator-id-121\" type=\"checkbox\" ><label for=\"sk-estimator-id-121\" class=\"sk-toggleable__label sk-toggleable__label-arrow\">preprocess: ColumnTransformer</label><div class=\"sk-toggleable__content\"><pre>ColumnTransformer(transformers=[(&#x27;cat&#x27;, OneHotEncoder(handle_unknown=&#x27;ignore&#x27;),\n",
       "                                 [&#x27;B01&#x27;, &#x27;B02&#x27;, &#x27;B03&#x27;, &#x27;B04&#x27;, &#x27;B05&#x27;, &#x27;B06&#x27;,\n",
       "                                  &#x27;B07&#x27;, &#x27;B08&#x27;, &#x27;B09&#x27;, &#x27;B10&#x27;, &#x27;B11&#x27;, &#x27;B12&#x27;,\n",
       "                                  &#x27;B13&#x27;, &#x27;B14&#x27;, &#x27;B15&#x27;, &#x27;B16&#x27;, &#x27;B17&#x27;, &#x27;B18&#x27;,\n",
       "                                  &#x27;B19&#x27;, &#x27;B20&#x27;, &#x27;B21&#x27;, &#x27;B22&#x27;, &#x27;B23&#x27;, &#x27;C01&#x27;,\n",
       "                                  &#x27;C02&#x27;, &#x27;C03&#x27;, &#x27;C04&#x27;, &#x27;C05&#x27;, &#x27;C06&#x27;, &#x27;C07&#x27;, ...]),\n",
       "                                (&#x27;num&#x27;, SimpleImputer(), [])],\n",
       "                  verbose_feature_names_out=False)</pre></div></div></div><div class=\"sk-parallel\"><div class=\"sk-parallel-item\"><div class=\"sk-item\"><div class=\"sk-label-container\"><div class=\"sk-label sk-toggleable\"><input class=\"sk-toggleable__control sk-hidden--visually\" id=\"sk-estimator-id-122\" type=\"checkbox\" ><label for=\"sk-estimator-id-122\" class=\"sk-toggleable__label sk-toggleable__label-arrow\">cat</label><div class=\"sk-toggleable__content\"><pre>[&#x27;B01&#x27;, &#x27;B02&#x27;, &#x27;B03&#x27;, &#x27;B04&#x27;, &#x27;B05&#x27;, &#x27;B06&#x27;, &#x27;B07&#x27;, &#x27;B08&#x27;, &#x27;B09&#x27;, &#x27;B10&#x27;, &#x27;B11&#x27;, &#x27;B12&#x27;, &#x27;B13&#x27;, &#x27;B14&#x27;, &#x27;B15&#x27;, &#x27;B16&#x27;, &#x27;B17&#x27;, &#x27;B18&#x27;, &#x27;B19&#x27;, &#x27;B20&#x27;, &#x27;B21&#x27;, &#x27;B22&#x27;, &#x27;B23&#x27;, &#x27;C01&#x27;, &#x27;C02&#x27;, &#x27;C03&#x27;, &#x27;C04&#x27;, &#x27;C05&#x27;, &#x27;C06&#x27;, &#x27;C07&#x27;, &#x27;F01&#x27;, &#x27;F02&#x27;, &#x27;F03&#x27;, &#x27;F04&#x27;, &#x27;F05&#x27;, &#x27;F06&#x27;, &#x27;F07&#x27;, &#x27;F08&#x27;, &#x27;F09&#x27;, &#x27;F10&#x27;, &#x27;F11&#x27;, &#x27;F12&#x27;, &#x27;F13&#x27;, &#x27;F14&#x27;, &#x27;F15&#x27;, &#x27;F16&#x27;, &#x27;F17&#x27;, &#x27;F18&#x27;, &#x27;F19&#x27;, &#x27;F20&#x27;, &#x27;F21&#x27;, &#x27;F22&#x27;, &#x27;F23&#x27;, &#x27;F24&#x27;, &#x27;F25&#x27;, &#x27;F26&#x27;, &#x27;F27&#x27;, &#x27;G01&#x27;, &#x27;G02&#x27;, &#x27;G03&#x27;, &#x27;G04&#x27;, &#x27;G05&#x27;, &#x27;G06&#x27;, &#x27;G07&#x27;, &#x27;G08&#x27;, &#x27;G09&#x27;, &#x27;G10&#x27;, &#x27;G11&#x27;, &#x27;H01&#x27;, &#x27;H02&#x27;, &#x27;H03&#x27;, &#x27;H04&#x27;, &#x27;H05&#x27;, &#x27;H06&#x27;, &#x27;H07&#x27;, &#x27;H08&#x27;, &#x27;H09&#x27;, &#x27;H10&#x27;, &#x27;H11&#x27;, &#x27;H12&#x27;, &#x27;H13&#x27;, &#x27;H14&#x27;, &#x27;H15&#x27;, &#x27;H16&#x27;, &#x27;H17&#x27;, &#x27;J01&#x27;, &#x27;J02&#x27;, &#x27;J03&#x27;, &#x27;J04&#x27;, &#x27;J05&#x27;, &#x27;J06&#x27;, &#x27;J07&#x27;, &#x27;J08&#x27;, &#x27;J09&#x27;, &#x27;J10&#x27;, &#x27;J11&#x27;, &#x27;J12&#x27;, &#x27;K01&#x27;, &#x27;K02&#x27;, &#x27;K03&#x27;, &#x27;K04&#x27;, &#x27;K05&#x27;, &#x27;K06&#x27;, &#x27;K07&#x27;, &#x27;K08&#x27;, &#x27;K09&#x27;, &#x27;K10&#x27;, &#x27;K11&#x27;, &#x27;K12&#x27;, &#x27;K13&#x27;, &#x27;K14&#x27;, &#x27;K15&#x27;, &#x27;K16&#x27;, &#x27;K17&#x27;, &#x27;K18&#x27;, &#x27;L01&#x27;, &#x27;L02&#x27;, &#x27;L03&#x27;, &#x27;L04&#x27;, &#x27;L05&#x27;, &#x27;L06&#x27;, &#x27;M01&#x27;, &#x27;M02&#x27;, &#x27;M03&#x27;, &#x27;M04&#x27;, &#x27;M05&#x27;, &#x27;M06&#x27;, &#x27;M07&#x27;, &#x27;M08&#x27;, &#x27;M09&#x27;, &#x27;M10&#x27;, &#x27;M11&#x27;, &#x27;M12&#x27;, &#x27;M13&#x27;, &#x27;M14&#x27;, &#x27;M15&#x27;, &#x27;M16&#x27;, &#x27;M17&#x27;, &#x27;M18&#x27;, &#x27;M19&#x27;, &#x27;M20&#x27;, &#x27;N01&#x27;, &#x27;N02&#x27;, &#x27;N03&#x27;, &#x27;N04&#x27;, &#x27;N05&#x27;, &#x27;N06&#x27;, &#x27;N07&#x27;, &#x27;N08&#x27;, &#x27;P01&#x27;, &#x27;P02&#x27;, &#x27;P03&#x27;, &#x27;P04&#x27;, &#x27;P05&#x27;, &#x27;P06&#x27;, &#x27;P07&#x27;, &#x27;P08&#x27;, &#x27;P09&#x27;, &#x27;P10&#x27;, &#x27;P11&#x27;, &#x27;P12&#x27;, &#x27;P13&#x27;, &#x27;P14&#x27;, &#x27;P15&#x27;, &#x27;P16&#x27;, &#x27;P17&#x27;, &#x27;P18&#x27;, &#x27;P19&#x27;, &#x27;P20&#x27;, &#x27;P21&#x27;, &#x27;P22&#x27;, &#x27;P23&#x27;, &#x27;P24&#x27;, &#x27;P25&#x27;, &#x27;P26&#x27;, &#x27;P27&#x27;, &#x27;P28&#x27;, &#x27;P29&#x27;, &#x27;Q01&#x27;, &#x27;Q02&#x27;, &#x27;Q03&#x27;, &#x27;Q04&#x27;, &#x27;Q05&#x27;, &#x27;Q06&#x27;, &#x27;Q07&#x27;, &#x27;Q08&#x27;, &#x27;R01&#x27;, &#x27;R02&#x27;, &#x27;R03&#x27;, &#x27;R04&#x27;, &#x27;R05&#x27;, &#x27;R06&#x27;, &#x27;R07&#x27;, &#x27;R08&#x27;, &#x27;R09&#x27;, &#x27;R10&#x27;, &#x27;R11&#x27;, &#x27;R12&#x27;, &#x27;R13&#x27;, &#x27;R14&#x27;, &#x27;R15&#x27;, &#x27;R16&#x27;, &#x27;R17&#x27;, &#x27;R18&#x27;]</pre></div></div></div><div class=\"sk-serial\"><div class=\"sk-item\"><div class=\"sk-estimator sk-toggleable\"><input class=\"sk-toggleable__control sk-hidden--visually\" id=\"sk-estimator-id-123\" type=\"checkbox\" ><label for=\"sk-estimator-id-123\" class=\"sk-toggleable__label sk-toggleable__label-arrow\">OneHotEncoder</label><div class=\"sk-toggleable__content\"><pre>OneHotEncoder(handle_unknown=&#x27;ignore&#x27;)</pre></div></div></div></div></div></div><div class=\"sk-parallel-item\"><div class=\"sk-item\"><div class=\"sk-label-container\"><div class=\"sk-label sk-toggleable\"><input class=\"sk-toggleable__control sk-hidden--visually\" id=\"sk-estimator-id-124\" type=\"checkbox\" ><label for=\"sk-estimator-id-124\" class=\"sk-toggleable__label sk-toggleable__label-arrow\">num</label><div class=\"sk-toggleable__content\"><pre>[]</pre></div></div></div><div class=\"sk-serial\"><div class=\"sk-item\"><div class=\"sk-estimator sk-toggleable\"><input class=\"sk-toggleable__control sk-hidden--visually\" id=\"sk-estimator-id-125\" type=\"checkbox\" ><label for=\"sk-estimator-id-125\" class=\"sk-toggleable__label sk-toggleable__label-arrow\">SimpleImputer</label><div class=\"sk-toggleable__content\"><pre>SimpleImputer()</pre></div></div></div></div></div></div></div></div><div class=\"sk-item\"><div class=\"sk-estimator sk-toggleable\"><input class=\"sk-toggleable__control sk-hidden--visually\" id=\"sk-estimator-id-126\" type=\"checkbox\" ><label for=\"sk-estimator-id-126\" class=\"sk-toggleable__label sk-toggleable__label-arrow\">DecisionTreeClassifier</label><div class=\"sk-toggleable__content\"><pre>DecisionTreeClassifier(max_depth=8, random_state=42)</pre></div></div></div></div></div></div></div></div></div></div></div></div>"
      ],
      "text/plain": [
       "GridSearchCV(cv=5,\n",
       "             estimator=Pipeline(steps=[('preprocess',\n",
       "                                        ColumnTransformer(transformers=[('cat',\n",
       "                                                                         OneHotEncoder(handle_unknown='ignore'),\n",
       "                                                                         ['B01',\n",
       "                                                                          'B02',\n",
       "                                                                          'B03',\n",
       "                                                                          'B04',\n",
       "                                                                          'B05',\n",
       "                                                                          'B06',\n",
       "                                                                          'B07',\n",
       "                                                                          'B08',\n",
       "                                                                          'B09',\n",
       "                                                                          'B10',\n",
       "                                                                          'B11',\n",
       "                                                                          'B12',\n",
       "                                                                          'B13',\n",
       "                                                                          'B14',\n",
       "                                                                          'B15',\n",
       "                                                                          'B16',\n",
       "                                                                          'B17',\n",
       "                                                                          'B18',\n",
       "                                                                          'B19',\n",
       "                                                                          'B20',\n",
       "                                                                          'B21',\n",
       "                                                                          'B22',\n",
       "                                                                          'B23',\n",
       "                                                                          'C01',\n",
       "                                                                          'C02',\n",
       "                                                                          'C03',\n",
       "                                                                          'C04',\n",
       "                                                                          'C05',\n",
       "                                                                          'C06',\n",
       "                                                                          'C07', ...]),\n",
       "                                                                        ('num',\n",
       "                                                                         SimpleImputer(),\n",
       "                                                                         [])],\n",
       "                                                          verbose_feature_names_out=False)),\n",
       "                                       ('classifier',\n",
       "                                        DecisionTreeClassifier(max_depth=8,\n",
       "                                                               random_state=42))]),\n",
       "             n_jobs=3,\n",
       "             param_grid={'classifier__criterion': ['gini', 'entropy',\n",
       "                                                   'log_loss'],\n",
       "                         'classifier__max_depth': [2, 4, 6, 8, 10, 12]},\n",
       "             scoring='accuracy')"
      ]
     },
     "execution_count": 179,
     "metadata": {},
     "output_type": "execute_result"
    }
   ],
   "source": [
    "param_grid = {'classifier__criterion': ['gini', 'entropy', 'log_loss'],               \n",
    "              'classifier__max_depth': [2, 4, 6, 8, 10, 12]\n",
    "             }\n",
    "\n",
    "gridsearch = GridSearchCV(estimator=tree_pipe,\n",
    "                          param_grid=param_grid,\n",
    "                          scoring='accuracy',\n",
    "                          cv=5,\n",
    "                          n_jobs = 3\n",
    "                         )\n",
    "# Fit the training data\n",
    "gridsearch.fit(X_train, y_train)\n",
    "# Print the accuracy on test set\n"
   ]
  },
  {
   "cell_type": "code",
   "execution_count": 181,
   "metadata": {
    "scrolled": true
   },
   "outputs": [
    {
     "name": "stdout",
     "output_type": "stream",
     "text": [
      "Gridsearch score:  0.979367866549605\n",
      "Gridsearch best params: \n",
      "{'classifier__criterion': 'gini', 'classifier__max_depth': 8}\n"
     ]
    }
   ],
   "source": [
    "print(f\"Gridsearch score: \", gridsearch.score(X_train, y_train))\n",
    "print(f\"Gridsearch best params: \")\n",
    "pprint(gridsearch.best_params_)"
   ]
  },
  {
   "cell_type": "markdown",
   "metadata": {},
   "source": [
    "### Results\n",
    "Gridsearch score:  0.979367866549605\n",
    "\n",
    "Gridsearch best params: \n",
    "- 'classifier__criterion': 'gini'\n",
    "- 'classifier__max_depth': 8"
   ]
  },
  {
   "cell_type": "code",
   "execution_count": 182,
   "metadata": {},
   "outputs": [
    {
     "data": {
      "text/html": [
       "<style>#sk-container-id-18 {color: black;background-color: white;}#sk-container-id-18 pre{padding: 0;}#sk-container-id-18 div.sk-toggleable {background-color: white;}#sk-container-id-18 label.sk-toggleable__label {cursor: pointer;display: block;width: 100%;margin-bottom: 0;padding: 0.3em;box-sizing: border-box;text-align: center;}#sk-container-id-18 label.sk-toggleable__label-arrow:before {content: \"▸\";float: left;margin-right: 0.25em;color: #696969;}#sk-container-id-18 label.sk-toggleable__label-arrow:hover:before {color: black;}#sk-container-id-18 div.sk-estimator:hover label.sk-toggleable__label-arrow:before {color: black;}#sk-container-id-18 div.sk-toggleable__content {max-height: 0;max-width: 0;overflow: hidden;text-align: left;background-color: #f0f8ff;}#sk-container-id-18 div.sk-toggleable__content pre {margin: 0.2em;color: black;border-radius: 0.25em;background-color: #f0f8ff;}#sk-container-id-18 input.sk-toggleable__control:checked~div.sk-toggleable__content {max-height: 200px;max-width: 100%;overflow: auto;}#sk-container-id-18 input.sk-toggleable__control:checked~label.sk-toggleable__label-arrow:before {content: \"▾\";}#sk-container-id-18 div.sk-estimator input.sk-toggleable__control:checked~label.sk-toggleable__label {background-color: #d4ebff;}#sk-container-id-18 div.sk-label input.sk-toggleable__control:checked~label.sk-toggleable__label {background-color: #d4ebff;}#sk-container-id-18 input.sk-hidden--visually {border: 0;clip: rect(1px 1px 1px 1px);clip: rect(1px, 1px, 1px, 1px);height: 1px;margin: -1px;overflow: hidden;padding: 0;position: absolute;width: 1px;}#sk-container-id-18 div.sk-estimator {font-family: monospace;background-color: #f0f8ff;border: 1px dotted black;border-radius: 0.25em;box-sizing: border-box;margin-bottom: 0.5em;}#sk-container-id-18 div.sk-estimator:hover {background-color: #d4ebff;}#sk-container-id-18 div.sk-parallel-item::after {content: \"\";width: 100%;border-bottom: 1px solid gray;flex-grow: 1;}#sk-container-id-18 div.sk-label:hover label.sk-toggleable__label {background-color: #d4ebff;}#sk-container-id-18 div.sk-serial::before {content: \"\";position: absolute;border-left: 1px solid gray;box-sizing: border-box;top: 0;bottom: 0;left: 50%;z-index: 0;}#sk-container-id-18 div.sk-serial {display: flex;flex-direction: column;align-items: center;background-color: white;padding-right: 0.2em;padding-left: 0.2em;position: relative;}#sk-container-id-18 div.sk-item {position: relative;z-index: 1;}#sk-container-id-18 div.sk-parallel {display: flex;align-items: stretch;justify-content: center;background-color: white;position: relative;}#sk-container-id-18 div.sk-item::before, #sk-container-id-18 div.sk-parallel-item::before {content: \"\";position: absolute;border-left: 1px solid gray;box-sizing: border-box;top: 0;bottom: 0;left: 50%;z-index: -1;}#sk-container-id-18 div.sk-parallel-item {display: flex;flex-direction: column;z-index: 1;position: relative;background-color: white;}#sk-container-id-18 div.sk-parallel-item:first-child::after {align-self: flex-end;width: 50%;}#sk-container-id-18 div.sk-parallel-item:last-child::after {align-self: flex-start;width: 50%;}#sk-container-id-18 div.sk-parallel-item:only-child::after {width: 0;}#sk-container-id-18 div.sk-dashed-wrapped {border: 1px dashed gray;margin: 0 0.4em 0.5em 0.4em;box-sizing: border-box;padding-bottom: 0.4em;background-color: white;}#sk-container-id-18 div.sk-label label {font-family: monospace;font-weight: bold;display: inline-block;line-height: 1.2em;}#sk-container-id-18 div.sk-label-container {text-align: center;}#sk-container-id-18 div.sk-container {/* jupyter's `normalize.less` sets `[hidden] { display: none; }` but bootstrap.min.css set `[hidden] { display: none !important; }` so we also need the `!important` here to be able to override the default hidden behavior on the sphinx rendered scikit-learn.org. See: https://github.com/scikit-learn/scikit-learn/issues/21755 */display: inline-block !important;position: relative;}#sk-container-id-18 div.sk-text-repr-fallback {display: none;}</style><div id=\"sk-container-id-18\" class=\"sk-top-container\"><div class=\"sk-text-repr-fallback\"><pre>Pipeline(steps=[(&#x27;preprocess&#x27;,\n",
       "                 ColumnTransformer(transformers=[(&#x27;cat&#x27;,\n",
       "                                                  OneHotEncoder(handle_unknown=&#x27;ignore&#x27;),\n",
       "                                                  [&#x27;B01&#x27;, &#x27;B02&#x27;, &#x27;B03&#x27;, &#x27;B04&#x27;,\n",
       "                                                   &#x27;B05&#x27;, &#x27;B06&#x27;, &#x27;B07&#x27;, &#x27;B08&#x27;,\n",
       "                                                   &#x27;B09&#x27;, &#x27;B10&#x27;, &#x27;B11&#x27;, &#x27;B12&#x27;,\n",
       "                                                   &#x27;B13&#x27;, &#x27;B14&#x27;, &#x27;B15&#x27;, &#x27;B16&#x27;,\n",
       "                                                   &#x27;B17&#x27;, &#x27;B18&#x27;, &#x27;B19&#x27;, &#x27;B20&#x27;,\n",
       "                                                   &#x27;B21&#x27;, &#x27;B22&#x27;, &#x27;B23&#x27;, &#x27;C01&#x27;,\n",
       "                                                   &#x27;C02&#x27;, &#x27;C03&#x27;, &#x27;C04&#x27;, &#x27;C05&#x27;,\n",
       "                                                   &#x27;C06&#x27;, &#x27;C07&#x27;, ...]),\n",
       "                                                 (&#x27;num&#x27;, SimpleImputer(), [])],\n",
       "                                   verbose_feature_names_out=False)),\n",
       "                (&#x27;classifier&#x27;,\n",
       "                 DecisionTreeClassifier(max_depth=8, random_state=42))])</pre><b>In a Jupyter environment, please rerun this cell to show the HTML representation or trust the notebook. <br />On GitHub, the HTML representation is unable to render, please try loading this page with nbviewer.org.</b></div><div class=\"sk-container\" hidden><div class=\"sk-item sk-dashed-wrapped\"><div class=\"sk-label-container\"><div class=\"sk-label sk-toggleable\"><input class=\"sk-toggleable__control sk-hidden--visually\" id=\"sk-estimator-id-127\" type=\"checkbox\" ><label for=\"sk-estimator-id-127\" class=\"sk-toggleable__label sk-toggleable__label-arrow\">Pipeline</label><div class=\"sk-toggleable__content\"><pre>Pipeline(steps=[(&#x27;preprocess&#x27;,\n",
       "                 ColumnTransformer(transformers=[(&#x27;cat&#x27;,\n",
       "                                                  OneHotEncoder(handle_unknown=&#x27;ignore&#x27;),\n",
       "                                                  [&#x27;B01&#x27;, &#x27;B02&#x27;, &#x27;B03&#x27;, &#x27;B04&#x27;,\n",
       "                                                   &#x27;B05&#x27;, &#x27;B06&#x27;, &#x27;B07&#x27;, &#x27;B08&#x27;,\n",
       "                                                   &#x27;B09&#x27;, &#x27;B10&#x27;, &#x27;B11&#x27;, &#x27;B12&#x27;,\n",
       "                                                   &#x27;B13&#x27;, &#x27;B14&#x27;, &#x27;B15&#x27;, &#x27;B16&#x27;,\n",
       "                                                   &#x27;B17&#x27;, &#x27;B18&#x27;, &#x27;B19&#x27;, &#x27;B20&#x27;,\n",
       "                                                   &#x27;B21&#x27;, &#x27;B22&#x27;, &#x27;B23&#x27;, &#x27;C01&#x27;,\n",
       "                                                   &#x27;C02&#x27;, &#x27;C03&#x27;, &#x27;C04&#x27;, &#x27;C05&#x27;,\n",
       "                                                   &#x27;C06&#x27;, &#x27;C07&#x27;, ...]),\n",
       "                                                 (&#x27;num&#x27;, SimpleImputer(), [])],\n",
       "                                   verbose_feature_names_out=False)),\n",
       "                (&#x27;classifier&#x27;,\n",
       "                 DecisionTreeClassifier(max_depth=8, random_state=42))])</pre></div></div></div><div class=\"sk-serial\"><div class=\"sk-item sk-dashed-wrapped\"><div class=\"sk-label-container\"><div class=\"sk-label sk-toggleable\"><input class=\"sk-toggleable__control sk-hidden--visually\" id=\"sk-estimator-id-128\" type=\"checkbox\" ><label for=\"sk-estimator-id-128\" class=\"sk-toggleable__label sk-toggleable__label-arrow\">preprocess: ColumnTransformer</label><div class=\"sk-toggleable__content\"><pre>ColumnTransformer(transformers=[(&#x27;cat&#x27;, OneHotEncoder(handle_unknown=&#x27;ignore&#x27;),\n",
       "                                 [&#x27;B01&#x27;, &#x27;B02&#x27;, &#x27;B03&#x27;, &#x27;B04&#x27;, &#x27;B05&#x27;, &#x27;B06&#x27;,\n",
       "                                  &#x27;B07&#x27;, &#x27;B08&#x27;, &#x27;B09&#x27;, &#x27;B10&#x27;, &#x27;B11&#x27;, &#x27;B12&#x27;,\n",
       "                                  &#x27;B13&#x27;, &#x27;B14&#x27;, &#x27;B15&#x27;, &#x27;B16&#x27;, &#x27;B17&#x27;, &#x27;B18&#x27;,\n",
       "                                  &#x27;B19&#x27;, &#x27;B20&#x27;, &#x27;B21&#x27;, &#x27;B22&#x27;, &#x27;B23&#x27;, &#x27;C01&#x27;,\n",
       "                                  &#x27;C02&#x27;, &#x27;C03&#x27;, &#x27;C04&#x27;, &#x27;C05&#x27;, &#x27;C06&#x27;, &#x27;C07&#x27;, ...]),\n",
       "                                (&#x27;num&#x27;, SimpleImputer(), [])],\n",
       "                  verbose_feature_names_out=False)</pre></div></div></div><div class=\"sk-parallel\"><div class=\"sk-parallel-item\"><div class=\"sk-item\"><div class=\"sk-label-container\"><div class=\"sk-label sk-toggleable\"><input class=\"sk-toggleable__control sk-hidden--visually\" id=\"sk-estimator-id-129\" type=\"checkbox\" ><label for=\"sk-estimator-id-129\" class=\"sk-toggleable__label sk-toggleable__label-arrow\">cat</label><div class=\"sk-toggleable__content\"><pre>[&#x27;B01&#x27;, &#x27;B02&#x27;, &#x27;B03&#x27;, &#x27;B04&#x27;, &#x27;B05&#x27;, &#x27;B06&#x27;, &#x27;B07&#x27;, &#x27;B08&#x27;, &#x27;B09&#x27;, &#x27;B10&#x27;, &#x27;B11&#x27;, &#x27;B12&#x27;, &#x27;B13&#x27;, &#x27;B14&#x27;, &#x27;B15&#x27;, &#x27;B16&#x27;, &#x27;B17&#x27;, &#x27;B18&#x27;, &#x27;B19&#x27;, &#x27;B20&#x27;, &#x27;B21&#x27;, &#x27;B22&#x27;, &#x27;B23&#x27;, &#x27;C01&#x27;, &#x27;C02&#x27;, &#x27;C03&#x27;, &#x27;C04&#x27;, &#x27;C05&#x27;, &#x27;C06&#x27;, &#x27;C07&#x27;, &#x27;F01&#x27;, &#x27;F02&#x27;, &#x27;F03&#x27;, &#x27;F04&#x27;, &#x27;F05&#x27;, &#x27;F06&#x27;, &#x27;F07&#x27;, &#x27;F08&#x27;, &#x27;F09&#x27;, &#x27;F10&#x27;, &#x27;F11&#x27;, &#x27;F12&#x27;, &#x27;F13&#x27;, &#x27;F14&#x27;, &#x27;F15&#x27;, &#x27;F16&#x27;, &#x27;F17&#x27;, &#x27;F18&#x27;, &#x27;F19&#x27;, &#x27;F20&#x27;, &#x27;F21&#x27;, &#x27;F22&#x27;, &#x27;F23&#x27;, &#x27;F24&#x27;, &#x27;F25&#x27;, &#x27;F26&#x27;, &#x27;F27&#x27;, &#x27;G01&#x27;, &#x27;G02&#x27;, &#x27;G03&#x27;, &#x27;G04&#x27;, &#x27;G05&#x27;, &#x27;G06&#x27;, &#x27;G07&#x27;, &#x27;G08&#x27;, &#x27;G09&#x27;, &#x27;G10&#x27;, &#x27;G11&#x27;, &#x27;H01&#x27;, &#x27;H02&#x27;, &#x27;H03&#x27;, &#x27;H04&#x27;, &#x27;H05&#x27;, &#x27;H06&#x27;, &#x27;H07&#x27;, &#x27;H08&#x27;, &#x27;H09&#x27;, &#x27;H10&#x27;, &#x27;H11&#x27;, &#x27;H12&#x27;, &#x27;H13&#x27;, &#x27;H14&#x27;, &#x27;H15&#x27;, &#x27;H16&#x27;, &#x27;H17&#x27;, &#x27;J01&#x27;, &#x27;J02&#x27;, &#x27;J03&#x27;, &#x27;J04&#x27;, &#x27;J05&#x27;, &#x27;J06&#x27;, &#x27;J07&#x27;, &#x27;J08&#x27;, &#x27;J09&#x27;, &#x27;J10&#x27;, &#x27;J11&#x27;, &#x27;J12&#x27;, &#x27;K01&#x27;, &#x27;K02&#x27;, &#x27;K03&#x27;, &#x27;K04&#x27;, &#x27;K05&#x27;, &#x27;K06&#x27;, &#x27;K07&#x27;, &#x27;K08&#x27;, &#x27;K09&#x27;, &#x27;K10&#x27;, &#x27;K11&#x27;, &#x27;K12&#x27;, &#x27;K13&#x27;, &#x27;K14&#x27;, &#x27;K15&#x27;, &#x27;K16&#x27;, &#x27;K17&#x27;, &#x27;K18&#x27;, &#x27;L01&#x27;, &#x27;L02&#x27;, &#x27;L03&#x27;, &#x27;L04&#x27;, &#x27;L05&#x27;, &#x27;L06&#x27;, &#x27;M01&#x27;, &#x27;M02&#x27;, &#x27;M03&#x27;, &#x27;M04&#x27;, &#x27;M05&#x27;, &#x27;M06&#x27;, &#x27;M07&#x27;, &#x27;M08&#x27;, &#x27;M09&#x27;, &#x27;M10&#x27;, &#x27;M11&#x27;, &#x27;M12&#x27;, &#x27;M13&#x27;, &#x27;M14&#x27;, &#x27;M15&#x27;, &#x27;M16&#x27;, &#x27;M17&#x27;, &#x27;M18&#x27;, &#x27;M19&#x27;, &#x27;M20&#x27;, &#x27;N01&#x27;, &#x27;N02&#x27;, &#x27;N03&#x27;, &#x27;N04&#x27;, &#x27;N05&#x27;, &#x27;N06&#x27;, &#x27;N07&#x27;, &#x27;N08&#x27;, &#x27;P01&#x27;, &#x27;P02&#x27;, &#x27;P03&#x27;, &#x27;P04&#x27;, &#x27;P05&#x27;, &#x27;P06&#x27;, &#x27;P07&#x27;, &#x27;P08&#x27;, &#x27;P09&#x27;, &#x27;P10&#x27;, &#x27;P11&#x27;, &#x27;P12&#x27;, &#x27;P13&#x27;, &#x27;P14&#x27;, &#x27;P15&#x27;, &#x27;P16&#x27;, &#x27;P17&#x27;, &#x27;P18&#x27;, &#x27;P19&#x27;, &#x27;P20&#x27;, &#x27;P21&#x27;, &#x27;P22&#x27;, &#x27;P23&#x27;, &#x27;P24&#x27;, &#x27;P25&#x27;, &#x27;P26&#x27;, &#x27;P27&#x27;, &#x27;P28&#x27;, &#x27;P29&#x27;, &#x27;Q01&#x27;, &#x27;Q02&#x27;, &#x27;Q03&#x27;, &#x27;Q04&#x27;, &#x27;Q05&#x27;, &#x27;Q06&#x27;, &#x27;Q07&#x27;, &#x27;Q08&#x27;, &#x27;R01&#x27;, &#x27;R02&#x27;, &#x27;R03&#x27;, &#x27;R04&#x27;, &#x27;R05&#x27;, &#x27;R06&#x27;, &#x27;R07&#x27;, &#x27;R08&#x27;, &#x27;R09&#x27;, &#x27;R10&#x27;, &#x27;R11&#x27;, &#x27;R12&#x27;, &#x27;R13&#x27;, &#x27;R14&#x27;, &#x27;R15&#x27;, &#x27;R16&#x27;, &#x27;R17&#x27;, &#x27;R18&#x27;]</pre></div></div></div><div class=\"sk-serial\"><div class=\"sk-item\"><div class=\"sk-estimator sk-toggleable\"><input class=\"sk-toggleable__control sk-hidden--visually\" id=\"sk-estimator-id-130\" type=\"checkbox\" ><label for=\"sk-estimator-id-130\" class=\"sk-toggleable__label sk-toggleable__label-arrow\">OneHotEncoder</label><div class=\"sk-toggleable__content\"><pre>OneHotEncoder(handle_unknown=&#x27;ignore&#x27;)</pre></div></div></div></div></div></div><div class=\"sk-parallel-item\"><div class=\"sk-item\"><div class=\"sk-label-container\"><div class=\"sk-label sk-toggleable\"><input class=\"sk-toggleable__control sk-hidden--visually\" id=\"sk-estimator-id-131\" type=\"checkbox\" ><label for=\"sk-estimator-id-131\" class=\"sk-toggleable__label sk-toggleable__label-arrow\">num</label><div class=\"sk-toggleable__content\"><pre>[]</pre></div></div></div><div class=\"sk-serial\"><div class=\"sk-item\"><div class=\"sk-estimator sk-toggleable\"><input class=\"sk-toggleable__control sk-hidden--visually\" id=\"sk-estimator-id-132\" type=\"checkbox\" ><label for=\"sk-estimator-id-132\" class=\"sk-toggleable__label sk-toggleable__label-arrow\">SimpleImputer</label><div class=\"sk-toggleable__content\"><pre>SimpleImputer()</pre></div></div></div></div></div></div></div></div><div class=\"sk-item\"><div class=\"sk-estimator sk-toggleable\"><input class=\"sk-toggleable__control sk-hidden--visually\" id=\"sk-estimator-id-133\" type=\"checkbox\" ><label for=\"sk-estimator-id-133\" class=\"sk-toggleable__label sk-toggleable__label-arrow\">DecisionTreeClassifier</label><div class=\"sk-toggleable__content\"><pre>DecisionTreeClassifier(max_depth=8, random_state=42)</pre></div></div></div></div></div></div></div>"
      ],
      "text/plain": [
       "Pipeline(steps=[('preprocess',\n",
       "                 ColumnTransformer(transformers=[('cat',\n",
       "                                                  OneHotEncoder(handle_unknown='ignore'),\n",
       "                                                  ['B01', 'B02', 'B03', 'B04',\n",
       "                                                   'B05', 'B06', 'B07', 'B08',\n",
       "                                                   'B09', 'B10', 'B11', 'B12',\n",
       "                                                   'B13', 'B14', 'B15', 'B16',\n",
       "                                                   'B17', 'B18', 'B19', 'B20',\n",
       "                                                   'B21', 'B22', 'B23', 'C01',\n",
       "                                                   'C02', 'C03', 'C04', 'C05',\n",
       "                                                   'C06', 'C07', ...]),\n",
       "                                                 ('num', SimpleImputer(), [])],\n",
       "                                   verbose_feature_names_out=False)),\n",
       "                ('classifier',\n",
       "                 DecisionTreeClassifier(max_depth=8, random_state=42))])"
      ]
     },
     "execution_count": 182,
     "metadata": {},
     "output_type": "execute_result"
    }
   ],
   "source": [
    "tree_pipe.set_params(classifier__criterion = gridsearch.best_params_['classifier__criterion'],\n",
    "                     classifier__max_depth = gridsearch.best_params_['classifier__max_depth'],\n",
    "                    )\n",
    "\n",
    "tree_pipe.fit(X_train, y_train)\n"
   ]
  },
  {
   "cell_type": "code",
   "execution_count": 183,
   "metadata": {
    "scrolled": true
   },
   "outputs": [
    {
     "name": "stdout",
     "output_type": "stream",
     "text": [
      "Training data prediction accuracy:  0.979367866549605\n",
      "CV train accuracy: 0.9381018063820363\n"
     ]
    }
   ],
   "source": [
    "#Getting predictions from pipeline using training data\n",
    "y_pred = tree_pipe.predict(X_train)\n",
    "\n",
    "#Checking accuracy of predictions\n",
    "print(f\"Training data prediction accuracy: \", accuracy_score(y_train, y_pred))\n",
    "\n",
    "#getting cross validation score for training data \n",
    "print(f\"CV train accuracy: {cross_val_score(tree_pipe, X_train, y_train, cv=5, scoring = 'accuracy').mean()}\")"
   ]
  },
  {
   "cell_type": "markdown",
   "metadata": {},
   "source": [
    "# Feature Importance"
   ]
  },
  {
   "cell_type": "code",
   "execution_count": 213,
   "metadata": {},
   "outputs": [],
   "source": [
    "def get_feature_importances(pipe):\n",
    "    feature_names = pipe[:-1].get_feature_names_out()\n",
    "    feature_importances = pd.Series(pipe[-1].feature_importances_, index=feature_names).sort_values(ascending=True)\n",
    "    importances = feature_importances.to_frame(name = 'importance').reset_index().rename(columns={\"index\": \"feature\"})\n",
    "    importances['feature'] = importances['feature'].str.slice(0, 3)\n",
    "    importances = importances.groupby('feature').sum()\n",
    "    return importances"
   ]
  },
  {
   "cell_type": "code",
   "execution_count": 214,
   "metadata": {},
   "outputs": [
    {
     "data": {
      "text/html": [
       "<div>\n",
       "<style scoped>\n",
       "    .dataframe tbody tr th:only-of-type {\n",
       "        vertical-align: middle;\n",
       "    }\n",
       "\n",
       "    .dataframe tbody tr th {\n",
       "        vertical-align: top;\n",
       "    }\n",
       "\n",
       "    .dataframe thead th {\n",
       "        text-align: right;\n",
       "    }\n",
       "</style>\n",
       "<table border=\"1\" class=\"dataframe\">\n",
       "  <thead>\n",
       "    <tr style=\"text-align: right;\">\n",
       "      <th></th>\n",
       "      <th>importance</th>\n",
       "    </tr>\n",
       "    <tr>\n",
       "      <th>feature</th>\n",
       "      <th></th>\n",
       "    </tr>\n",
       "  </thead>\n",
       "  <tbody>\n",
       "    <tr>\n",
       "      <th>P28</th>\n",
       "      <td>0.661556</td>\n",
       "    </tr>\n",
       "    <tr>\n",
       "      <th>H05</th>\n",
       "      <td>0.109602</td>\n",
       "    </tr>\n",
       "    <tr>\n",
       "      <th>K11</th>\n",
       "      <td>0.039734</td>\n",
       "    </tr>\n",
       "    <tr>\n",
       "      <th>H04</th>\n",
       "      <td>0.030105</td>\n",
       "    </tr>\n",
       "    <tr>\n",
       "      <th>P27</th>\n",
       "      <td>0.018483</td>\n",
       "    </tr>\n",
       "    <tr>\n",
       "      <th>H02</th>\n",
       "      <td>0.017921</td>\n",
       "    </tr>\n",
       "    <tr>\n",
       "      <th>F26</th>\n",
       "      <td>0.014479</td>\n",
       "    </tr>\n",
       "    <tr>\n",
       "      <th>C02</th>\n",
       "      <td>0.013043</td>\n",
       "    </tr>\n",
       "    <tr>\n",
       "      <th>K09</th>\n",
       "      <td>0.011524</td>\n",
       "    </tr>\n",
       "    <tr>\n",
       "      <th>F27</th>\n",
       "      <td>0.008256</td>\n",
       "    </tr>\n",
       "  </tbody>\n",
       "</table>\n",
       "</div>"
      ],
      "text/plain": [
       "         importance\n",
       "feature            \n",
       "P28        0.661556\n",
       "H05        0.109602\n",
       "K11        0.039734\n",
       "H04        0.030105\n",
       "P27        0.018483\n",
       "H02        0.017921\n",
       "F26        0.014479\n",
       "C02        0.013043\n",
       "K09        0.011524\n",
       "F27        0.008256"
      ]
     },
     "execution_count": 214,
     "metadata": {},
     "output_type": "execute_result"
    }
   ],
   "source": [
    "tree_importances = get_feature_importances(tree_pipe)\n",
    "tree_importances.nlargest(10, columns= 'importance')"
   ]
  },
  {
   "cell_type": "code",
   "execution_count": 184,
   "metadata": {
    "scrolled": true
   },
   "outputs": [
    {
     "data": {
      "text/html": [
       "<div>\n",
       "<style scoped>\n",
       "    .dataframe tbody tr th:only-of-type {\n",
       "        vertical-align: middle;\n",
       "    }\n",
       "\n",
       "    .dataframe tbody tr th {\n",
       "        vertical-align: top;\n",
       "    }\n",
       "\n",
       "    .dataframe thead th {\n",
       "        text-align: right;\n",
       "    }\n",
       "</style>\n",
       "<table border=\"1\" class=\"dataframe\">\n",
       "  <thead>\n",
       "    <tr style=\"text-align: right;\">\n",
       "      <th></th>\n",
       "      <th>importance</th>\n",
       "    </tr>\n",
       "    <tr>\n",
       "      <th>feature</th>\n",
       "      <th></th>\n",
       "    </tr>\n",
       "  </thead>\n",
       "  <tbody>\n",
       "    <tr>\n",
       "      <th>B01</th>\n",
       "      <td>0.0</td>\n",
       "    </tr>\n",
       "    <tr>\n",
       "      <th>B02</th>\n",
       "      <td>0.0</td>\n",
       "    </tr>\n",
       "    <tr>\n",
       "      <th>B03</th>\n",
       "      <td>0.0</td>\n",
       "    </tr>\n",
       "    <tr>\n",
       "      <th>B04</th>\n",
       "      <td>0.0</td>\n",
       "    </tr>\n",
       "    <tr>\n",
       "      <th>B05</th>\n",
       "      <td>0.0</td>\n",
       "    </tr>\n",
       "    <tr>\n",
       "      <th>B06</th>\n",
       "      <td>0.0</td>\n",
       "    </tr>\n",
       "    <tr>\n",
       "      <th>B07</th>\n",
       "      <td>0.0</td>\n",
       "    </tr>\n",
       "    <tr>\n",
       "      <th>B08</th>\n",
       "      <td>0.0</td>\n",
       "    </tr>\n",
       "    <tr>\n",
       "      <th>B09</th>\n",
       "      <td>0.0</td>\n",
       "    </tr>\n",
       "    <tr>\n",
       "      <th>B10</th>\n",
       "      <td>0.0</td>\n",
       "    </tr>\n",
       "  </tbody>\n",
       "</table>\n",
       "</div>"
      ],
      "text/plain": [
       "         importance\n",
       "feature            \n",
       "B01             0.0\n",
       "B02             0.0\n",
       "B03             0.0\n",
       "B04             0.0\n",
       "B05             0.0\n",
       "B06             0.0\n",
       "B07             0.0\n",
       "B08             0.0\n",
       "B09             0.0\n",
       "B10             0.0"
      ]
     },
     "execution_count": 184,
     "metadata": {},
     "output_type": "execute_result"
    }
   ],
   "source": [
    "tree_importances.nsmallest(10, columns= 'importance')"
   ]
  },
  {
   "cell_type": "markdown",
   "metadata": {},
   "source": [
    "As we can see the Tree doesnt take into account a number of feature. Lets see if we can get better results with a Random Forest"
   ]
  },
  {
   "cell_type": "markdown",
   "metadata": {},
   "source": [
    "# Random Forest"
   ]
  },
  {
   "cell_type": "code",
   "execution_count": 33,
   "metadata": {},
   "outputs": [
    {
     "data": {
      "text/html": [
       "<style>#sk-container-id-4 {color: black;background-color: white;}#sk-container-id-4 pre{padding: 0;}#sk-container-id-4 div.sk-toggleable {background-color: white;}#sk-container-id-4 label.sk-toggleable__label {cursor: pointer;display: block;width: 100%;margin-bottom: 0;padding: 0.3em;box-sizing: border-box;text-align: center;}#sk-container-id-4 label.sk-toggleable__label-arrow:before {content: \"▸\";float: left;margin-right: 0.25em;color: #696969;}#sk-container-id-4 label.sk-toggleable__label-arrow:hover:before {color: black;}#sk-container-id-4 div.sk-estimator:hover label.sk-toggleable__label-arrow:before {color: black;}#sk-container-id-4 div.sk-toggleable__content {max-height: 0;max-width: 0;overflow: hidden;text-align: left;background-color: #f0f8ff;}#sk-container-id-4 div.sk-toggleable__content pre {margin: 0.2em;color: black;border-radius: 0.25em;background-color: #f0f8ff;}#sk-container-id-4 input.sk-toggleable__control:checked~div.sk-toggleable__content {max-height: 200px;max-width: 100%;overflow: auto;}#sk-container-id-4 input.sk-toggleable__control:checked~label.sk-toggleable__label-arrow:before {content: \"▾\";}#sk-container-id-4 div.sk-estimator input.sk-toggleable__control:checked~label.sk-toggleable__label {background-color: #d4ebff;}#sk-container-id-4 div.sk-label input.sk-toggleable__control:checked~label.sk-toggleable__label {background-color: #d4ebff;}#sk-container-id-4 input.sk-hidden--visually {border: 0;clip: rect(1px 1px 1px 1px);clip: rect(1px, 1px, 1px, 1px);height: 1px;margin: -1px;overflow: hidden;padding: 0;position: absolute;width: 1px;}#sk-container-id-4 div.sk-estimator {font-family: monospace;background-color: #f0f8ff;border: 1px dotted black;border-radius: 0.25em;box-sizing: border-box;margin-bottom: 0.5em;}#sk-container-id-4 div.sk-estimator:hover {background-color: #d4ebff;}#sk-container-id-4 div.sk-parallel-item::after {content: \"\";width: 100%;border-bottom: 1px solid gray;flex-grow: 1;}#sk-container-id-4 div.sk-label:hover label.sk-toggleable__label {background-color: #d4ebff;}#sk-container-id-4 div.sk-serial::before {content: \"\";position: absolute;border-left: 1px solid gray;box-sizing: border-box;top: 0;bottom: 0;left: 50%;z-index: 0;}#sk-container-id-4 div.sk-serial {display: flex;flex-direction: column;align-items: center;background-color: white;padding-right: 0.2em;padding-left: 0.2em;position: relative;}#sk-container-id-4 div.sk-item {position: relative;z-index: 1;}#sk-container-id-4 div.sk-parallel {display: flex;align-items: stretch;justify-content: center;background-color: white;position: relative;}#sk-container-id-4 div.sk-item::before, #sk-container-id-4 div.sk-parallel-item::before {content: \"\";position: absolute;border-left: 1px solid gray;box-sizing: border-box;top: 0;bottom: 0;left: 50%;z-index: -1;}#sk-container-id-4 div.sk-parallel-item {display: flex;flex-direction: column;z-index: 1;position: relative;background-color: white;}#sk-container-id-4 div.sk-parallel-item:first-child::after {align-self: flex-end;width: 50%;}#sk-container-id-4 div.sk-parallel-item:last-child::after {align-self: flex-start;width: 50%;}#sk-container-id-4 div.sk-parallel-item:only-child::after {width: 0;}#sk-container-id-4 div.sk-dashed-wrapped {border: 1px dashed gray;margin: 0 0.4em 0.5em 0.4em;box-sizing: border-box;padding-bottom: 0.4em;background-color: white;}#sk-container-id-4 div.sk-label label {font-family: monospace;font-weight: bold;display: inline-block;line-height: 1.2em;}#sk-container-id-4 div.sk-label-container {text-align: center;}#sk-container-id-4 div.sk-container {/* jupyter's `normalize.less` sets `[hidden] { display: none; }` but bootstrap.min.css set `[hidden] { display: none !important; }` so we also need the `!important` here to be able to override the default hidden behavior on the sphinx rendered scikit-learn.org. See: https://github.com/scikit-learn/scikit-learn/issues/21755 */display: inline-block !important;position: relative;}#sk-container-id-4 div.sk-text-repr-fallback {display: none;}</style><div id=\"sk-container-id-4\" class=\"sk-top-container\"><div class=\"sk-text-repr-fallback\"><pre>Pipeline(steps=[(&#x27;preprocess&#x27;,\n",
       "                 ColumnTransformer(transformers=[(&#x27;cat&#x27;,\n",
       "                                                  OneHotEncoder(handle_unknown=&#x27;ignore&#x27;),\n",
       "                                                  [&#x27;B01&#x27;, &#x27;B02&#x27;, &#x27;B03&#x27;, &#x27;B04&#x27;,\n",
       "                                                   &#x27;B05&#x27;, &#x27;B06&#x27;, &#x27;B07&#x27;, &#x27;B08&#x27;,\n",
       "                                                   &#x27;B09&#x27;, &#x27;B10&#x27;, &#x27;B11&#x27;, &#x27;B12&#x27;,\n",
       "                                                   &#x27;B13&#x27;, &#x27;B14&#x27;, &#x27;B15&#x27;, &#x27;B16&#x27;,\n",
       "                                                   &#x27;B17&#x27;, &#x27;B18&#x27;, &#x27;B19&#x27;, &#x27;B20&#x27;,\n",
       "                                                   &#x27;B21&#x27;, &#x27;B22&#x27;, &#x27;B23&#x27;, &#x27;C01&#x27;,\n",
       "                                                   &#x27;C02&#x27;, &#x27;C03&#x27;, &#x27;C04&#x27;, &#x27;C05&#x27;,\n",
       "                                                   &#x27;C06&#x27;, &#x27;C07&#x27;, ...]),\n",
       "                                                 (&#x27;num&#x27;, SimpleImputer(), [])],\n",
       "                                   verbose_feature_names_out=False)),\n",
       "                (&#x27;classifier&#x27;, RandomForestClassifier(random_state=42))])</pre><b>In a Jupyter environment, please rerun this cell to show the HTML representation or trust the notebook. <br />On GitHub, the HTML representation is unable to render, please try loading this page with nbviewer.org.</b></div><div class=\"sk-container\" hidden><div class=\"sk-item sk-dashed-wrapped\"><div class=\"sk-label-container\"><div class=\"sk-label sk-toggleable\"><input class=\"sk-toggleable__control sk-hidden--visually\" id=\"sk-estimator-id-23\" type=\"checkbox\" ><label for=\"sk-estimator-id-23\" class=\"sk-toggleable__label sk-toggleable__label-arrow\">Pipeline</label><div class=\"sk-toggleable__content\"><pre>Pipeline(steps=[(&#x27;preprocess&#x27;,\n",
       "                 ColumnTransformer(transformers=[(&#x27;cat&#x27;,\n",
       "                                                  OneHotEncoder(handle_unknown=&#x27;ignore&#x27;),\n",
       "                                                  [&#x27;B01&#x27;, &#x27;B02&#x27;, &#x27;B03&#x27;, &#x27;B04&#x27;,\n",
       "                                                   &#x27;B05&#x27;, &#x27;B06&#x27;, &#x27;B07&#x27;, &#x27;B08&#x27;,\n",
       "                                                   &#x27;B09&#x27;, &#x27;B10&#x27;, &#x27;B11&#x27;, &#x27;B12&#x27;,\n",
       "                                                   &#x27;B13&#x27;, &#x27;B14&#x27;, &#x27;B15&#x27;, &#x27;B16&#x27;,\n",
       "                                                   &#x27;B17&#x27;, &#x27;B18&#x27;, &#x27;B19&#x27;, &#x27;B20&#x27;,\n",
       "                                                   &#x27;B21&#x27;, &#x27;B22&#x27;, &#x27;B23&#x27;, &#x27;C01&#x27;,\n",
       "                                                   &#x27;C02&#x27;, &#x27;C03&#x27;, &#x27;C04&#x27;, &#x27;C05&#x27;,\n",
       "                                                   &#x27;C06&#x27;, &#x27;C07&#x27;, ...]),\n",
       "                                                 (&#x27;num&#x27;, SimpleImputer(), [])],\n",
       "                                   verbose_feature_names_out=False)),\n",
       "                (&#x27;classifier&#x27;, RandomForestClassifier(random_state=42))])</pre></div></div></div><div class=\"sk-serial\"><div class=\"sk-item sk-dashed-wrapped\"><div class=\"sk-label-container\"><div class=\"sk-label sk-toggleable\"><input class=\"sk-toggleable__control sk-hidden--visually\" id=\"sk-estimator-id-24\" type=\"checkbox\" ><label for=\"sk-estimator-id-24\" class=\"sk-toggleable__label sk-toggleable__label-arrow\">preprocess: ColumnTransformer</label><div class=\"sk-toggleable__content\"><pre>ColumnTransformer(transformers=[(&#x27;cat&#x27;, OneHotEncoder(handle_unknown=&#x27;ignore&#x27;),\n",
       "                                 [&#x27;B01&#x27;, &#x27;B02&#x27;, &#x27;B03&#x27;, &#x27;B04&#x27;, &#x27;B05&#x27;, &#x27;B06&#x27;,\n",
       "                                  &#x27;B07&#x27;, &#x27;B08&#x27;, &#x27;B09&#x27;, &#x27;B10&#x27;, &#x27;B11&#x27;, &#x27;B12&#x27;,\n",
       "                                  &#x27;B13&#x27;, &#x27;B14&#x27;, &#x27;B15&#x27;, &#x27;B16&#x27;, &#x27;B17&#x27;, &#x27;B18&#x27;,\n",
       "                                  &#x27;B19&#x27;, &#x27;B20&#x27;, &#x27;B21&#x27;, &#x27;B22&#x27;, &#x27;B23&#x27;, &#x27;C01&#x27;,\n",
       "                                  &#x27;C02&#x27;, &#x27;C03&#x27;, &#x27;C04&#x27;, &#x27;C05&#x27;, &#x27;C06&#x27;, &#x27;C07&#x27;, ...]),\n",
       "                                (&#x27;num&#x27;, SimpleImputer(), [])],\n",
       "                  verbose_feature_names_out=False)</pre></div></div></div><div class=\"sk-parallel\"><div class=\"sk-parallel-item\"><div class=\"sk-item\"><div class=\"sk-label-container\"><div class=\"sk-label sk-toggleable\"><input class=\"sk-toggleable__control sk-hidden--visually\" id=\"sk-estimator-id-25\" type=\"checkbox\" ><label for=\"sk-estimator-id-25\" class=\"sk-toggleable__label sk-toggleable__label-arrow\">cat</label><div class=\"sk-toggleable__content\"><pre>[&#x27;B01&#x27;, &#x27;B02&#x27;, &#x27;B03&#x27;, &#x27;B04&#x27;, &#x27;B05&#x27;, &#x27;B06&#x27;, &#x27;B07&#x27;, &#x27;B08&#x27;, &#x27;B09&#x27;, &#x27;B10&#x27;, &#x27;B11&#x27;, &#x27;B12&#x27;, &#x27;B13&#x27;, &#x27;B14&#x27;, &#x27;B15&#x27;, &#x27;B16&#x27;, &#x27;B17&#x27;, &#x27;B18&#x27;, &#x27;B19&#x27;, &#x27;B20&#x27;, &#x27;B21&#x27;, &#x27;B22&#x27;, &#x27;B23&#x27;, &#x27;C01&#x27;, &#x27;C02&#x27;, &#x27;C03&#x27;, &#x27;C04&#x27;, &#x27;C05&#x27;, &#x27;C06&#x27;, &#x27;C07&#x27;, &#x27;F01&#x27;, &#x27;F02&#x27;, &#x27;F03&#x27;, &#x27;F04&#x27;, &#x27;F05&#x27;, &#x27;F06&#x27;, &#x27;F07&#x27;, &#x27;F08&#x27;, &#x27;F09&#x27;, &#x27;F10&#x27;, &#x27;F11&#x27;, &#x27;F12&#x27;, &#x27;F13&#x27;, &#x27;F14&#x27;, &#x27;F15&#x27;, &#x27;F16&#x27;, &#x27;F17&#x27;, &#x27;F18&#x27;, &#x27;F19&#x27;, &#x27;F20&#x27;, &#x27;F21&#x27;, &#x27;F22&#x27;, &#x27;F23&#x27;, &#x27;F24&#x27;, &#x27;F25&#x27;, &#x27;F26&#x27;, &#x27;F27&#x27;, &#x27;G01&#x27;, &#x27;G02&#x27;, &#x27;G03&#x27;, &#x27;G04&#x27;, &#x27;G05&#x27;, &#x27;G06&#x27;, &#x27;G07&#x27;, &#x27;G08&#x27;, &#x27;G09&#x27;, &#x27;G10&#x27;, &#x27;G11&#x27;, &#x27;H01&#x27;, &#x27;H02&#x27;, &#x27;H03&#x27;, &#x27;H04&#x27;, &#x27;H05&#x27;, &#x27;H06&#x27;, &#x27;H07&#x27;, &#x27;H08&#x27;, &#x27;H09&#x27;, &#x27;H10&#x27;, &#x27;H11&#x27;, &#x27;H12&#x27;, &#x27;H13&#x27;, &#x27;H14&#x27;, &#x27;H15&#x27;, &#x27;H16&#x27;, &#x27;H17&#x27;, &#x27;J01&#x27;, &#x27;J02&#x27;, &#x27;J03&#x27;, &#x27;J04&#x27;, &#x27;J05&#x27;, &#x27;J06&#x27;, &#x27;J07&#x27;, &#x27;J08&#x27;, &#x27;J09&#x27;, &#x27;J10&#x27;, &#x27;J11&#x27;, &#x27;J12&#x27;, &#x27;K01&#x27;, &#x27;K02&#x27;, &#x27;K03&#x27;, &#x27;K04&#x27;, &#x27;K05&#x27;, &#x27;K06&#x27;, &#x27;K07&#x27;, &#x27;K08&#x27;, &#x27;K09&#x27;, &#x27;K10&#x27;, &#x27;K11&#x27;, &#x27;K12&#x27;, &#x27;K13&#x27;, &#x27;K14&#x27;, &#x27;K15&#x27;, &#x27;K16&#x27;, &#x27;K17&#x27;, &#x27;K18&#x27;, &#x27;L01&#x27;, &#x27;L02&#x27;, &#x27;L03&#x27;, &#x27;L04&#x27;, &#x27;L05&#x27;, &#x27;L06&#x27;, &#x27;M01&#x27;, &#x27;M02&#x27;, &#x27;M03&#x27;, &#x27;M04&#x27;, &#x27;M05&#x27;, &#x27;M06&#x27;, &#x27;M07&#x27;, &#x27;M08&#x27;, &#x27;M09&#x27;, &#x27;M10&#x27;, &#x27;M11&#x27;, &#x27;M12&#x27;, &#x27;M13&#x27;, &#x27;M14&#x27;, &#x27;M15&#x27;, &#x27;M16&#x27;, &#x27;M17&#x27;, &#x27;M18&#x27;, &#x27;M19&#x27;, &#x27;M20&#x27;, &#x27;N01&#x27;, &#x27;N02&#x27;, &#x27;N03&#x27;, &#x27;N04&#x27;, &#x27;N05&#x27;, &#x27;N06&#x27;, &#x27;N07&#x27;, &#x27;N08&#x27;, &#x27;P01&#x27;, &#x27;P02&#x27;, &#x27;P03&#x27;, &#x27;P04&#x27;, &#x27;P05&#x27;, &#x27;P06&#x27;, &#x27;P07&#x27;, &#x27;P08&#x27;, &#x27;P09&#x27;, &#x27;P10&#x27;, &#x27;P11&#x27;, &#x27;P12&#x27;, &#x27;P13&#x27;, &#x27;P14&#x27;, &#x27;P15&#x27;, &#x27;P16&#x27;, &#x27;P17&#x27;, &#x27;P18&#x27;, &#x27;P19&#x27;, &#x27;P20&#x27;, &#x27;P21&#x27;, &#x27;P22&#x27;, &#x27;P23&#x27;, &#x27;P24&#x27;, &#x27;P25&#x27;, &#x27;P26&#x27;, &#x27;P27&#x27;, &#x27;P28&#x27;, &#x27;P29&#x27;, &#x27;Q01&#x27;, &#x27;Q02&#x27;, &#x27;Q03&#x27;, &#x27;Q04&#x27;, &#x27;Q05&#x27;, &#x27;Q06&#x27;, &#x27;Q07&#x27;, &#x27;Q08&#x27;, &#x27;R01&#x27;, &#x27;R02&#x27;, &#x27;R03&#x27;, &#x27;R04&#x27;, &#x27;R05&#x27;, &#x27;R06&#x27;, &#x27;R07&#x27;, &#x27;R08&#x27;, &#x27;R09&#x27;, &#x27;R10&#x27;, &#x27;R11&#x27;, &#x27;R12&#x27;, &#x27;R13&#x27;, &#x27;R14&#x27;, &#x27;R15&#x27;, &#x27;R16&#x27;, &#x27;R17&#x27;, &#x27;R18&#x27;]</pre></div></div></div><div class=\"sk-serial\"><div class=\"sk-item\"><div class=\"sk-estimator sk-toggleable\"><input class=\"sk-toggleable__control sk-hidden--visually\" id=\"sk-estimator-id-26\" type=\"checkbox\" ><label for=\"sk-estimator-id-26\" class=\"sk-toggleable__label sk-toggleable__label-arrow\">OneHotEncoder</label><div class=\"sk-toggleable__content\"><pre>OneHotEncoder(handle_unknown=&#x27;ignore&#x27;)</pre></div></div></div></div></div></div><div class=\"sk-parallel-item\"><div class=\"sk-item\"><div class=\"sk-label-container\"><div class=\"sk-label sk-toggleable\"><input class=\"sk-toggleable__control sk-hidden--visually\" id=\"sk-estimator-id-27\" type=\"checkbox\" ><label for=\"sk-estimator-id-27\" class=\"sk-toggleable__label sk-toggleable__label-arrow\">num</label><div class=\"sk-toggleable__content\"><pre>[]</pre></div></div></div><div class=\"sk-serial\"><div class=\"sk-item\"><div class=\"sk-estimator sk-toggleable\"><input class=\"sk-toggleable__control sk-hidden--visually\" id=\"sk-estimator-id-28\" type=\"checkbox\" ><label for=\"sk-estimator-id-28\" class=\"sk-toggleable__label sk-toggleable__label-arrow\">SimpleImputer</label><div class=\"sk-toggleable__content\"><pre>SimpleImputer()</pre></div></div></div></div></div></div></div></div><div class=\"sk-item\"><div class=\"sk-estimator sk-toggleable\"><input class=\"sk-toggleable__control sk-hidden--visually\" id=\"sk-estimator-id-29\" type=\"checkbox\" ><label for=\"sk-estimator-id-29\" class=\"sk-toggleable__label sk-toggleable__label-arrow\">RandomForestClassifier</label><div class=\"sk-toggleable__content\"><pre>RandomForestClassifier(random_state=42)</pre></div></div></div></div></div></div></div>"
      ],
      "text/plain": [
       "Pipeline(steps=[('preprocess',\n",
       "                 ColumnTransformer(transformers=[('cat',\n",
       "                                                  OneHotEncoder(handle_unknown='ignore'),\n",
       "                                                  ['B01', 'B02', 'B03', 'B04',\n",
       "                                                   'B05', 'B06', 'B07', 'B08',\n",
       "                                                   'B09', 'B10', 'B11', 'B12',\n",
       "                                                   'B13', 'B14', 'B15', 'B16',\n",
       "                                                   'B17', 'B18', 'B19', 'B20',\n",
       "                                                   'B21', 'B22', 'B23', 'C01',\n",
       "                                                   'C02', 'C03', 'C04', 'C05',\n",
       "                                                   'C06', 'C07', ...]),\n",
       "                                                 ('num', SimpleImputer(), [])],\n",
       "                                   verbose_feature_names_out=False)),\n",
       "                ('classifier', RandomForestClassifier(random_state=42))])"
      ]
     },
     "execution_count": 33,
     "metadata": {},
     "output_type": "execute_result"
    }
   ],
   "source": [
    "categorical_processing = OneHotEncoder(handle_unknown='ignore')\n",
    "numerical_pipe = SimpleImputer(strategy=\"mean\")\n",
    "\n",
    "preprocessing = ColumnTransformer(\n",
    "    [\n",
    "        (\"cat\", categorical_processing, categorical_columns),\n",
    "        (\"num\", numerical_pipe, numerical_columns),\n",
    "    ],\n",
    "    verbose_feature_names_out=False,\n",
    ")\n",
    "\n",
    "forest_pipe = Pipeline(\n",
    "    [\n",
    "        (\"preprocess\", preprocessing),\n",
    "        (\"classifier\", RandomForestClassifier(random_state=42)),\n",
    "    ]\n",
    ")\n",
    "forest_pipe.fit(X_train, y_train)"
   ]
  },
  {
   "cell_type": "code",
   "execution_count": 20,
   "metadata": {
    "scrolled": false
   },
   "outputs": [
    {
     "name": "stdout",
     "output_type": "stream",
     "text": [
      "Training data prediction accuracy:  1.0\n",
      "CV train accuracy: 0.9613702890596414\n"
     ]
    }
   ],
   "source": [
    "#Getting predictions from pipeline using training data\n",
    "y_pred = forest_pipe.predict(X_train)\n",
    "#Checking accuracy of predictions\n",
    "print(f\"Training data prediction accuracy: \", accuracy_score(y_train, y_pred))\n",
    "\n",
    "#getting cross validation score for training data \n",
    "print(f\"CV train accuracy: {cross_val_score(forest_pipe, X_train, y_train, cv=5, scoring = 'accuracy').mean()}\")"
   ]
  },
  {
   "cell_type": "markdown",
   "metadata": {},
   "source": [
    "Thats a pretty good score for an untuned model but it looks like we are slightly overfit. Lets see what we can do about that"
   ]
  },
  {
   "cell_type": "markdown",
   "metadata": {},
   "source": [
    "# Tuning with RandomizedSearchCV and GridSearchCV"
   ]
  },
  {
   "cell_type": "code",
   "execution_count": null,
   "metadata": {
    "scrolled": true
   },
   "outputs": [],
   "source": [
    "# Number of trees in random forest\n",
    "n_estimators = [int(x) for x in np.linspace(start = 200, stop = 2000, num = 10)]\n",
    "# Maximum number of levels in tree\n",
    "max_depth = [int(x) for x in np.linspace(10, 110, num = 11)]\n",
    "max_depth.append(None)\n",
    "# Minimum number of samples required to split a node\n",
    "min_samples_split = [2, 5, 10]\n",
    "# Minimum number of samples required at each leaf node\n",
    "min_samples_leaf = [1, 2, 4]\n",
    "# Method of selecting samples for training each tree\n",
    "bootstrap = [True, False]\n",
    "# Create the random grid\n",
    "random_grid = {'classifier__n_estimators': n_estimators,\n",
    "               'classifier__max_depth': max_depth,\n",
    "               'classifier__min_samples_split': min_samples_split,\n",
    "               'classifier__min_samples_leaf': min_samples_leaf,\n",
    "               'classifier__bootstrap': bootstrap}"
   ]
  },
  {
   "cell_type": "code",
   "execution_count": 185,
   "metadata": {
    "collapsed": true
   },
   "outputs": [
    {
     "name": "stdout",
     "output_type": "stream",
     "text": [
      "Fitting 3 folds for each of 100 candidates, totalling 300 fits\n"
     ]
    },
    {
     "ename": "KeyboardInterrupt",
     "evalue": "",
     "output_type": "error",
     "traceback": [
      "\u001b[1;31m---------------------------------------------------------------------------\u001b[0m",
      "\u001b[1;31mKeyboardInterrupt\u001b[0m                         Traceback (most recent call last)",
      "\u001b[1;32m<ipython-input-185-3633aa56aad4>\u001b[0m in \u001b[0;36m<module>\u001b[1;34m\u001b[0m\n\u001b[0;32m     10\u001b[0m                               )\n\u001b[0;32m     11\u001b[0m \u001b[1;31m# Fit the random search model\u001b[0m\u001b[1;33m\u001b[0m\u001b[1;33m\u001b[0m\u001b[1;33m\u001b[0m\u001b[0m\n\u001b[1;32m---> 12\u001b[1;33m \u001b[0mforest_random\u001b[0m\u001b[1;33m.\u001b[0m\u001b[0mfit\u001b[0m\u001b[1;33m(\u001b[0m\u001b[0mX_train\u001b[0m\u001b[1;33m,\u001b[0m \u001b[0my_train\u001b[0m\u001b[1;33m)\u001b[0m\u001b[1;33m\u001b[0m\u001b[1;33m\u001b[0m\u001b[0m\n\u001b[0m",
      "\u001b[1;32m~\\anaconda3\\envs\\learn-env\\lib\\site-packages\\sklearn\\model_selection\\_search.py\u001b[0m in \u001b[0;36mfit\u001b[1;34m(self, X, y, groups, **fit_params)\u001b[0m\n\u001b[0;32m    873\u001b[0m                 \u001b[1;32mreturn\u001b[0m \u001b[0mresults\u001b[0m\u001b[1;33m\u001b[0m\u001b[1;33m\u001b[0m\u001b[0m\n\u001b[0;32m    874\u001b[0m \u001b[1;33m\u001b[0m\u001b[0m\n\u001b[1;32m--> 875\u001b[1;33m             \u001b[0mself\u001b[0m\u001b[1;33m.\u001b[0m\u001b[0m_run_search\u001b[0m\u001b[1;33m(\u001b[0m\u001b[0mevaluate_candidates\u001b[0m\u001b[1;33m)\u001b[0m\u001b[1;33m\u001b[0m\u001b[1;33m\u001b[0m\u001b[0m\n\u001b[0m\u001b[0;32m    876\u001b[0m \u001b[1;33m\u001b[0m\u001b[0m\n\u001b[0;32m    877\u001b[0m             \u001b[1;31m# multimetric is determined here because in the case of a callable\u001b[0m\u001b[1;33m\u001b[0m\u001b[1;33m\u001b[0m\u001b[1;33m\u001b[0m\u001b[0m\n",
      "\u001b[1;32m~\\anaconda3\\envs\\learn-env\\lib\\site-packages\\sklearn\\model_selection\\_search.py\u001b[0m in \u001b[0;36m_run_search\u001b[1;34m(self, evaluate_candidates)\u001b[0m\n\u001b[0;32m   1751\u001b[0m     \u001b[1;32mdef\u001b[0m \u001b[0m_run_search\u001b[0m\u001b[1;33m(\u001b[0m\u001b[0mself\u001b[0m\u001b[1;33m,\u001b[0m \u001b[0mevaluate_candidates\u001b[0m\u001b[1;33m)\u001b[0m\u001b[1;33m:\u001b[0m\u001b[1;33m\u001b[0m\u001b[1;33m\u001b[0m\u001b[0m\n\u001b[0;32m   1752\u001b[0m         \u001b[1;34m\"\"\"Search n_iter candidates from param_distributions\"\"\"\u001b[0m\u001b[1;33m\u001b[0m\u001b[1;33m\u001b[0m\u001b[0m\n\u001b[1;32m-> 1753\u001b[1;33m         evaluate_candidates(\n\u001b[0m\u001b[0;32m   1754\u001b[0m             ParameterSampler(\n\u001b[0;32m   1755\u001b[0m                 \u001b[0mself\u001b[0m\u001b[1;33m.\u001b[0m\u001b[0mparam_distributions\u001b[0m\u001b[1;33m,\u001b[0m \u001b[0mself\u001b[0m\u001b[1;33m.\u001b[0m\u001b[0mn_iter\u001b[0m\u001b[1;33m,\u001b[0m \u001b[0mrandom_state\u001b[0m\u001b[1;33m=\u001b[0m\u001b[0mself\u001b[0m\u001b[1;33m.\u001b[0m\u001b[0mrandom_state\u001b[0m\u001b[1;33m\u001b[0m\u001b[1;33m\u001b[0m\u001b[0m\n",
      "\u001b[1;32m~\\anaconda3\\envs\\learn-env\\lib\\site-packages\\sklearn\\model_selection\\_search.py\u001b[0m in \u001b[0;36mevaluate_candidates\u001b[1;34m(candidate_params, cv, more_results)\u001b[0m\n\u001b[0;32m    820\u001b[0m                     )\n\u001b[0;32m    821\u001b[0m \u001b[1;33m\u001b[0m\u001b[0m\n\u001b[1;32m--> 822\u001b[1;33m                 out = parallel(\n\u001b[0m\u001b[0;32m    823\u001b[0m                     delayed(_fit_and_score)(\n\u001b[0;32m    824\u001b[0m                         \u001b[0mclone\u001b[0m\u001b[1;33m(\u001b[0m\u001b[0mbase_estimator\u001b[0m\u001b[1;33m)\u001b[0m\u001b[1;33m,\u001b[0m\u001b[1;33m\u001b[0m\u001b[1;33m\u001b[0m\u001b[0m\n",
      "\u001b[1;32m~\\anaconda3\\envs\\learn-env\\lib\\site-packages\\joblib\\parallel.py\u001b[0m in \u001b[0;36m__call__\u001b[1;34m(self, iterable)\u001b[0m\n\u001b[0;32m   1059\u001b[0m \u001b[1;33m\u001b[0m\u001b[0m\n\u001b[0;32m   1060\u001b[0m             \u001b[1;32mwith\u001b[0m \u001b[0mself\u001b[0m\u001b[1;33m.\u001b[0m\u001b[0m_backend\u001b[0m\u001b[1;33m.\u001b[0m\u001b[0mretrieval_context\u001b[0m\u001b[1;33m(\u001b[0m\u001b[1;33m)\u001b[0m\u001b[1;33m:\u001b[0m\u001b[1;33m\u001b[0m\u001b[1;33m\u001b[0m\u001b[0m\n\u001b[1;32m-> 1061\u001b[1;33m                 \u001b[0mself\u001b[0m\u001b[1;33m.\u001b[0m\u001b[0mretrieve\u001b[0m\u001b[1;33m(\u001b[0m\u001b[1;33m)\u001b[0m\u001b[1;33m\u001b[0m\u001b[1;33m\u001b[0m\u001b[0m\n\u001b[0m\u001b[0;32m   1062\u001b[0m             \u001b[1;31m# Make sure that we get a last message telling us we are done\u001b[0m\u001b[1;33m\u001b[0m\u001b[1;33m\u001b[0m\u001b[1;33m\u001b[0m\u001b[0m\n\u001b[0;32m   1063\u001b[0m             \u001b[0melapsed_time\u001b[0m \u001b[1;33m=\u001b[0m \u001b[0mtime\u001b[0m\u001b[1;33m.\u001b[0m\u001b[0mtime\u001b[0m\u001b[1;33m(\u001b[0m\u001b[1;33m)\u001b[0m \u001b[1;33m-\u001b[0m \u001b[0mself\u001b[0m\u001b[1;33m.\u001b[0m\u001b[0m_start_time\u001b[0m\u001b[1;33m\u001b[0m\u001b[1;33m\u001b[0m\u001b[0m\n",
      "\u001b[1;32m~\\anaconda3\\envs\\learn-env\\lib\\site-packages\\joblib\\parallel.py\u001b[0m in \u001b[0;36mretrieve\u001b[1;34m(self)\u001b[0m\n\u001b[0;32m    938\u001b[0m             \u001b[1;32mtry\u001b[0m\u001b[1;33m:\u001b[0m\u001b[1;33m\u001b[0m\u001b[1;33m\u001b[0m\u001b[0m\n\u001b[0;32m    939\u001b[0m                 \u001b[1;32mif\u001b[0m \u001b[0mgetattr\u001b[0m\u001b[1;33m(\u001b[0m\u001b[0mself\u001b[0m\u001b[1;33m.\u001b[0m\u001b[0m_backend\u001b[0m\u001b[1;33m,\u001b[0m \u001b[1;34m'supports_timeout'\u001b[0m\u001b[1;33m,\u001b[0m \u001b[1;32mFalse\u001b[0m\u001b[1;33m)\u001b[0m\u001b[1;33m:\u001b[0m\u001b[1;33m\u001b[0m\u001b[1;33m\u001b[0m\u001b[0m\n\u001b[1;32m--> 940\u001b[1;33m                     \u001b[0mself\u001b[0m\u001b[1;33m.\u001b[0m\u001b[0m_output\u001b[0m\u001b[1;33m.\u001b[0m\u001b[0mextend\u001b[0m\u001b[1;33m(\u001b[0m\u001b[0mjob\u001b[0m\u001b[1;33m.\u001b[0m\u001b[0mget\u001b[0m\u001b[1;33m(\u001b[0m\u001b[0mtimeout\u001b[0m\u001b[1;33m=\u001b[0m\u001b[0mself\u001b[0m\u001b[1;33m.\u001b[0m\u001b[0mtimeout\u001b[0m\u001b[1;33m)\u001b[0m\u001b[1;33m)\u001b[0m\u001b[1;33m\u001b[0m\u001b[1;33m\u001b[0m\u001b[0m\n\u001b[0m\u001b[0;32m    941\u001b[0m                 \u001b[1;32melse\u001b[0m\u001b[1;33m:\u001b[0m\u001b[1;33m\u001b[0m\u001b[1;33m\u001b[0m\u001b[0m\n\u001b[0;32m    942\u001b[0m                     \u001b[0mself\u001b[0m\u001b[1;33m.\u001b[0m\u001b[0m_output\u001b[0m\u001b[1;33m.\u001b[0m\u001b[0mextend\u001b[0m\u001b[1;33m(\u001b[0m\u001b[0mjob\u001b[0m\u001b[1;33m.\u001b[0m\u001b[0mget\u001b[0m\u001b[1;33m(\u001b[0m\u001b[1;33m)\u001b[0m\u001b[1;33m)\u001b[0m\u001b[1;33m\u001b[0m\u001b[1;33m\u001b[0m\u001b[0m\n",
      "\u001b[1;32m~\\anaconda3\\envs\\learn-env\\lib\\site-packages\\joblib\\_parallel_backends.py\u001b[0m in \u001b[0;36mwrap_future_result\u001b[1;34m(future, timeout)\u001b[0m\n\u001b[0;32m    540\u001b[0m         AsyncResults.get from multiprocessing.\"\"\"\n\u001b[0;32m    541\u001b[0m         \u001b[1;32mtry\u001b[0m\u001b[1;33m:\u001b[0m\u001b[1;33m\u001b[0m\u001b[1;33m\u001b[0m\u001b[0m\n\u001b[1;32m--> 542\u001b[1;33m             \u001b[1;32mreturn\u001b[0m \u001b[0mfuture\u001b[0m\u001b[1;33m.\u001b[0m\u001b[0mresult\u001b[0m\u001b[1;33m(\u001b[0m\u001b[0mtimeout\u001b[0m\u001b[1;33m=\u001b[0m\u001b[0mtimeout\u001b[0m\u001b[1;33m)\u001b[0m\u001b[1;33m\u001b[0m\u001b[1;33m\u001b[0m\u001b[0m\n\u001b[0m\u001b[0;32m    543\u001b[0m         \u001b[1;32mexcept\u001b[0m \u001b[0mCfTimeoutError\u001b[0m \u001b[1;32mas\u001b[0m \u001b[0me\u001b[0m\u001b[1;33m:\u001b[0m\u001b[1;33m\u001b[0m\u001b[1;33m\u001b[0m\u001b[0m\n\u001b[0;32m    544\u001b[0m             \u001b[1;32mraise\u001b[0m \u001b[0mTimeoutError\u001b[0m \u001b[1;32mfrom\u001b[0m \u001b[0me\u001b[0m\u001b[1;33m\u001b[0m\u001b[1;33m\u001b[0m\u001b[0m\n",
      "\u001b[1;32m~\\anaconda3\\envs\\learn-env\\lib\\concurrent\\futures\\_base.py\u001b[0m in \u001b[0;36mresult\u001b[1;34m(self, timeout)\u001b[0m\n\u001b[0;32m    432\u001b[0m                 \u001b[1;32mreturn\u001b[0m \u001b[0mself\u001b[0m\u001b[1;33m.\u001b[0m\u001b[0m__get_result\u001b[0m\u001b[1;33m(\u001b[0m\u001b[1;33m)\u001b[0m\u001b[1;33m\u001b[0m\u001b[1;33m\u001b[0m\u001b[0m\n\u001b[0;32m    433\u001b[0m \u001b[1;33m\u001b[0m\u001b[0m\n\u001b[1;32m--> 434\u001b[1;33m             \u001b[0mself\u001b[0m\u001b[1;33m.\u001b[0m\u001b[0m_condition\u001b[0m\u001b[1;33m.\u001b[0m\u001b[0mwait\u001b[0m\u001b[1;33m(\u001b[0m\u001b[0mtimeout\u001b[0m\u001b[1;33m)\u001b[0m\u001b[1;33m\u001b[0m\u001b[1;33m\u001b[0m\u001b[0m\n\u001b[0m\u001b[0;32m    435\u001b[0m \u001b[1;33m\u001b[0m\u001b[0m\n\u001b[0;32m    436\u001b[0m             \u001b[1;32mif\u001b[0m \u001b[0mself\u001b[0m\u001b[1;33m.\u001b[0m\u001b[0m_state\u001b[0m \u001b[1;32min\u001b[0m \u001b[1;33m[\u001b[0m\u001b[0mCANCELLED\u001b[0m\u001b[1;33m,\u001b[0m \u001b[0mCANCELLED_AND_NOTIFIED\u001b[0m\u001b[1;33m]\u001b[0m\u001b[1;33m:\u001b[0m\u001b[1;33m\u001b[0m\u001b[1;33m\u001b[0m\u001b[0m\n",
      "\u001b[1;32m~\\anaconda3\\envs\\learn-env\\lib\\threading.py\u001b[0m in \u001b[0;36mwait\u001b[1;34m(self, timeout)\u001b[0m\n\u001b[0;32m    300\u001b[0m         \u001b[1;32mtry\u001b[0m\u001b[1;33m:\u001b[0m    \u001b[1;31m# restore state no matter what (e.g., KeyboardInterrupt)\u001b[0m\u001b[1;33m\u001b[0m\u001b[1;33m\u001b[0m\u001b[0m\n\u001b[0;32m    301\u001b[0m             \u001b[1;32mif\u001b[0m \u001b[0mtimeout\u001b[0m \u001b[1;32mis\u001b[0m \u001b[1;32mNone\u001b[0m\u001b[1;33m:\u001b[0m\u001b[1;33m\u001b[0m\u001b[1;33m\u001b[0m\u001b[0m\n\u001b[1;32m--> 302\u001b[1;33m                 \u001b[0mwaiter\u001b[0m\u001b[1;33m.\u001b[0m\u001b[0macquire\u001b[0m\u001b[1;33m(\u001b[0m\u001b[1;33m)\u001b[0m\u001b[1;33m\u001b[0m\u001b[1;33m\u001b[0m\u001b[0m\n\u001b[0m\u001b[0;32m    303\u001b[0m                 \u001b[0mgotit\u001b[0m \u001b[1;33m=\u001b[0m \u001b[1;32mTrue\u001b[0m\u001b[1;33m\u001b[0m\u001b[1;33m\u001b[0m\u001b[0m\n\u001b[0;32m    304\u001b[0m             \u001b[1;32melse\u001b[0m\u001b[1;33m:\u001b[0m\u001b[1;33m\u001b[0m\u001b[1;33m\u001b[0m\u001b[0m\n",
      "\u001b[1;31mKeyboardInterrupt\u001b[0m: "
     ]
    }
   ],
   "source": [
    "forest = forest_pipe\n",
    "# Random search of parameters, using 3 fold cross validation, \n",
    "# search across 100 different combinations, and use all available cores\n",
    "forest_random = RandomizedSearchCV(estimator = forest,\n",
    "                                   param_distributions = random_grid,\n",
    "                                   n_iter = 100,\n",
    "                                   cv = 3,\n",
    "                                   verbose=2,\n",
    "                                   random_state=42,\n",
    "                                   n_jobs = -1\n",
    "                                  )\n",
    "# Fit the random search model\n",
    "forest_random.fit(X_train, y_train)"
   ]
  },
  {
   "cell_type": "code",
   "execution_count": 23,
   "metadata": {
    "scrolled": true
   },
   "outputs": [
    {
     "data": {
      "text/plain": [
       "{'classifier__n_estimators': 400,\n",
       " 'classifier__min_samples_split': 5,\n",
       " 'classifier__min_samples_leaf': 2,\n",
       " 'classifier__max_depth': 90,\n",
       " 'classifier__bootstrap': False}"
      ]
     },
     "execution_count": 23,
     "metadata": {},
     "output_type": "execute_result"
    }
   ],
   "source": [
    "forest_random.best_params_"
   ]
  },
  {
   "cell_type": "markdown",
   "metadata": {},
   "source": [
    "### Results\n",
    "- 'classifier__n_estimators': 400\n",
    "- 'classifier__min_samples_split': 5\n",
    "- 'classifier__min_samples_leaf': 2\n",
    "- 'classifier__max_depth': 90\n",
    "- 'classifier__bootstrap': False\n",
    " "
   ]
  },
  {
   "cell_type": "code",
   "execution_count": 47,
   "metadata": {},
   "outputs": [
    {
     "data": {
      "text/html": [
       "<style>#sk-container-id-9 {color: black;background-color: white;}#sk-container-id-9 pre{padding: 0;}#sk-container-id-9 div.sk-toggleable {background-color: white;}#sk-container-id-9 label.sk-toggleable__label {cursor: pointer;display: block;width: 100%;margin-bottom: 0;padding: 0.3em;box-sizing: border-box;text-align: center;}#sk-container-id-9 label.sk-toggleable__label-arrow:before {content: \"▸\";float: left;margin-right: 0.25em;color: #696969;}#sk-container-id-9 label.sk-toggleable__label-arrow:hover:before {color: black;}#sk-container-id-9 div.sk-estimator:hover label.sk-toggleable__label-arrow:before {color: black;}#sk-container-id-9 div.sk-toggleable__content {max-height: 0;max-width: 0;overflow: hidden;text-align: left;background-color: #f0f8ff;}#sk-container-id-9 div.sk-toggleable__content pre {margin: 0.2em;color: black;border-radius: 0.25em;background-color: #f0f8ff;}#sk-container-id-9 input.sk-toggleable__control:checked~div.sk-toggleable__content {max-height: 200px;max-width: 100%;overflow: auto;}#sk-container-id-9 input.sk-toggleable__control:checked~label.sk-toggleable__label-arrow:before {content: \"▾\";}#sk-container-id-9 div.sk-estimator input.sk-toggleable__control:checked~label.sk-toggleable__label {background-color: #d4ebff;}#sk-container-id-9 div.sk-label input.sk-toggleable__control:checked~label.sk-toggleable__label {background-color: #d4ebff;}#sk-container-id-9 input.sk-hidden--visually {border: 0;clip: rect(1px 1px 1px 1px);clip: rect(1px, 1px, 1px, 1px);height: 1px;margin: -1px;overflow: hidden;padding: 0;position: absolute;width: 1px;}#sk-container-id-9 div.sk-estimator {font-family: monospace;background-color: #f0f8ff;border: 1px dotted black;border-radius: 0.25em;box-sizing: border-box;margin-bottom: 0.5em;}#sk-container-id-9 div.sk-estimator:hover {background-color: #d4ebff;}#sk-container-id-9 div.sk-parallel-item::after {content: \"\";width: 100%;border-bottom: 1px solid gray;flex-grow: 1;}#sk-container-id-9 div.sk-label:hover label.sk-toggleable__label {background-color: #d4ebff;}#sk-container-id-9 div.sk-serial::before {content: \"\";position: absolute;border-left: 1px solid gray;box-sizing: border-box;top: 0;bottom: 0;left: 50%;z-index: 0;}#sk-container-id-9 div.sk-serial {display: flex;flex-direction: column;align-items: center;background-color: white;padding-right: 0.2em;padding-left: 0.2em;position: relative;}#sk-container-id-9 div.sk-item {position: relative;z-index: 1;}#sk-container-id-9 div.sk-parallel {display: flex;align-items: stretch;justify-content: center;background-color: white;position: relative;}#sk-container-id-9 div.sk-item::before, #sk-container-id-9 div.sk-parallel-item::before {content: \"\";position: absolute;border-left: 1px solid gray;box-sizing: border-box;top: 0;bottom: 0;left: 50%;z-index: -1;}#sk-container-id-9 div.sk-parallel-item {display: flex;flex-direction: column;z-index: 1;position: relative;background-color: white;}#sk-container-id-9 div.sk-parallel-item:first-child::after {align-self: flex-end;width: 50%;}#sk-container-id-9 div.sk-parallel-item:last-child::after {align-self: flex-start;width: 50%;}#sk-container-id-9 div.sk-parallel-item:only-child::after {width: 0;}#sk-container-id-9 div.sk-dashed-wrapped {border: 1px dashed gray;margin: 0 0.4em 0.5em 0.4em;box-sizing: border-box;padding-bottom: 0.4em;background-color: white;}#sk-container-id-9 div.sk-label label {font-family: monospace;font-weight: bold;display: inline-block;line-height: 1.2em;}#sk-container-id-9 div.sk-label-container {text-align: center;}#sk-container-id-9 div.sk-container {/* jupyter's `normalize.less` sets `[hidden] { display: none; }` but bootstrap.min.css set `[hidden] { display: none !important; }` so we also need the `!important` here to be able to override the default hidden behavior on the sphinx rendered scikit-learn.org. See: https://github.com/scikit-learn/scikit-learn/issues/21755 */display: inline-block !important;position: relative;}#sk-container-id-9 div.sk-text-repr-fallback {display: none;}</style><div id=\"sk-container-id-9\" class=\"sk-top-container\"><div class=\"sk-text-repr-fallback\"><pre>GridSearchCV(cv=5,\n",
       "             estimator=Pipeline(steps=[(&#x27;preprocess&#x27;,\n",
       "                                        ColumnTransformer(transformers=[(&#x27;cat&#x27;,\n",
       "                                                                         OneHotEncoder(handle_unknown=&#x27;ignore&#x27;),\n",
       "                                                                         [&#x27;B01&#x27;,\n",
       "                                                                          &#x27;B02&#x27;,\n",
       "                                                                          &#x27;B03&#x27;,\n",
       "                                                                          &#x27;B04&#x27;,\n",
       "                                                                          &#x27;B05&#x27;,\n",
       "                                                                          &#x27;B06&#x27;,\n",
       "                                                                          &#x27;B07&#x27;,\n",
       "                                                                          &#x27;B08&#x27;,\n",
       "                                                                          &#x27;B09&#x27;,\n",
       "                                                                          &#x27;B10&#x27;,\n",
       "                                                                          &#x27;B11&#x27;,\n",
       "                                                                          &#x27;B12&#x27;,\n",
       "                                                                          &#x27;B13&#x27;,\n",
       "                                                                          &#x27;B14&#x27;,\n",
       "                                                                          &#x27;B15&#x27;,\n",
       "                                                                          &#x27;B16&#x27;,\n",
       "                                                                          &#x27;B17&#x27;,\n",
       "                                                                          &#x27;B18&#x27;,\n",
       "                                                                          &#x27;B19&#x27;,\n",
       "                                                                          &#x27;B20&#x27;,\n",
       "                                                                          &#x27;B21&#x27;,\n",
       "                                                                          &#x27;B22&#x27;,\n",
       "                                                                          &#x27;B23&#x27;,\n",
       "                                                                          &#x27;C01&#x27;,\n",
       "                                                                          &#x27;C02&#x27;,\n",
       "                                                                          &#x27;C03&#x27;,\n",
       "                                                                          &#x27;C04&#x27;,\n",
       "                                                                          &#x27;C05&#x27;,\n",
       "                                                                          &#x27;C06&#x27;,\n",
       "                                                                          &#x27;C07&#x27;, ...]),\n",
       "                                                                        (&#x27;num&#x27;,\n",
       "                                                                         SimpleImputer(),\n",
       "                                                                         [])]...\n",
       "                                                               criterion=&#x27;entropy&#x27;,\n",
       "                                                               max_depth=8,\n",
       "                                                               n_estimators=125,\n",
       "                                                               random_state=42))]),\n",
       "             n_jobs=3,\n",
       "             param_grid={&#x27;classifier__bootstrap&#x27;: [False],\n",
       "                         &#x27;classifier__criterion&#x27;: [&#x27;gini&#x27;, &#x27;entropy&#x27;,\n",
       "                                                   &#x27;log_loss&#x27;],\n",
       "                         &#x27;classifier__max_depth&#x27;: [70, 80, 90],\n",
       "                         &#x27;classifier__min_samples_leaf&#x27;: [2, 3, 4],\n",
       "                         &#x27;classifier__min_samples_split&#x27;: [4, 5, 6],\n",
       "                         &#x27;classifier__n_estimators&#x27;: [200, 300, 400]},\n",
       "             scoring=&#x27;accuracy&#x27;)</pre><b>In a Jupyter environment, please rerun this cell to show the HTML representation or trust the notebook. <br />On GitHub, the HTML representation is unable to render, please try loading this page with nbviewer.org.</b></div><div class=\"sk-container\" hidden><div class=\"sk-item sk-dashed-wrapped\"><div class=\"sk-label-container\"><div class=\"sk-label sk-toggleable\"><input class=\"sk-toggleable__control sk-hidden--visually\" id=\"sk-estimator-id-60\" type=\"checkbox\" ><label for=\"sk-estimator-id-60\" class=\"sk-toggleable__label sk-toggleable__label-arrow\">GridSearchCV</label><div class=\"sk-toggleable__content\"><pre>GridSearchCV(cv=5,\n",
       "             estimator=Pipeline(steps=[(&#x27;preprocess&#x27;,\n",
       "                                        ColumnTransformer(transformers=[(&#x27;cat&#x27;,\n",
       "                                                                         OneHotEncoder(handle_unknown=&#x27;ignore&#x27;),\n",
       "                                                                         [&#x27;B01&#x27;,\n",
       "                                                                          &#x27;B02&#x27;,\n",
       "                                                                          &#x27;B03&#x27;,\n",
       "                                                                          &#x27;B04&#x27;,\n",
       "                                                                          &#x27;B05&#x27;,\n",
       "                                                                          &#x27;B06&#x27;,\n",
       "                                                                          &#x27;B07&#x27;,\n",
       "                                                                          &#x27;B08&#x27;,\n",
       "                                                                          &#x27;B09&#x27;,\n",
       "                                                                          &#x27;B10&#x27;,\n",
       "                                                                          &#x27;B11&#x27;,\n",
       "                                                                          &#x27;B12&#x27;,\n",
       "                                                                          &#x27;B13&#x27;,\n",
       "                                                                          &#x27;B14&#x27;,\n",
       "                                                                          &#x27;B15&#x27;,\n",
       "                                                                          &#x27;B16&#x27;,\n",
       "                                                                          &#x27;B17&#x27;,\n",
       "                                                                          &#x27;B18&#x27;,\n",
       "                                                                          &#x27;B19&#x27;,\n",
       "                                                                          &#x27;B20&#x27;,\n",
       "                                                                          &#x27;B21&#x27;,\n",
       "                                                                          &#x27;B22&#x27;,\n",
       "                                                                          &#x27;B23&#x27;,\n",
       "                                                                          &#x27;C01&#x27;,\n",
       "                                                                          &#x27;C02&#x27;,\n",
       "                                                                          &#x27;C03&#x27;,\n",
       "                                                                          &#x27;C04&#x27;,\n",
       "                                                                          &#x27;C05&#x27;,\n",
       "                                                                          &#x27;C06&#x27;,\n",
       "                                                                          &#x27;C07&#x27;, ...]),\n",
       "                                                                        (&#x27;num&#x27;,\n",
       "                                                                         SimpleImputer(),\n",
       "                                                                         [])]...\n",
       "                                                               criterion=&#x27;entropy&#x27;,\n",
       "                                                               max_depth=8,\n",
       "                                                               n_estimators=125,\n",
       "                                                               random_state=42))]),\n",
       "             n_jobs=3,\n",
       "             param_grid={&#x27;classifier__bootstrap&#x27;: [False],\n",
       "                         &#x27;classifier__criterion&#x27;: [&#x27;gini&#x27;, &#x27;entropy&#x27;,\n",
       "                                                   &#x27;log_loss&#x27;],\n",
       "                         &#x27;classifier__max_depth&#x27;: [70, 80, 90],\n",
       "                         &#x27;classifier__min_samples_leaf&#x27;: [2, 3, 4],\n",
       "                         &#x27;classifier__min_samples_split&#x27;: [4, 5, 6],\n",
       "                         &#x27;classifier__n_estimators&#x27;: [200, 300, 400]},\n",
       "             scoring=&#x27;accuracy&#x27;)</pre></div></div></div><div class=\"sk-parallel\"><div class=\"sk-parallel-item\"><div class=\"sk-item\"><div class=\"sk-label-container\"><div class=\"sk-label sk-toggleable\"><input class=\"sk-toggleable__control sk-hidden--visually\" id=\"sk-estimator-id-61\" type=\"checkbox\" ><label for=\"sk-estimator-id-61\" class=\"sk-toggleable__label sk-toggleable__label-arrow\">estimator: Pipeline</label><div class=\"sk-toggleable__content\"><pre>Pipeline(steps=[(&#x27;preprocess&#x27;,\n",
       "                 ColumnTransformer(transformers=[(&#x27;cat&#x27;,\n",
       "                                                  OneHotEncoder(handle_unknown=&#x27;ignore&#x27;),\n",
       "                                                  [&#x27;B01&#x27;, &#x27;B02&#x27;, &#x27;B03&#x27;, &#x27;B04&#x27;,\n",
       "                                                   &#x27;B05&#x27;, &#x27;B06&#x27;, &#x27;B07&#x27;, &#x27;B08&#x27;,\n",
       "                                                   &#x27;B09&#x27;, &#x27;B10&#x27;, &#x27;B11&#x27;, &#x27;B12&#x27;,\n",
       "                                                   &#x27;B13&#x27;, &#x27;B14&#x27;, &#x27;B15&#x27;, &#x27;B16&#x27;,\n",
       "                                                   &#x27;B17&#x27;, &#x27;B18&#x27;, &#x27;B19&#x27;, &#x27;B20&#x27;,\n",
       "                                                   &#x27;B21&#x27;, &#x27;B22&#x27;, &#x27;B23&#x27;, &#x27;C01&#x27;,\n",
       "                                                   &#x27;C02&#x27;, &#x27;C03&#x27;, &#x27;C04&#x27;, &#x27;C05&#x27;,\n",
       "                                                   &#x27;C06&#x27;, &#x27;C07&#x27;, ...]),\n",
       "                                                 (&#x27;num&#x27;, SimpleImputer(), [])],\n",
       "                                   verbose_feature_names_out=False)),\n",
       "                (&#x27;classifier&#x27;,\n",
       "                 RandomForestClassifier(bootstrap=False, criterion=&#x27;entropy&#x27;,\n",
       "                                        max_depth=8, n_estimators=125,\n",
       "                                        random_state=42))])</pre></div></div></div><div class=\"sk-serial\"><div class=\"sk-item\"><div class=\"sk-serial\"><div class=\"sk-item sk-dashed-wrapped\"><div class=\"sk-label-container\"><div class=\"sk-label sk-toggleable\"><input class=\"sk-toggleable__control sk-hidden--visually\" id=\"sk-estimator-id-62\" type=\"checkbox\" ><label for=\"sk-estimator-id-62\" class=\"sk-toggleable__label sk-toggleable__label-arrow\">preprocess: ColumnTransformer</label><div class=\"sk-toggleable__content\"><pre>ColumnTransformer(transformers=[(&#x27;cat&#x27;, OneHotEncoder(handle_unknown=&#x27;ignore&#x27;),\n",
       "                                 [&#x27;B01&#x27;, &#x27;B02&#x27;, &#x27;B03&#x27;, &#x27;B04&#x27;, &#x27;B05&#x27;, &#x27;B06&#x27;,\n",
       "                                  &#x27;B07&#x27;, &#x27;B08&#x27;, &#x27;B09&#x27;, &#x27;B10&#x27;, &#x27;B11&#x27;, &#x27;B12&#x27;,\n",
       "                                  &#x27;B13&#x27;, &#x27;B14&#x27;, &#x27;B15&#x27;, &#x27;B16&#x27;, &#x27;B17&#x27;, &#x27;B18&#x27;,\n",
       "                                  &#x27;B19&#x27;, &#x27;B20&#x27;, &#x27;B21&#x27;, &#x27;B22&#x27;, &#x27;B23&#x27;, &#x27;C01&#x27;,\n",
       "                                  &#x27;C02&#x27;, &#x27;C03&#x27;, &#x27;C04&#x27;, &#x27;C05&#x27;, &#x27;C06&#x27;, &#x27;C07&#x27;, ...]),\n",
       "                                (&#x27;num&#x27;, SimpleImputer(), [])],\n",
       "                  verbose_feature_names_out=False)</pre></div></div></div><div class=\"sk-parallel\"><div class=\"sk-parallel-item\"><div class=\"sk-item\"><div class=\"sk-label-container\"><div class=\"sk-label sk-toggleable\"><input class=\"sk-toggleable__control sk-hidden--visually\" id=\"sk-estimator-id-63\" type=\"checkbox\" ><label for=\"sk-estimator-id-63\" class=\"sk-toggleable__label sk-toggleable__label-arrow\">cat</label><div class=\"sk-toggleable__content\"><pre>[&#x27;B01&#x27;, &#x27;B02&#x27;, &#x27;B03&#x27;, &#x27;B04&#x27;, &#x27;B05&#x27;, &#x27;B06&#x27;, &#x27;B07&#x27;, &#x27;B08&#x27;, &#x27;B09&#x27;, &#x27;B10&#x27;, &#x27;B11&#x27;, &#x27;B12&#x27;, &#x27;B13&#x27;, &#x27;B14&#x27;, &#x27;B15&#x27;, &#x27;B16&#x27;, &#x27;B17&#x27;, &#x27;B18&#x27;, &#x27;B19&#x27;, &#x27;B20&#x27;, &#x27;B21&#x27;, &#x27;B22&#x27;, &#x27;B23&#x27;, &#x27;C01&#x27;, &#x27;C02&#x27;, &#x27;C03&#x27;, &#x27;C04&#x27;, &#x27;C05&#x27;, &#x27;C06&#x27;, &#x27;C07&#x27;, &#x27;F01&#x27;, &#x27;F02&#x27;, &#x27;F03&#x27;, &#x27;F04&#x27;, &#x27;F05&#x27;, &#x27;F06&#x27;, &#x27;F07&#x27;, &#x27;F08&#x27;, &#x27;F09&#x27;, &#x27;F10&#x27;, &#x27;F11&#x27;, &#x27;F12&#x27;, &#x27;F13&#x27;, &#x27;F14&#x27;, &#x27;F15&#x27;, &#x27;F16&#x27;, &#x27;F17&#x27;, &#x27;F18&#x27;, &#x27;F19&#x27;, &#x27;F20&#x27;, &#x27;F21&#x27;, &#x27;F22&#x27;, &#x27;F23&#x27;, &#x27;F24&#x27;, &#x27;F25&#x27;, &#x27;F26&#x27;, &#x27;F27&#x27;, &#x27;G01&#x27;, &#x27;G02&#x27;, &#x27;G03&#x27;, &#x27;G04&#x27;, &#x27;G05&#x27;, &#x27;G06&#x27;, &#x27;G07&#x27;, &#x27;G08&#x27;, &#x27;G09&#x27;, &#x27;G10&#x27;, &#x27;G11&#x27;, &#x27;H01&#x27;, &#x27;H02&#x27;, &#x27;H03&#x27;, &#x27;H04&#x27;, &#x27;H05&#x27;, &#x27;H06&#x27;, &#x27;H07&#x27;, &#x27;H08&#x27;, &#x27;H09&#x27;, &#x27;H10&#x27;, &#x27;H11&#x27;, &#x27;H12&#x27;, &#x27;H13&#x27;, &#x27;H14&#x27;, &#x27;H15&#x27;, &#x27;H16&#x27;, &#x27;H17&#x27;, &#x27;J01&#x27;, &#x27;J02&#x27;, &#x27;J03&#x27;, &#x27;J04&#x27;, &#x27;J05&#x27;, &#x27;J06&#x27;, &#x27;J07&#x27;, &#x27;J08&#x27;, &#x27;J09&#x27;, &#x27;J10&#x27;, &#x27;J11&#x27;, &#x27;J12&#x27;, &#x27;K01&#x27;, &#x27;K02&#x27;, &#x27;K03&#x27;, &#x27;K04&#x27;, &#x27;K05&#x27;, &#x27;K06&#x27;, &#x27;K07&#x27;, &#x27;K08&#x27;, &#x27;K09&#x27;, &#x27;K10&#x27;, &#x27;K11&#x27;, &#x27;K12&#x27;, &#x27;K13&#x27;, &#x27;K14&#x27;, &#x27;K15&#x27;, &#x27;K16&#x27;, &#x27;K17&#x27;, &#x27;K18&#x27;, &#x27;L01&#x27;, &#x27;L02&#x27;, &#x27;L03&#x27;, &#x27;L04&#x27;, &#x27;L05&#x27;, &#x27;L06&#x27;, &#x27;M01&#x27;, &#x27;M02&#x27;, &#x27;M03&#x27;, &#x27;M04&#x27;, &#x27;M05&#x27;, &#x27;M06&#x27;, &#x27;M07&#x27;, &#x27;M08&#x27;, &#x27;M09&#x27;, &#x27;M10&#x27;, &#x27;M11&#x27;, &#x27;M12&#x27;, &#x27;M13&#x27;, &#x27;M14&#x27;, &#x27;M15&#x27;, &#x27;M16&#x27;, &#x27;M17&#x27;, &#x27;M18&#x27;, &#x27;M19&#x27;, &#x27;M20&#x27;, &#x27;N01&#x27;, &#x27;N02&#x27;, &#x27;N03&#x27;, &#x27;N04&#x27;, &#x27;N05&#x27;, &#x27;N06&#x27;, &#x27;N07&#x27;, &#x27;N08&#x27;, &#x27;P01&#x27;, &#x27;P02&#x27;, &#x27;P03&#x27;, &#x27;P04&#x27;, &#x27;P05&#x27;, &#x27;P06&#x27;, &#x27;P07&#x27;, &#x27;P08&#x27;, &#x27;P09&#x27;, &#x27;P10&#x27;, &#x27;P11&#x27;, &#x27;P12&#x27;, &#x27;P13&#x27;, &#x27;P14&#x27;, &#x27;P15&#x27;, &#x27;P16&#x27;, &#x27;P17&#x27;, &#x27;P18&#x27;, &#x27;P19&#x27;, &#x27;P20&#x27;, &#x27;P21&#x27;, &#x27;P22&#x27;, &#x27;P23&#x27;, &#x27;P24&#x27;, &#x27;P25&#x27;, &#x27;P26&#x27;, &#x27;P27&#x27;, &#x27;P28&#x27;, &#x27;P29&#x27;, &#x27;Q01&#x27;, &#x27;Q02&#x27;, &#x27;Q03&#x27;, &#x27;Q04&#x27;, &#x27;Q05&#x27;, &#x27;Q06&#x27;, &#x27;Q07&#x27;, &#x27;Q08&#x27;, &#x27;R01&#x27;, &#x27;R02&#x27;, &#x27;R03&#x27;, &#x27;R04&#x27;, &#x27;R05&#x27;, &#x27;R06&#x27;, &#x27;R07&#x27;, &#x27;R08&#x27;, &#x27;R09&#x27;, &#x27;R10&#x27;, &#x27;R11&#x27;, &#x27;R12&#x27;, &#x27;R13&#x27;, &#x27;R14&#x27;, &#x27;R15&#x27;, &#x27;R16&#x27;, &#x27;R17&#x27;, &#x27;R18&#x27;]</pre></div></div></div><div class=\"sk-serial\"><div class=\"sk-item\"><div class=\"sk-estimator sk-toggleable\"><input class=\"sk-toggleable__control sk-hidden--visually\" id=\"sk-estimator-id-64\" type=\"checkbox\" ><label for=\"sk-estimator-id-64\" class=\"sk-toggleable__label sk-toggleable__label-arrow\">OneHotEncoder</label><div class=\"sk-toggleable__content\"><pre>OneHotEncoder(handle_unknown=&#x27;ignore&#x27;)</pre></div></div></div></div></div></div><div class=\"sk-parallel-item\"><div class=\"sk-item\"><div class=\"sk-label-container\"><div class=\"sk-label sk-toggleable\"><input class=\"sk-toggleable__control sk-hidden--visually\" id=\"sk-estimator-id-65\" type=\"checkbox\" ><label for=\"sk-estimator-id-65\" class=\"sk-toggleable__label sk-toggleable__label-arrow\">num</label><div class=\"sk-toggleable__content\"><pre>[]</pre></div></div></div><div class=\"sk-serial\"><div class=\"sk-item\"><div class=\"sk-estimator sk-toggleable\"><input class=\"sk-toggleable__control sk-hidden--visually\" id=\"sk-estimator-id-66\" type=\"checkbox\" ><label for=\"sk-estimator-id-66\" class=\"sk-toggleable__label sk-toggleable__label-arrow\">SimpleImputer</label><div class=\"sk-toggleable__content\"><pre>SimpleImputer()</pre></div></div></div></div></div></div></div></div><div class=\"sk-item\"><div class=\"sk-estimator sk-toggleable\"><input class=\"sk-toggleable__control sk-hidden--visually\" id=\"sk-estimator-id-67\" type=\"checkbox\" ><label for=\"sk-estimator-id-67\" class=\"sk-toggleable__label sk-toggleable__label-arrow\">RandomForestClassifier</label><div class=\"sk-toggleable__content\"><pre>RandomForestClassifier(bootstrap=False, criterion=&#x27;entropy&#x27;, max_depth=8,\n",
       "                       n_estimators=125, random_state=42)</pre></div></div></div></div></div></div></div></div></div></div></div></div>"
      ],
      "text/plain": [
       "GridSearchCV(cv=5,\n",
       "             estimator=Pipeline(steps=[('preprocess',\n",
       "                                        ColumnTransformer(transformers=[('cat',\n",
       "                                                                         OneHotEncoder(handle_unknown='ignore'),\n",
       "                                                                         ['B01',\n",
       "                                                                          'B02',\n",
       "                                                                          'B03',\n",
       "                                                                          'B04',\n",
       "                                                                          'B05',\n",
       "                                                                          'B06',\n",
       "                                                                          'B07',\n",
       "                                                                          'B08',\n",
       "                                                                          'B09',\n",
       "                                                                          'B10',\n",
       "                                                                          'B11',\n",
       "                                                                          'B12',\n",
       "                                                                          'B13',\n",
       "                                                                          'B14',\n",
       "                                                                          'B15',\n",
       "                                                                          'B16',\n",
       "                                                                          'B17',\n",
       "                                                                          'B18',\n",
       "                                                                          'B19',\n",
       "                                                                          'B20',\n",
       "                                                                          'B21',\n",
       "                                                                          'B22',\n",
       "                                                                          'B23',\n",
       "                                                                          'C01',\n",
       "                                                                          'C02',\n",
       "                                                                          'C03',\n",
       "                                                                          'C04',\n",
       "                                                                          'C05',\n",
       "                                                                          'C06',\n",
       "                                                                          'C07', ...]),\n",
       "                                                                        ('num',\n",
       "                                                                         SimpleImputer(),\n",
       "                                                                         [])]...\n",
       "                                                               criterion='entropy',\n",
       "                                                               max_depth=8,\n",
       "                                                               n_estimators=125,\n",
       "                                                               random_state=42))]),\n",
       "             n_jobs=3,\n",
       "             param_grid={'classifier__bootstrap': [False],\n",
       "                         'classifier__criterion': ['gini', 'entropy',\n",
       "                                                   'log_loss'],\n",
       "                         'classifier__max_depth': [70, 80, 90],\n",
       "                         'classifier__min_samples_leaf': [2, 3, 4],\n",
       "                         'classifier__min_samples_split': [4, 5, 6],\n",
       "                         'classifier__n_estimators': [200, 300, 400]},\n",
       "             scoring='accuracy')"
      ]
     },
     "execution_count": 47,
     "metadata": {},
     "output_type": "execute_result"
    }
   ],
   "source": [
    "param_grid = {'classifier__n_estimators': [200, 300, 400],\n",
    "              'classifier__criterion': ['gini', 'entropy', 'log_loss'],               \n",
    "              'classifier__max_depth': [70, 80, 90],\n",
    "              'classifier__min_samples_split': [4, 5, 6],\n",
    "              'classifier__min_samples_leaf': [2, 3, 4],\n",
    "              'classifier__bootstrap': [False]\n",
    "             }\n",
    "\n",
    "gridsearch = GridSearchCV(estimator=forest_pipe,\n",
    "                          param_grid=param_grid,\n",
    "                          scoring='accuracy',\n",
    "                          cv=5,\n",
    "                          n_jobs = 3\n",
    "                         )\n",
    "# Fit the training data\n",
    "gridsearch.fit(X_train, y_train)"
   ]
  },
  {
   "cell_type": "code",
   "execution_count": 48,
   "metadata": {
    "collapsed": true
   },
   "outputs": [
    {
     "name": "stdout",
     "output_type": "stream",
     "text": [
      "Gridsearch score:  0.9995610184372257\n",
      "Gridsearch best params: \n",
      "{'classifier__bootstrap': False,\n",
      " 'classifier__criterion': 'gini',\n",
      " 'classifier__max_depth': 70,\n",
      " 'classifier__min_samples_leaf': 2,\n",
      " 'classifier__min_samples_split': 6,\n",
      " 'classifier__n_estimators': 400}\n"
     ]
    }
   ],
   "source": [
    "# Print the accuracy on train set\n",
    "print(f\"Gridsearch score: \", gridsearch.score(X_train, y_train))\n",
    "print(f\"Gridsearch best params: \")\n",
    "pprint(gridsearch.best_params_)"
   ]
  },
  {
   "cell_type": "markdown",
   "metadata": {},
   "source": [
    "### Results\n",
    "\n",
    "Gridsearch score:  0.9995610184372257\n",
    "\n",
    "Gridsearch best params: \n",
    "- 'classifier__bootstrap': False \n",
    "- 'classifier__criterion': 'gini' \n",
    "- 'classifier__max_depth': 70 \n",
    "- 'classifier__min_samples_leaf': 2 \n",
    "- 'classifier__min_samples_split': 6 \n",
    "- 'classifier__n_estimators': 400"
   ]
  },
  {
   "cell_type": "code",
   "execution_count": 49,
   "metadata": {
    "scrolled": false
   },
   "outputs": [
    {
     "data": {
      "text/html": [
       "<style>#sk-container-id-10 {color: black;background-color: white;}#sk-container-id-10 pre{padding: 0;}#sk-container-id-10 div.sk-toggleable {background-color: white;}#sk-container-id-10 label.sk-toggleable__label {cursor: pointer;display: block;width: 100%;margin-bottom: 0;padding: 0.3em;box-sizing: border-box;text-align: center;}#sk-container-id-10 label.sk-toggleable__label-arrow:before {content: \"▸\";float: left;margin-right: 0.25em;color: #696969;}#sk-container-id-10 label.sk-toggleable__label-arrow:hover:before {color: black;}#sk-container-id-10 div.sk-estimator:hover label.sk-toggleable__label-arrow:before {color: black;}#sk-container-id-10 div.sk-toggleable__content {max-height: 0;max-width: 0;overflow: hidden;text-align: left;background-color: #f0f8ff;}#sk-container-id-10 div.sk-toggleable__content pre {margin: 0.2em;color: black;border-radius: 0.25em;background-color: #f0f8ff;}#sk-container-id-10 input.sk-toggleable__control:checked~div.sk-toggleable__content {max-height: 200px;max-width: 100%;overflow: auto;}#sk-container-id-10 input.sk-toggleable__control:checked~label.sk-toggleable__label-arrow:before {content: \"▾\";}#sk-container-id-10 div.sk-estimator input.sk-toggleable__control:checked~label.sk-toggleable__label {background-color: #d4ebff;}#sk-container-id-10 div.sk-label input.sk-toggleable__control:checked~label.sk-toggleable__label {background-color: #d4ebff;}#sk-container-id-10 input.sk-hidden--visually {border: 0;clip: rect(1px 1px 1px 1px);clip: rect(1px, 1px, 1px, 1px);height: 1px;margin: -1px;overflow: hidden;padding: 0;position: absolute;width: 1px;}#sk-container-id-10 div.sk-estimator {font-family: monospace;background-color: #f0f8ff;border: 1px dotted black;border-radius: 0.25em;box-sizing: border-box;margin-bottom: 0.5em;}#sk-container-id-10 div.sk-estimator:hover {background-color: #d4ebff;}#sk-container-id-10 div.sk-parallel-item::after {content: \"\";width: 100%;border-bottom: 1px solid gray;flex-grow: 1;}#sk-container-id-10 div.sk-label:hover label.sk-toggleable__label {background-color: #d4ebff;}#sk-container-id-10 div.sk-serial::before {content: \"\";position: absolute;border-left: 1px solid gray;box-sizing: border-box;top: 0;bottom: 0;left: 50%;z-index: 0;}#sk-container-id-10 div.sk-serial {display: flex;flex-direction: column;align-items: center;background-color: white;padding-right: 0.2em;padding-left: 0.2em;position: relative;}#sk-container-id-10 div.sk-item {position: relative;z-index: 1;}#sk-container-id-10 div.sk-parallel {display: flex;align-items: stretch;justify-content: center;background-color: white;position: relative;}#sk-container-id-10 div.sk-item::before, #sk-container-id-10 div.sk-parallel-item::before {content: \"\";position: absolute;border-left: 1px solid gray;box-sizing: border-box;top: 0;bottom: 0;left: 50%;z-index: -1;}#sk-container-id-10 div.sk-parallel-item {display: flex;flex-direction: column;z-index: 1;position: relative;background-color: white;}#sk-container-id-10 div.sk-parallel-item:first-child::after {align-self: flex-end;width: 50%;}#sk-container-id-10 div.sk-parallel-item:last-child::after {align-self: flex-start;width: 50%;}#sk-container-id-10 div.sk-parallel-item:only-child::after {width: 0;}#sk-container-id-10 div.sk-dashed-wrapped {border: 1px dashed gray;margin: 0 0.4em 0.5em 0.4em;box-sizing: border-box;padding-bottom: 0.4em;background-color: white;}#sk-container-id-10 div.sk-label label {font-family: monospace;font-weight: bold;display: inline-block;line-height: 1.2em;}#sk-container-id-10 div.sk-label-container {text-align: center;}#sk-container-id-10 div.sk-container {/* jupyter's `normalize.less` sets `[hidden] { display: none; }` but bootstrap.min.css set `[hidden] { display: none !important; }` so we also need the `!important` here to be able to override the default hidden behavior on the sphinx rendered scikit-learn.org. See: https://github.com/scikit-learn/scikit-learn/issues/21755 */display: inline-block !important;position: relative;}#sk-container-id-10 div.sk-text-repr-fallback {display: none;}</style><div id=\"sk-container-id-10\" class=\"sk-top-container\"><div class=\"sk-text-repr-fallback\"><pre>Pipeline(steps=[(&#x27;preprocess&#x27;,\n",
       "                 ColumnTransformer(transformers=[(&#x27;cat&#x27;,\n",
       "                                                  OneHotEncoder(handle_unknown=&#x27;ignore&#x27;),\n",
       "                                                  [&#x27;B01&#x27;, &#x27;B02&#x27;, &#x27;B03&#x27;, &#x27;B04&#x27;,\n",
       "                                                   &#x27;B05&#x27;, &#x27;B06&#x27;, &#x27;B07&#x27;, &#x27;B08&#x27;,\n",
       "                                                   &#x27;B09&#x27;, &#x27;B10&#x27;, &#x27;B11&#x27;, &#x27;B12&#x27;,\n",
       "                                                   &#x27;B13&#x27;, &#x27;B14&#x27;, &#x27;B15&#x27;, &#x27;B16&#x27;,\n",
       "                                                   &#x27;B17&#x27;, &#x27;B18&#x27;, &#x27;B19&#x27;, &#x27;B20&#x27;,\n",
       "                                                   &#x27;B21&#x27;, &#x27;B22&#x27;, &#x27;B23&#x27;, &#x27;C01&#x27;,\n",
       "                                                   &#x27;C02&#x27;, &#x27;C03&#x27;, &#x27;C04&#x27;, &#x27;C05&#x27;,\n",
       "                                                   &#x27;C06&#x27;, &#x27;C07&#x27;, ...]),\n",
       "                                                 (&#x27;num&#x27;, SimpleImputer(), [])],\n",
       "                                   verbose_feature_names_out=False)),\n",
       "                (&#x27;classifier&#x27;,\n",
       "                 RandomForestClassifier(bootstrap=False, max_depth=70,\n",
       "                                        min_samples_leaf=2, min_samples_split=6,\n",
       "                                        n_estimators=400, random_state=42))])</pre><b>In a Jupyter environment, please rerun this cell to show the HTML representation or trust the notebook. <br />On GitHub, the HTML representation is unable to render, please try loading this page with nbviewer.org.</b></div><div class=\"sk-container\" hidden><div class=\"sk-item sk-dashed-wrapped\"><div class=\"sk-label-container\"><div class=\"sk-label sk-toggleable\"><input class=\"sk-toggleable__control sk-hidden--visually\" id=\"sk-estimator-id-68\" type=\"checkbox\" ><label for=\"sk-estimator-id-68\" class=\"sk-toggleable__label sk-toggleable__label-arrow\">Pipeline</label><div class=\"sk-toggleable__content\"><pre>Pipeline(steps=[(&#x27;preprocess&#x27;,\n",
       "                 ColumnTransformer(transformers=[(&#x27;cat&#x27;,\n",
       "                                                  OneHotEncoder(handle_unknown=&#x27;ignore&#x27;),\n",
       "                                                  [&#x27;B01&#x27;, &#x27;B02&#x27;, &#x27;B03&#x27;, &#x27;B04&#x27;,\n",
       "                                                   &#x27;B05&#x27;, &#x27;B06&#x27;, &#x27;B07&#x27;, &#x27;B08&#x27;,\n",
       "                                                   &#x27;B09&#x27;, &#x27;B10&#x27;, &#x27;B11&#x27;, &#x27;B12&#x27;,\n",
       "                                                   &#x27;B13&#x27;, &#x27;B14&#x27;, &#x27;B15&#x27;, &#x27;B16&#x27;,\n",
       "                                                   &#x27;B17&#x27;, &#x27;B18&#x27;, &#x27;B19&#x27;, &#x27;B20&#x27;,\n",
       "                                                   &#x27;B21&#x27;, &#x27;B22&#x27;, &#x27;B23&#x27;, &#x27;C01&#x27;,\n",
       "                                                   &#x27;C02&#x27;, &#x27;C03&#x27;, &#x27;C04&#x27;, &#x27;C05&#x27;,\n",
       "                                                   &#x27;C06&#x27;, &#x27;C07&#x27;, ...]),\n",
       "                                                 (&#x27;num&#x27;, SimpleImputer(), [])],\n",
       "                                   verbose_feature_names_out=False)),\n",
       "                (&#x27;classifier&#x27;,\n",
       "                 RandomForestClassifier(bootstrap=False, max_depth=70,\n",
       "                                        min_samples_leaf=2, min_samples_split=6,\n",
       "                                        n_estimators=400, random_state=42))])</pre></div></div></div><div class=\"sk-serial\"><div class=\"sk-item sk-dashed-wrapped\"><div class=\"sk-label-container\"><div class=\"sk-label sk-toggleable\"><input class=\"sk-toggleable__control sk-hidden--visually\" id=\"sk-estimator-id-69\" type=\"checkbox\" ><label for=\"sk-estimator-id-69\" class=\"sk-toggleable__label sk-toggleable__label-arrow\">preprocess: ColumnTransformer</label><div class=\"sk-toggleable__content\"><pre>ColumnTransformer(transformers=[(&#x27;cat&#x27;, OneHotEncoder(handle_unknown=&#x27;ignore&#x27;),\n",
       "                                 [&#x27;B01&#x27;, &#x27;B02&#x27;, &#x27;B03&#x27;, &#x27;B04&#x27;, &#x27;B05&#x27;, &#x27;B06&#x27;,\n",
       "                                  &#x27;B07&#x27;, &#x27;B08&#x27;, &#x27;B09&#x27;, &#x27;B10&#x27;, &#x27;B11&#x27;, &#x27;B12&#x27;,\n",
       "                                  &#x27;B13&#x27;, &#x27;B14&#x27;, &#x27;B15&#x27;, &#x27;B16&#x27;, &#x27;B17&#x27;, &#x27;B18&#x27;,\n",
       "                                  &#x27;B19&#x27;, &#x27;B20&#x27;, &#x27;B21&#x27;, &#x27;B22&#x27;, &#x27;B23&#x27;, &#x27;C01&#x27;,\n",
       "                                  &#x27;C02&#x27;, &#x27;C03&#x27;, &#x27;C04&#x27;, &#x27;C05&#x27;, &#x27;C06&#x27;, &#x27;C07&#x27;, ...]),\n",
       "                                (&#x27;num&#x27;, SimpleImputer(), [])],\n",
       "                  verbose_feature_names_out=False)</pre></div></div></div><div class=\"sk-parallel\"><div class=\"sk-parallel-item\"><div class=\"sk-item\"><div class=\"sk-label-container\"><div class=\"sk-label sk-toggleable\"><input class=\"sk-toggleable__control sk-hidden--visually\" id=\"sk-estimator-id-70\" type=\"checkbox\" ><label for=\"sk-estimator-id-70\" class=\"sk-toggleable__label sk-toggleable__label-arrow\">cat</label><div class=\"sk-toggleable__content\"><pre>[&#x27;B01&#x27;, &#x27;B02&#x27;, &#x27;B03&#x27;, &#x27;B04&#x27;, &#x27;B05&#x27;, &#x27;B06&#x27;, &#x27;B07&#x27;, &#x27;B08&#x27;, &#x27;B09&#x27;, &#x27;B10&#x27;, &#x27;B11&#x27;, &#x27;B12&#x27;, &#x27;B13&#x27;, &#x27;B14&#x27;, &#x27;B15&#x27;, &#x27;B16&#x27;, &#x27;B17&#x27;, &#x27;B18&#x27;, &#x27;B19&#x27;, &#x27;B20&#x27;, &#x27;B21&#x27;, &#x27;B22&#x27;, &#x27;B23&#x27;, &#x27;C01&#x27;, &#x27;C02&#x27;, &#x27;C03&#x27;, &#x27;C04&#x27;, &#x27;C05&#x27;, &#x27;C06&#x27;, &#x27;C07&#x27;, &#x27;F01&#x27;, &#x27;F02&#x27;, &#x27;F03&#x27;, &#x27;F04&#x27;, &#x27;F05&#x27;, &#x27;F06&#x27;, &#x27;F07&#x27;, &#x27;F08&#x27;, &#x27;F09&#x27;, &#x27;F10&#x27;, &#x27;F11&#x27;, &#x27;F12&#x27;, &#x27;F13&#x27;, &#x27;F14&#x27;, &#x27;F15&#x27;, &#x27;F16&#x27;, &#x27;F17&#x27;, &#x27;F18&#x27;, &#x27;F19&#x27;, &#x27;F20&#x27;, &#x27;F21&#x27;, &#x27;F22&#x27;, &#x27;F23&#x27;, &#x27;F24&#x27;, &#x27;F25&#x27;, &#x27;F26&#x27;, &#x27;F27&#x27;, &#x27;G01&#x27;, &#x27;G02&#x27;, &#x27;G03&#x27;, &#x27;G04&#x27;, &#x27;G05&#x27;, &#x27;G06&#x27;, &#x27;G07&#x27;, &#x27;G08&#x27;, &#x27;G09&#x27;, &#x27;G10&#x27;, &#x27;G11&#x27;, &#x27;H01&#x27;, &#x27;H02&#x27;, &#x27;H03&#x27;, &#x27;H04&#x27;, &#x27;H05&#x27;, &#x27;H06&#x27;, &#x27;H07&#x27;, &#x27;H08&#x27;, &#x27;H09&#x27;, &#x27;H10&#x27;, &#x27;H11&#x27;, &#x27;H12&#x27;, &#x27;H13&#x27;, &#x27;H14&#x27;, &#x27;H15&#x27;, &#x27;H16&#x27;, &#x27;H17&#x27;, &#x27;J01&#x27;, &#x27;J02&#x27;, &#x27;J03&#x27;, &#x27;J04&#x27;, &#x27;J05&#x27;, &#x27;J06&#x27;, &#x27;J07&#x27;, &#x27;J08&#x27;, &#x27;J09&#x27;, &#x27;J10&#x27;, &#x27;J11&#x27;, &#x27;J12&#x27;, &#x27;K01&#x27;, &#x27;K02&#x27;, &#x27;K03&#x27;, &#x27;K04&#x27;, &#x27;K05&#x27;, &#x27;K06&#x27;, &#x27;K07&#x27;, &#x27;K08&#x27;, &#x27;K09&#x27;, &#x27;K10&#x27;, &#x27;K11&#x27;, &#x27;K12&#x27;, &#x27;K13&#x27;, &#x27;K14&#x27;, &#x27;K15&#x27;, &#x27;K16&#x27;, &#x27;K17&#x27;, &#x27;K18&#x27;, &#x27;L01&#x27;, &#x27;L02&#x27;, &#x27;L03&#x27;, &#x27;L04&#x27;, &#x27;L05&#x27;, &#x27;L06&#x27;, &#x27;M01&#x27;, &#x27;M02&#x27;, &#x27;M03&#x27;, &#x27;M04&#x27;, &#x27;M05&#x27;, &#x27;M06&#x27;, &#x27;M07&#x27;, &#x27;M08&#x27;, &#x27;M09&#x27;, &#x27;M10&#x27;, &#x27;M11&#x27;, &#x27;M12&#x27;, &#x27;M13&#x27;, &#x27;M14&#x27;, &#x27;M15&#x27;, &#x27;M16&#x27;, &#x27;M17&#x27;, &#x27;M18&#x27;, &#x27;M19&#x27;, &#x27;M20&#x27;, &#x27;N01&#x27;, &#x27;N02&#x27;, &#x27;N03&#x27;, &#x27;N04&#x27;, &#x27;N05&#x27;, &#x27;N06&#x27;, &#x27;N07&#x27;, &#x27;N08&#x27;, &#x27;P01&#x27;, &#x27;P02&#x27;, &#x27;P03&#x27;, &#x27;P04&#x27;, &#x27;P05&#x27;, &#x27;P06&#x27;, &#x27;P07&#x27;, &#x27;P08&#x27;, &#x27;P09&#x27;, &#x27;P10&#x27;, &#x27;P11&#x27;, &#x27;P12&#x27;, &#x27;P13&#x27;, &#x27;P14&#x27;, &#x27;P15&#x27;, &#x27;P16&#x27;, &#x27;P17&#x27;, &#x27;P18&#x27;, &#x27;P19&#x27;, &#x27;P20&#x27;, &#x27;P21&#x27;, &#x27;P22&#x27;, &#x27;P23&#x27;, &#x27;P24&#x27;, &#x27;P25&#x27;, &#x27;P26&#x27;, &#x27;P27&#x27;, &#x27;P28&#x27;, &#x27;P29&#x27;, &#x27;Q01&#x27;, &#x27;Q02&#x27;, &#x27;Q03&#x27;, &#x27;Q04&#x27;, &#x27;Q05&#x27;, &#x27;Q06&#x27;, &#x27;Q07&#x27;, &#x27;Q08&#x27;, &#x27;R01&#x27;, &#x27;R02&#x27;, &#x27;R03&#x27;, &#x27;R04&#x27;, &#x27;R05&#x27;, &#x27;R06&#x27;, &#x27;R07&#x27;, &#x27;R08&#x27;, &#x27;R09&#x27;, &#x27;R10&#x27;, &#x27;R11&#x27;, &#x27;R12&#x27;, &#x27;R13&#x27;, &#x27;R14&#x27;, &#x27;R15&#x27;, &#x27;R16&#x27;, &#x27;R17&#x27;, &#x27;R18&#x27;]</pre></div></div></div><div class=\"sk-serial\"><div class=\"sk-item\"><div class=\"sk-estimator sk-toggleable\"><input class=\"sk-toggleable__control sk-hidden--visually\" id=\"sk-estimator-id-71\" type=\"checkbox\" ><label for=\"sk-estimator-id-71\" class=\"sk-toggleable__label sk-toggleable__label-arrow\">OneHotEncoder</label><div class=\"sk-toggleable__content\"><pre>OneHotEncoder(handle_unknown=&#x27;ignore&#x27;)</pre></div></div></div></div></div></div><div class=\"sk-parallel-item\"><div class=\"sk-item\"><div class=\"sk-label-container\"><div class=\"sk-label sk-toggleable\"><input class=\"sk-toggleable__control sk-hidden--visually\" id=\"sk-estimator-id-72\" type=\"checkbox\" ><label for=\"sk-estimator-id-72\" class=\"sk-toggleable__label sk-toggleable__label-arrow\">num</label><div class=\"sk-toggleable__content\"><pre>[]</pre></div></div></div><div class=\"sk-serial\"><div class=\"sk-item\"><div class=\"sk-estimator sk-toggleable\"><input class=\"sk-toggleable__control sk-hidden--visually\" id=\"sk-estimator-id-73\" type=\"checkbox\" ><label for=\"sk-estimator-id-73\" class=\"sk-toggleable__label sk-toggleable__label-arrow\">SimpleImputer</label><div class=\"sk-toggleable__content\"><pre>SimpleImputer()</pre></div></div></div></div></div></div></div></div><div class=\"sk-item\"><div class=\"sk-estimator sk-toggleable\"><input class=\"sk-toggleable__control sk-hidden--visually\" id=\"sk-estimator-id-74\" type=\"checkbox\" ><label for=\"sk-estimator-id-74\" class=\"sk-toggleable__label sk-toggleable__label-arrow\">RandomForestClassifier</label><div class=\"sk-toggleable__content\"><pre>RandomForestClassifier(bootstrap=False, max_depth=70, min_samples_leaf=2,\n",
       "                       min_samples_split=6, n_estimators=400, random_state=42)</pre></div></div></div></div></div></div></div>"
      ],
      "text/plain": [
       "Pipeline(steps=[('preprocess',\n",
       "                 ColumnTransformer(transformers=[('cat',\n",
       "                                                  OneHotEncoder(handle_unknown='ignore'),\n",
       "                                                  ['B01', 'B02', 'B03', 'B04',\n",
       "                                                   'B05', 'B06', 'B07', 'B08',\n",
       "                                                   'B09', 'B10', 'B11', 'B12',\n",
       "                                                   'B13', 'B14', 'B15', 'B16',\n",
       "                                                   'B17', 'B18', 'B19', 'B20',\n",
       "                                                   'B21', 'B22', 'B23', 'C01',\n",
       "                                                   'C02', 'C03', 'C04', 'C05',\n",
       "                                                   'C06', 'C07', ...]),\n",
       "                                                 ('num', SimpleImputer(), [])],\n",
       "                                   verbose_feature_names_out=False)),\n",
       "                ('classifier',\n",
       "                 RandomForestClassifier(bootstrap=False, max_depth=70,\n",
       "                                        min_samples_leaf=2, min_samples_split=6,\n",
       "                                        n_estimators=400, random_state=42))])"
      ]
     },
     "execution_count": 49,
     "metadata": {},
     "output_type": "execute_result"
    }
   ],
   "source": [
    "forest_pipe.set_params(classifier__n_estimators = gridsearch.best_params_['classifier__n_estimators'],\n",
    "                       classifier__criterion = gridsearch.best_params_['classifier__criterion'],\n",
    "                       classifier__max_depth = gridsearch.best_params_['classifier__max_depth'],\n",
    "                       classifier__min_samples_leaf = gridsearch.best_params_['classifier__min_samples_leaf'],\n",
    "                       classifier__min_samples_split = gridsearch.best_params_['classifier__min_samples_split'],\n",
    "                       classifier__bootstrap = gridsearch.best_params_['classifier__bootstrap'],\n",
    "                      )\n",
    "forest_pipe.fit(X_train, y_train)"
   ]
  },
  {
   "cell_type": "code",
   "execution_count": 50,
   "metadata": {},
   "outputs": [
    {
     "name": "stdout",
     "output_type": "stream",
     "text": [
      "Training data prediction accuracy:  0.9995610184372257\n",
      "CV train accuracy: 0.9655403258420474\n"
     ]
    }
   ],
   "source": [
    "#Getting predictions from pipeline using training data\n",
    "y_pred = forest_pipe.predict(X_train)\n",
    "#Checking accuracy of predictions\n",
    "print(f\"Training data prediction accuracy: \", accuracy_score(y_train, y_pred))\n",
    "\n",
    "#getting cross validation score for training data \n",
    "print(f\"CV train accuracy: {cross_val_score(forest_pipe, X_train, y_train, cv=5, scoring = 'accuracy').mean()}\")"
   ]
  },
  {
   "cell_type": "markdown",
   "metadata": {},
   "source": [
    "Slight improvement in both directions but the model is still clearly overfit. The RandomizedSearchCV suggested that the model preformed best with a max depth of 90 which is high. Because we are worried about overfitting we can try to prune our tree by decreasing the max depth"
   ]
  },
  {
   "cell_type": "markdown",
   "metadata": {},
   "source": [
    "# Hyperparameter Tuning Second Iteration"
   ]
  },
  {
   "cell_type": "code",
   "execution_count": 35,
   "metadata": {},
   "outputs": [
    {
     "data": {
      "text/html": [
       "<style>#sk-container-id-5 {color: black;background-color: white;}#sk-container-id-5 pre{padding: 0;}#sk-container-id-5 div.sk-toggleable {background-color: white;}#sk-container-id-5 label.sk-toggleable__label {cursor: pointer;display: block;width: 100%;margin-bottom: 0;padding: 0.3em;box-sizing: border-box;text-align: center;}#sk-container-id-5 label.sk-toggleable__label-arrow:before {content: \"▸\";float: left;margin-right: 0.25em;color: #696969;}#sk-container-id-5 label.sk-toggleable__label-arrow:hover:before {color: black;}#sk-container-id-5 div.sk-estimator:hover label.sk-toggleable__label-arrow:before {color: black;}#sk-container-id-5 div.sk-toggleable__content {max-height: 0;max-width: 0;overflow: hidden;text-align: left;background-color: #f0f8ff;}#sk-container-id-5 div.sk-toggleable__content pre {margin: 0.2em;color: black;border-radius: 0.25em;background-color: #f0f8ff;}#sk-container-id-5 input.sk-toggleable__control:checked~div.sk-toggleable__content {max-height: 200px;max-width: 100%;overflow: auto;}#sk-container-id-5 input.sk-toggleable__control:checked~label.sk-toggleable__label-arrow:before {content: \"▾\";}#sk-container-id-5 div.sk-estimator input.sk-toggleable__control:checked~label.sk-toggleable__label {background-color: #d4ebff;}#sk-container-id-5 div.sk-label input.sk-toggleable__control:checked~label.sk-toggleable__label {background-color: #d4ebff;}#sk-container-id-5 input.sk-hidden--visually {border: 0;clip: rect(1px 1px 1px 1px);clip: rect(1px, 1px, 1px, 1px);height: 1px;margin: -1px;overflow: hidden;padding: 0;position: absolute;width: 1px;}#sk-container-id-5 div.sk-estimator {font-family: monospace;background-color: #f0f8ff;border: 1px dotted black;border-radius: 0.25em;box-sizing: border-box;margin-bottom: 0.5em;}#sk-container-id-5 div.sk-estimator:hover {background-color: #d4ebff;}#sk-container-id-5 div.sk-parallel-item::after {content: \"\";width: 100%;border-bottom: 1px solid gray;flex-grow: 1;}#sk-container-id-5 div.sk-label:hover label.sk-toggleable__label {background-color: #d4ebff;}#sk-container-id-5 div.sk-serial::before {content: \"\";position: absolute;border-left: 1px solid gray;box-sizing: border-box;top: 0;bottom: 0;left: 50%;z-index: 0;}#sk-container-id-5 div.sk-serial {display: flex;flex-direction: column;align-items: center;background-color: white;padding-right: 0.2em;padding-left: 0.2em;position: relative;}#sk-container-id-5 div.sk-item {position: relative;z-index: 1;}#sk-container-id-5 div.sk-parallel {display: flex;align-items: stretch;justify-content: center;background-color: white;position: relative;}#sk-container-id-5 div.sk-item::before, #sk-container-id-5 div.sk-parallel-item::before {content: \"\";position: absolute;border-left: 1px solid gray;box-sizing: border-box;top: 0;bottom: 0;left: 50%;z-index: -1;}#sk-container-id-5 div.sk-parallel-item {display: flex;flex-direction: column;z-index: 1;position: relative;background-color: white;}#sk-container-id-5 div.sk-parallel-item:first-child::after {align-self: flex-end;width: 50%;}#sk-container-id-5 div.sk-parallel-item:last-child::after {align-self: flex-start;width: 50%;}#sk-container-id-5 div.sk-parallel-item:only-child::after {width: 0;}#sk-container-id-5 div.sk-dashed-wrapped {border: 1px dashed gray;margin: 0 0.4em 0.5em 0.4em;box-sizing: border-box;padding-bottom: 0.4em;background-color: white;}#sk-container-id-5 div.sk-label label {font-family: monospace;font-weight: bold;display: inline-block;line-height: 1.2em;}#sk-container-id-5 div.sk-label-container {text-align: center;}#sk-container-id-5 div.sk-container {/* jupyter's `normalize.less` sets `[hidden] { display: none; }` but bootstrap.min.css set `[hidden] { display: none !important; }` so we also need the `!important` here to be able to override the default hidden behavior on the sphinx rendered scikit-learn.org. See: https://github.com/scikit-learn/scikit-learn/issues/21755 */display: inline-block !important;position: relative;}#sk-container-id-5 div.sk-text-repr-fallback {display: none;}</style><div id=\"sk-container-id-5\" class=\"sk-top-container\"><div class=\"sk-text-repr-fallback\"><pre>GridSearchCV(cv=5,\n",
       "             estimator=Pipeline(steps=[(&#x27;preprocess&#x27;,\n",
       "                                        ColumnTransformer(transformers=[(&#x27;cat&#x27;,\n",
       "                                                                         OneHotEncoder(handle_unknown=&#x27;ignore&#x27;),\n",
       "                                                                         [&#x27;B01&#x27;,\n",
       "                                                                          &#x27;B02&#x27;,\n",
       "                                                                          &#x27;B03&#x27;,\n",
       "                                                                          &#x27;B04&#x27;,\n",
       "                                                                          &#x27;B05&#x27;,\n",
       "                                                                          &#x27;B06&#x27;,\n",
       "                                                                          &#x27;B07&#x27;,\n",
       "                                                                          &#x27;B08&#x27;,\n",
       "                                                                          &#x27;B09&#x27;,\n",
       "                                                                          &#x27;B10&#x27;,\n",
       "                                                                          &#x27;B11&#x27;,\n",
       "                                                                          &#x27;B12&#x27;,\n",
       "                                                                          &#x27;B13&#x27;,\n",
       "                                                                          &#x27;B14&#x27;,\n",
       "                                                                          &#x27;B15&#x27;,\n",
       "                                                                          &#x27;B16&#x27;,\n",
       "                                                                          &#x27;B17&#x27;,\n",
       "                                                                          &#x27;B18&#x27;,\n",
       "                                                                          &#x27;B19&#x27;,\n",
       "                                                                          &#x27;B20&#x27;,\n",
       "                                                                          &#x27;B21&#x27;,\n",
       "                                                                          &#x27;B22&#x27;,\n",
       "                                                                          &#x27;B23&#x27;,\n",
       "                                                                          &#x27;C01&#x27;,\n",
       "                                                                          &#x27;C02&#x27;,\n",
       "                                                                          &#x27;C03&#x27;,\n",
       "                                                                          &#x27;C04&#x27;,\n",
       "                                                                          &#x27;C05&#x27;,\n",
       "                                                                          &#x27;C06&#x27;,\n",
       "                                                                          &#x27;C07&#x27;, ...]),\n",
       "                                                                        (&#x27;num&#x27;,\n",
       "                                                                         SimpleImputer(),\n",
       "                                                                         [])],\n",
       "                                                          verbose_feature_names_out=False)),\n",
       "                                       (&#x27;classifier&#x27;,\n",
       "                                        RandomForestClassifier(random_state=42))]),\n",
       "             n_jobs=3,\n",
       "             param_grid={&#x27;classifier__bootstrap&#x27;: [True, False],\n",
       "                         &#x27;classifier__criterion&#x27;: [&#x27;gini&#x27;, &#x27;entropy&#x27;,\n",
       "                                                   &#x27;log_loss&#x27;],\n",
       "                         &#x27;classifier__max_depth&#x27;: [4, 6, 8, 10, 12, 14],\n",
       "                         &#x27;classifier__n_estimators&#x27;: [50, 100, 150, 200]},\n",
       "             scoring=&#x27;accuracy&#x27;)</pre><b>In a Jupyter environment, please rerun this cell to show the HTML representation or trust the notebook. <br />On GitHub, the HTML representation is unable to render, please try loading this page with nbviewer.org.</b></div><div class=\"sk-container\" hidden><div class=\"sk-item sk-dashed-wrapped\"><div class=\"sk-label-container\"><div class=\"sk-label sk-toggleable\"><input class=\"sk-toggleable__control sk-hidden--visually\" id=\"sk-estimator-id-30\" type=\"checkbox\" ><label for=\"sk-estimator-id-30\" class=\"sk-toggleable__label sk-toggleable__label-arrow\">GridSearchCV</label><div class=\"sk-toggleable__content\"><pre>GridSearchCV(cv=5,\n",
       "             estimator=Pipeline(steps=[(&#x27;preprocess&#x27;,\n",
       "                                        ColumnTransformer(transformers=[(&#x27;cat&#x27;,\n",
       "                                                                         OneHotEncoder(handle_unknown=&#x27;ignore&#x27;),\n",
       "                                                                         [&#x27;B01&#x27;,\n",
       "                                                                          &#x27;B02&#x27;,\n",
       "                                                                          &#x27;B03&#x27;,\n",
       "                                                                          &#x27;B04&#x27;,\n",
       "                                                                          &#x27;B05&#x27;,\n",
       "                                                                          &#x27;B06&#x27;,\n",
       "                                                                          &#x27;B07&#x27;,\n",
       "                                                                          &#x27;B08&#x27;,\n",
       "                                                                          &#x27;B09&#x27;,\n",
       "                                                                          &#x27;B10&#x27;,\n",
       "                                                                          &#x27;B11&#x27;,\n",
       "                                                                          &#x27;B12&#x27;,\n",
       "                                                                          &#x27;B13&#x27;,\n",
       "                                                                          &#x27;B14&#x27;,\n",
       "                                                                          &#x27;B15&#x27;,\n",
       "                                                                          &#x27;B16&#x27;,\n",
       "                                                                          &#x27;B17&#x27;,\n",
       "                                                                          &#x27;B18&#x27;,\n",
       "                                                                          &#x27;B19&#x27;,\n",
       "                                                                          &#x27;B20&#x27;,\n",
       "                                                                          &#x27;B21&#x27;,\n",
       "                                                                          &#x27;B22&#x27;,\n",
       "                                                                          &#x27;B23&#x27;,\n",
       "                                                                          &#x27;C01&#x27;,\n",
       "                                                                          &#x27;C02&#x27;,\n",
       "                                                                          &#x27;C03&#x27;,\n",
       "                                                                          &#x27;C04&#x27;,\n",
       "                                                                          &#x27;C05&#x27;,\n",
       "                                                                          &#x27;C06&#x27;,\n",
       "                                                                          &#x27;C07&#x27;, ...]),\n",
       "                                                                        (&#x27;num&#x27;,\n",
       "                                                                         SimpleImputer(),\n",
       "                                                                         [])],\n",
       "                                                          verbose_feature_names_out=False)),\n",
       "                                       (&#x27;classifier&#x27;,\n",
       "                                        RandomForestClassifier(random_state=42))]),\n",
       "             n_jobs=3,\n",
       "             param_grid={&#x27;classifier__bootstrap&#x27;: [True, False],\n",
       "                         &#x27;classifier__criterion&#x27;: [&#x27;gini&#x27;, &#x27;entropy&#x27;,\n",
       "                                                   &#x27;log_loss&#x27;],\n",
       "                         &#x27;classifier__max_depth&#x27;: [4, 6, 8, 10, 12, 14],\n",
       "                         &#x27;classifier__n_estimators&#x27;: [50, 100, 150, 200]},\n",
       "             scoring=&#x27;accuracy&#x27;)</pre></div></div></div><div class=\"sk-parallel\"><div class=\"sk-parallel-item\"><div class=\"sk-item\"><div class=\"sk-label-container\"><div class=\"sk-label sk-toggleable\"><input class=\"sk-toggleable__control sk-hidden--visually\" id=\"sk-estimator-id-31\" type=\"checkbox\" ><label for=\"sk-estimator-id-31\" class=\"sk-toggleable__label sk-toggleable__label-arrow\">estimator: Pipeline</label><div class=\"sk-toggleable__content\"><pre>Pipeline(steps=[(&#x27;preprocess&#x27;,\n",
       "                 ColumnTransformer(transformers=[(&#x27;cat&#x27;,\n",
       "                                                  OneHotEncoder(handle_unknown=&#x27;ignore&#x27;),\n",
       "                                                  [&#x27;B01&#x27;, &#x27;B02&#x27;, &#x27;B03&#x27;, &#x27;B04&#x27;,\n",
       "                                                   &#x27;B05&#x27;, &#x27;B06&#x27;, &#x27;B07&#x27;, &#x27;B08&#x27;,\n",
       "                                                   &#x27;B09&#x27;, &#x27;B10&#x27;, &#x27;B11&#x27;, &#x27;B12&#x27;,\n",
       "                                                   &#x27;B13&#x27;, &#x27;B14&#x27;, &#x27;B15&#x27;, &#x27;B16&#x27;,\n",
       "                                                   &#x27;B17&#x27;, &#x27;B18&#x27;, &#x27;B19&#x27;, &#x27;B20&#x27;,\n",
       "                                                   &#x27;B21&#x27;, &#x27;B22&#x27;, &#x27;B23&#x27;, &#x27;C01&#x27;,\n",
       "                                                   &#x27;C02&#x27;, &#x27;C03&#x27;, &#x27;C04&#x27;, &#x27;C05&#x27;,\n",
       "                                                   &#x27;C06&#x27;, &#x27;C07&#x27;, ...]),\n",
       "                                                 (&#x27;num&#x27;, SimpleImputer(), [])],\n",
       "                                   verbose_feature_names_out=False)),\n",
       "                (&#x27;classifier&#x27;, RandomForestClassifier(random_state=42))])</pre></div></div></div><div class=\"sk-serial\"><div class=\"sk-item\"><div class=\"sk-serial\"><div class=\"sk-item sk-dashed-wrapped\"><div class=\"sk-label-container\"><div class=\"sk-label sk-toggleable\"><input class=\"sk-toggleable__control sk-hidden--visually\" id=\"sk-estimator-id-32\" type=\"checkbox\" ><label for=\"sk-estimator-id-32\" class=\"sk-toggleable__label sk-toggleable__label-arrow\">preprocess: ColumnTransformer</label><div class=\"sk-toggleable__content\"><pre>ColumnTransformer(transformers=[(&#x27;cat&#x27;, OneHotEncoder(handle_unknown=&#x27;ignore&#x27;),\n",
       "                                 [&#x27;B01&#x27;, &#x27;B02&#x27;, &#x27;B03&#x27;, &#x27;B04&#x27;, &#x27;B05&#x27;, &#x27;B06&#x27;,\n",
       "                                  &#x27;B07&#x27;, &#x27;B08&#x27;, &#x27;B09&#x27;, &#x27;B10&#x27;, &#x27;B11&#x27;, &#x27;B12&#x27;,\n",
       "                                  &#x27;B13&#x27;, &#x27;B14&#x27;, &#x27;B15&#x27;, &#x27;B16&#x27;, &#x27;B17&#x27;, &#x27;B18&#x27;,\n",
       "                                  &#x27;B19&#x27;, &#x27;B20&#x27;, &#x27;B21&#x27;, &#x27;B22&#x27;, &#x27;B23&#x27;, &#x27;C01&#x27;,\n",
       "                                  &#x27;C02&#x27;, &#x27;C03&#x27;, &#x27;C04&#x27;, &#x27;C05&#x27;, &#x27;C06&#x27;, &#x27;C07&#x27;, ...]),\n",
       "                                (&#x27;num&#x27;, SimpleImputer(), [])],\n",
       "                  verbose_feature_names_out=False)</pre></div></div></div><div class=\"sk-parallel\"><div class=\"sk-parallel-item\"><div class=\"sk-item\"><div class=\"sk-label-container\"><div class=\"sk-label sk-toggleable\"><input class=\"sk-toggleable__control sk-hidden--visually\" id=\"sk-estimator-id-33\" type=\"checkbox\" ><label for=\"sk-estimator-id-33\" class=\"sk-toggleable__label sk-toggleable__label-arrow\">cat</label><div class=\"sk-toggleable__content\"><pre>[&#x27;B01&#x27;, &#x27;B02&#x27;, &#x27;B03&#x27;, &#x27;B04&#x27;, &#x27;B05&#x27;, &#x27;B06&#x27;, &#x27;B07&#x27;, &#x27;B08&#x27;, &#x27;B09&#x27;, &#x27;B10&#x27;, &#x27;B11&#x27;, &#x27;B12&#x27;, &#x27;B13&#x27;, &#x27;B14&#x27;, &#x27;B15&#x27;, &#x27;B16&#x27;, &#x27;B17&#x27;, &#x27;B18&#x27;, &#x27;B19&#x27;, &#x27;B20&#x27;, &#x27;B21&#x27;, &#x27;B22&#x27;, &#x27;B23&#x27;, &#x27;C01&#x27;, &#x27;C02&#x27;, &#x27;C03&#x27;, &#x27;C04&#x27;, &#x27;C05&#x27;, &#x27;C06&#x27;, &#x27;C07&#x27;, &#x27;F01&#x27;, &#x27;F02&#x27;, &#x27;F03&#x27;, &#x27;F04&#x27;, &#x27;F05&#x27;, &#x27;F06&#x27;, &#x27;F07&#x27;, &#x27;F08&#x27;, &#x27;F09&#x27;, &#x27;F10&#x27;, &#x27;F11&#x27;, &#x27;F12&#x27;, &#x27;F13&#x27;, &#x27;F14&#x27;, &#x27;F15&#x27;, &#x27;F16&#x27;, &#x27;F17&#x27;, &#x27;F18&#x27;, &#x27;F19&#x27;, &#x27;F20&#x27;, &#x27;F21&#x27;, &#x27;F22&#x27;, &#x27;F23&#x27;, &#x27;F24&#x27;, &#x27;F25&#x27;, &#x27;F26&#x27;, &#x27;F27&#x27;, &#x27;G01&#x27;, &#x27;G02&#x27;, &#x27;G03&#x27;, &#x27;G04&#x27;, &#x27;G05&#x27;, &#x27;G06&#x27;, &#x27;G07&#x27;, &#x27;G08&#x27;, &#x27;G09&#x27;, &#x27;G10&#x27;, &#x27;G11&#x27;, &#x27;H01&#x27;, &#x27;H02&#x27;, &#x27;H03&#x27;, &#x27;H04&#x27;, &#x27;H05&#x27;, &#x27;H06&#x27;, &#x27;H07&#x27;, &#x27;H08&#x27;, &#x27;H09&#x27;, &#x27;H10&#x27;, &#x27;H11&#x27;, &#x27;H12&#x27;, &#x27;H13&#x27;, &#x27;H14&#x27;, &#x27;H15&#x27;, &#x27;H16&#x27;, &#x27;H17&#x27;, &#x27;J01&#x27;, &#x27;J02&#x27;, &#x27;J03&#x27;, &#x27;J04&#x27;, &#x27;J05&#x27;, &#x27;J06&#x27;, &#x27;J07&#x27;, &#x27;J08&#x27;, &#x27;J09&#x27;, &#x27;J10&#x27;, &#x27;J11&#x27;, &#x27;J12&#x27;, &#x27;K01&#x27;, &#x27;K02&#x27;, &#x27;K03&#x27;, &#x27;K04&#x27;, &#x27;K05&#x27;, &#x27;K06&#x27;, &#x27;K07&#x27;, &#x27;K08&#x27;, &#x27;K09&#x27;, &#x27;K10&#x27;, &#x27;K11&#x27;, &#x27;K12&#x27;, &#x27;K13&#x27;, &#x27;K14&#x27;, &#x27;K15&#x27;, &#x27;K16&#x27;, &#x27;K17&#x27;, &#x27;K18&#x27;, &#x27;L01&#x27;, &#x27;L02&#x27;, &#x27;L03&#x27;, &#x27;L04&#x27;, &#x27;L05&#x27;, &#x27;L06&#x27;, &#x27;M01&#x27;, &#x27;M02&#x27;, &#x27;M03&#x27;, &#x27;M04&#x27;, &#x27;M05&#x27;, &#x27;M06&#x27;, &#x27;M07&#x27;, &#x27;M08&#x27;, &#x27;M09&#x27;, &#x27;M10&#x27;, &#x27;M11&#x27;, &#x27;M12&#x27;, &#x27;M13&#x27;, &#x27;M14&#x27;, &#x27;M15&#x27;, &#x27;M16&#x27;, &#x27;M17&#x27;, &#x27;M18&#x27;, &#x27;M19&#x27;, &#x27;M20&#x27;, &#x27;N01&#x27;, &#x27;N02&#x27;, &#x27;N03&#x27;, &#x27;N04&#x27;, &#x27;N05&#x27;, &#x27;N06&#x27;, &#x27;N07&#x27;, &#x27;N08&#x27;, &#x27;P01&#x27;, &#x27;P02&#x27;, &#x27;P03&#x27;, &#x27;P04&#x27;, &#x27;P05&#x27;, &#x27;P06&#x27;, &#x27;P07&#x27;, &#x27;P08&#x27;, &#x27;P09&#x27;, &#x27;P10&#x27;, &#x27;P11&#x27;, &#x27;P12&#x27;, &#x27;P13&#x27;, &#x27;P14&#x27;, &#x27;P15&#x27;, &#x27;P16&#x27;, &#x27;P17&#x27;, &#x27;P18&#x27;, &#x27;P19&#x27;, &#x27;P20&#x27;, &#x27;P21&#x27;, &#x27;P22&#x27;, &#x27;P23&#x27;, &#x27;P24&#x27;, &#x27;P25&#x27;, &#x27;P26&#x27;, &#x27;P27&#x27;, &#x27;P28&#x27;, &#x27;P29&#x27;, &#x27;Q01&#x27;, &#x27;Q02&#x27;, &#x27;Q03&#x27;, &#x27;Q04&#x27;, &#x27;Q05&#x27;, &#x27;Q06&#x27;, &#x27;Q07&#x27;, &#x27;Q08&#x27;, &#x27;R01&#x27;, &#x27;R02&#x27;, &#x27;R03&#x27;, &#x27;R04&#x27;, &#x27;R05&#x27;, &#x27;R06&#x27;, &#x27;R07&#x27;, &#x27;R08&#x27;, &#x27;R09&#x27;, &#x27;R10&#x27;, &#x27;R11&#x27;, &#x27;R12&#x27;, &#x27;R13&#x27;, &#x27;R14&#x27;, &#x27;R15&#x27;, &#x27;R16&#x27;, &#x27;R17&#x27;, &#x27;R18&#x27;]</pre></div></div></div><div class=\"sk-serial\"><div class=\"sk-item\"><div class=\"sk-estimator sk-toggleable\"><input class=\"sk-toggleable__control sk-hidden--visually\" id=\"sk-estimator-id-34\" type=\"checkbox\" ><label for=\"sk-estimator-id-34\" class=\"sk-toggleable__label sk-toggleable__label-arrow\">OneHotEncoder</label><div class=\"sk-toggleable__content\"><pre>OneHotEncoder(handle_unknown=&#x27;ignore&#x27;)</pre></div></div></div></div></div></div><div class=\"sk-parallel-item\"><div class=\"sk-item\"><div class=\"sk-label-container\"><div class=\"sk-label sk-toggleable\"><input class=\"sk-toggleable__control sk-hidden--visually\" id=\"sk-estimator-id-35\" type=\"checkbox\" ><label for=\"sk-estimator-id-35\" class=\"sk-toggleable__label sk-toggleable__label-arrow\">num</label><div class=\"sk-toggleable__content\"><pre>[]</pre></div></div></div><div class=\"sk-serial\"><div class=\"sk-item\"><div class=\"sk-estimator sk-toggleable\"><input class=\"sk-toggleable__control sk-hidden--visually\" id=\"sk-estimator-id-36\" type=\"checkbox\" ><label for=\"sk-estimator-id-36\" class=\"sk-toggleable__label sk-toggleable__label-arrow\">SimpleImputer</label><div class=\"sk-toggleable__content\"><pre>SimpleImputer()</pre></div></div></div></div></div></div></div></div><div class=\"sk-item\"><div class=\"sk-estimator sk-toggleable\"><input class=\"sk-toggleable__control sk-hidden--visually\" id=\"sk-estimator-id-37\" type=\"checkbox\" ><label for=\"sk-estimator-id-37\" class=\"sk-toggleable__label sk-toggleable__label-arrow\">RandomForestClassifier</label><div class=\"sk-toggleable__content\"><pre>RandomForestClassifier(random_state=42)</pre></div></div></div></div></div></div></div></div></div></div></div></div>"
      ],
      "text/plain": [
       "GridSearchCV(cv=5,\n",
       "             estimator=Pipeline(steps=[('preprocess',\n",
       "                                        ColumnTransformer(transformers=[('cat',\n",
       "                                                                         OneHotEncoder(handle_unknown='ignore'),\n",
       "                                                                         ['B01',\n",
       "                                                                          'B02',\n",
       "                                                                          'B03',\n",
       "                                                                          'B04',\n",
       "                                                                          'B05',\n",
       "                                                                          'B06',\n",
       "                                                                          'B07',\n",
       "                                                                          'B08',\n",
       "                                                                          'B09',\n",
       "                                                                          'B10',\n",
       "                                                                          'B11',\n",
       "                                                                          'B12',\n",
       "                                                                          'B13',\n",
       "                                                                          'B14',\n",
       "                                                                          'B15',\n",
       "                                                                          'B16',\n",
       "                                                                          'B17',\n",
       "                                                                          'B18',\n",
       "                                                                          'B19',\n",
       "                                                                          'B20',\n",
       "                                                                          'B21',\n",
       "                                                                          'B22',\n",
       "                                                                          'B23',\n",
       "                                                                          'C01',\n",
       "                                                                          'C02',\n",
       "                                                                          'C03',\n",
       "                                                                          'C04',\n",
       "                                                                          'C05',\n",
       "                                                                          'C06',\n",
       "                                                                          'C07', ...]),\n",
       "                                                                        ('num',\n",
       "                                                                         SimpleImputer(),\n",
       "                                                                         [])],\n",
       "                                                          verbose_feature_names_out=False)),\n",
       "                                       ('classifier',\n",
       "                                        RandomForestClassifier(random_state=42))]),\n",
       "             n_jobs=3,\n",
       "             param_grid={'classifier__bootstrap': [True, False],\n",
       "                         'classifier__criterion': ['gini', 'entropy',\n",
       "                                                   'log_loss'],\n",
       "                         'classifier__max_depth': [4, 6, 8, 10, 12, 14],\n",
       "                         'classifier__n_estimators': [50, 100, 150, 200]},\n",
       "             scoring='accuracy')"
      ]
     },
     "execution_count": 35,
     "metadata": {},
     "output_type": "execute_result"
    }
   ],
   "source": [
    "param_grid = {'classifier__n_estimators': [50, 100, 150, 200],\n",
    "              'classifier__criterion': ['gini', 'entropy', 'log_loss'],               \n",
    "              'classifier__max_depth': [4, 6, 8, 10, 12, 14],\n",
    "              'classifier__bootstrap': [True, False]\n",
    "             }\n",
    "\n",
    "gridsearch = GridSearchCV(estimator=forest_pipe,\n",
    "                          param_grid=param_grid,\n",
    "                          scoring='accuracy',\n",
    "                          cv=5,\n",
    "                          n_jobs = 3\n",
    "                         )\n",
    "# Fit the training data\n",
    "gridsearch.fit(X_train, y_train)\n",
    "# Print the accuracy on test set\n"
   ]
  },
  {
   "cell_type": "code",
   "execution_count": 46,
   "metadata": {},
   "outputs": [
    {
     "name": "stdout",
     "output_type": "stream",
     "text": [
      "Gridsearch score:  0.9877085162423178\n",
      "Gridsearch best params: \n",
      "{'classifier__bootstrap': False,\n",
      " 'classifier__criterion': 'entropy',\n",
      " 'classifier__max_depth': 8,\n",
      " 'classifier__n_estimators': 125}\n"
     ]
    }
   ],
   "source": [
    "print(f\"Gridsearch score: \", gridsearch.score(X_train, y_train))\n",
    "print(f\"Gridsearch best params: \")\n",
    "pprint(gridsearch.best_params_)"
   ]
  },
  {
   "cell_type": "markdown",
   "metadata": {},
   "source": [
    "### Results\n",
    "\n",
    "Gridsearch score:  0.9877085162423178\n",
    "\n",
    "Gridsearch best params: \n",
    "- 'classifier__bootstrap': False\n",
    "- 'classifier__criterion': 'entropy'\n",
    "- 'classifier__max_depth': 8\n",
    "- 'classifier__n_estimators': 125"
   ]
  },
  {
   "cell_type": "code",
   "execution_count": 38,
   "metadata": {},
   "outputs": [
    {
     "data": {
      "text/html": [
       "<style>#sk-container-id-6 {color: black;background-color: white;}#sk-container-id-6 pre{padding: 0;}#sk-container-id-6 div.sk-toggleable {background-color: white;}#sk-container-id-6 label.sk-toggleable__label {cursor: pointer;display: block;width: 100%;margin-bottom: 0;padding: 0.3em;box-sizing: border-box;text-align: center;}#sk-container-id-6 label.sk-toggleable__label-arrow:before {content: \"▸\";float: left;margin-right: 0.25em;color: #696969;}#sk-container-id-6 label.sk-toggleable__label-arrow:hover:before {color: black;}#sk-container-id-6 div.sk-estimator:hover label.sk-toggleable__label-arrow:before {color: black;}#sk-container-id-6 div.sk-toggleable__content {max-height: 0;max-width: 0;overflow: hidden;text-align: left;background-color: #f0f8ff;}#sk-container-id-6 div.sk-toggleable__content pre {margin: 0.2em;color: black;border-radius: 0.25em;background-color: #f0f8ff;}#sk-container-id-6 input.sk-toggleable__control:checked~div.sk-toggleable__content {max-height: 200px;max-width: 100%;overflow: auto;}#sk-container-id-6 input.sk-toggleable__control:checked~label.sk-toggleable__label-arrow:before {content: \"▾\";}#sk-container-id-6 div.sk-estimator input.sk-toggleable__control:checked~label.sk-toggleable__label {background-color: #d4ebff;}#sk-container-id-6 div.sk-label input.sk-toggleable__control:checked~label.sk-toggleable__label {background-color: #d4ebff;}#sk-container-id-6 input.sk-hidden--visually {border: 0;clip: rect(1px 1px 1px 1px);clip: rect(1px, 1px, 1px, 1px);height: 1px;margin: -1px;overflow: hidden;padding: 0;position: absolute;width: 1px;}#sk-container-id-6 div.sk-estimator {font-family: monospace;background-color: #f0f8ff;border: 1px dotted black;border-radius: 0.25em;box-sizing: border-box;margin-bottom: 0.5em;}#sk-container-id-6 div.sk-estimator:hover {background-color: #d4ebff;}#sk-container-id-6 div.sk-parallel-item::after {content: \"\";width: 100%;border-bottom: 1px solid gray;flex-grow: 1;}#sk-container-id-6 div.sk-label:hover label.sk-toggleable__label {background-color: #d4ebff;}#sk-container-id-6 div.sk-serial::before {content: \"\";position: absolute;border-left: 1px solid gray;box-sizing: border-box;top: 0;bottom: 0;left: 50%;z-index: 0;}#sk-container-id-6 div.sk-serial {display: flex;flex-direction: column;align-items: center;background-color: white;padding-right: 0.2em;padding-left: 0.2em;position: relative;}#sk-container-id-6 div.sk-item {position: relative;z-index: 1;}#sk-container-id-6 div.sk-parallel {display: flex;align-items: stretch;justify-content: center;background-color: white;position: relative;}#sk-container-id-6 div.sk-item::before, #sk-container-id-6 div.sk-parallel-item::before {content: \"\";position: absolute;border-left: 1px solid gray;box-sizing: border-box;top: 0;bottom: 0;left: 50%;z-index: -1;}#sk-container-id-6 div.sk-parallel-item {display: flex;flex-direction: column;z-index: 1;position: relative;background-color: white;}#sk-container-id-6 div.sk-parallel-item:first-child::after {align-self: flex-end;width: 50%;}#sk-container-id-6 div.sk-parallel-item:last-child::after {align-self: flex-start;width: 50%;}#sk-container-id-6 div.sk-parallel-item:only-child::after {width: 0;}#sk-container-id-6 div.sk-dashed-wrapped {border: 1px dashed gray;margin: 0 0.4em 0.5em 0.4em;box-sizing: border-box;padding-bottom: 0.4em;background-color: white;}#sk-container-id-6 div.sk-label label {font-family: monospace;font-weight: bold;display: inline-block;line-height: 1.2em;}#sk-container-id-6 div.sk-label-container {text-align: center;}#sk-container-id-6 div.sk-container {/* jupyter's `normalize.less` sets `[hidden] { display: none; }` but bootstrap.min.css set `[hidden] { display: none !important; }` so we also need the `!important` here to be able to override the default hidden behavior on the sphinx rendered scikit-learn.org. See: https://github.com/scikit-learn/scikit-learn/issues/21755 */display: inline-block !important;position: relative;}#sk-container-id-6 div.sk-text-repr-fallback {display: none;}</style><div id=\"sk-container-id-6\" class=\"sk-top-container\"><div class=\"sk-text-repr-fallback\"><pre>Pipeline(steps=[(&#x27;preprocess&#x27;,\n",
       "                 ColumnTransformer(transformers=[(&#x27;cat&#x27;,\n",
       "                                                  OneHotEncoder(handle_unknown=&#x27;ignore&#x27;),\n",
       "                                                  [&#x27;B01&#x27;, &#x27;B02&#x27;, &#x27;B03&#x27;, &#x27;B04&#x27;,\n",
       "                                                   &#x27;B05&#x27;, &#x27;B06&#x27;, &#x27;B07&#x27;, &#x27;B08&#x27;,\n",
       "                                                   &#x27;B09&#x27;, &#x27;B10&#x27;, &#x27;B11&#x27;, &#x27;B12&#x27;,\n",
       "                                                   &#x27;B13&#x27;, &#x27;B14&#x27;, &#x27;B15&#x27;, &#x27;B16&#x27;,\n",
       "                                                   &#x27;B17&#x27;, &#x27;B18&#x27;, &#x27;B19&#x27;, &#x27;B20&#x27;,\n",
       "                                                   &#x27;B21&#x27;, &#x27;B22&#x27;, &#x27;B23&#x27;, &#x27;C01&#x27;,\n",
       "                                                   &#x27;C02&#x27;, &#x27;C03&#x27;, &#x27;C04&#x27;, &#x27;C05&#x27;,\n",
       "                                                   &#x27;C06&#x27;, &#x27;C07&#x27;, ...]),\n",
       "                                                 (&#x27;num&#x27;, SimpleImputer(), [])],\n",
       "                                   verbose_feature_names_out=False)),\n",
       "                (&#x27;classifier&#x27;,\n",
       "                 RandomForestClassifier(max_depth=10, n_estimators=200,\n",
       "                                        random_state=42))])</pre><b>In a Jupyter environment, please rerun this cell to show the HTML representation or trust the notebook. <br />On GitHub, the HTML representation is unable to render, please try loading this page with nbviewer.org.</b></div><div class=\"sk-container\" hidden><div class=\"sk-item sk-dashed-wrapped\"><div class=\"sk-label-container\"><div class=\"sk-label sk-toggleable\"><input class=\"sk-toggleable__control sk-hidden--visually\" id=\"sk-estimator-id-38\" type=\"checkbox\" ><label for=\"sk-estimator-id-38\" class=\"sk-toggleable__label sk-toggleable__label-arrow\">Pipeline</label><div class=\"sk-toggleable__content\"><pre>Pipeline(steps=[(&#x27;preprocess&#x27;,\n",
       "                 ColumnTransformer(transformers=[(&#x27;cat&#x27;,\n",
       "                                                  OneHotEncoder(handle_unknown=&#x27;ignore&#x27;),\n",
       "                                                  [&#x27;B01&#x27;, &#x27;B02&#x27;, &#x27;B03&#x27;, &#x27;B04&#x27;,\n",
       "                                                   &#x27;B05&#x27;, &#x27;B06&#x27;, &#x27;B07&#x27;, &#x27;B08&#x27;,\n",
       "                                                   &#x27;B09&#x27;, &#x27;B10&#x27;, &#x27;B11&#x27;, &#x27;B12&#x27;,\n",
       "                                                   &#x27;B13&#x27;, &#x27;B14&#x27;, &#x27;B15&#x27;, &#x27;B16&#x27;,\n",
       "                                                   &#x27;B17&#x27;, &#x27;B18&#x27;, &#x27;B19&#x27;, &#x27;B20&#x27;,\n",
       "                                                   &#x27;B21&#x27;, &#x27;B22&#x27;, &#x27;B23&#x27;, &#x27;C01&#x27;,\n",
       "                                                   &#x27;C02&#x27;, &#x27;C03&#x27;, &#x27;C04&#x27;, &#x27;C05&#x27;,\n",
       "                                                   &#x27;C06&#x27;, &#x27;C07&#x27;, ...]),\n",
       "                                                 (&#x27;num&#x27;, SimpleImputer(), [])],\n",
       "                                   verbose_feature_names_out=False)),\n",
       "                (&#x27;classifier&#x27;,\n",
       "                 RandomForestClassifier(max_depth=10, n_estimators=200,\n",
       "                                        random_state=42))])</pre></div></div></div><div class=\"sk-serial\"><div class=\"sk-item sk-dashed-wrapped\"><div class=\"sk-label-container\"><div class=\"sk-label sk-toggleable\"><input class=\"sk-toggleable__control sk-hidden--visually\" id=\"sk-estimator-id-39\" type=\"checkbox\" ><label for=\"sk-estimator-id-39\" class=\"sk-toggleable__label sk-toggleable__label-arrow\">preprocess: ColumnTransformer</label><div class=\"sk-toggleable__content\"><pre>ColumnTransformer(transformers=[(&#x27;cat&#x27;, OneHotEncoder(handle_unknown=&#x27;ignore&#x27;),\n",
       "                                 [&#x27;B01&#x27;, &#x27;B02&#x27;, &#x27;B03&#x27;, &#x27;B04&#x27;, &#x27;B05&#x27;, &#x27;B06&#x27;,\n",
       "                                  &#x27;B07&#x27;, &#x27;B08&#x27;, &#x27;B09&#x27;, &#x27;B10&#x27;, &#x27;B11&#x27;, &#x27;B12&#x27;,\n",
       "                                  &#x27;B13&#x27;, &#x27;B14&#x27;, &#x27;B15&#x27;, &#x27;B16&#x27;, &#x27;B17&#x27;, &#x27;B18&#x27;,\n",
       "                                  &#x27;B19&#x27;, &#x27;B20&#x27;, &#x27;B21&#x27;, &#x27;B22&#x27;, &#x27;B23&#x27;, &#x27;C01&#x27;,\n",
       "                                  &#x27;C02&#x27;, &#x27;C03&#x27;, &#x27;C04&#x27;, &#x27;C05&#x27;, &#x27;C06&#x27;, &#x27;C07&#x27;, ...]),\n",
       "                                (&#x27;num&#x27;, SimpleImputer(), [])],\n",
       "                  verbose_feature_names_out=False)</pre></div></div></div><div class=\"sk-parallel\"><div class=\"sk-parallel-item\"><div class=\"sk-item\"><div class=\"sk-label-container\"><div class=\"sk-label sk-toggleable\"><input class=\"sk-toggleable__control sk-hidden--visually\" id=\"sk-estimator-id-40\" type=\"checkbox\" ><label for=\"sk-estimator-id-40\" class=\"sk-toggleable__label sk-toggleable__label-arrow\">cat</label><div class=\"sk-toggleable__content\"><pre>[&#x27;B01&#x27;, &#x27;B02&#x27;, &#x27;B03&#x27;, &#x27;B04&#x27;, &#x27;B05&#x27;, &#x27;B06&#x27;, &#x27;B07&#x27;, &#x27;B08&#x27;, &#x27;B09&#x27;, &#x27;B10&#x27;, &#x27;B11&#x27;, &#x27;B12&#x27;, &#x27;B13&#x27;, &#x27;B14&#x27;, &#x27;B15&#x27;, &#x27;B16&#x27;, &#x27;B17&#x27;, &#x27;B18&#x27;, &#x27;B19&#x27;, &#x27;B20&#x27;, &#x27;B21&#x27;, &#x27;B22&#x27;, &#x27;B23&#x27;, &#x27;C01&#x27;, &#x27;C02&#x27;, &#x27;C03&#x27;, &#x27;C04&#x27;, &#x27;C05&#x27;, &#x27;C06&#x27;, &#x27;C07&#x27;, &#x27;F01&#x27;, &#x27;F02&#x27;, &#x27;F03&#x27;, &#x27;F04&#x27;, &#x27;F05&#x27;, &#x27;F06&#x27;, &#x27;F07&#x27;, &#x27;F08&#x27;, &#x27;F09&#x27;, &#x27;F10&#x27;, &#x27;F11&#x27;, &#x27;F12&#x27;, &#x27;F13&#x27;, &#x27;F14&#x27;, &#x27;F15&#x27;, &#x27;F16&#x27;, &#x27;F17&#x27;, &#x27;F18&#x27;, &#x27;F19&#x27;, &#x27;F20&#x27;, &#x27;F21&#x27;, &#x27;F22&#x27;, &#x27;F23&#x27;, &#x27;F24&#x27;, &#x27;F25&#x27;, &#x27;F26&#x27;, &#x27;F27&#x27;, &#x27;G01&#x27;, &#x27;G02&#x27;, &#x27;G03&#x27;, &#x27;G04&#x27;, &#x27;G05&#x27;, &#x27;G06&#x27;, &#x27;G07&#x27;, &#x27;G08&#x27;, &#x27;G09&#x27;, &#x27;G10&#x27;, &#x27;G11&#x27;, &#x27;H01&#x27;, &#x27;H02&#x27;, &#x27;H03&#x27;, &#x27;H04&#x27;, &#x27;H05&#x27;, &#x27;H06&#x27;, &#x27;H07&#x27;, &#x27;H08&#x27;, &#x27;H09&#x27;, &#x27;H10&#x27;, &#x27;H11&#x27;, &#x27;H12&#x27;, &#x27;H13&#x27;, &#x27;H14&#x27;, &#x27;H15&#x27;, &#x27;H16&#x27;, &#x27;H17&#x27;, &#x27;J01&#x27;, &#x27;J02&#x27;, &#x27;J03&#x27;, &#x27;J04&#x27;, &#x27;J05&#x27;, &#x27;J06&#x27;, &#x27;J07&#x27;, &#x27;J08&#x27;, &#x27;J09&#x27;, &#x27;J10&#x27;, &#x27;J11&#x27;, &#x27;J12&#x27;, &#x27;K01&#x27;, &#x27;K02&#x27;, &#x27;K03&#x27;, &#x27;K04&#x27;, &#x27;K05&#x27;, &#x27;K06&#x27;, &#x27;K07&#x27;, &#x27;K08&#x27;, &#x27;K09&#x27;, &#x27;K10&#x27;, &#x27;K11&#x27;, &#x27;K12&#x27;, &#x27;K13&#x27;, &#x27;K14&#x27;, &#x27;K15&#x27;, &#x27;K16&#x27;, &#x27;K17&#x27;, &#x27;K18&#x27;, &#x27;L01&#x27;, &#x27;L02&#x27;, &#x27;L03&#x27;, &#x27;L04&#x27;, &#x27;L05&#x27;, &#x27;L06&#x27;, &#x27;M01&#x27;, &#x27;M02&#x27;, &#x27;M03&#x27;, &#x27;M04&#x27;, &#x27;M05&#x27;, &#x27;M06&#x27;, &#x27;M07&#x27;, &#x27;M08&#x27;, &#x27;M09&#x27;, &#x27;M10&#x27;, &#x27;M11&#x27;, &#x27;M12&#x27;, &#x27;M13&#x27;, &#x27;M14&#x27;, &#x27;M15&#x27;, &#x27;M16&#x27;, &#x27;M17&#x27;, &#x27;M18&#x27;, &#x27;M19&#x27;, &#x27;M20&#x27;, &#x27;N01&#x27;, &#x27;N02&#x27;, &#x27;N03&#x27;, &#x27;N04&#x27;, &#x27;N05&#x27;, &#x27;N06&#x27;, &#x27;N07&#x27;, &#x27;N08&#x27;, &#x27;P01&#x27;, &#x27;P02&#x27;, &#x27;P03&#x27;, &#x27;P04&#x27;, &#x27;P05&#x27;, &#x27;P06&#x27;, &#x27;P07&#x27;, &#x27;P08&#x27;, &#x27;P09&#x27;, &#x27;P10&#x27;, &#x27;P11&#x27;, &#x27;P12&#x27;, &#x27;P13&#x27;, &#x27;P14&#x27;, &#x27;P15&#x27;, &#x27;P16&#x27;, &#x27;P17&#x27;, &#x27;P18&#x27;, &#x27;P19&#x27;, &#x27;P20&#x27;, &#x27;P21&#x27;, &#x27;P22&#x27;, &#x27;P23&#x27;, &#x27;P24&#x27;, &#x27;P25&#x27;, &#x27;P26&#x27;, &#x27;P27&#x27;, &#x27;P28&#x27;, &#x27;P29&#x27;, &#x27;Q01&#x27;, &#x27;Q02&#x27;, &#x27;Q03&#x27;, &#x27;Q04&#x27;, &#x27;Q05&#x27;, &#x27;Q06&#x27;, &#x27;Q07&#x27;, &#x27;Q08&#x27;, &#x27;R01&#x27;, &#x27;R02&#x27;, &#x27;R03&#x27;, &#x27;R04&#x27;, &#x27;R05&#x27;, &#x27;R06&#x27;, &#x27;R07&#x27;, &#x27;R08&#x27;, &#x27;R09&#x27;, &#x27;R10&#x27;, &#x27;R11&#x27;, &#x27;R12&#x27;, &#x27;R13&#x27;, &#x27;R14&#x27;, &#x27;R15&#x27;, &#x27;R16&#x27;, &#x27;R17&#x27;, &#x27;R18&#x27;]</pre></div></div></div><div class=\"sk-serial\"><div class=\"sk-item\"><div class=\"sk-estimator sk-toggleable\"><input class=\"sk-toggleable__control sk-hidden--visually\" id=\"sk-estimator-id-41\" type=\"checkbox\" ><label for=\"sk-estimator-id-41\" class=\"sk-toggleable__label sk-toggleable__label-arrow\">OneHotEncoder</label><div class=\"sk-toggleable__content\"><pre>OneHotEncoder(handle_unknown=&#x27;ignore&#x27;)</pre></div></div></div></div></div></div><div class=\"sk-parallel-item\"><div class=\"sk-item\"><div class=\"sk-label-container\"><div class=\"sk-label sk-toggleable\"><input class=\"sk-toggleable__control sk-hidden--visually\" id=\"sk-estimator-id-42\" type=\"checkbox\" ><label for=\"sk-estimator-id-42\" class=\"sk-toggleable__label sk-toggleable__label-arrow\">num</label><div class=\"sk-toggleable__content\"><pre>[]</pre></div></div></div><div class=\"sk-serial\"><div class=\"sk-item\"><div class=\"sk-estimator sk-toggleable\"><input class=\"sk-toggleable__control sk-hidden--visually\" id=\"sk-estimator-id-43\" type=\"checkbox\" ><label for=\"sk-estimator-id-43\" class=\"sk-toggleable__label sk-toggleable__label-arrow\">SimpleImputer</label><div class=\"sk-toggleable__content\"><pre>SimpleImputer()</pre></div></div></div></div></div></div></div></div><div class=\"sk-item\"><div class=\"sk-estimator sk-toggleable\"><input class=\"sk-toggleable__control sk-hidden--visually\" id=\"sk-estimator-id-44\" type=\"checkbox\" ><label for=\"sk-estimator-id-44\" class=\"sk-toggleable__label sk-toggleable__label-arrow\">RandomForestClassifier</label><div class=\"sk-toggleable__content\"><pre>RandomForestClassifier(max_depth=10, n_estimators=200, random_state=42)</pre></div></div></div></div></div></div></div>"
      ],
      "text/plain": [
       "Pipeline(steps=[('preprocess',\n",
       "                 ColumnTransformer(transformers=[('cat',\n",
       "                                                  OneHotEncoder(handle_unknown='ignore'),\n",
       "                                                  ['B01', 'B02', 'B03', 'B04',\n",
       "                                                   'B05', 'B06', 'B07', 'B08',\n",
       "                                                   'B09', 'B10', 'B11', 'B12',\n",
       "                                                   'B13', 'B14', 'B15', 'B16',\n",
       "                                                   'B17', 'B18', 'B19', 'B20',\n",
       "                                                   'B21', 'B22', 'B23', 'C01',\n",
       "                                                   'C02', 'C03', 'C04', 'C05',\n",
       "                                                   'C06', 'C07', ...]),\n",
       "                                                 ('num', SimpleImputer(), [])],\n",
       "                                   verbose_feature_names_out=False)),\n",
       "                ('classifier',\n",
       "                 RandomForestClassifier(max_depth=10, n_estimators=200,\n",
       "                                        random_state=42))])"
      ]
     },
     "execution_count": 38,
     "metadata": {},
     "output_type": "execute_result"
    }
   ],
   "source": [
    "forest_pipe.set_params(classifier__n_estimators = gridsearch.best_params_['classifier__n_estimators'],\n",
    "                       classifier__criterion = gridsearch.best_params_['classifier__criterion'],\n",
    "                       classifier__max_depth = gridsearch.best_params_['classifier__max_depth'],\n",
    "                       classifier__bootstrap = gridsearch.best_params_['classifier__bootstrap'],\n",
    "                      )\n",
    "forest_pipe.fit(X_train, y_train)"
   ]
  },
  {
   "cell_type": "code",
   "execution_count": 39,
   "metadata": {},
   "outputs": [
    {
     "name": "stdout",
     "output_type": "stream",
     "text": [
      "Training data prediction accuracy:  0.9958296751536435\n",
      "CV train accuracy: 0.966637779960329\n"
     ]
    }
   ],
   "source": [
    "#Getting predictions from pipeline using training data\n",
    "y_pred = forest_pipe.predict(X_train)\n",
    "#Checking accuracy of predictions\n",
    "print(f\"Training data prediction accuracy: \", accuracy_score(y_train, y_pred))\n",
    "\n",
    "#getting cross validation score for training data \n",
    "print(f\"CV train accuracy: {cross_val_score(forest_pipe, X_train, y_train, cv=5, scoring = 'accuracy').mean()}\")"
   ]
  },
  {
   "cell_type": "markdown",
   "metadata": {},
   "source": [
    "# Hyperparameter Tuning Third Iteration"
   ]
  },
  {
   "cell_type": "code",
   "execution_count": 40,
   "metadata": {},
   "outputs": [
    {
     "data": {
      "text/html": [
       "<style>#sk-container-id-7 {color: black;background-color: white;}#sk-container-id-7 pre{padding: 0;}#sk-container-id-7 div.sk-toggleable {background-color: white;}#sk-container-id-7 label.sk-toggleable__label {cursor: pointer;display: block;width: 100%;margin-bottom: 0;padding: 0.3em;box-sizing: border-box;text-align: center;}#sk-container-id-7 label.sk-toggleable__label-arrow:before {content: \"▸\";float: left;margin-right: 0.25em;color: #696969;}#sk-container-id-7 label.sk-toggleable__label-arrow:hover:before {color: black;}#sk-container-id-7 div.sk-estimator:hover label.sk-toggleable__label-arrow:before {color: black;}#sk-container-id-7 div.sk-toggleable__content {max-height: 0;max-width: 0;overflow: hidden;text-align: left;background-color: #f0f8ff;}#sk-container-id-7 div.sk-toggleable__content pre {margin: 0.2em;color: black;border-radius: 0.25em;background-color: #f0f8ff;}#sk-container-id-7 input.sk-toggleable__control:checked~div.sk-toggleable__content {max-height: 200px;max-width: 100%;overflow: auto;}#sk-container-id-7 input.sk-toggleable__control:checked~label.sk-toggleable__label-arrow:before {content: \"▾\";}#sk-container-id-7 div.sk-estimator input.sk-toggleable__control:checked~label.sk-toggleable__label {background-color: #d4ebff;}#sk-container-id-7 div.sk-label input.sk-toggleable__control:checked~label.sk-toggleable__label {background-color: #d4ebff;}#sk-container-id-7 input.sk-hidden--visually {border: 0;clip: rect(1px 1px 1px 1px);clip: rect(1px, 1px, 1px, 1px);height: 1px;margin: -1px;overflow: hidden;padding: 0;position: absolute;width: 1px;}#sk-container-id-7 div.sk-estimator {font-family: monospace;background-color: #f0f8ff;border: 1px dotted black;border-radius: 0.25em;box-sizing: border-box;margin-bottom: 0.5em;}#sk-container-id-7 div.sk-estimator:hover {background-color: #d4ebff;}#sk-container-id-7 div.sk-parallel-item::after {content: \"\";width: 100%;border-bottom: 1px solid gray;flex-grow: 1;}#sk-container-id-7 div.sk-label:hover label.sk-toggleable__label {background-color: #d4ebff;}#sk-container-id-7 div.sk-serial::before {content: \"\";position: absolute;border-left: 1px solid gray;box-sizing: border-box;top: 0;bottom: 0;left: 50%;z-index: 0;}#sk-container-id-7 div.sk-serial {display: flex;flex-direction: column;align-items: center;background-color: white;padding-right: 0.2em;padding-left: 0.2em;position: relative;}#sk-container-id-7 div.sk-item {position: relative;z-index: 1;}#sk-container-id-7 div.sk-parallel {display: flex;align-items: stretch;justify-content: center;background-color: white;position: relative;}#sk-container-id-7 div.sk-item::before, #sk-container-id-7 div.sk-parallel-item::before {content: \"\";position: absolute;border-left: 1px solid gray;box-sizing: border-box;top: 0;bottom: 0;left: 50%;z-index: -1;}#sk-container-id-7 div.sk-parallel-item {display: flex;flex-direction: column;z-index: 1;position: relative;background-color: white;}#sk-container-id-7 div.sk-parallel-item:first-child::after {align-self: flex-end;width: 50%;}#sk-container-id-7 div.sk-parallel-item:last-child::after {align-self: flex-start;width: 50%;}#sk-container-id-7 div.sk-parallel-item:only-child::after {width: 0;}#sk-container-id-7 div.sk-dashed-wrapped {border: 1px dashed gray;margin: 0 0.4em 0.5em 0.4em;box-sizing: border-box;padding-bottom: 0.4em;background-color: white;}#sk-container-id-7 div.sk-label label {font-family: monospace;font-weight: bold;display: inline-block;line-height: 1.2em;}#sk-container-id-7 div.sk-label-container {text-align: center;}#sk-container-id-7 div.sk-container {/* jupyter's `normalize.less` sets `[hidden] { display: none; }` but bootstrap.min.css set `[hidden] { display: none !important; }` so we also need the `!important` here to be able to override the default hidden behavior on the sphinx rendered scikit-learn.org. See: https://github.com/scikit-learn/scikit-learn/issues/21755 */display: inline-block !important;position: relative;}#sk-container-id-7 div.sk-text-repr-fallback {display: none;}</style><div id=\"sk-container-id-7\" class=\"sk-top-container\"><div class=\"sk-text-repr-fallback\"><pre>GridSearchCV(cv=5,\n",
       "             estimator=Pipeline(steps=[(&#x27;preprocess&#x27;,\n",
       "                                        ColumnTransformer(transformers=[(&#x27;cat&#x27;,\n",
       "                                                                         OneHotEncoder(handle_unknown=&#x27;ignore&#x27;),\n",
       "                                                                         [&#x27;B01&#x27;,\n",
       "                                                                          &#x27;B02&#x27;,\n",
       "                                                                          &#x27;B03&#x27;,\n",
       "                                                                          &#x27;B04&#x27;,\n",
       "                                                                          &#x27;B05&#x27;,\n",
       "                                                                          &#x27;B06&#x27;,\n",
       "                                                                          &#x27;B07&#x27;,\n",
       "                                                                          &#x27;B08&#x27;,\n",
       "                                                                          &#x27;B09&#x27;,\n",
       "                                                                          &#x27;B10&#x27;,\n",
       "                                                                          &#x27;B11&#x27;,\n",
       "                                                                          &#x27;B12&#x27;,\n",
       "                                                                          &#x27;B13&#x27;,\n",
       "                                                                          &#x27;B14&#x27;,\n",
       "                                                                          &#x27;B15&#x27;,\n",
       "                                                                          &#x27;B16&#x27;,\n",
       "                                                                          &#x27;B17&#x27;,\n",
       "                                                                          &#x27;B18&#x27;,\n",
       "                                                                          &#x27;B19&#x27;,\n",
       "                                                                          &#x27;B20&#x27;,\n",
       "                                                                          &#x27;B21&#x27;,\n",
       "                                                                          &#x27;B22&#x27;,\n",
       "                                                                          &#x27;B23&#x27;,\n",
       "                                                                          &#x27;C01&#x27;,\n",
       "                                                                          &#x27;C02&#x27;,\n",
       "                                                                          &#x27;C03&#x27;,\n",
       "                                                                          &#x27;C04&#x27;,\n",
       "                                                                          &#x27;C05&#x27;,\n",
       "                                                                          &#x27;C06&#x27;,\n",
       "                                                                          &#x27;C07&#x27;, ...]),\n",
       "                                                                        (&#x27;num&#x27;,\n",
       "                                                                         SimpleImputer(),\n",
       "                                                                         [])],\n",
       "                                                          verbose_feature_names_out=False)),\n",
       "                                       (&#x27;classifier&#x27;,\n",
       "                                        RandomForestClassifier(max_depth=10,\n",
       "                                                               n_estimators=200,\n",
       "                                                               random_state=42))]),\n",
       "             n_jobs=3,\n",
       "             param_grid={&#x27;classifier__bootstrap&#x27;: [True, False],\n",
       "                         &#x27;classifier__criterion&#x27;: [&#x27;gini&#x27;, &#x27;entropy&#x27;,\n",
       "                                                   &#x27;log_loss&#x27;],\n",
       "                         &#x27;classifier__max_depth&#x27;: [4, 6, 8, 10],\n",
       "                         &#x27;classifier__n_estimators&#x27;: [25, 50, 75, 100, 125,\n",
       "                                                      150]},\n",
       "             scoring=&#x27;accuracy&#x27;)</pre><b>In a Jupyter environment, please rerun this cell to show the HTML representation or trust the notebook. <br />On GitHub, the HTML representation is unable to render, please try loading this page with nbviewer.org.</b></div><div class=\"sk-container\" hidden><div class=\"sk-item sk-dashed-wrapped\"><div class=\"sk-label-container\"><div class=\"sk-label sk-toggleable\"><input class=\"sk-toggleable__control sk-hidden--visually\" id=\"sk-estimator-id-45\" type=\"checkbox\" ><label for=\"sk-estimator-id-45\" class=\"sk-toggleable__label sk-toggleable__label-arrow\">GridSearchCV</label><div class=\"sk-toggleable__content\"><pre>GridSearchCV(cv=5,\n",
       "             estimator=Pipeline(steps=[(&#x27;preprocess&#x27;,\n",
       "                                        ColumnTransformer(transformers=[(&#x27;cat&#x27;,\n",
       "                                                                         OneHotEncoder(handle_unknown=&#x27;ignore&#x27;),\n",
       "                                                                         [&#x27;B01&#x27;,\n",
       "                                                                          &#x27;B02&#x27;,\n",
       "                                                                          &#x27;B03&#x27;,\n",
       "                                                                          &#x27;B04&#x27;,\n",
       "                                                                          &#x27;B05&#x27;,\n",
       "                                                                          &#x27;B06&#x27;,\n",
       "                                                                          &#x27;B07&#x27;,\n",
       "                                                                          &#x27;B08&#x27;,\n",
       "                                                                          &#x27;B09&#x27;,\n",
       "                                                                          &#x27;B10&#x27;,\n",
       "                                                                          &#x27;B11&#x27;,\n",
       "                                                                          &#x27;B12&#x27;,\n",
       "                                                                          &#x27;B13&#x27;,\n",
       "                                                                          &#x27;B14&#x27;,\n",
       "                                                                          &#x27;B15&#x27;,\n",
       "                                                                          &#x27;B16&#x27;,\n",
       "                                                                          &#x27;B17&#x27;,\n",
       "                                                                          &#x27;B18&#x27;,\n",
       "                                                                          &#x27;B19&#x27;,\n",
       "                                                                          &#x27;B20&#x27;,\n",
       "                                                                          &#x27;B21&#x27;,\n",
       "                                                                          &#x27;B22&#x27;,\n",
       "                                                                          &#x27;B23&#x27;,\n",
       "                                                                          &#x27;C01&#x27;,\n",
       "                                                                          &#x27;C02&#x27;,\n",
       "                                                                          &#x27;C03&#x27;,\n",
       "                                                                          &#x27;C04&#x27;,\n",
       "                                                                          &#x27;C05&#x27;,\n",
       "                                                                          &#x27;C06&#x27;,\n",
       "                                                                          &#x27;C07&#x27;, ...]),\n",
       "                                                                        (&#x27;num&#x27;,\n",
       "                                                                         SimpleImputer(),\n",
       "                                                                         [])],\n",
       "                                                          verbose_feature_names_out=False)),\n",
       "                                       (&#x27;classifier&#x27;,\n",
       "                                        RandomForestClassifier(max_depth=10,\n",
       "                                                               n_estimators=200,\n",
       "                                                               random_state=42))]),\n",
       "             n_jobs=3,\n",
       "             param_grid={&#x27;classifier__bootstrap&#x27;: [True, False],\n",
       "                         &#x27;classifier__criterion&#x27;: [&#x27;gini&#x27;, &#x27;entropy&#x27;,\n",
       "                                                   &#x27;log_loss&#x27;],\n",
       "                         &#x27;classifier__max_depth&#x27;: [4, 6, 8, 10],\n",
       "                         &#x27;classifier__n_estimators&#x27;: [25, 50, 75, 100, 125,\n",
       "                                                      150]},\n",
       "             scoring=&#x27;accuracy&#x27;)</pre></div></div></div><div class=\"sk-parallel\"><div class=\"sk-parallel-item\"><div class=\"sk-item\"><div class=\"sk-label-container\"><div class=\"sk-label sk-toggleable\"><input class=\"sk-toggleable__control sk-hidden--visually\" id=\"sk-estimator-id-46\" type=\"checkbox\" ><label for=\"sk-estimator-id-46\" class=\"sk-toggleable__label sk-toggleable__label-arrow\">estimator: Pipeline</label><div class=\"sk-toggleable__content\"><pre>Pipeline(steps=[(&#x27;preprocess&#x27;,\n",
       "                 ColumnTransformer(transformers=[(&#x27;cat&#x27;,\n",
       "                                                  OneHotEncoder(handle_unknown=&#x27;ignore&#x27;),\n",
       "                                                  [&#x27;B01&#x27;, &#x27;B02&#x27;, &#x27;B03&#x27;, &#x27;B04&#x27;,\n",
       "                                                   &#x27;B05&#x27;, &#x27;B06&#x27;, &#x27;B07&#x27;, &#x27;B08&#x27;,\n",
       "                                                   &#x27;B09&#x27;, &#x27;B10&#x27;, &#x27;B11&#x27;, &#x27;B12&#x27;,\n",
       "                                                   &#x27;B13&#x27;, &#x27;B14&#x27;, &#x27;B15&#x27;, &#x27;B16&#x27;,\n",
       "                                                   &#x27;B17&#x27;, &#x27;B18&#x27;, &#x27;B19&#x27;, &#x27;B20&#x27;,\n",
       "                                                   &#x27;B21&#x27;, &#x27;B22&#x27;, &#x27;B23&#x27;, &#x27;C01&#x27;,\n",
       "                                                   &#x27;C02&#x27;, &#x27;C03&#x27;, &#x27;C04&#x27;, &#x27;C05&#x27;,\n",
       "                                                   &#x27;C06&#x27;, &#x27;C07&#x27;, ...]),\n",
       "                                                 (&#x27;num&#x27;, SimpleImputer(), [])],\n",
       "                                   verbose_feature_names_out=False)),\n",
       "                (&#x27;classifier&#x27;,\n",
       "                 RandomForestClassifier(max_depth=10, n_estimators=200,\n",
       "                                        random_state=42))])</pre></div></div></div><div class=\"sk-serial\"><div class=\"sk-item\"><div class=\"sk-serial\"><div class=\"sk-item sk-dashed-wrapped\"><div class=\"sk-label-container\"><div class=\"sk-label sk-toggleable\"><input class=\"sk-toggleable__control sk-hidden--visually\" id=\"sk-estimator-id-47\" type=\"checkbox\" ><label for=\"sk-estimator-id-47\" class=\"sk-toggleable__label sk-toggleable__label-arrow\">preprocess: ColumnTransformer</label><div class=\"sk-toggleable__content\"><pre>ColumnTransformer(transformers=[(&#x27;cat&#x27;, OneHotEncoder(handle_unknown=&#x27;ignore&#x27;),\n",
       "                                 [&#x27;B01&#x27;, &#x27;B02&#x27;, &#x27;B03&#x27;, &#x27;B04&#x27;, &#x27;B05&#x27;, &#x27;B06&#x27;,\n",
       "                                  &#x27;B07&#x27;, &#x27;B08&#x27;, &#x27;B09&#x27;, &#x27;B10&#x27;, &#x27;B11&#x27;, &#x27;B12&#x27;,\n",
       "                                  &#x27;B13&#x27;, &#x27;B14&#x27;, &#x27;B15&#x27;, &#x27;B16&#x27;, &#x27;B17&#x27;, &#x27;B18&#x27;,\n",
       "                                  &#x27;B19&#x27;, &#x27;B20&#x27;, &#x27;B21&#x27;, &#x27;B22&#x27;, &#x27;B23&#x27;, &#x27;C01&#x27;,\n",
       "                                  &#x27;C02&#x27;, &#x27;C03&#x27;, &#x27;C04&#x27;, &#x27;C05&#x27;, &#x27;C06&#x27;, &#x27;C07&#x27;, ...]),\n",
       "                                (&#x27;num&#x27;, SimpleImputer(), [])],\n",
       "                  verbose_feature_names_out=False)</pre></div></div></div><div class=\"sk-parallel\"><div class=\"sk-parallel-item\"><div class=\"sk-item\"><div class=\"sk-label-container\"><div class=\"sk-label sk-toggleable\"><input class=\"sk-toggleable__control sk-hidden--visually\" id=\"sk-estimator-id-48\" type=\"checkbox\" ><label for=\"sk-estimator-id-48\" class=\"sk-toggleable__label sk-toggleable__label-arrow\">cat</label><div class=\"sk-toggleable__content\"><pre>[&#x27;B01&#x27;, &#x27;B02&#x27;, &#x27;B03&#x27;, &#x27;B04&#x27;, &#x27;B05&#x27;, &#x27;B06&#x27;, &#x27;B07&#x27;, &#x27;B08&#x27;, &#x27;B09&#x27;, &#x27;B10&#x27;, &#x27;B11&#x27;, &#x27;B12&#x27;, &#x27;B13&#x27;, &#x27;B14&#x27;, &#x27;B15&#x27;, &#x27;B16&#x27;, &#x27;B17&#x27;, &#x27;B18&#x27;, &#x27;B19&#x27;, &#x27;B20&#x27;, &#x27;B21&#x27;, &#x27;B22&#x27;, &#x27;B23&#x27;, &#x27;C01&#x27;, &#x27;C02&#x27;, &#x27;C03&#x27;, &#x27;C04&#x27;, &#x27;C05&#x27;, &#x27;C06&#x27;, &#x27;C07&#x27;, &#x27;F01&#x27;, &#x27;F02&#x27;, &#x27;F03&#x27;, &#x27;F04&#x27;, &#x27;F05&#x27;, &#x27;F06&#x27;, &#x27;F07&#x27;, &#x27;F08&#x27;, &#x27;F09&#x27;, &#x27;F10&#x27;, &#x27;F11&#x27;, &#x27;F12&#x27;, &#x27;F13&#x27;, &#x27;F14&#x27;, &#x27;F15&#x27;, &#x27;F16&#x27;, &#x27;F17&#x27;, &#x27;F18&#x27;, &#x27;F19&#x27;, &#x27;F20&#x27;, &#x27;F21&#x27;, &#x27;F22&#x27;, &#x27;F23&#x27;, &#x27;F24&#x27;, &#x27;F25&#x27;, &#x27;F26&#x27;, &#x27;F27&#x27;, &#x27;G01&#x27;, &#x27;G02&#x27;, &#x27;G03&#x27;, &#x27;G04&#x27;, &#x27;G05&#x27;, &#x27;G06&#x27;, &#x27;G07&#x27;, &#x27;G08&#x27;, &#x27;G09&#x27;, &#x27;G10&#x27;, &#x27;G11&#x27;, &#x27;H01&#x27;, &#x27;H02&#x27;, &#x27;H03&#x27;, &#x27;H04&#x27;, &#x27;H05&#x27;, &#x27;H06&#x27;, &#x27;H07&#x27;, &#x27;H08&#x27;, &#x27;H09&#x27;, &#x27;H10&#x27;, &#x27;H11&#x27;, &#x27;H12&#x27;, &#x27;H13&#x27;, &#x27;H14&#x27;, &#x27;H15&#x27;, &#x27;H16&#x27;, &#x27;H17&#x27;, &#x27;J01&#x27;, &#x27;J02&#x27;, &#x27;J03&#x27;, &#x27;J04&#x27;, &#x27;J05&#x27;, &#x27;J06&#x27;, &#x27;J07&#x27;, &#x27;J08&#x27;, &#x27;J09&#x27;, &#x27;J10&#x27;, &#x27;J11&#x27;, &#x27;J12&#x27;, &#x27;K01&#x27;, &#x27;K02&#x27;, &#x27;K03&#x27;, &#x27;K04&#x27;, &#x27;K05&#x27;, &#x27;K06&#x27;, &#x27;K07&#x27;, &#x27;K08&#x27;, &#x27;K09&#x27;, &#x27;K10&#x27;, &#x27;K11&#x27;, &#x27;K12&#x27;, &#x27;K13&#x27;, &#x27;K14&#x27;, &#x27;K15&#x27;, &#x27;K16&#x27;, &#x27;K17&#x27;, &#x27;K18&#x27;, &#x27;L01&#x27;, &#x27;L02&#x27;, &#x27;L03&#x27;, &#x27;L04&#x27;, &#x27;L05&#x27;, &#x27;L06&#x27;, &#x27;M01&#x27;, &#x27;M02&#x27;, &#x27;M03&#x27;, &#x27;M04&#x27;, &#x27;M05&#x27;, &#x27;M06&#x27;, &#x27;M07&#x27;, &#x27;M08&#x27;, &#x27;M09&#x27;, &#x27;M10&#x27;, &#x27;M11&#x27;, &#x27;M12&#x27;, &#x27;M13&#x27;, &#x27;M14&#x27;, &#x27;M15&#x27;, &#x27;M16&#x27;, &#x27;M17&#x27;, &#x27;M18&#x27;, &#x27;M19&#x27;, &#x27;M20&#x27;, &#x27;N01&#x27;, &#x27;N02&#x27;, &#x27;N03&#x27;, &#x27;N04&#x27;, &#x27;N05&#x27;, &#x27;N06&#x27;, &#x27;N07&#x27;, &#x27;N08&#x27;, &#x27;P01&#x27;, &#x27;P02&#x27;, &#x27;P03&#x27;, &#x27;P04&#x27;, &#x27;P05&#x27;, &#x27;P06&#x27;, &#x27;P07&#x27;, &#x27;P08&#x27;, &#x27;P09&#x27;, &#x27;P10&#x27;, &#x27;P11&#x27;, &#x27;P12&#x27;, &#x27;P13&#x27;, &#x27;P14&#x27;, &#x27;P15&#x27;, &#x27;P16&#x27;, &#x27;P17&#x27;, &#x27;P18&#x27;, &#x27;P19&#x27;, &#x27;P20&#x27;, &#x27;P21&#x27;, &#x27;P22&#x27;, &#x27;P23&#x27;, &#x27;P24&#x27;, &#x27;P25&#x27;, &#x27;P26&#x27;, &#x27;P27&#x27;, &#x27;P28&#x27;, &#x27;P29&#x27;, &#x27;Q01&#x27;, &#x27;Q02&#x27;, &#x27;Q03&#x27;, &#x27;Q04&#x27;, &#x27;Q05&#x27;, &#x27;Q06&#x27;, &#x27;Q07&#x27;, &#x27;Q08&#x27;, &#x27;R01&#x27;, &#x27;R02&#x27;, &#x27;R03&#x27;, &#x27;R04&#x27;, &#x27;R05&#x27;, &#x27;R06&#x27;, &#x27;R07&#x27;, &#x27;R08&#x27;, &#x27;R09&#x27;, &#x27;R10&#x27;, &#x27;R11&#x27;, &#x27;R12&#x27;, &#x27;R13&#x27;, &#x27;R14&#x27;, &#x27;R15&#x27;, &#x27;R16&#x27;, &#x27;R17&#x27;, &#x27;R18&#x27;]</pre></div></div></div><div class=\"sk-serial\"><div class=\"sk-item\"><div class=\"sk-estimator sk-toggleable\"><input class=\"sk-toggleable__control sk-hidden--visually\" id=\"sk-estimator-id-49\" type=\"checkbox\" ><label for=\"sk-estimator-id-49\" class=\"sk-toggleable__label sk-toggleable__label-arrow\">OneHotEncoder</label><div class=\"sk-toggleable__content\"><pre>OneHotEncoder(handle_unknown=&#x27;ignore&#x27;)</pre></div></div></div></div></div></div><div class=\"sk-parallel-item\"><div class=\"sk-item\"><div class=\"sk-label-container\"><div class=\"sk-label sk-toggleable\"><input class=\"sk-toggleable__control sk-hidden--visually\" id=\"sk-estimator-id-50\" type=\"checkbox\" ><label for=\"sk-estimator-id-50\" class=\"sk-toggleable__label sk-toggleable__label-arrow\">num</label><div class=\"sk-toggleable__content\"><pre>[]</pre></div></div></div><div class=\"sk-serial\"><div class=\"sk-item\"><div class=\"sk-estimator sk-toggleable\"><input class=\"sk-toggleable__control sk-hidden--visually\" id=\"sk-estimator-id-51\" type=\"checkbox\" ><label for=\"sk-estimator-id-51\" class=\"sk-toggleable__label sk-toggleable__label-arrow\">SimpleImputer</label><div class=\"sk-toggleable__content\"><pre>SimpleImputer()</pre></div></div></div></div></div></div></div></div><div class=\"sk-item\"><div class=\"sk-estimator sk-toggleable\"><input class=\"sk-toggleable__control sk-hidden--visually\" id=\"sk-estimator-id-52\" type=\"checkbox\" ><label for=\"sk-estimator-id-52\" class=\"sk-toggleable__label sk-toggleable__label-arrow\">RandomForestClassifier</label><div class=\"sk-toggleable__content\"><pre>RandomForestClassifier(max_depth=10, n_estimators=200, random_state=42)</pre></div></div></div></div></div></div></div></div></div></div></div></div>"
      ],
      "text/plain": [
       "GridSearchCV(cv=5,\n",
       "             estimator=Pipeline(steps=[('preprocess',\n",
       "                                        ColumnTransformer(transformers=[('cat',\n",
       "                                                                         OneHotEncoder(handle_unknown='ignore'),\n",
       "                                                                         ['B01',\n",
       "                                                                          'B02',\n",
       "                                                                          'B03',\n",
       "                                                                          'B04',\n",
       "                                                                          'B05',\n",
       "                                                                          'B06',\n",
       "                                                                          'B07',\n",
       "                                                                          'B08',\n",
       "                                                                          'B09',\n",
       "                                                                          'B10',\n",
       "                                                                          'B11',\n",
       "                                                                          'B12',\n",
       "                                                                          'B13',\n",
       "                                                                          'B14',\n",
       "                                                                          'B15',\n",
       "                                                                          'B16',\n",
       "                                                                          'B17',\n",
       "                                                                          'B18',\n",
       "                                                                          'B19',\n",
       "                                                                          'B20',\n",
       "                                                                          'B21',\n",
       "                                                                          'B22',\n",
       "                                                                          'B23',\n",
       "                                                                          'C01',\n",
       "                                                                          'C02',\n",
       "                                                                          'C03',\n",
       "                                                                          'C04',\n",
       "                                                                          'C05',\n",
       "                                                                          'C06',\n",
       "                                                                          'C07', ...]),\n",
       "                                                                        ('num',\n",
       "                                                                         SimpleImputer(),\n",
       "                                                                         [])],\n",
       "                                                          verbose_feature_names_out=False)),\n",
       "                                       ('classifier',\n",
       "                                        RandomForestClassifier(max_depth=10,\n",
       "                                                               n_estimators=200,\n",
       "                                                               random_state=42))]),\n",
       "             n_jobs=3,\n",
       "             param_grid={'classifier__bootstrap': [True, False],\n",
       "                         'classifier__criterion': ['gini', 'entropy',\n",
       "                                                   'log_loss'],\n",
       "                         'classifier__max_depth': [4, 6, 8, 10],\n",
       "                         'classifier__n_estimators': [25, 50, 75, 100, 125,\n",
       "                                                      150]},\n",
       "             scoring='accuracy')"
      ]
     },
     "execution_count": 40,
     "metadata": {},
     "output_type": "execute_result"
    }
   ],
   "source": [
    "param_grid = {'classifier__n_estimators': [25, 50, 75, 100, 125, 150],\n",
    "              'classifier__criterion': ['gini', 'entropy', 'log_loss'],               \n",
    "              'classifier__max_depth': [4, 6, 8, 10],\n",
    "              'classifier__bootstrap': [True, False]\n",
    "             }\n",
    "\n",
    "gridsearch = GridSearchCV(estimator=forest_pipe,\n",
    "                          param_grid=param_grid,\n",
    "                          scoring='accuracy',\n",
    "                          cv=5,\n",
    "                          n_jobs = 3\n",
    "                         )\n",
    "# Fit the training data\n",
    "gridsearch.fit(X_train, y_train)\n",
    "# Print the accuracy on test set\n"
   ]
  },
  {
   "cell_type": "code",
   "execution_count": 41,
   "metadata": {},
   "outputs": [
    {
     "name": "stdout",
     "output_type": "stream",
     "text": [
      "Gridsearch score:  0.9877085162423178\n",
      "Gridsearch best params:  {'classifier__bootstrap': False, 'classifier__criterion': 'entropy', 'classifier__max_depth': 8, 'classifier__n_estimators': 125}\n"
     ]
    }
   ],
   "source": [
    "print(f\"Gridsearch score: \", gridsearch.score(X_train, y_train))\n",
    "print(f\"Gridsearch best params: \")\n",
    "pprint(gridsearch.best_params_)"
   ]
  },
  {
   "cell_type": "markdown",
   "metadata": {},
   "source": [
    "### Results\n",
    "\n",
    "Gridsearch score:  0.9877085162423178\n",
    "\n",
    "Gridsearch best params:\n",
    "- 'classifier__bootstrap': False\n",
    "- 'classifier__criterion': 'entropy' \n",
    "- 'classifier__max_depth': 8\n",
    "- 'classifier__n_estimators': 125"
   ]
  },
  {
   "cell_type": "code",
   "execution_count": 186,
   "metadata": {},
   "outputs": [
    {
     "data": {
      "text/html": [
       "<style>#sk-container-id-19 {color: black;background-color: white;}#sk-container-id-19 pre{padding: 0;}#sk-container-id-19 div.sk-toggleable {background-color: white;}#sk-container-id-19 label.sk-toggleable__label {cursor: pointer;display: block;width: 100%;margin-bottom: 0;padding: 0.3em;box-sizing: border-box;text-align: center;}#sk-container-id-19 label.sk-toggleable__label-arrow:before {content: \"▸\";float: left;margin-right: 0.25em;color: #696969;}#sk-container-id-19 label.sk-toggleable__label-arrow:hover:before {color: black;}#sk-container-id-19 div.sk-estimator:hover label.sk-toggleable__label-arrow:before {color: black;}#sk-container-id-19 div.sk-toggleable__content {max-height: 0;max-width: 0;overflow: hidden;text-align: left;background-color: #f0f8ff;}#sk-container-id-19 div.sk-toggleable__content pre {margin: 0.2em;color: black;border-radius: 0.25em;background-color: #f0f8ff;}#sk-container-id-19 input.sk-toggleable__control:checked~div.sk-toggleable__content {max-height: 200px;max-width: 100%;overflow: auto;}#sk-container-id-19 input.sk-toggleable__control:checked~label.sk-toggleable__label-arrow:before {content: \"▾\";}#sk-container-id-19 div.sk-estimator input.sk-toggleable__control:checked~label.sk-toggleable__label {background-color: #d4ebff;}#sk-container-id-19 div.sk-label input.sk-toggleable__control:checked~label.sk-toggleable__label {background-color: #d4ebff;}#sk-container-id-19 input.sk-hidden--visually {border: 0;clip: rect(1px 1px 1px 1px);clip: rect(1px, 1px, 1px, 1px);height: 1px;margin: -1px;overflow: hidden;padding: 0;position: absolute;width: 1px;}#sk-container-id-19 div.sk-estimator {font-family: monospace;background-color: #f0f8ff;border: 1px dotted black;border-radius: 0.25em;box-sizing: border-box;margin-bottom: 0.5em;}#sk-container-id-19 div.sk-estimator:hover {background-color: #d4ebff;}#sk-container-id-19 div.sk-parallel-item::after {content: \"\";width: 100%;border-bottom: 1px solid gray;flex-grow: 1;}#sk-container-id-19 div.sk-label:hover label.sk-toggleable__label {background-color: #d4ebff;}#sk-container-id-19 div.sk-serial::before {content: \"\";position: absolute;border-left: 1px solid gray;box-sizing: border-box;top: 0;bottom: 0;left: 50%;z-index: 0;}#sk-container-id-19 div.sk-serial {display: flex;flex-direction: column;align-items: center;background-color: white;padding-right: 0.2em;padding-left: 0.2em;position: relative;}#sk-container-id-19 div.sk-item {position: relative;z-index: 1;}#sk-container-id-19 div.sk-parallel {display: flex;align-items: stretch;justify-content: center;background-color: white;position: relative;}#sk-container-id-19 div.sk-item::before, #sk-container-id-19 div.sk-parallel-item::before {content: \"\";position: absolute;border-left: 1px solid gray;box-sizing: border-box;top: 0;bottom: 0;left: 50%;z-index: -1;}#sk-container-id-19 div.sk-parallel-item {display: flex;flex-direction: column;z-index: 1;position: relative;background-color: white;}#sk-container-id-19 div.sk-parallel-item:first-child::after {align-self: flex-end;width: 50%;}#sk-container-id-19 div.sk-parallel-item:last-child::after {align-self: flex-start;width: 50%;}#sk-container-id-19 div.sk-parallel-item:only-child::after {width: 0;}#sk-container-id-19 div.sk-dashed-wrapped {border: 1px dashed gray;margin: 0 0.4em 0.5em 0.4em;box-sizing: border-box;padding-bottom: 0.4em;background-color: white;}#sk-container-id-19 div.sk-label label {font-family: monospace;font-weight: bold;display: inline-block;line-height: 1.2em;}#sk-container-id-19 div.sk-label-container {text-align: center;}#sk-container-id-19 div.sk-container {/* jupyter's `normalize.less` sets `[hidden] { display: none; }` but bootstrap.min.css set `[hidden] { display: none !important; }` so we also need the `!important` here to be able to override the default hidden behavior on the sphinx rendered scikit-learn.org. See: https://github.com/scikit-learn/scikit-learn/issues/21755 */display: inline-block !important;position: relative;}#sk-container-id-19 div.sk-text-repr-fallback {display: none;}</style><div id=\"sk-container-id-19\" class=\"sk-top-container\"><div class=\"sk-text-repr-fallback\"><pre>Pipeline(steps=[(&#x27;preprocess&#x27;,\n",
       "                 ColumnTransformer(transformers=[(&#x27;cat&#x27;,\n",
       "                                                  OneHotEncoder(handle_unknown=&#x27;ignore&#x27;),\n",
       "                                                  [&#x27;B01&#x27;, &#x27;B02&#x27;, &#x27;B03&#x27;, &#x27;B04&#x27;,\n",
       "                                                   &#x27;B05&#x27;, &#x27;B06&#x27;, &#x27;B07&#x27;, &#x27;B08&#x27;,\n",
       "                                                   &#x27;B09&#x27;, &#x27;B10&#x27;, &#x27;B11&#x27;, &#x27;B12&#x27;,\n",
       "                                                   &#x27;B13&#x27;, &#x27;B14&#x27;, &#x27;B15&#x27;, &#x27;B16&#x27;,\n",
       "                                                   &#x27;B17&#x27;, &#x27;B18&#x27;, &#x27;B19&#x27;, &#x27;B20&#x27;,\n",
       "                                                   &#x27;B21&#x27;, &#x27;B22&#x27;, &#x27;B23&#x27;, &#x27;C01&#x27;,\n",
       "                                                   &#x27;C02&#x27;, &#x27;C03&#x27;, &#x27;C04&#x27;, &#x27;C05&#x27;,\n",
       "                                                   &#x27;C06&#x27;, &#x27;C07&#x27;, ...]),\n",
       "                                                 (&#x27;num&#x27;, SimpleImputer(), [])],\n",
       "                                   verbose_feature_names_out=False)),\n",
       "                (&#x27;classifier&#x27;,\n",
       "                 RandomForestClassifier(bootstrap=False, criterion=&#x27;entropy&#x27;,\n",
       "                                        max_depth=8, min_samples_leaf=2,\n",
       "                                        min_samples_split=6, n_estimators=125,\n",
       "                                        random_state=42))])</pre><b>In a Jupyter environment, please rerun this cell to show the HTML representation or trust the notebook. <br />On GitHub, the HTML representation is unable to render, please try loading this page with nbviewer.org.</b></div><div class=\"sk-container\" hidden><div class=\"sk-item sk-dashed-wrapped\"><div class=\"sk-label-container\"><div class=\"sk-label sk-toggleable\"><input class=\"sk-toggleable__control sk-hidden--visually\" id=\"sk-estimator-id-134\" type=\"checkbox\" ><label for=\"sk-estimator-id-134\" class=\"sk-toggleable__label sk-toggleable__label-arrow\">Pipeline</label><div class=\"sk-toggleable__content\"><pre>Pipeline(steps=[(&#x27;preprocess&#x27;,\n",
       "                 ColumnTransformer(transformers=[(&#x27;cat&#x27;,\n",
       "                                                  OneHotEncoder(handle_unknown=&#x27;ignore&#x27;),\n",
       "                                                  [&#x27;B01&#x27;, &#x27;B02&#x27;, &#x27;B03&#x27;, &#x27;B04&#x27;,\n",
       "                                                   &#x27;B05&#x27;, &#x27;B06&#x27;, &#x27;B07&#x27;, &#x27;B08&#x27;,\n",
       "                                                   &#x27;B09&#x27;, &#x27;B10&#x27;, &#x27;B11&#x27;, &#x27;B12&#x27;,\n",
       "                                                   &#x27;B13&#x27;, &#x27;B14&#x27;, &#x27;B15&#x27;, &#x27;B16&#x27;,\n",
       "                                                   &#x27;B17&#x27;, &#x27;B18&#x27;, &#x27;B19&#x27;, &#x27;B20&#x27;,\n",
       "                                                   &#x27;B21&#x27;, &#x27;B22&#x27;, &#x27;B23&#x27;, &#x27;C01&#x27;,\n",
       "                                                   &#x27;C02&#x27;, &#x27;C03&#x27;, &#x27;C04&#x27;, &#x27;C05&#x27;,\n",
       "                                                   &#x27;C06&#x27;, &#x27;C07&#x27;, ...]),\n",
       "                                                 (&#x27;num&#x27;, SimpleImputer(), [])],\n",
       "                                   verbose_feature_names_out=False)),\n",
       "                (&#x27;classifier&#x27;,\n",
       "                 RandomForestClassifier(bootstrap=False, criterion=&#x27;entropy&#x27;,\n",
       "                                        max_depth=8, min_samples_leaf=2,\n",
       "                                        min_samples_split=6, n_estimators=125,\n",
       "                                        random_state=42))])</pre></div></div></div><div class=\"sk-serial\"><div class=\"sk-item sk-dashed-wrapped\"><div class=\"sk-label-container\"><div class=\"sk-label sk-toggleable\"><input class=\"sk-toggleable__control sk-hidden--visually\" id=\"sk-estimator-id-135\" type=\"checkbox\" ><label for=\"sk-estimator-id-135\" class=\"sk-toggleable__label sk-toggleable__label-arrow\">preprocess: ColumnTransformer</label><div class=\"sk-toggleable__content\"><pre>ColumnTransformer(transformers=[(&#x27;cat&#x27;, OneHotEncoder(handle_unknown=&#x27;ignore&#x27;),\n",
       "                                 [&#x27;B01&#x27;, &#x27;B02&#x27;, &#x27;B03&#x27;, &#x27;B04&#x27;, &#x27;B05&#x27;, &#x27;B06&#x27;,\n",
       "                                  &#x27;B07&#x27;, &#x27;B08&#x27;, &#x27;B09&#x27;, &#x27;B10&#x27;, &#x27;B11&#x27;, &#x27;B12&#x27;,\n",
       "                                  &#x27;B13&#x27;, &#x27;B14&#x27;, &#x27;B15&#x27;, &#x27;B16&#x27;, &#x27;B17&#x27;, &#x27;B18&#x27;,\n",
       "                                  &#x27;B19&#x27;, &#x27;B20&#x27;, &#x27;B21&#x27;, &#x27;B22&#x27;, &#x27;B23&#x27;, &#x27;C01&#x27;,\n",
       "                                  &#x27;C02&#x27;, &#x27;C03&#x27;, &#x27;C04&#x27;, &#x27;C05&#x27;, &#x27;C06&#x27;, &#x27;C07&#x27;, ...]),\n",
       "                                (&#x27;num&#x27;, SimpleImputer(), [])],\n",
       "                  verbose_feature_names_out=False)</pre></div></div></div><div class=\"sk-parallel\"><div class=\"sk-parallel-item\"><div class=\"sk-item\"><div class=\"sk-label-container\"><div class=\"sk-label sk-toggleable\"><input class=\"sk-toggleable__control sk-hidden--visually\" id=\"sk-estimator-id-136\" type=\"checkbox\" ><label for=\"sk-estimator-id-136\" class=\"sk-toggleable__label sk-toggleable__label-arrow\">cat</label><div class=\"sk-toggleable__content\"><pre>[&#x27;B01&#x27;, &#x27;B02&#x27;, &#x27;B03&#x27;, &#x27;B04&#x27;, &#x27;B05&#x27;, &#x27;B06&#x27;, &#x27;B07&#x27;, &#x27;B08&#x27;, &#x27;B09&#x27;, &#x27;B10&#x27;, &#x27;B11&#x27;, &#x27;B12&#x27;, &#x27;B13&#x27;, &#x27;B14&#x27;, &#x27;B15&#x27;, &#x27;B16&#x27;, &#x27;B17&#x27;, &#x27;B18&#x27;, &#x27;B19&#x27;, &#x27;B20&#x27;, &#x27;B21&#x27;, &#x27;B22&#x27;, &#x27;B23&#x27;, &#x27;C01&#x27;, &#x27;C02&#x27;, &#x27;C03&#x27;, &#x27;C04&#x27;, &#x27;C05&#x27;, &#x27;C06&#x27;, &#x27;C07&#x27;, &#x27;F01&#x27;, &#x27;F02&#x27;, &#x27;F03&#x27;, &#x27;F04&#x27;, &#x27;F05&#x27;, &#x27;F06&#x27;, &#x27;F07&#x27;, &#x27;F08&#x27;, &#x27;F09&#x27;, &#x27;F10&#x27;, &#x27;F11&#x27;, &#x27;F12&#x27;, &#x27;F13&#x27;, &#x27;F14&#x27;, &#x27;F15&#x27;, &#x27;F16&#x27;, &#x27;F17&#x27;, &#x27;F18&#x27;, &#x27;F19&#x27;, &#x27;F20&#x27;, &#x27;F21&#x27;, &#x27;F22&#x27;, &#x27;F23&#x27;, &#x27;F24&#x27;, &#x27;F25&#x27;, &#x27;F26&#x27;, &#x27;F27&#x27;, &#x27;G01&#x27;, &#x27;G02&#x27;, &#x27;G03&#x27;, &#x27;G04&#x27;, &#x27;G05&#x27;, &#x27;G06&#x27;, &#x27;G07&#x27;, &#x27;G08&#x27;, &#x27;G09&#x27;, &#x27;G10&#x27;, &#x27;G11&#x27;, &#x27;H01&#x27;, &#x27;H02&#x27;, &#x27;H03&#x27;, &#x27;H04&#x27;, &#x27;H05&#x27;, &#x27;H06&#x27;, &#x27;H07&#x27;, &#x27;H08&#x27;, &#x27;H09&#x27;, &#x27;H10&#x27;, &#x27;H11&#x27;, &#x27;H12&#x27;, &#x27;H13&#x27;, &#x27;H14&#x27;, &#x27;H15&#x27;, &#x27;H16&#x27;, &#x27;H17&#x27;, &#x27;J01&#x27;, &#x27;J02&#x27;, &#x27;J03&#x27;, &#x27;J04&#x27;, &#x27;J05&#x27;, &#x27;J06&#x27;, &#x27;J07&#x27;, &#x27;J08&#x27;, &#x27;J09&#x27;, &#x27;J10&#x27;, &#x27;J11&#x27;, &#x27;J12&#x27;, &#x27;K01&#x27;, &#x27;K02&#x27;, &#x27;K03&#x27;, &#x27;K04&#x27;, &#x27;K05&#x27;, &#x27;K06&#x27;, &#x27;K07&#x27;, &#x27;K08&#x27;, &#x27;K09&#x27;, &#x27;K10&#x27;, &#x27;K11&#x27;, &#x27;K12&#x27;, &#x27;K13&#x27;, &#x27;K14&#x27;, &#x27;K15&#x27;, &#x27;K16&#x27;, &#x27;K17&#x27;, &#x27;K18&#x27;, &#x27;L01&#x27;, &#x27;L02&#x27;, &#x27;L03&#x27;, &#x27;L04&#x27;, &#x27;L05&#x27;, &#x27;L06&#x27;, &#x27;M01&#x27;, &#x27;M02&#x27;, &#x27;M03&#x27;, &#x27;M04&#x27;, &#x27;M05&#x27;, &#x27;M06&#x27;, &#x27;M07&#x27;, &#x27;M08&#x27;, &#x27;M09&#x27;, &#x27;M10&#x27;, &#x27;M11&#x27;, &#x27;M12&#x27;, &#x27;M13&#x27;, &#x27;M14&#x27;, &#x27;M15&#x27;, &#x27;M16&#x27;, &#x27;M17&#x27;, &#x27;M18&#x27;, &#x27;M19&#x27;, &#x27;M20&#x27;, &#x27;N01&#x27;, &#x27;N02&#x27;, &#x27;N03&#x27;, &#x27;N04&#x27;, &#x27;N05&#x27;, &#x27;N06&#x27;, &#x27;N07&#x27;, &#x27;N08&#x27;, &#x27;P01&#x27;, &#x27;P02&#x27;, &#x27;P03&#x27;, &#x27;P04&#x27;, &#x27;P05&#x27;, &#x27;P06&#x27;, &#x27;P07&#x27;, &#x27;P08&#x27;, &#x27;P09&#x27;, &#x27;P10&#x27;, &#x27;P11&#x27;, &#x27;P12&#x27;, &#x27;P13&#x27;, &#x27;P14&#x27;, &#x27;P15&#x27;, &#x27;P16&#x27;, &#x27;P17&#x27;, &#x27;P18&#x27;, &#x27;P19&#x27;, &#x27;P20&#x27;, &#x27;P21&#x27;, &#x27;P22&#x27;, &#x27;P23&#x27;, &#x27;P24&#x27;, &#x27;P25&#x27;, &#x27;P26&#x27;, &#x27;P27&#x27;, &#x27;P28&#x27;, &#x27;P29&#x27;, &#x27;Q01&#x27;, &#x27;Q02&#x27;, &#x27;Q03&#x27;, &#x27;Q04&#x27;, &#x27;Q05&#x27;, &#x27;Q06&#x27;, &#x27;Q07&#x27;, &#x27;Q08&#x27;, &#x27;R01&#x27;, &#x27;R02&#x27;, &#x27;R03&#x27;, &#x27;R04&#x27;, &#x27;R05&#x27;, &#x27;R06&#x27;, &#x27;R07&#x27;, &#x27;R08&#x27;, &#x27;R09&#x27;, &#x27;R10&#x27;, &#x27;R11&#x27;, &#x27;R12&#x27;, &#x27;R13&#x27;, &#x27;R14&#x27;, &#x27;R15&#x27;, &#x27;R16&#x27;, &#x27;R17&#x27;, &#x27;R18&#x27;]</pre></div></div></div><div class=\"sk-serial\"><div class=\"sk-item\"><div class=\"sk-estimator sk-toggleable\"><input class=\"sk-toggleable__control sk-hidden--visually\" id=\"sk-estimator-id-137\" type=\"checkbox\" ><label for=\"sk-estimator-id-137\" class=\"sk-toggleable__label sk-toggleable__label-arrow\">OneHotEncoder</label><div class=\"sk-toggleable__content\"><pre>OneHotEncoder(handle_unknown=&#x27;ignore&#x27;)</pre></div></div></div></div></div></div><div class=\"sk-parallel-item\"><div class=\"sk-item\"><div class=\"sk-label-container\"><div class=\"sk-label sk-toggleable\"><input class=\"sk-toggleable__control sk-hidden--visually\" id=\"sk-estimator-id-138\" type=\"checkbox\" ><label for=\"sk-estimator-id-138\" class=\"sk-toggleable__label sk-toggleable__label-arrow\">num</label><div class=\"sk-toggleable__content\"><pre>[]</pre></div></div></div><div class=\"sk-serial\"><div class=\"sk-item\"><div class=\"sk-estimator sk-toggleable\"><input class=\"sk-toggleable__control sk-hidden--visually\" id=\"sk-estimator-id-139\" type=\"checkbox\" ><label for=\"sk-estimator-id-139\" class=\"sk-toggleable__label sk-toggleable__label-arrow\">SimpleImputer</label><div class=\"sk-toggleable__content\"><pre>SimpleImputer()</pre></div></div></div></div></div></div></div></div><div class=\"sk-item\"><div class=\"sk-estimator sk-toggleable\"><input class=\"sk-toggleable__control sk-hidden--visually\" id=\"sk-estimator-id-140\" type=\"checkbox\" ><label for=\"sk-estimator-id-140\" class=\"sk-toggleable__label sk-toggleable__label-arrow\">RandomForestClassifier</label><div class=\"sk-toggleable__content\"><pre>RandomForestClassifier(bootstrap=False, criterion=&#x27;entropy&#x27;, max_depth=8,\n",
       "                       min_samples_leaf=2, min_samples_split=6,\n",
       "                       n_estimators=125, random_state=42)</pre></div></div></div></div></div></div></div>"
      ],
      "text/plain": [
       "Pipeline(steps=[('preprocess',\n",
       "                 ColumnTransformer(transformers=[('cat',\n",
       "                                                  OneHotEncoder(handle_unknown='ignore'),\n",
       "                                                  ['B01', 'B02', 'B03', 'B04',\n",
       "                                                   'B05', 'B06', 'B07', 'B08',\n",
       "                                                   'B09', 'B10', 'B11', 'B12',\n",
       "                                                   'B13', 'B14', 'B15', 'B16',\n",
       "                                                   'B17', 'B18', 'B19', 'B20',\n",
       "                                                   'B21', 'B22', 'B23', 'C01',\n",
       "                                                   'C02', 'C03', 'C04', 'C05',\n",
       "                                                   'C06', 'C07', ...]),\n",
       "                                                 ('num', SimpleImputer(), [])],\n",
       "                                   verbose_feature_names_out=False)),\n",
       "                ('classifier',\n",
       "                 RandomForestClassifier(bootstrap=False, criterion='entropy',\n",
       "                                        max_depth=8, min_samples_leaf=2,\n",
       "                                        min_samples_split=6, n_estimators=125,\n",
       "                                        random_state=42))])"
      ]
     },
     "execution_count": 186,
     "metadata": {},
     "output_type": "execute_result"
    }
   ],
   "source": [
    "# forest_pipe.set_params(classifier__n_estimators = gridsearch.best_params_['classifier__n_estimators'],\n",
    "#                        classifier__criterion = gridsearch.best_params_['classifier__criterion'],\n",
    "#                        classifier__max_depth = gridsearch.best_params_['classifier__max_depth'],\n",
    "#                        classifier__bootstrap = gridsearch.best_params_['classifier__bootstrap'],\n",
    "#                       )\n",
    "\n",
    "forest_pipe.set_params(classifier__n_estimators = 125,\n",
    "                       classifier__criterion = 'entropy',\n",
    "                       classifier__max_depth = 8,\n",
    "                       classifier__bootstrap = False,\n",
    "                      )\n",
    "\n",
    "forest_pipe.fit(X_train, y_train)"
   ]
  },
  {
   "cell_type": "code",
   "execution_count": 187,
   "metadata": {
    "scrolled": true
   },
   "outputs": [
    {
     "name": "stdout",
     "output_type": "stream",
     "text": [
      "Training data prediction accuracy:  0.9839771729587358\n",
      "CV train accuracy: 0.9637842548192654\n"
     ]
    }
   ],
   "source": [
    "#Getting predictions from pipeline using training data\n",
    "y_pred = forest_pipe.predict(X_train)\n",
    "#Checking accuracy of predictions\n",
    "print(f\"Training data prediction accuracy: \", accuracy_score(y_train, y_pred))\n",
    "\n",
    "#getting cross validation score for training data \n",
    "print(f\"CV train accuracy: {cross_val_score(forest_pipe, X_train, y_train, cv=5, scoring = 'accuracy').mean()}\")"
   ]
  },
  {
   "cell_type": "markdown",
   "metadata": {},
   "source": [
    "# TruncatedSVD"
   ]
  },
  {
   "cell_type": "code",
   "execution_count": 127,
   "metadata": {},
   "outputs": [
    {
     "data": {
      "text/html": [
       "<style>#sk-container-id-22 {color: black;background-color: white;}#sk-container-id-22 pre{padding: 0;}#sk-container-id-22 div.sk-toggleable {background-color: white;}#sk-container-id-22 label.sk-toggleable__label {cursor: pointer;display: block;width: 100%;margin-bottom: 0;padding: 0.3em;box-sizing: border-box;text-align: center;}#sk-container-id-22 label.sk-toggleable__label-arrow:before {content: \"▸\";float: left;margin-right: 0.25em;color: #696969;}#sk-container-id-22 label.sk-toggleable__label-arrow:hover:before {color: black;}#sk-container-id-22 div.sk-estimator:hover label.sk-toggleable__label-arrow:before {color: black;}#sk-container-id-22 div.sk-toggleable__content {max-height: 0;max-width: 0;overflow: hidden;text-align: left;background-color: #f0f8ff;}#sk-container-id-22 div.sk-toggleable__content pre {margin: 0.2em;color: black;border-radius: 0.25em;background-color: #f0f8ff;}#sk-container-id-22 input.sk-toggleable__control:checked~div.sk-toggleable__content {max-height: 200px;max-width: 100%;overflow: auto;}#sk-container-id-22 input.sk-toggleable__control:checked~label.sk-toggleable__label-arrow:before {content: \"▾\";}#sk-container-id-22 div.sk-estimator input.sk-toggleable__control:checked~label.sk-toggleable__label {background-color: #d4ebff;}#sk-container-id-22 div.sk-label input.sk-toggleable__control:checked~label.sk-toggleable__label {background-color: #d4ebff;}#sk-container-id-22 input.sk-hidden--visually {border: 0;clip: rect(1px 1px 1px 1px);clip: rect(1px, 1px, 1px, 1px);height: 1px;margin: -1px;overflow: hidden;padding: 0;position: absolute;width: 1px;}#sk-container-id-22 div.sk-estimator {font-family: monospace;background-color: #f0f8ff;border: 1px dotted black;border-radius: 0.25em;box-sizing: border-box;margin-bottom: 0.5em;}#sk-container-id-22 div.sk-estimator:hover {background-color: #d4ebff;}#sk-container-id-22 div.sk-parallel-item::after {content: \"\";width: 100%;border-bottom: 1px solid gray;flex-grow: 1;}#sk-container-id-22 div.sk-label:hover label.sk-toggleable__label {background-color: #d4ebff;}#sk-container-id-22 div.sk-serial::before {content: \"\";position: absolute;border-left: 1px solid gray;box-sizing: border-box;top: 0;bottom: 0;left: 50%;z-index: 0;}#sk-container-id-22 div.sk-serial {display: flex;flex-direction: column;align-items: center;background-color: white;padding-right: 0.2em;padding-left: 0.2em;position: relative;}#sk-container-id-22 div.sk-item {position: relative;z-index: 1;}#sk-container-id-22 div.sk-parallel {display: flex;align-items: stretch;justify-content: center;background-color: white;position: relative;}#sk-container-id-22 div.sk-item::before, #sk-container-id-22 div.sk-parallel-item::before {content: \"\";position: absolute;border-left: 1px solid gray;box-sizing: border-box;top: 0;bottom: 0;left: 50%;z-index: -1;}#sk-container-id-22 div.sk-parallel-item {display: flex;flex-direction: column;z-index: 1;position: relative;background-color: white;}#sk-container-id-22 div.sk-parallel-item:first-child::after {align-self: flex-end;width: 50%;}#sk-container-id-22 div.sk-parallel-item:last-child::after {align-self: flex-start;width: 50%;}#sk-container-id-22 div.sk-parallel-item:only-child::after {width: 0;}#sk-container-id-22 div.sk-dashed-wrapped {border: 1px dashed gray;margin: 0 0.4em 0.5em 0.4em;box-sizing: border-box;padding-bottom: 0.4em;background-color: white;}#sk-container-id-22 div.sk-label label {font-family: monospace;font-weight: bold;display: inline-block;line-height: 1.2em;}#sk-container-id-22 div.sk-label-container {text-align: center;}#sk-container-id-22 div.sk-container {/* jupyter's `normalize.less` sets `[hidden] { display: none; }` but bootstrap.min.css set `[hidden] { display: none !important; }` so we also need the `!important` here to be able to override the default hidden behavior on the sphinx rendered scikit-learn.org. See: https://github.com/scikit-learn/scikit-learn/issues/21755 */display: inline-block !important;position: relative;}#sk-container-id-22 div.sk-text-repr-fallback {display: none;}</style><div id=\"sk-container-id-22\" class=\"sk-top-container\"><div class=\"sk-text-repr-fallback\"><pre>Pipeline(steps=[(&#x27;preprocess&#x27;,\n",
       "                 ColumnTransformer(transformers=[(&#x27;cat&#x27;,\n",
       "                                                  OneHotEncoder(handle_unknown=&#x27;ignore&#x27;),\n",
       "                                                  [&#x27;B01&#x27;, &#x27;B02&#x27;, &#x27;B03&#x27;, &#x27;B04&#x27;,\n",
       "                                                   &#x27;B05&#x27;, &#x27;B06&#x27;, &#x27;B07&#x27;, &#x27;B08&#x27;,\n",
       "                                                   &#x27;B09&#x27;, &#x27;B10&#x27;, &#x27;B11&#x27;, &#x27;B12&#x27;,\n",
       "                                                   &#x27;B13&#x27;, &#x27;B14&#x27;, &#x27;B15&#x27;, &#x27;B16&#x27;,\n",
       "                                                   &#x27;B17&#x27;, &#x27;B18&#x27;, &#x27;B19&#x27;, &#x27;B20&#x27;,\n",
       "                                                   &#x27;B21&#x27;, &#x27;B22&#x27;, &#x27;B23&#x27;, &#x27;C01&#x27;,\n",
       "                                                   &#x27;C02&#x27;, &#x27;C03&#x27;, &#x27;C04&#x27;, &#x27;C05&#x27;,\n",
       "                                                   &#x27;C06&#x27;, &#x27;C07&#x27;, ...]),\n",
       "                                                 (&#x27;num&#x27;, SimpleImputer(), [])],\n",
       "                                   verbose_feature_names_out=False)),\n",
       "                (&#x27;SVD&#x27;, TruncatedSVD(n_components=200)),\n",
       "                (&#x27;classifier&#x27;,\n",
       "                 RandomForestClassifier(max_depth=12, min_samples_leaf=4,\n",
       "                                        min_samples_split=5,\n",
       "                                        n_estimators=200))])</pre><b>In a Jupyter environment, please rerun this cell to show the HTML representation or trust the notebook. <br />On GitHub, the HTML representation is unable to render, please try loading this page with nbviewer.org.</b></div><div class=\"sk-container\" hidden><div class=\"sk-item sk-dashed-wrapped\"><div class=\"sk-label-container\"><div class=\"sk-label sk-toggleable\"><input class=\"sk-toggleable__control sk-hidden--visually\" id=\"sk-estimator-id-158\" type=\"checkbox\" ><label for=\"sk-estimator-id-158\" class=\"sk-toggleable__label sk-toggleable__label-arrow\">Pipeline</label><div class=\"sk-toggleable__content\"><pre>Pipeline(steps=[(&#x27;preprocess&#x27;,\n",
       "                 ColumnTransformer(transformers=[(&#x27;cat&#x27;,\n",
       "                                                  OneHotEncoder(handle_unknown=&#x27;ignore&#x27;),\n",
       "                                                  [&#x27;B01&#x27;, &#x27;B02&#x27;, &#x27;B03&#x27;, &#x27;B04&#x27;,\n",
       "                                                   &#x27;B05&#x27;, &#x27;B06&#x27;, &#x27;B07&#x27;, &#x27;B08&#x27;,\n",
       "                                                   &#x27;B09&#x27;, &#x27;B10&#x27;, &#x27;B11&#x27;, &#x27;B12&#x27;,\n",
       "                                                   &#x27;B13&#x27;, &#x27;B14&#x27;, &#x27;B15&#x27;, &#x27;B16&#x27;,\n",
       "                                                   &#x27;B17&#x27;, &#x27;B18&#x27;, &#x27;B19&#x27;, &#x27;B20&#x27;,\n",
       "                                                   &#x27;B21&#x27;, &#x27;B22&#x27;, &#x27;B23&#x27;, &#x27;C01&#x27;,\n",
       "                                                   &#x27;C02&#x27;, &#x27;C03&#x27;, &#x27;C04&#x27;, &#x27;C05&#x27;,\n",
       "                                                   &#x27;C06&#x27;, &#x27;C07&#x27;, ...]),\n",
       "                                                 (&#x27;num&#x27;, SimpleImputer(), [])],\n",
       "                                   verbose_feature_names_out=False)),\n",
       "                (&#x27;SVD&#x27;, TruncatedSVD(n_components=200)),\n",
       "                (&#x27;classifier&#x27;,\n",
       "                 RandomForestClassifier(max_depth=12, min_samples_leaf=4,\n",
       "                                        min_samples_split=5,\n",
       "                                        n_estimators=200))])</pre></div></div></div><div class=\"sk-serial\"><div class=\"sk-item sk-dashed-wrapped\"><div class=\"sk-label-container\"><div class=\"sk-label sk-toggleable\"><input class=\"sk-toggleable__control sk-hidden--visually\" id=\"sk-estimator-id-159\" type=\"checkbox\" ><label for=\"sk-estimator-id-159\" class=\"sk-toggleable__label sk-toggleable__label-arrow\">preprocess: ColumnTransformer</label><div class=\"sk-toggleable__content\"><pre>ColumnTransformer(transformers=[(&#x27;cat&#x27;, OneHotEncoder(handle_unknown=&#x27;ignore&#x27;),\n",
       "                                 [&#x27;B01&#x27;, &#x27;B02&#x27;, &#x27;B03&#x27;, &#x27;B04&#x27;, &#x27;B05&#x27;, &#x27;B06&#x27;,\n",
       "                                  &#x27;B07&#x27;, &#x27;B08&#x27;, &#x27;B09&#x27;, &#x27;B10&#x27;, &#x27;B11&#x27;, &#x27;B12&#x27;,\n",
       "                                  &#x27;B13&#x27;, &#x27;B14&#x27;, &#x27;B15&#x27;, &#x27;B16&#x27;, &#x27;B17&#x27;, &#x27;B18&#x27;,\n",
       "                                  &#x27;B19&#x27;, &#x27;B20&#x27;, &#x27;B21&#x27;, &#x27;B22&#x27;, &#x27;B23&#x27;, &#x27;C01&#x27;,\n",
       "                                  &#x27;C02&#x27;, &#x27;C03&#x27;, &#x27;C04&#x27;, &#x27;C05&#x27;, &#x27;C06&#x27;, &#x27;C07&#x27;, ...]),\n",
       "                                (&#x27;num&#x27;, SimpleImputer(), [])],\n",
       "                  verbose_feature_names_out=False)</pre></div></div></div><div class=\"sk-parallel\"><div class=\"sk-parallel-item\"><div class=\"sk-item\"><div class=\"sk-label-container\"><div class=\"sk-label sk-toggleable\"><input class=\"sk-toggleable__control sk-hidden--visually\" id=\"sk-estimator-id-160\" type=\"checkbox\" ><label for=\"sk-estimator-id-160\" class=\"sk-toggleable__label sk-toggleable__label-arrow\">cat</label><div class=\"sk-toggleable__content\"><pre>[&#x27;B01&#x27;, &#x27;B02&#x27;, &#x27;B03&#x27;, &#x27;B04&#x27;, &#x27;B05&#x27;, &#x27;B06&#x27;, &#x27;B07&#x27;, &#x27;B08&#x27;, &#x27;B09&#x27;, &#x27;B10&#x27;, &#x27;B11&#x27;, &#x27;B12&#x27;, &#x27;B13&#x27;, &#x27;B14&#x27;, &#x27;B15&#x27;, &#x27;B16&#x27;, &#x27;B17&#x27;, &#x27;B18&#x27;, &#x27;B19&#x27;, &#x27;B20&#x27;, &#x27;B21&#x27;, &#x27;B22&#x27;, &#x27;B23&#x27;, &#x27;C01&#x27;, &#x27;C02&#x27;, &#x27;C03&#x27;, &#x27;C04&#x27;, &#x27;C05&#x27;, &#x27;C06&#x27;, &#x27;C07&#x27;, &#x27;F01&#x27;, &#x27;F02&#x27;, &#x27;F03&#x27;, &#x27;F04&#x27;, &#x27;F05&#x27;, &#x27;F06&#x27;, &#x27;F07&#x27;, &#x27;F08&#x27;, &#x27;F09&#x27;, &#x27;F10&#x27;, &#x27;F11&#x27;, &#x27;F12&#x27;, &#x27;F13&#x27;, &#x27;F14&#x27;, &#x27;F15&#x27;, &#x27;F16&#x27;, &#x27;F17&#x27;, &#x27;F18&#x27;, &#x27;F19&#x27;, &#x27;F20&#x27;, &#x27;F21&#x27;, &#x27;F22&#x27;, &#x27;F23&#x27;, &#x27;F24&#x27;, &#x27;F25&#x27;, &#x27;F26&#x27;, &#x27;F27&#x27;, &#x27;G01&#x27;, &#x27;G02&#x27;, &#x27;G03&#x27;, &#x27;G04&#x27;, &#x27;G05&#x27;, &#x27;G06&#x27;, &#x27;G07&#x27;, &#x27;G08&#x27;, &#x27;G09&#x27;, &#x27;G10&#x27;, &#x27;G11&#x27;, &#x27;H01&#x27;, &#x27;H02&#x27;, &#x27;H03&#x27;, &#x27;H04&#x27;, &#x27;H05&#x27;, &#x27;H06&#x27;, &#x27;H07&#x27;, &#x27;H08&#x27;, &#x27;H09&#x27;, &#x27;H10&#x27;, &#x27;H11&#x27;, &#x27;H12&#x27;, &#x27;H13&#x27;, &#x27;H14&#x27;, &#x27;H15&#x27;, &#x27;H16&#x27;, &#x27;H17&#x27;, &#x27;J01&#x27;, &#x27;J02&#x27;, &#x27;J03&#x27;, &#x27;J04&#x27;, &#x27;J05&#x27;, &#x27;J06&#x27;, &#x27;J07&#x27;, &#x27;J08&#x27;, &#x27;J09&#x27;, &#x27;J10&#x27;, &#x27;J11&#x27;, &#x27;J12&#x27;, &#x27;K01&#x27;, &#x27;K02&#x27;, &#x27;K03&#x27;, &#x27;K04&#x27;, &#x27;K05&#x27;, &#x27;K06&#x27;, &#x27;K07&#x27;, &#x27;K08&#x27;, &#x27;K09&#x27;, &#x27;K10&#x27;, &#x27;K11&#x27;, &#x27;K12&#x27;, &#x27;K13&#x27;, &#x27;K14&#x27;, &#x27;K15&#x27;, &#x27;K16&#x27;, &#x27;K17&#x27;, &#x27;K18&#x27;, &#x27;L01&#x27;, &#x27;L02&#x27;, &#x27;L03&#x27;, &#x27;L04&#x27;, &#x27;L05&#x27;, &#x27;L06&#x27;, &#x27;M01&#x27;, &#x27;M02&#x27;, &#x27;M03&#x27;, &#x27;M04&#x27;, &#x27;M05&#x27;, &#x27;M06&#x27;, &#x27;M07&#x27;, &#x27;M08&#x27;, &#x27;M09&#x27;, &#x27;M10&#x27;, &#x27;M11&#x27;, &#x27;M12&#x27;, &#x27;M13&#x27;, &#x27;M14&#x27;, &#x27;M15&#x27;, &#x27;M16&#x27;, &#x27;M17&#x27;, &#x27;M18&#x27;, &#x27;M19&#x27;, &#x27;M20&#x27;, &#x27;N01&#x27;, &#x27;N02&#x27;, &#x27;N03&#x27;, &#x27;N04&#x27;, &#x27;N05&#x27;, &#x27;N06&#x27;, &#x27;N07&#x27;, &#x27;N08&#x27;, &#x27;P01&#x27;, &#x27;P02&#x27;, &#x27;P03&#x27;, &#x27;P04&#x27;, &#x27;P05&#x27;, &#x27;P06&#x27;, &#x27;P07&#x27;, &#x27;P08&#x27;, &#x27;P09&#x27;, &#x27;P10&#x27;, &#x27;P11&#x27;, &#x27;P12&#x27;, &#x27;P13&#x27;, &#x27;P14&#x27;, &#x27;P15&#x27;, &#x27;P16&#x27;, &#x27;P17&#x27;, &#x27;P18&#x27;, &#x27;P19&#x27;, &#x27;P20&#x27;, &#x27;P21&#x27;, &#x27;P22&#x27;, &#x27;P23&#x27;, &#x27;P24&#x27;, &#x27;P25&#x27;, &#x27;P26&#x27;, &#x27;P27&#x27;, &#x27;P28&#x27;, &#x27;P29&#x27;, &#x27;Q01&#x27;, &#x27;Q02&#x27;, &#x27;Q03&#x27;, &#x27;Q04&#x27;, &#x27;Q05&#x27;, &#x27;Q06&#x27;, &#x27;Q07&#x27;, &#x27;Q08&#x27;, &#x27;R01&#x27;, &#x27;R02&#x27;, &#x27;R03&#x27;, &#x27;R04&#x27;, &#x27;R05&#x27;, &#x27;R06&#x27;, &#x27;R07&#x27;, &#x27;R08&#x27;, &#x27;R09&#x27;, &#x27;R10&#x27;, &#x27;R11&#x27;, &#x27;R12&#x27;, &#x27;R13&#x27;, &#x27;R14&#x27;, &#x27;R15&#x27;, &#x27;R16&#x27;, &#x27;R17&#x27;, &#x27;R18&#x27;]</pre></div></div></div><div class=\"sk-serial\"><div class=\"sk-item\"><div class=\"sk-estimator sk-toggleable\"><input class=\"sk-toggleable__control sk-hidden--visually\" id=\"sk-estimator-id-161\" type=\"checkbox\" ><label for=\"sk-estimator-id-161\" class=\"sk-toggleable__label sk-toggleable__label-arrow\">OneHotEncoder</label><div class=\"sk-toggleable__content\"><pre>OneHotEncoder(handle_unknown=&#x27;ignore&#x27;)</pre></div></div></div></div></div></div><div class=\"sk-parallel-item\"><div class=\"sk-item\"><div class=\"sk-label-container\"><div class=\"sk-label sk-toggleable\"><input class=\"sk-toggleable__control sk-hidden--visually\" id=\"sk-estimator-id-162\" type=\"checkbox\" ><label for=\"sk-estimator-id-162\" class=\"sk-toggleable__label sk-toggleable__label-arrow\">num</label><div class=\"sk-toggleable__content\"><pre>[]</pre></div></div></div><div class=\"sk-serial\"><div class=\"sk-item\"><div class=\"sk-estimator sk-toggleable\"><input class=\"sk-toggleable__control sk-hidden--visually\" id=\"sk-estimator-id-163\" type=\"checkbox\" ><label for=\"sk-estimator-id-163\" class=\"sk-toggleable__label sk-toggleable__label-arrow\">SimpleImputer</label><div class=\"sk-toggleable__content\"><pre>SimpleImputer()</pre></div></div></div></div></div></div></div></div><div class=\"sk-item\"><div class=\"sk-estimator sk-toggleable\"><input class=\"sk-toggleable__control sk-hidden--visually\" id=\"sk-estimator-id-164\" type=\"checkbox\" ><label for=\"sk-estimator-id-164\" class=\"sk-toggleable__label sk-toggleable__label-arrow\">TruncatedSVD</label><div class=\"sk-toggleable__content\"><pre>TruncatedSVD(n_components=200)</pre></div></div></div><div class=\"sk-item\"><div class=\"sk-estimator sk-toggleable\"><input class=\"sk-toggleable__control sk-hidden--visually\" id=\"sk-estimator-id-165\" type=\"checkbox\" ><label for=\"sk-estimator-id-165\" class=\"sk-toggleable__label sk-toggleable__label-arrow\">RandomForestClassifier</label><div class=\"sk-toggleable__content\"><pre>RandomForestClassifier(max_depth=12, min_samples_leaf=4, min_samples_split=5,\n",
       "                       n_estimators=200)</pre></div></div></div></div></div></div></div>"
      ],
      "text/plain": [
       "Pipeline(steps=[('preprocess',\n",
       "                 ColumnTransformer(transformers=[('cat',\n",
       "                                                  OneHotEncoder(handle_unknown='ignore'),\n",
       "                                                  ['B01', 'B02', 'B03', 'B04',\n",
       "                                                   'B05', 'B06', 'B07', 'B08',\n",
       "                                                   'B09', 'B10', 'B11', 'B12',\n",
       "                                                   'B13', 'B14', 'B15', 'B16',\n",
       "                                                   'B17', 'B18', 'B19', 'B20',\n",
       "                                                   'B21', 'B22', 'B23', 'C01',\n",
       "                                                   'C02', 'C03', 'C04', 'C05',\n",
       "                                                   'C06', 'C07', ...]),\n",
       "                                                 ('num', SimpleImputer(), [])],\n",
       "                                   verbose_feature_names_out=False)),\n",
       "                ('SVD', TruncatedSVD(n_components=200)),\n",
       "                ('classifier',\n",
       "                 RandomForestClassifier(max_depth=12, min_samples_leaf=4,\n",
       "                                        min_samples_split=5,\n",
       "                                        n_estimators=200))])"
      ]
     },
     "execution_count": 127,
     "metadata": {},
     "output_type": "execute_result"
    }
   ],
   "source": [
    "forest_pipe_SVD = Pipeline(\n",
    "    [\n",
    "        (\"preprocess\", preprocessing),\n",
    "        (\"SVD\", TruncatedSVD(n_components = 200)),\n",
    "        (\"classifier\", RandomForestClassifier(max_depth = 12,\n",
    "                                              n_estimators = 200,\n",
    "                                              min_samples_split = 5,\n",
    "                                              min_samples_leaf = 4,\n",
    "                                              bootstrap = True,\n",
    "                                              \n",
    "                                             )\n",
    "        )\n",
    "    ]\n",
    ")\n",
    "forest_pipe_SVD.fit(X_train, y_train)"
   ]
  },
  {
   "cell_type": "code",
   "execution_count": 129,
   "metadata": {},
   "outputs": [
    {
     "data": {
      "text/html": [
       "<style>#sk-container-id-23 {color: black;background-color: white;}#sk-container-id-23 pre{padding: 0;}#sk-container-id-23 div.sk-toggleable {background-color: white;}#sk-container-id-23 label.sk-toggleable__label {cursor: pointer;display: block;width: 100%;margin-bottom: 0;padding: 0.3em;box-sizing: border-box;text-align: center;}#sk-container-id-23 label.sk-toggleable__label-arrow:before {content: \"▸\";float: left;margin-right: 0.25em;color: #696969;}#sk-container-id-23 label.sk-toggleable__label-arrow:hover:before {color: black;}#sk-container-id-23 div.sk-estimator:hover label.sk-toggleable__label-arrow:before {color: black;}#sk-container-id-23 div.sk-toggleable__content {max-height: 0;max-width: 0;overflow: hidden;text-align: left;background-color: #f0f8ff;}#sk-container-id-23 div.sk-toggleable__content pre {margin: 0.2em;color: black;border-radius: 0.25em;background-color: #f0f8ff;}#sk-container-id-23 input.sk-toggleable__control:checked~div.sk-toggleable__content {max-height: 200px;max-width: 100%;overflow: auto;}#sk-container-id-23 input.sk-toggleable__control:checked~label.sk-toggleable__label-arrow:before {content: \"▾\";}#sk-container-id-23 div.sk-estimator input.sk-toggleable__control:checked~label.sk-toggleable__label {background-color: #d4ebff;}#sk-container-id-23 div.sk-label input.sk-toggleable__control:checked~label.sk-toggleable__label {background-color: #d4ebff;}#sk-container-id-23 input.sk-hidden--visually {border: 0;clip: rect(1px 1px 1px 1px);clip: rect(1px, 1px, 1px, 1px);height: 1px;margin: -1px;overflow: hidden;padding: 0;position: absolute;width: 1px;}#sk-container-id-23 div.sk-estimator {font-family: monospace;background-color: #f0f8ff;border: 1px dotted black;border-radius: 0.25em;box-sizing: border-box;margin-bottom: 0.5em;}#sk-container-id-23 div.sk-estimator:hover {background-color: #d4ebff;}#sk-container-id-23 div.sk-parallel-item::after {content: \"\";width: 100%;border-bottom: 1px solid gray;flex-grow: 1;}#sk-container-id-23 div.sk-label:hover label.sk-toggleable__label {background-color: #d4ebff;}#sk-container-id-23 div.sk-serial::before {content: \"\";position: absolute;border-left: 1px solid gray;box-sizing: border-box;top: 0;bottom: 0;left: 50%;z-index: 0;}#sk-container-id-23 div.sk-serial {display: flex;flex-direction: column;align-items: center;background-color: white;padding-right: 0.2em;padding-left: 0.2em;position: relative;}#sk-container-id-23 div.sk-item {position: relative;z-index: 1;}#sk-container-id-23 div.sk-parallel {display: flex;align-items: stretch;justify-content: center;background-color: white;position: relative;}#sk-container-id-23 div.sk-item::before, #sk-container-id-23 div.sk-parallel-item::before {content: \"\";position: absolute;border-left: 1px solid gray;box-sizing: border-box;top: 0;bottom: 0;left: 50%;z-index: -1;}#sk-container-id-23 div.sk-parallel-item {display: flex;flex-direction: column;z-index: 1;position: relative;background-color: white;}#sk-container-id-23 div.sk-parallel-item:first-child::after {align-self: flex-end;width: 50%;}#sk-container-id-23 div.sk-parallel-item:last-child::after {align-self: flex-start;width: 50%;}#sk-container-id-23 div.sk-parallel-item:only-child::after {width: 0;}#sk-container-id-23 div.sk-dashed-wrapped {border: 1px dashed gray;margin: 0 0.4em 0.5em 0.4em;box-sizing: border-box;padding-bottom: 0.4em;background-color: white;}#sk-container-id-23 div.sk-label label {font-family: monospace;font-weight: bold;display: inline-block;line-height: 1.2em;}#sk-container-id-23 div.sk-label-container {text-align: center;}#sk-container-id-23 div.sk-container {/* jupyter's `normalize.less` sets `[hidden] { display: none; }` but bootstrap.min.css set `[hidden] { display: none !important; }` so we also need the `!important` here to be able to override the default hidden behavior on the sphinx rendered scikit-learn.org. See: https://github.com/scikit-learn/scikit-learn/issues/21755 */display: inline-block !important;position: relative;}#sk-container-id-23 div.sk-text-repr-fallback {display: none;}</style><div id=\"sk-container-id-23\" class=\"sk-top-container\"><div class=\"sk-text-repr-fallback\"><pre>GridSearchCV(cv=5,\n",
       "             estimator=Pipeline(steps=[(&#x27;preprocess&#x27;,\n",
       "                                        ColumnTransformer(transformers=[(&#x27;cat&#x27;,\n",
       "                                                                         OneHotEncoder(handle_unknown=&#x27;ignore&#x27;),\n",
       "                                                                         [&#x27;B01&#x27;,\n",
       "                                                                          &#x27;B02&#x27;,\n",
       "                                                                          &#x27;B03&#x27;,\n",
       "                                                                          &#x27;B04&#x27;,\n",
       "                                                                          &#x27;B05&#x27;,\n",
       "                                                                          &#x27;B06&#x27;,\n",
       "                                                                          &#x27;B07&#x27;,\n",
       "                                                                          &#x27;B08&#x27;,\n",
       "                                                                          &#x27;B09&#x27;,\n",
       "                                                                          &#x27;B10&#x27;,\n",
       "                                                                          &#x27;B11&#x27;,\n",
       "                                                                          &#x27;B12&#x27;,\n",
       "                                                                          &#x27;B13&#x27;,\n",
       "                                                                          &#x27;B14&#x27;,\n",
       "                                                                          &#x27;B15&#x27;,\n",
       "                                                                          &#x27;B16&#x27;,\n",
       "                                                                          &#x27;B17&#x27;,\n",
       "                                                                          &#x27;B18&#x27;,\n",
       "                                                                          &#x27;B19&#x27;,\n",
       "                                                                          &#x27;B20&#x27;,\n",
       "                                                                          &#x27;B21&#x27;,\n",
       "                                                                          &#x27;B22&#x27;,\n",
       "                                                                          &#x27;B23&#x27;,\n",
       "                                                                          &#x27;C01&#x27;,\n",
       "                                                                          &#x27;C02&#x27;,\n",
       "                                                                          &#x27;C03&#x27;,\n",
       "                                                                          &#x27;C04&#x27;,\n",
       "                                                                          &#x27;C05&#x27;,\n",
       "                                                                          &#x27;C06&#x27;,\n",
       "                                                                          &#x27;C07&#x27;, ...]),\n",
       "                                                                        (&#x27;num&#x27;,\n",
       "                                                                         SimpleImputer(),\n",
       "                                                                         [])],\n",
       "                                                          verbose_feature_names_out=False)),\n",
       "                                       (&#x27;SVD&#x27;, TruncatedSVD(n_components=200)),\n",
       "                                       (&#x27;classifier&#x27;,\n",
       "                                        RandomForestClassifier(max_depth=12,\n",
       "                                                               min_samples_leaf=4,\n",
       "                                                               min_samples_split=5,\n",
       "                                                               n_estimators=200))]),\n",
       "             n_jobs=3,\n",
       "             param_grid={&#x27;SVD__n_components&#x27;: [10, 100, 200, 300, 1000],\n",
       "                         &#x27;classifier__max_depth&#x27;: [8, 10, 12],\n",
       "                         &#x27;classifier__n_estimators&#x27;: [175, 200, 225]},\n",
       "             scoring=&#x27;accuracy&#x27;)</pre><b>In a Jupyter environment, please rerun this cell to show the HTML representation or trust the notebook. <br />On GitHub, the HTML representation is unable to render, please try loading this page with nbviewer.org.</b></div><div class=\"sk-container\" hidden><div class=\"sk-item sk-dashed-wrapped\"><div class=\"sk-label-container\"><div class=\"sk-label sk-toggleable\"><input class=\"sk-toggleable__control sk-hidden--visually\" id=\"sk-estimator-id-166\" type=\"checkbox\" ><label for=\"sk-estimator-id-166\" class=\"sk-toggleable__label sk-toggleable__label-arrow\">GridSearchCV</label><div class=\"sk-toggleable__content\"><pre>GridSearchCV(cv=5,\n",
       "             estimator=Pipeline(steps=[(&#x27;preprocess&#x27;,\n",
       "                                        ColumnTransformer(transformers=[(&#x27;cat&#x27;,\n",
       "                                                                         OneHotEncoder(handle_unknown=&#x27;ignore&#x27;),\n",
       "                                                                         [&#x27;B01&#x27;,\n",
       "                                                                          &#x27;B02&#x27;,\n",
       "                                                                          &#x27;B03&#x27;,\n",
       "                                                                          &#x27;B04&#x27;,\n",
       "                                                                          &#x27;B05&#x27;,\n",
       "                                                                          &#x27;B06&#x27;,\n",
       "                                                                          &#x27;B07&#x27;,\n",
       "                                                                          &#x27;B08&#x27;,\n",
       "                                                                          &#x27;B09&#x27;,\n",
       "                                                                          &#x27;B10&#x27;,\n",
       "                                                                          &#x27;B11&#x27;,\n",
       "                                                                          &#x27;B12&#x27;,\n",
       "                                                                          &#x27;B13&#x27;,\n",
       "                                                                          &#x27;B14&#x27;,\n",
       "                                                                          &#x27;B15&#x27;,\n",
       "                                                                          &#x27;B16&#x27;,\n",
       "                                                                          &#x27;B17&#x27;,\n",
       "                                                                          &#x27;B18&#x27;,\n",
       "                                                                          &#x27;B19&#x27;,\n",
       "                                                                          &#x27;B20&#x27;,\n",
       "                                                                          &#x27;B21&#x27;,\n",
       "                                                                          &#x27;B22&#x27;,\n",
       "                                                                          &#x27;B23&#x27;,\n",
       "                                                                          &#x27;C01&#x27;,\n",
       "                                                                          &#x27;C02&#x27;,\n",
       "                                                                          &#x27;C03&#x27;,\n",
       "                                                                          &#x27;C04&#x27;,\n",
       "                                                                          &#x27;C05&#x27;,\n",
       "                                                                          &#x27;C06&#x27;,\n",
       "                                                                          &#x27;C07&#x27;, ...]),\n",
       "                                                                        (&#x27;num&#x27;,\n",
       "                                                                         SimpleImputer(),\n",
       "                                                                         [])],\n",
       "                                                          verbose_feature_names_out=False)),\n",
       "                                       (&#x27;SVD&#x27;, TruncatedSVD(n_components=200)),\n",
       "                                       (&#x27;classifier&#x27;,\n",
       "                                        RandomForestClassifier(max_depth=12,\n",
       "                                                               min_samples_leaf=4,\n",
       "                                                               min_samples_split=5,\n",
       "                                                               n_estimators=200))]),\n",
       "             n_jobs=3,\n",
       "             param_grid={&#x27;SVD__n_components&#x27;: [10, 100, 200, 300, 1000],\n",
       "                         &#x27;classifier__max_depth&#x27;: [8, 10, 12],\n",
       "                         &#x27;classifier__n_estimators&#x27;: [175, 200, 225]},\n",
       "             scoring=&#x27;accuracy&#x27;)</pre></div></div></div><div class=\"sk-parallel\"><div class=\"sk-parallel-item\"><div class=\"sk-item\"><div class=\"sk-label-container\"><div class=\"sk-label sk-toggleable\"><input class=\"sk-toggleable__control sk-hidden--visually\" id=\"sk-estimator-id-167\" type=\"checkbox\" ><label for=\"sk-estimator-id-167\" class=\"sk-toggleable__label sk-toggleable__label-arrow\">estimator: Pipeline</label><div class=\"sk-toggleable__content\"><pre>Pipeline(steps=[(&#x27;preprocess&#x27;,\n",
       "                 ColumnTransformer(transformers=[(&#x27;cat&#x27;,\n",
       "                                                  OneHotEncoder(handle_unknown=&#x27;ignore&#x27;),\n",
       "                                                  [&#x27;B01&#x27;, &#x27;B02&#x27;, &#x27;B03&#x27;, &#x27;B04&#x27;,\n",
       "                                                   &#x27;B05&#x27;, &#x27;B06&#x27;, &#x27;B07&#x27;, &#x27;B08&#x27;,\n",
       "                                                   &#x27;B09&#x27;, &#x27;B10&#x27;, &#x27;B11&#x27;, &#x27;B12&#x27;,\n",
       "                                                   &#x27;B13&#x27;, &#x27;B14&#x27;, &#x27;B15&#x27;, &#x27;B16&#x27;,\n",
       "                                                   &#x27;B17&#x27;, &#x27;B18&#x27;, &#x27;B19&#x27;, &#x27;B20&#x27;,\n",
       "                                                   &#x27;B21&#x27;, &#x27;B22&#x27;, &#x27;B23&#x27;, &#x27;C01&#x27;,\n",
       "                                                   &#x27;C02&#x27;, &#x27;C03&#x27;, &#x27;C04&#x27;, &#x27;C05&#x27;,\n",
       "                                                   &#x27;C06&#x27;, &#x27;C07&#x27;, ...]),\n",
       "                                                 (&#x27;num&#x27;, SimpleImputer(), [])],\n",
       "                                   verbose_feature_names_out=False)),\n",
       "                (&#x27;SVD&#x27;, TruncatedSVD(n_components=200)),\n",
       "                (&#x27;classifier&#x27;,\n",
       "                 RandomForestClassifier(max_depth=12, min_samples_leaf=4,\n",
       "                                        min_samples_split=5,\n",
       "                                        n_estimators=200))])</pre></div></div></div><div class=\"sk-serial\"><div class=\"sk-item\"><div class=\"sk-serial\"><div class=\"sk-item sk-dashed-wrapped\"><div class=\"sk-label-container\"><div class=\"sk-label sk-toggleable\"><input class=\"sk-toggleable__control sk-hidden--visually\" id=\"sk-estimator-id-168\" type=\"checkbox\" ><label for=\"sk-estimator-id-168\" class=\"sk-toggleable__label sk-toggleable__label-arrow\">preprocess: ColumnTransformer</label><div class=\"sk-toggleable__content\"><pre>ColumnTransformer(transformers=[(&#x27;cat&#x27;, OneHotEncoder(handle_unknown=&#x27;ignore&#x27;),\n",
       "                                 [&#x27;B01&#x27;, &#x27;B02&#x27;, &#x27;B03&#x27;, &#x27;B04&#x27;, &#x27;B05&#x27;, &#x27;B06&#x27;,\n",
       "                                  &#x27;B07&#x27;, &#x27;B08&#x27;, &#x27;B09&#x27;, &#x27;B10&#x27;, &#x27;B11&#x27;, &#x27;B12&#x27;,\n",
       "                                  &#x27;B13&#x27;, &#x27;B14&#x27;, &#x27;B15&#x27;, &#x27;B16&#x27;, &#x27;B17&#x27;, &#x27;B18&#x27;,\n",
       "                                  &#x27;B19&#x27;, &#x27;B20&#x27;, &#x27;B21&#x27;, &#x27;B22&#x27;, &#x27;B23&#x27;, &#x27;C01&#x27;,\n",
       "                                  &#x27;C02&#x27;, &#x27;C03&#x27;, &#x27;C04&#x27;, &#x27;C05&#x27;, &#x27;C06&#x27;, &#x27;C07&#x27;, ...]),\n",
       "                                (&#x27;num&#x27;, SimpleImputer(), [])],\n",
       "                  verbose_feature_names_out=False)</pre></div></div></div><div class=\"sk-parallel\"><div class=\"sk-parallel-item\"><div class=\"sk-item\"><div class=\"sk-label-container\"><div class=\"sk-label sk-toggleable\"><input class=\"sk-toggleable__control sk-hidden--visually\" id=\"sk-estimator-id-169\" type=\"checkbox\" ><label for=\"sk-estimator-id-169\" class=\"sk-toggleable__label sk-toggleable__label-arrow\">cat</label><div class=\"sk-toggleable__content\"><pre>[&#x27;B01&#x27;, &#x27;B02&#x27;, &#x27;B03&#x27;, &#x27;B04&#x27;, &#x27;B05&#x27;, &#x27;B06&#x27;, &#x27;B07&#x27;, &#x27;B08&#x27;, &#x27;B09&#x27;, &#x27;B10&#x27;, &#x27;B11&#x27;, &#x27;B12&#x27;, &#x27;B13&#x27;, &#x27;B14&#x27;, &#x27;B15&#x27;, &#x27;B16&#x27;, &#x27;B17&#x27;, &#x27;B18&#x27;, &#x27;B19&#x27;, &#x27;B20&#x27;, &#x27;B21&#x27;, &#x27;B22&#x27;, &#x27;B23&#x27;, &#x27;C01&#x27;, &#x27;C02&#x27;, &#x27;C03&#x27;, &#x27;C04&#x27;, &#x27;C05&#x27;, &#x27;C06&#x27;, &#x27;C07&#x27;, &#x27;F01&#x27;, &#x27;F02&#x27;, &#x27;F03&#x27;, &#x27;F04&#x27;, &#x27;F05&#x27;, &#x27;F06&#x27;, &#x27;F07&#x27;, &#x27;F08&#x27;, &#x27;F09&#x27;, &#x27;F10&#x27;, &#x27;F11&#x27;, &#x27;F12&#x27;, &#x27;F13&#x27;, &#x27;F14&#x27;, &#x27;F15&#x27;, &#x27;F16&#x27;, &#x27;F17&#x27;, &#x27;F18&#x27;, &#x27;F19&#x27;, &#x27;F20&#x27;, &#x27;F21&#x27;, &#x27;F22&#x27;, &#x27;F23&#x27;, &#x27;F24&#x27;, &#x27;F25&#x27;, &#x27;F26&#x27;, &#x27;F27&#x27;, &#x27;G01&#x27;, &#x27;G02&#x27;, &#x27;G03&#x27;, &#x27;G04&#x27;, &#x27;G05&#x27;, &#x27;G06&#x27;, &#x27;G07&#x27;, &#x27;G08&#x27;, &#x27;G09&#x27;, &#x27;G10&#x27;, &#x27;G11&#x27;, &#x27;H01&#x27;, &#x27;H02&#x27;, &#x27;H03&#x27;, &#x27;H04&#x27;, &#x27;H05&#x27;, &#x27;H06&#x27;, &#x27;H07&#x27;, &#x27;H08&#x27;, &#x27;H09&#x27;, &#x27;H10&#x27;, &#x27;H11&#x27;, &#x27;H12&#x27;, &#x27;H13&#x27;, &#x27;H14&#x27;, &#x27;H15&#x27;, &#x27;H16&#x27;, &#x27;H17&#x27;, &#x27;J01&#x27;, &#x27;J02&#x27;, &#x27;J03&#x27;, &#x27;J04&#x27;, &#x27;J05&#x27;, &#x27;J06&#x27;, &#x27;J07&#x27;, &#x27;J08&#x27;, &#x27;J09&#x27;, &#x27;J10&#x27;, &#x27;J11&#x27;, &#x27;J12&#x27;, &#x27;K01&#x27;, &#x27;K02&#x27;, &#x27;K03&#x27;, &#x27;K04&#x27;, &#x27;K05&#x27;, &#x27;K06&#x27;, &#x27;K07&#x27;, &#x27;K08&#x27;, &#x27;K09&#x27;, &#x27;K10&#x27;, &#x27;K11&#x27;, &#x27;K12&#x27;, &#x27;K13&#x27;, &#x27;K14&#x27;, &#x27;K15&#x27;, &#x27;K16&#x27;, &#x27;K17&#x27;, &#x27;K18&#x27;, &#x27;L01&#x27;, &#x27;L02&#x27;, &#x27;L03&#x27;, &#x27;L04&#x27;, &#x27;L05&#x27;, &#x27;L06&#x27;, &#x27;M01&#x27;, &#x27;M02&#x27;, &#x27;M03&#x27;, &#x27;M04&#x27;, &#x27;M05&#x27;, &#x27;M06&#x27;, &#x27;M07&#x27;, &#x27;M08&#x27;, &#x27;M09&#x27;, &#x27;M10&#x27;, &#x27;M11&#x27;, &#x27;M12&#x27;, &#x27;M13&#x27;, &#x27;M14&#x27;, &#x27;M15&#x27;, &#x27;M16&#x27;, &#x27;M17&#x27;, &#x27;M18&#x27;, &#x27;M19&#x27;, &#x27;M20&#x27;, &#x27;N01&#x27;, &#x27;N02&#x27;, &#x27;N03&#x27;, &#x27;N04&#x27;, &#x27;N05&#x27;, &#x27;N06&#x27;, &#x27;N07&#x27;, &#x27;N08&#x27;, &#x27;P01&#x27;, &#x27;P02&#x27;, &#x27;P03&#x27;, &#x27;P04&#x27;, &#x27;P05&#x27;, &#x27;P06&#x27;, &#x27;P07&#x27;, &#x27;P08&#x27;, &#x27;P09&#x27;, &#x27;P10&#x27;, &#x27;P11&#x27;, &#x27;P12&#x27;, &#x27;P13&#x27;, &#x27;P14&#x27;, &#x27;P15&#x27;, &#x27;P16&#x27;, &#x27;P17&#x27;, &#x27;P18&#x27;, &#x27;P19&#x27;, &#x27;P20&#x27;, &#x27;P21&#x27;, &#x27;P22&#x27;, &#x27;P23&#x27;, &#x27;P24&#x27;, &#x27;P25&#x27;, &#x27;P26&#x27;, &#x27;P27&#x27;, &#x27;P28&#x27;, &#x27;P29&#x27;, &#x27;Q01&#x27;, &#x27;Q02&#x27;, &#x27;Q03&#x27;, &#x27;Q04&#x27;, &#x27;Q05&#x27;, &#x27;Q06&#x27;, &#x27;Q07&#x27;, &#x27;Q08&#x27;, &#x27;R01&#x27;, &#x27;R02&#x27;, &#x27;R03&#x27;, &#x27;R04&#x27;, &#x27;R05&#x27;, &#x27;R06&#x27;, &#x27;R07&#x27;, &#x27;R08&#x27;, &#x27;R09&#x27;, &#x27;R10&#x27;, &#x27;R11&#x27;, &#x27;R12&#x27;, &#x27;R13&#x27;, &#x27;R14&#x27;, &#x27;R15&#x27;, &#x27;R16&#x27;, &#x27;R17&#x27;, &#x27;R18&#x27;]</pre></div></div></div><div class=\"sk-serial\"><div class=\"sk-item\"><div class=\"sk-estimator sk-toggleable\"><input class=\"sk-toggleable__control sk-hidden--visually\" id=\"sk-estimator-id-170\" type=\"checkbox\" ><label for=\"sk-estimator-id-170\" class=\"sk-toggleable__label sk-toggleable__label-arrow\">OneHotEncoder</label><div class=\"sk-toggleable__content\"><pre>OneHotEncoder(handle_unknown=&#x27;ignore&#x27;)</pre></div></div></div></div></div></div><div class=\"sk-parallel-item\"><div class=\"sk-item\"><div class=\"sk-label-container\"><div class=\"sk-label sk-toggleable\"><input class=\"sk-toggleable__control sk-hidden--visually\" id=\"sk-estimator-id-171\" type=\"checkbox\" ><label for=\"sk-estimator-id-171\" class=\"sk-toggleable__label sk-toggleable__label-arrow\">num</label><div class=\"sk-toggleable__content\"><pre>[]</pre></div></div></div><div class=\"sk-serial\"><div class=\"sk-item\"><div class=\"sk-estimator sk-toggleable\"><input class=\"sk-toggleable__control sk-hidden--visually\" id=\"sk-estimator-id-172\" type=\"checkbox\" ><label for=\"sk-estimator-id-172\" class=\"sk-toggleable__label sk-toggleable__label-arrow\">SimpleImputer</label><div class=\"sk-toggleable__content\"><pre>SimpleImputer()</pre></div></div></div></div></div></div></div></div><div class=\"sk-item\"><div class=\"sk-estimator sk-toggleable\"><input class=\"sk-toggleable__control sk-hidden--visually\" id=\"sk-estimator-id-173\" type=\"checkbox\" ><label for=\"sk-estimator-id-173\" class=\"sk-toggleable__label sk-toggleable__label-arrow\">TruncatedSVD</label><div class=\"sk-toggleable__content\"><pre>TruncatedSVD(n_components=200)</pre></div></div></div><div class=\"sk-item\"><div class=\"sk-estimator sk-toggleable\"><input class=\"sk-toggleable__control sk-hidden--visually\" id=\"sk-estimator-id-174\" type=\"checkbox\" ><label for=\"sk-estimator-id-174\" class=\"sk-toggleable__label sk-toggleable__label-arrow\">RandomForestClassifier</label><div class=\"sk-toggleable__content\"><pre>RandomForestClassifier(max_depth=12, min_samples_leaf=4, min_samples_split=5,\n",
       "                       n_estimators=200)</pre></div></div></div></div></div></div></div></div></div></div></div></div>"
      ],
      "text/plain": [
       "GridSearchCV(cv=5,\n",
       "             estimator=Pipeline(steps=[('preprocess',\n",
       "                                        ColumnTransformer(transformers=[('cat',\n",
       "                                                                         OneHotEncoder(handle_unknown='ignore'),\n",
       "                                                                         ['B01',\n",
       "                                                                          'B02',\n",
       "                                                                          'B03',\n",
       "                                                                          'B04',\n",
       "                                                                          'B05',\n",
       "                                                                          'B06',\n",
       "                                                                          'B07',\n",
       "                                                                          'B08',\n",
       "                                                                          'B09',\n",
       "                                                                          'B10',\n",
       "                                                                          'B11',\n",
       "                                                                          'B12',\n",
       "                                                                          'B13',\n",
       "                                                                          'B14',\n",
       "                                                                          'B15',\n",
       "                                                                          'B16',\n",
       "                                                                          'B17',\n",
       "                                                                          'B18',\n",
       "                                                                          'B19',\n",
       "                                                                          'B20',\n",
       "                                                                          'B21',\n",
       "                                                                          'B22',\n",
       "                                                                          'B23',\n",
       "                                                                          'C01',\n",
       "                                                                          'C02',\n",
       "                                                                          'C03',\n",
       "                                                                          'C04',\n",
       "                                                                          'C05',\n",
       "                                                                          'C06',\n",
       "                                                                          'C07', ...]),\n",
       "                                                                        ('num',\n",
       "                                                                         SimpleImputer(),\n",
       "                                                                         [])],\n",
       "                                                          verbose_feature_names_out=False)),\n",
       "                                       ('SVD', TruncatedSVD(n_components=200)),\n",
       "                                       ('classifier',\n",
       "                                        RandomForestClassifier(max_depth=12,\n",
       "                                                               min_samples_leaf=4,\n",
       "                                                               min_samples_split=5,\n",
       "                                                               n_estimators=200))]),\n",
       "             n_jobs=3,\n",
       "             param_grid={'SVD__n_components': [10, 100, 200, 300, 1000],\n",
       "                         'classifier__max_depth': [8, 10, 12],\n",
       "                         'classifier__n_estimators': [175, 200, 225]},\n",
       "             scoring='accuracy')"
      ]
     },
     "execution_count": 129,
     "metadata": {},
     "output_type": "execute_result"
    }
   ],
   "source": [
    "param_grid = {'classifier__n_estimators': [175, 200, 225],\n",
    "              'classifier__max_depth': [8, 10, 12],\n",
    "              'SVD__n_components' : [10, 100, 200, 300, 1000]\n",
    "             }\n",
    "\n",
    "gridsearch = GridSearchCV(estimator=forest_pipe_SVD, param_grid=param_grid, scoring='accuracy', cv=5, n_jobs = 3)\n",
    "# Fit the training data\n",
    "gridsearch.fit(X_train, y_train)"
   ]
  },
  {
   "cell_type": "code",
   "execution_count": 130,
   "metadata": {},
   "outputs": [
    {
     "data": {
      "text/plain": [
       "{'SVD__n_components': 10,\n",
       " 'classifier__max_depth': 10,\n",
       " 'classifier__n_estimators': 200}"
      ]
     },
     "execution_count": 130,
     "metadata": {},
     "output_type": "execute_result"
    }
   ],
   "source": [
    "gridsearch.best_params_"
   ]
  },
  {
   "cell_type": "markdown",
   "metadata": {},
   "source": [
    "### Results \n",
    "\n",
    "- 'SVD__n_components': 10\n",
    "- 'classifier__max_depth': 10\n",
    "- 'classifier__n_estimators': 200"
   ]
  },
  {
   "cell_type": "code",
   "execution_count": null,
   "metadata": {},
   "outputs": [],
   "source": [
    "forest_pipe.set_params(SVD__n_components = gridsearch.best_params_['classifier__bootstrap'],\n",
    "                       classifier__max_depth = gridsearch.best_params_['classifier__max_depth'],\n",
    "                       classifier__min_samples_leaf = gridsearch.best_params_['classifier__min_samples_leaf'],\n",
    "                       classifier__min_samples_split = gridsearch.best_params_['classifier__min_samples_split'],\n",
    "                       classifier__n_estimators = gridsearch.best_params_['classifier__n_estimators'])\n",
    "forest_pipe.fit(X_train, y_train)"
   ]
  },
  {
   "cell_type": "code",
   "execution_count": 131,
   "metadata": {},
   "outputs": [
    {
     "name": "stdout",
     "output_type": "stream",
     "text": [
      "Training data prediction accuracy:  0.9835381913959613\n",
      "CV train accuracy: 0.9534685712635046\n"
     ]
    }
   ],
   "source": [
    "#Getting predictions from pipeline using training data\n",
    "y_pred = forest_pipe_SVD.predict(X_train)\n",
    "#Checking accuracy of predictions\n",
    "print(f\"Training data prediction accuracy: \", accuracy_score(y_train, y_pred))\n",
    "\n",
    "#getting cross validation score for training data \n",
    "print(f\"CV train accuracy: {cross_val_score(forest_pipe_SVD, X_train, y_train, cv=5, scoring = 'accuracy').mean()}\")"
   ]
  },
  {
   "cell_type": "markdown",
   "metadata": {},
   "source": [
    "# Catagorical Analysis"
   ]
  },
  {
   "cell_type": "code",
   "execution_count": 175,
   "metadata": {},
   "outputs": [],
   "source": [
    "categorical_processing = OneHotEncoder(handle_unknown='ignore')\n",
    "numerical_pipe = SimpleImputer(strategy=\"mean\")\n",
    "\n",
    "preprocessing = ColumnTransformer(\n",
    "    [\n",
    "        (\"cat\", categorical_processing, categorical_columns),\n",
    "        (\"num\", numerical_pipe, numerical_columns),\n",
    "    ],\n",
    "    verbose_feature_names_out=False,\n",
    ")\n",
    "\n",
    "forest_pipe_2 = Pipeline(\n",
    "    [\n",
    "        (\"preprocess\", preprocessing),\n",
    "        (\"classifier\", RandomForestClassifier(bootstrap=False,\n",
    "                                              criterion='entropy',\n",
    "                                              max_depth=8,\n",
    "                                              n_estimators=125,\n",
    "                                              random_state=42\n",
    "                                             )\n",
    "        ),\n",
    "    ]\n",
    ")"
   ]
  },
  {
   "cell_type": "code",
   "execution_count": 176,
   "metadata": {},
   "outputs": [],
   "source": [
    "for key in X_train_dict:\n",
    "    categorical_columns = X_train_dict[key]\n",
    "    X_train_subset = X_train[categorical_columns]\n",
    "    forest_pipe_2.set_params(preprocess__transformers = [(\"cat\", categorical_processing, categorical_columns)])\n",
    "    forest_pipe_2.fit(X_train_subset, y_train)\n",
    "    y_pred = forest_pipe_2.predict(X_train_subset)\n",
    "    forest_scores_dict[key] = {'train score' : accuracy_score(y_train, y_pred), \n",
    "                               'cross validation score' : cross_val_score(forest_pipe_2, \n",
    "                                                                          X_train_subset, \n",
    "                                                                          y_train, \n",
    "                                                                          cv=5, \n",
    "                                                                          scoring = 'accuracy').mean()}"
   ]
  },
  {
   "cell_type": "code",
   "execution_count": 192,
   "metadata": {},
   "outputs": [
    {
     "data": {
      "text/html": [
       "<div>\n",
       "<style scoped>\n",
       "    .dataframe tbody tr th:only-of-type {\n",
       "        vertical-align: middle;\n",
       "    }\n",
       "\n",
       "    .dataframe tbody tr th {\n",
       "        vertical-align: top;\n",
       "    }\n",
       "\n",
       "    .dataframe thead th {\n",
       "        text-align: right;\n",
       "    }\n",
       "</style>\n",
       "<table border=\"1\" class=\"dataframe\">\n",
       "  <thead>\n",
       "    <tr style=\"text-align: right;\">\n",
       "      <th></th>\n",
       "      <th>importance</th>\n",
       "    </tr>\n",
       "    <tr>\n",
       "      <th>feature</th>\n",
       "      <th></th>\n",
       "    </tr>\n",
       "  </thead>\n",
       "  <tbody>\n",
       "    <tr>\n",
       "      <th>P28</th>\n",
       "      <td>0.066346</td>\n",
       "    </tr>\n",
       "    <tr>\n",
       "      <th>H05</th>\n",
       "      <td>0.060184</td>\n",
       "    </tr>\n",
       "    <tr>\n",
       "      <th>K09</th>\n",
       "      <td>0.060059</td>\n",
       "    </tr>\n",
       "    <tr>\n",
       "      <th>P29</th>\n",
       "      <td>0.051599</td>\n",
       "    </tr>\n",
       "    <tr>\n",
       "      <th>J10</th>\n",
       "      <td>0.049123</td>\n",
       "    </tr>\n",
       "    <tr>\n",
       "      <th>N01</th>\n",
       "      <td>0.045507</td>\n",
       "    </tr>\n",
       "    <tr>\n",
       "      <th>H03</th>\n",
       "      <td>0.044711</td>\n",
       "    </tr>\n",
       "    <tr>\n",
       "      <th>G01</th>\n",
       "      <td>0.041729</td>\n",
       "    </tr>\n",
       "    <tr>\n",
       "      <th>H02</th>\n",
       "      <td>0.039745</td>\n",
       "    </tr>\n",
       "    <tr>\n",
       "      <th>K11</th>\n",
       "      <td>0.039314</td>\n",
       "    </tr>\n",
       "  </tbody>\n",
       "</table>\n",
       "</div>"
      ],
      "text/plain": [
       "         importance\n",
       "feature            \n",
       "P28        0.066346\n",
       "H05        0.060184\n",
       "K09        0.060059\n",
       "P29        0.051599\n",
       "J10        0.049123\n",
       "N01        0.045507\n",
       "H03        0.044711\n",
       "G01        0.041729\n",
       "H02        0.039745\n",
       "K11        0.039314"
      ]
     },
     "execution_count": 192,
     "metadata": {},
     "output_type": "execute_result"
    }
   ],
   "source": [
    "forest_importances = get_feature_importances(forest_pipe)\n",
    "forest_importances.nlargest(10, columns= 'importance')"
   ]
  },
  {
   "cell_type": "code",
   "execution_count": 193,
   "metadata": {},
   "outputs": [
    {
     "data": {
      "text/html": [
       "<div>\n",
       "<style scoped>\n",
       "    .dataframe tbody tr th:only-of-type {\n",
       "        vertical-align: middle;\n",
       "    }\n",
       "\n",
       "    .dataframe tbody tr th {\n",
       "        vertical-align: top;\n",
       "    }\n",
       "\n",
       "    .dataframe thead th {\n",
       "        text-align: right;\n",
       "    }\n",
       "</style>\n",
       "<table border=\"1\" class=\"dataframe\">\n",
       "  <thead>\n",
       "    <tr style=\"text-align: right;\">\n",
       "      <th></th>\n",
       "      <th>importance</th>\n",
       "    </tr>\n",
       "    <tr>\n",
       "      <th>feature</th>\n",
       "      <th></th>\n",
       "    </tr>\n",
       "  </thead>\n",
       "  <tbody>\n",
       "    <tr>\n",
       "      <th>B10</th>\n",
       "      <td>0.000007</td>\n",
       "    </tr>\n",
       "    <tr>\n",
       "      <th>B05</th>\n",
       "      <td>0.000018</td>\n",
       "    </tr>\n",
       "    <tr>\n",
       "      <th>B09</th>\n",
       "      <td>0.000022</td>\n",
       "    </tr>\n",
       "    <tr>\n",
       "      <th>B07</th>\n",
       "      <td>0.000025</td>\n",
       "    </tr>\n",
       "    <tr>\n",
       "      <th>C07</th>\n",
       "      <td>0.000034</td>\n",
       "    </tr>\n",
       "    <tr>\n",
       "      <th>C03</th>\n",
       "      <td>0.000042</td>\n",
       "    </tr>\n",
       "    <tr>\n",
       "      <th>B13</th>\n",
       "      <td>0.000052</td>\n",
       "    </tr>\n",
       "    <tr>\n",
       "      <th>B04</th>\n",
       "      <td>0.000061</td>\n",
       "    </tr>\n",
       "    <tr>\n",
       "      <th>B17</th>\n",
       "      <td>0.000063</td>\n",
       "    </tr>\n",
       "    <tr>\n",
       "      <th>R16</th>\n",
       "      <td>0.000065</td>\n",
       "    </tr>\n",
       "  </tbody>\n",
       "</table>\n",
       "</div>"
      ],
      "text/plain": [
       "         importance\n",
       "feature            \n",
       "B10        0.000007\n",
       "B05        0.000018\n",
       "B09        0.000022\n",
       "B07        0.000025\n",
       "C07        0.000034\n",
       "C03        0.000042\n",
       "B13        0.000052\n",
       "B04        0.000061\n",
       "B17        0.000063\n",
       "R16        0.000065"
      ]
     },
     "execution_count": 193,
     "metadata": {},
     "output_type": "execute_result"
    }
   ],
   "source": [
    "forest_importances.nsmallest(10, columns= 'importance')"
   ]
  },
  {
   "cell_type": "markdown",
   "metadata": {},
   "source": [
    "As we can see the Random Forest takes into account all the features. Lets see how the model preforms with the top 10 features in terms of importance"
   ]
  },
  {
   "cell_type": "code",
   "execution_count": 231,
   "metadata": {},
   "outputs": [],
   "source": [
    "most_important_features = list(forest_importances.nlargest(10, columns= 'importance').index)\n",
    "most_important_features = ['H03', 'G01', 'H02', 'K11']"
   ]
  },
  {
   "cell_type": "code",
   "execution_count": 232,
   "metadata": {},
   "outputs": [
    {
     "name": "stdout",
     "output_type": "stream",
     "text": [
      "train score 0.9506145741878841\n",
      "cross validation score 0.9413963352398559\n"
     ]
    }
   ],
   "source": [
    "categorical_columns = most_important_features\n",
    "X_train_subset = X_train[categorical_columns]\n",
    "forest_pipe_2.set_params(preprocess__transformers = [(\"cat\", categorical_processing, categorical_columns)])\n",
    "forest_pipe_2.fit(X_train_subset, y_train)\n",
    "y_pred = forest_pipe_2.predict(X_train_subset)\n",
    "print(f'train score' , accuracy_score(y_train, y_pred))\n",
    "print(f'cross validation score' , cross_val_score(forest_pipe_2,\n",
    "                                           X_train_subset, \n",
    "                                           y_train, \n",
    "                                           cv=5, \n",
    "                                           scoring = 'accuracy').mean())"
   ]
  },
  {
   "cell_type": "code",
   "execution_count": 221,
   "metadata": {},
   "outputs": [],
   "source": [
    "most_important_features = list(get_feature_importances(forest_pipe).nlargest(5, columns= 'importance').index)"
   ]
  },
  {
   "cell_type": "code",
   "execution_count": 223,
   "metadata": {},
   "outputs": [
    {
     "name": "stdout",
     "output_type": "stream",
     "text": [
      "train score 0.9598331870061457\n",
      "cross validation score 0.9479810599495446\n"
     ]
    }
   ],
   "source": [
    "categorical_columns = most_important_features\n",
    "X_train_subset = X_train[categorical_columns]\n",
    "forest_pipe_2.set_params(preprocess__transformers = [(\"cat\", categorical_processing, categorical_columns)])\n",
    "forest_pipe_2.fit(X_train_subset, y_train)\n",
    "y_pred = forest_pipe_2.predict(X_train_subset)\n",
    "print(f'train score' , accuracy_score(y_train, y_pred))\n",
    "print(f'cross validation score' , cross_val_score(forest_pipe_2,\n",
    "                                           X_train_subset, \n",
    "                                           y_train, \n",
    "                                           cv=5, \n",
    "                                           scoring = 'accuracy').mean())"
   ]
  },
  {
   "cell_type": "code",
   "execution_count": 233,
   "metadata": {
    "scrolled": false
   },
   "outputs": [
    {
     "name": "stdout",
     "output_type": "stream",
     "text": [
      "test score 0.9447004608294931\n"
     ]
    }
   ],
   "source": [
    "y_pred = forest_pipe_2.predict(X_test[categorical_columns])\n",
    "print(f'test score' , accuracy_score(y_test, y_pred))"
   ]
  },
  {
   "cell_type": "code",
   "execution_count": 227,
   "metadata": {},
   "outputs": [],
   "source": [
    "most_important_features = list(get_feature_importances(forest_pipe).nlargest(2, columns= 'importance').index)"
   ]
  },
  {
   "cell_type": "code",
   "execution_count": 228,
   "metadata": {},
   "outputs": [
    {
     "name": "stdout",
     "output_type": "stream",
     "text": [
      "train score 0.9297629499561019\n",
      "cross validation score 0.9249350049107401\n"
     ]
    }
   ],
   "source": [
    "categorical_columns = most_important_features\n",
    "X_train_subset = X_train[categorical_columns]\n",
    "forest_pipe_2.set_params(preprocess__transformers = [(\"cat\", categorical_processing, categorical_columns)])\n",
    "forest_pipe_2.fit(X_train_subset, y_train)\n",
    "y_pred = forest_pipe_2.predict(X_train_subset)\n",
    "print(f'train score' , accuracy_score(y_train, y_pred))\n",
    "print(f'cross validation score' , cross_val_score(forest_pipe_2,\n",
    "                                           X_train_subset, \n",
    "                                           y_train, \n",
    "                                           cv=5, \n",
    "                                           scoring = 'accuracy').mean())"
   ]
  },
  {
   "cell_type": "code",
   "execution_count": 234,
   "metadata": {},
   "outputs": [
    {
     "name": "stdout",
     "output_type": "stream",
     "text": [
      "test score 0.9447004608294931\n"
     ]
    }
   ],
   "source": [
    "y_pred = forest_pipe_2.predict(X_test[categorical_columns])\n",
    "print(f'test score' , accuracy_score(y_test, y_pred))"
   ]
  },
  {
   "cell_type": "markdown",
   "metadata": {},
   "source": [
    "# Decision Tree"
   ]
  },
  {
   "cell_type": "code",
   "execution_count": 45,
   "metadata": {},
   "outputs": [],
   "source": [
    "OHE = OneHotEncoder(handle_unknown='ignore')\n",
    "\n",
    "def analyze_each_catagory(data, target, dictionary):\n",
    "    scores_dict = {}\n",
    "    for key in dictionary.keys():\n",
    "        categorical_columns = dictionary[key]\n",
    "        numerical_columns = []\n",
    "        data_subset = data[categorical_columns + numerical_columns]\n",
    "        OHE = OneHotEncoder(handle_unknown='ignore')\n",
    "        data_subset_encoded = OHE.fit_transform(data_subset)\n",
    "        data_train, data_test, target_train, target_test = train_test_split(data_subset_encoded, target, random_state=42)\n",
    "        tree_clf = DecisionTreeClassifier(max_depth=5) \n",
    "        tree_clf.fit(data_train, target_train)\n",
    "        scores = cross_val_score(estimator=tree_clf, X=data_subset_encoded, y=target, cv=5, n_jobs=4)\n",
    "        scores_dict[key] = scores\n",
    "    return scores_dict"
   ]
  },
  {
   "cell_type": "code",
   "execution_count": 23,
   "metadata": {
    "scrolled": false
   },
   "outputs": [
    {
     "data": {
      "text/plain": [
       "{'A': 0.9416168370982341,\n",
       " 'B': 0.5807718046488339,\n",
       " 'C': 0.8090444277543474,\n",
       " 'D': 0.9683926473703469,\n",
       " 'E': 0.9541291139484276,\n",
       " 'F': 0.9086929728272383,\n",
       " 'G': 0.8193579448071331,\n",
       " 'H': 0.9326142950680764,\n",
       " 'J': 0.8911322625994185,\n",
       " 'K': 0.9102292641593005,\n",
       " 'L': 0.7666796656845187,\n",
       " 'M': 0.8779604059545131,\n",
       " 'N': 0.8481134573535926,\n",
       " 'P': 0.9262541645001636,\n",
       " 'Q': 0.7890654187609528,\n",
       " 'R': 0.7396814277736052}"
      ]
     },
     "execution_count": 23,
     "metadata": {},
     "output_type": "execute_result"
    }
   ],
   "source": [
    "analyze_each_catagory(X_train, y_train, _2020_dictionary)"
   ]
  }
 ],
 "metadata": {
  "kernelspec": {
   "display_name": "Python (learn-env)",
   "language": "python",
   "name": "learn-env"
  },
  "language_info": {
   "codemirror_mode": {
    "name": "ipython",
    "version": 3
   },
   "file_extension": ".py",
   "mimetype": "text/x-python",
   "name": "python",
   "nbconvert_exporter": "python",
   "pygments_lexer": "ipython3",
   "version": "3.8.5"
  }
 },
 "nbformat": 4,
 "nbformat_minor": 4
}
