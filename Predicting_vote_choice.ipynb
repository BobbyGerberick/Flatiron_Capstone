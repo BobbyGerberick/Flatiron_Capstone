{
 "cells": [
  {
   "cell_type": "markdown",
   "metadata": {},
   "source": [
    "# Voter Data Analysis"
   ]
  },
  {
   "cell_type": "markdown",
   "metadata": {},
   "source": [
    "## Overview\n",
    "As my capstone project for Flatiron School’s Data Science program I built a model to predict how individuals would vote in a presidential election based on data from the 2012, 2016 and 2020 elections. I then used that model to analyze how broad categories of political issues and individual issues themselves influence an individual’s vote. I also examined the accuracy of predictions based on basic demographic information like income, race, education etc. "
   ]
  },
  {
   "cell_type": "markdown",
   "metadata": {},
   "source": [
    "## Business Understanding\n",
    "This type of modeling could be useful in a number of contexts. Most obviously for a campaign interested in focusing their efforts on individuals most likely to vote for them but it could also be useful for political parties and special interest groups who want to better understand their constituents and the public as a whole. "
   ]
  },
  {
   "cell_type": "markdown",
   "metadata": {},
   "source": [
    "## Data\n",
    "My data comes from the American National Election Studies for the years 2012, 2016 and 2020. The ANES is a national survey of voters in the United States, conducted before and after every presidential election. I used a subset of that data curated by the Inter-university Consortium for Political and Social Research. \n",
    "The full ANES survey data is publicly available for download from here: https://electionstudies.org/. You do have to make an account to access the data which you can do by clicking the login button in the top right corner of the home page. Once you have completed that process click on the Data Center tab at the top of the home page, then select the data set you would like (For example: 2020 Time Series Study) and then under the download data heading on the next page select the type of file you would like. \n",
    "The Inter-university Consortium for Political and Social Research’s data is available here: https://www.icpsr.umich.edu/web/pages/instructors/setups2020/ to individuals with an email address from with one of their member institutions. Once you have made an account with that email address, click on the “Find Data” tab at the top of the page and search for the data set i.e (Voting Behavior: The 2020 Election, Voting Behavior: The 2016 Election, or Voting Behavior: The 2012 Election). The first result will take you to a page where you can download the data."
   ]
  },
  {
   "cell_type": "markdown",
   "metadata": {},
   "source": [
    "## Data Preparation\n",
    "To prepare my data for modeling I first dropped all rows where individuals did not vote or voted for a third party candidate. This left me with 6075 rows to work with. The columns are broken into 16 categories denoted by a letter in front of the question number. For example A01 and R15. Questions in categories A, D and E relate to past political behavior and opinions of current and former politicians. These are obviously strongly correlated with vote preference and are uninteresting in terms of analysis so were dropped. The data is categorical and so needed to be encoded. I used One Hot Encoding to avoid imposing a hierarchy where none should exist. "
   ]
  },
  {
   "cell_type": "code",
   "execution_count": 116,
   "metadata": {},
   "outputs": [],
   "source": [
    "# Imports\n",
    "from sklearn.model_selection import cross_validate, cross_val_score, RandomizedSearchCV, train_test_split, GridSearchCV\n",
    "from sklearn.tree import DecisionTreeClassifier, plot_tree\n",
    "from sklearn.metrics import accuracy_score, confusion_matrix, classification_report, ConfusionMatrixDisplay\n",
    "from sklearn.ensemble import RandomForestClassifier\n",
    "from sklearn.dummy import DummyClassifier\n",
    "from sklearn.decomposition import TruncatedSVD\n",
    "from sklearn.compose import ColumnTransformer\n",
    "from sklearn.impute import SimpleImputer\n",
    "from sklearn.pipeline import Pipeline\n",
    "from sklearn.preprocessing import OneHotEncoder, OrdinalEncoder\n",
    "from xgboost import XGBClassifier\n",
    "\n",
    "import pandas as pd\n",
    "import numpy as np\n",
    "import matplotlib.pyplot as plt\n",
    "import seaborn as sns\n",
    "import string\n"
   ]
  },
  {
   "cell_type": "code",
   "execution_count": 117,
   "metadata": {},
   "outputs": [
    {
     "data": {
      "text/html": [
       "<div>\n",
       "<style scoped>\n",
       "    .dataframe tbody tr th:only-of-type {\n",
       "        vertical-align: middle;\n",
       "    }\n",
       "\n",
       "    .dataframe tbody tr th {\n",
       "        vertical-align: top;\n",
       "    }\n",
       "\n",
       "    .dataframe thead th {\n",
       "        text-align: right;\n",
       "    }\n",
       "</style>\n",
       "<table border=\"1\" class=\"dataframe\">\n",
       "  <thead>\n",
       "    <tr style=\"text-align: right;\">\n",
       "      <th></th>\n",
       "      <th>CASEID</th>\n",
       "      <th>A01</th>\n",
       "      <th>A02</th>\n",
       "      <th>A03</th>\n",
       "      <th>A04</th>\n",
       "      <th>A05</th>\n",
       "      <th>A06</th>\n",
       "      <th>A07</th>\n",
       "      <th>A08</th>\n",
       "      <th>A09</th>\n",
       "      <th>...</th>\n",
       "      <th>R10</th>\n",
       "      <th>R11</th>\n",
       "      <th>R12</th>\n",
       "      <th>R13</th>\n",
       "      <th>R14</th>\n",
       "      <th>R15</th>\n",
       "      <th>R16</th>\n",
       "      <th>R17</th>\n",
       "      <th>R18</th>\n",
       "      <th>WEIGHT</th>\n",
       "    </tr>\n",
       "  </thead>\n",
       "  <tbody>\n",
       "    <tr>\n",
       "      <th>0</th>\n",
       "      <td>200015</td>\n",
       "      <td>0. Did not vote</td>\n",
       "      <td>9. NA</td>\n",
       "      <td>9. NA</td>\n",
       "      <td>9. NA</td>\n",
       "      <td>9. NA</td>\n",
       "      <td>7. Strong Republican</td>\n",
       "      <td>2. Republican party</td>\n",
       "      <td>1. 0 through 24</td>\n",
       "      <td>5. 76 through 100</td>\n",
       "      <td>...</td>\n",
       "      <td>3. Hispanic</td>\n",
       "      <td>4. Bachelor's degree</td>\n",
       "      <td>7. $125,000 or more</td>\n",
       "      <td>4. Divorced</td>\n",
       "      <td>1. Yes, living with a partner</td>\n",
       "      <td>1. Heterosexual or straight</td>\n",
       "      <td>3. Have never served on active duty</td>\n",
       "      <td>2. No</td>\n",
       "      <td>4. City</td>\n",
       "      <td>0.611133</td>\n",
       "    </tr>\n",
       "    <tr>\n",
       "      <th>1</th>\n",
       "      <td>200022</td>\n",
       "      <td>1. Voted</td>\n",
       "      <td>3. Jo Jorgensen</td>\n",
       "      <td>9. NA</td>\n",
       "      <td>9. NA</td>\n",
       "      <td>9. NA</td>\n",
       "      <td>4. Independent</td>\n",
       "      <td>3. None or 'independent'</td>\n",
       "      <td>1. 0 through 24</td>\n",
       "      <td>3. 50</td>\n",
       "      <td>...</td>\n",
       "      <td>4. Asian or Native Hawaiian/other Pacific Isla...</td>\n",
       "      <td>3. Some post-high school, no bachelor's degree</td>\n",
       "      <td>4. $50,000 to $74,999</td>\n",
       "      <td>1. Married: spouse present</td>\n",
       "      <td>9. NA</td>\n",
       "      <td>1. Heterosexual or straight</td>\n",
       "      <td>3. Have never served on active duty</td>\n",
       "      <td>2. No</td>\n",
       "      <td>3. Suburb</td>\n",
       "      <td>1.209783</td>\n",
       "    </tr>\n",
       "    <tr>\n",
       "      <th>2</th>\n",
       "      <td>200039</td>\n",
       "      <td>1. Voted</td>\n",
       "      <td>1. Joe Biden</td>\n",
       "      <td>1. Voted for the Democratic candidate</td>\n",
       "      <td>1. Voted for the Democratic candidate</td>\n",
       "      <td>9. NA</td>\n",
       "      <td>3. Independent-Democrat</td>\n",
       "      <td>9. NA</td>\n",
       "      <td>4. 51 through 75</td>\n",
       "      <td>1. 0 through 24</td>\n",
       "      <td>...</td>\n",
       "      <td>1. White, non-Hispanic</td>\n",
       "      <td>2. High school credential</td>\n",
       "      <td>6. $100,000 to $124,999</td>\n",
       "      <td>1. Married: spouse present</td>\n",
       "      <td>9. NA</td>\n",
       "      <td>1. Heterosexual or straight</td>\n",
       "      <td>3. Have never served on active duty</td>\n",
       "      <td>2. No</td>\n",
       "      <td>3. Suburb</td>\n",
       "      <td>0.823936</td>\n",
       "    </tr>\n",
       "    <tr>\n",
       "      <th>3</th>\n",
       "      <td>200046</td>\n",
       "      <td>1. Voted</td>\n",
       "      <td>1. Joe Biden</td>\n",
       "      <td>2. Voted for the Republican candidate</td>\n",
       "      <td>9. NA</td>\n",
       "      <td>9. NA</td>\n",
       "      <td>6. Not very strong Republican</td>\n",
       "      <td>2. Republican party</td>\n",
       "      <td>3. 50</td>\n",
       "      <td>4. 51 through 75</td>\n",
       "      <td>...</td>\n",
       "      <td>4. Asian or Native Hawaiian/other Pacific Isla...</td>\n",
       "      <td>3. Some post-high school, no bachelor's degree</td>\n",
       "      <td>3. $35,000 to $49,999</td>\n",
       "      <td>1. Married: spouse present</td>\n",
       "      <td>9. NA</td>\n",
       "      <td>1. Heterosexual or straight</td>\n",
       "      <td>3. Have never served on active duty</td>\n",
       "      <td>2. No</td>\n",
       "      <td>2. Small town</td>\n",
       "      <td>0.512837</td>\n",
       "    </tr>\n",
       "    <tr>\n",
       "      <th>4</th>\n",
       "      <td>200053</td>\n",
       "      <td>1. Voted</td>\n",
       "      <td>2. Donald Trump</td>\n",
       "      <td>2. Voted for the Republican candidate</td>\n",
       "      <td>2. Voted for the Republican candidate</td>\n",
       "      <td>9. NA</td>\n",
       "      <td>4. Independent</td>\n",
       "      <td>3. None or 'independent'</td>\n",
       "      <td>1. 0 through 24</td>\n",
       "      <td>4. 51 through 75</td>\n",
       "      <td>...</td>\n",
       "      <td>5. Native American/Alaska Native or other race...</td>\n",
       "      <td>5. Graduate degree</td>\n",
       "      <td>7. $125,000 or more</td>\n",
       "      <td>3. Widowed</td>\n",
       "      <td>2. No, not living with a partner</td>\n",
       "      <td>1. Heterosexual or straight</td>\n",
       "      <td>3. Have never served on active duty</td>\n",
       "      <td>2. No</td>\n",
       "      <td>4. City</td>\n",
       "      <td>0.856575</td>\n",
       "    </tr>\n",
       "  </tbody>\n",
       "</table>\n",
       "<p>5 rows × 257 columns</p>\n",
       "</div>"
      ],
      "text/plain": [
       "   CASEID              A01              A02  \\\n",
       "0  200015  0. Did not vote            9. NA   \n",
       "1  200022         1. Voted  3. Jo Jorgensen   \n",
       "2  200039         1. Voted     1. Joe Biden   \n",
       "3  200046         1. Voted     1. Joe Biden   \n",
       "4  200053         1. Voted  2. Donald Trump   \n",
       "\n",
       "                                     A03  \\\n",
       "0                                  9. NA   \n",
       "1                                  9. NA   \n",
       "2  1. Voted for the Democratic candidate   \n",
       "3  2. Voted for the Republican candidate   \n",
       "4  2. Voted for the Republican candidate   \n",
       "\n",
       "                                     A04    A05  \\\n",
       "0                                  9. NA  9. NA   \n",
       "1                                  9. NA  9. NA   \n",
       "2  1. Voted for the Democratic candidate  9. NA   \n",
       "3                                  9. NA  9. NA   \n",
       "4  2. Voted for the Republican candidate  9. NA   \n",
       "\n",
       "                             A06                       A07               A08  \\\n",
       "0           7. Strong Republican       2. Republican party   1. 0 through 24   \n",
       "1                 4. Independent  3. None or 'independent'   1. 0 through 24   \n",
       "2        3. Independent-Democrat                     9. NA  4. 51 through 75   \n",
       "3  6. Not very strong Republican       2. Republican party             3. 50   \n",
       "4                 4. Independent  3. None or 'independent'   1. 0 through 24   \n",
       "\n",
       "                 A09  ...                                                R10  \\\n",
       "0  5. 76 through 100  ...                                        3. Hispanic   \n",
       "1              3. 50  ...  4. Asian or Native Hawaiian/other Pacific Isla...   \n",
       "2    1. 0 through 24  ...                             1. White, non-Hispanic   \n",
       "3   4. 51 through 75  ...  4. Asian or Native Hawaiian/other Pacific Isla...   \n",
       "4   4. 51 through 75  ...  5. Native American/Alaska Native or other race...   \n",
       "\n",
       "                                              R11                      R12  \\\n",
       "0                            4. Bachelor's degree      7. $125,000 or more   \n",
       "1  3. Some post-high school, no bachelor's degree    4. $50,000 to $74,999   \n",
       "2                       2. High school credential  6. $100,000 to $124,999   \n",
       "3  3. Some post-high school, no bachelor's degree    3. $35,000 to $49,999   \n",
       "4                              5. Graduate degree      7. $125,000 or more   \n",
       "\n",
       "                          R13                               R14  \\\n",
       "0                 4. Divorced     1. Yes, living with a partner   \n",
       "1  1. Married: spouse present                             9. NA   \n",
       "2  1. Married: spouse present                             9. NA   \n",
       "3  1. Married: spouse present                             9. NA   \n",
       "4                  3. Widowed  2. No, not living with a partner   \n",
       "\n",
       "                           R15                                  R16    R17  \\\n",
       "0  1. Heterosexual or straight  3. Have never served on active duty  2. No   \n",
       "1  1. Heterosexual or straight  3. Have never served on active duty  2. No   \n",
       "2  1. Heterosexual or straight  3. Have never served on active duty  2. No   \n",
       "3  1. Heterosexual or straight  3. Have never served on active duty  2. No   \n",
       "4  1. Heterosexual or straight  3. Have never served on active duty  2. No   \n",
       "\n",
       "             R18    WEIGHT  \n",
       "0        4. City  0.611133  \n",
       "1      3. Suburb  1.209783  \n",
       "2      3. Suburb  0.823936  \n",
       "3  2. Small town  0.512837  \n",
       "4        4. City  0.856575  \n",
       "\n",
       "[5 rows x 257 columns]"
      ]
     },
     "execution_count": 117,
     "metadata": {},
     "output_type": "execute_result"
    }
   ],
   "source": [
    "# Reading in data and displaying first 5 rows\n",
    "df2020 = pd.read_stata('data/SETUPS2020/SETUPS2020.dta')\n",
    "df2020.head()"
   ]
  },
  {
   "cell_type": "code",
   "execution_count": 118,
   "metadata": {},
   "outputs": [],
   "source": [
    "df2020.drop(['CASEID','WEIGHT'], axis=1, inplace=True)"
   ]
  },
  {
   "cell_type": "code",
   "execution_count": 119,
   "metadata": {},
   "outputs": [
    {
     "data": {
      "text/plain": [
       "1. Voted           6407\n",
       "0. Did not vote    1040\n",
       "9. NA                 6\n",
       "Name: A01, dtype: int64"
      ]
     },
     "execution_count": 119,
     "metadata": {},
     "output_type": "execute_result"
    }
   ],
   "source": [
    "# Taking a look at the first column which askes if the respondent voted\n",
    "df2020['A01'].value_counts()"
   ]
  },
  {
   "cell_type": "code",
   "execution_count": 120,
   "metadata": {
    "scrolled": false
   },
   "outputs": [
    {
     "data": {
      "text/plain": [
       "1. Joe Biden                    3509\n",
       "2. Donald Trump                 2566\n",
       "9. NA                           1199\n",
       "5. Other candidate {SPECIFY}      84\n",
       "3. Jo Jorgensen                   71\n",
       "4. Howie Hawkins                  24\n",
       "Name: A02, dtype: int64"
      ]
     },
     "execution_count": 120,
     "metadata": {},
     "output_type": "execute_result"
    }
   ],
   "source": [
    "# The second question asks who the respondent voted for\n",
    "df2020['A02'].value_counts()"
   ]
  },
  {
   "cell_type": "markdown",
   "metadata": {},
   "source": [
    "This analysis is limited to individuals who voted in 2020 for one of the two major candidates so next I kept only those rows."
   ]
  },
  {
   "cell_type": "code",
   "execution_count": 121,
   "metadata": {},
   "outputs": [],
   "source": [
    "# Subsetting data to keep only rows where the respondent voted for Donald Trump or Joe Biden\n",
    "df2020 = df2020.loc[(df2020['A01'] == '1. Voted') & ((df2020['A02'] == '1. Joe Biden') | (df2020['A02'] == '2. Donald Trump'))]"
   ]
  },
  {
   "cell_type": "markdown",
   "metadata": {},
   "source": [
    "The data set I'm using has an accompaning codebook that gives more information on each column. It can be found in the data folder of my github repository. After looking over the survey questions I decided to drop all questions in the A, D, and E categories. These questions relate to past political behavior and opinions of current and former politicians and would make the modeling task too simple. Before doing that I need to get the target which is stored in column A02"
   ]
  },
  {
   "cell_type": "code",
   "execution_count": 122,
   "metadata": {},
   "outputs": [],
   "source": [
    "# Getting target\n",
    "y = df2020['A02']\n",
    "X = df2020.drop(['A02'], axis=1, errors = \"ignore\")"
   ]
  },
  {
   "cell_type": "markdown",
   "metadata": {},
   "source": [
    "I wrote a function to get the question categories for my dataset. This will help with subsetting the data later"
   ]
  },
  {
   "cell_type": "code",
   "execution_count": 123,
   "metadata": {},
   "outputs": [],
   "source": [
    "# This function returns a dictionary where the key is the question category and the associated value is a list of \n",
    "# Columns in that category\n",
    "def get_columns(df):\n",
    "    # Creating empyt  dictionary\n",
    "    dictionary = {}\n",
    "    # Looping through potential categories \n",
    "    alphabet = list(string.ascii_uppercase[0:26])\n",
    "    for char in alphabet:\n",
    "        # Creating dictionary entry\n",
    "        dictionary[char] = []\n",
    "        for num in list(range(df.shape[1])):\n",
    "            if df.columns[num].startswith(char):\n",
    "                # Populating dictionary entry\n",
    "                dictionary[char].append(df.columns[num])            \n",
    "        temp = dictionary.pop(char)\n",
    "        # Removing keys where the value is empty\n",
    "        if temp != []:\n",
    "            dictionary[char] = temp\n",
    "    # Returning dictionary\n",
    "    return dictionary"
   ]
  },
  {
   "cell_type": "code",
   "execution_count": 124,
   "metadata": {},
   "outputs": [],
   "source": [
    "# Getting question categories for the 2020 dataset\n",
    "_2020_dictionary = get_columns(df2020)"
   ]
  },
  {
   "cell_type": "code",
   "execution_count": 125,
   "metadata": {},
   "outputs": [],
   "source": [
    "# Dropping question categories\n",
    "df2020.drop(_2020_dictionary['A'], axis=1, inplace=True, errors = \"ignore\")\n",
    "df2020.drop(_2020_dictionary['D'], axis=1, inplace=True)\n",
    "df2020.drop(_2020_dictionary['E'], axis=1, inplace=True)"
   ]
  },
  {
   "cell_type": "code",
   "execution_count": 126,
   "metadata": {},
   "outputs": [],
   "source": [
    "_2020_dictionary.pop('A')\n",
    "_2020_dictionary.pop('D')\n",
    "_2020_dictionary.pop('E');"
   ]
  },
  {
   "cell_type": "code",
   "execution_count": 188,
   "metadata": {},
   "outputs": [],
   "source": [
    "categorical_columns = list(df2020.columns)"
   ]
  },
  {
   "cell_type": "markdown",
   "metadata": {},
   "source": [
    "# Train Test Split"
   ]
  },
  {
   "cell_type": "code",
   "execution_count": 128,
   "metadata": {},
   "outputs": [],
   "source": [
    "# Preforming train/test split\n",
    "X = X[categorical_columns]\n",
    "X_train, X_test, y_train, y_test = train_test_split(X, y, stratify=y, random_state=42)"
   ]
  },
  {
   "cell_type": "markdown",
   "metadata": {},
   "source": [
    "# Dummy Model"
   ]
  },
  {
   "cell_type": "markdown",
   "metadata": {},
   "source": [
    "Using the uniform strategy for the dumy model should result in a roughly 50/50 split between our two choices which is what we see. This will serve as our baseline to compare the following models against"
   ]
  },
  {
   "cell_type": "code",
   "execution_count": 129,
   "metadata": {},
   "outputs": [
    {
     "data": {
      "text/plain": [
       "0.5042791310072416"
      ]
     },
     "execution_count": 129,
     "metadata": {},
     "output_type": "execute_result"
    }
   ],
   "source": [
    "# Dummy model to use as baseline\n",
    "dummy_clf = DummyClassifier(strategy = \"uniform\")\n",
    "dummy_clf.fit(X_train, y_train)\n",
    "dummy_clf.score(X_test, y_test)"
   ]
  },
  {
   "cell_type": "markdown",
   "metadata": {},
   "source": [
    "Now that we have that as a baseline we can begin the modeling process. We will start with a decision tree."
   ]
  },
  {
   "cell_type": "markdown",
   "metadata": {},
   "source": [
    "# Decision Tree"
   ]
  },
  {
   "cell_type": "code",
   "execution_count": 130,
   "metadata": {
    "scrolled": true
   },
   "outputs": [
    {
     "data": {
      "text/html": [
       "<style>#sk-container-id-15 {color: black;background-color: white;}#sk-container-id-15 pre{padding: 0;}#sk-container-id-15 div.sk-toggleable {background-color: white;}#sk-container-id-15 label.sk-toggleable__label {cursor: pointer;display: block;width: 100%;margin-bottom: 0;padding: 0.3em;box-sizing: border-box;text-align: center;}#sk-container-id-15 label.sk-toggleable__label-arrow:before {content: \"▸\";float: left;margin-right: 0.25em;color: #696969;}#sk-container-id-15 label.sk-toggleable__label-arrow:hover:before {color: black;}#sk-container-id-15 div.sk-estimator:hover label.sk-toggleable__label-arrow:before {color: black;}#sk-container-id-15 div.sk-toggleable__content {max-height: 0;max-width: 0;overflow: hidden;text-align: left;background-color: #f0f8ff;}#sk-container-id-15 div.sk-toggleable__content pre {margin: 0.2em;color: black;border-radius: 0.25em;background-color: #f0f8ff;}#sk-container-id-15 input.sk-toggleable__control:checked~div.sk-toggleable__content {max-height: 200px;max-width: 100%;overflow: auto;}#sk-container-id-15 input.sk-toggleable__control:checked~label.sk-toggleable__label-arrow:before {content: \"▾\";}#sk-container-id-15 div.sk-estimator input.sk-toggleable__control:checked~label.sk-toggleable__label {background-color: #d4ebff;}#sk-container-id-15 div.sk-label input.sk-toggleable__control:checked~label.sk-toggleable__label {background-color: #d4ebff;}#sk-container-id-15 input.sk-hidden--visually {border: 0;clip: rect(1px 1px 1px 1px);clip: rect(1px, 1px, 1px, 1px);height: 1px;margin: -1px;overflow: hidden;padding: 0;position: absolute;width: 1px;}#sk-container-id-15 div.sk-estimator {font-family: monospace;background-color: #f0f8ff;border: 1px dotted black;border-radius: 0.25em;box-sizing: border-box;margin-bottom: 0.5em;}#sk-container-id-15 div.sk-estimator:hover {background-color: #d4ebff;}#sk-container-id-15 div.sk-parallel-item::after {content: \"\";width: 100%;border-bottom: 1px solid gray;flex-grow: 1;}#sk-container-id-15 div.sk-label:hover label.sk-toggleable__label {background-color: #d4ebff;}#sk-container-id-15 div.sk-serial::before {content: \"\";position: absolute;border-left: 1px solid gray;box-sizing: border-box;top: 0;bottom: 0;left: 50%;z-index: 0;}#sk-container-id-15 div.sk-serial {display: flex;flex-direction: column;align-items: center;background-color: white;padding-right: 0.2em;padding-left: 0.2em;position: relative;}#sk-container-id-15 div.sk-item {position: relative;z-index: 1;}#sk-container-id-15 div.sk-parallel {display: flex;align-items: stretch;justify-content: center;background-color: white;position: relative;}#sk-container-id-15 div.sk-item::before, #sk-container-id-15 div.sk-parallel-item::before {content: \"\";position: absolute;border-left: 1px solid gray;box-sizing: border-box;top: 0;bottom: 0;left: 50%;z-index: -1;}#sk-container-id-15 div.sk-parallel-item {display: flex;flex-direction: column;z-index: 1;position: relative;background-color: white;}#sk-container-id-15 div.sk-parallel-item:first-child::after {align-self: flex-end;width: 50%;}#sk-container-id-15 div.sk-parallel-item:last-child::after {align-self: flex-start;width: 50%;}#sk-container-id-15 div.sk-parallel-item:only-child::after {width: 0;}#sk-container-id-15 div.sk-dashed-wrapped {border: 1px dashed gray;margin: 0 0.4em 0.5em 0.4em;box-sizing: border-box;padding-bottom: 0.4em;background-color: white;}#sk-container-id-15 div.sk-label label {font-family: monospace;font-weight: bold;display: inline-block;line-height: 1.2em;}#sk-container-id-15 div.sk-label-container {text-align: center;}#sk-container-id-15 div.sk-container {/* jupyter's `normalize.less` sets `[hidden] { display: none; }` but bootstrap.min.css set `[hidden] { display: none !important; }` so we also need the `!important` here to be able to override the default hidden behavior on the sphinx rendered scikit-learn.org. See: https://github.com/scikit-learn/scikit-learn/issues/21755 */display: inline-block !important;position: relative;}#sk-container-id-15 div.sk-text-repr-fallback {display: none;}</style><div id=\"sk-container-id-15\" class=\"sk-top-container\"><div class=\"sk-text-repr-fallback\"><pre>Pipeline(steps=[(&#x27;preprocess&#x27;,\n",
       "                 ColumnTransformer(transformers=[(&#x27;cat&#x27;,\n",
       "                                                  OneHotEncoder(handle_unknown=&#x27;ignore&#x27;),\n",
       "                                                  [&#x27;B01&#x27;, &#x27;B02&#x27;, &#x27;B03&#x27;, &#x27;B04&#x27;,\n",
       "                                                   &#x27;B05&#x27;, &#x27;B06&#x27;, &#x27;B07&#x27;, &#x27;B08&#x27;,\n",
       "                                                   &#x27;B09&#x27;, &#x27;B10&#x27;, &#x27;B11&#x27;, &#x27;B12&#x27;,\n",
       "                                                   &#x27;B13&#x27;, &#x27;B14&#x27;, &#x27;B15&#x27;, &#x27;B16&#x27;,\n",
       "                                                   &#x27;B17&#x27;, &#x27;B18&#x27;, &#x27;B19&#x27;, &#x27;B20&#x27;,\n",
       "                                                   &#x27;B21&#x27;, &#x27;B22&#x27;, &#x27;B23&#x27;, &#x27;C01&#x27;,\n",
       "                                                   &#x27;C02&#x27;, &#x27;C03&#x27;, &#x27;C04&#x27;, &#x27;C05&#x27;,\n",
       "                                                   &#x27;C06&#x27;, &#x27;C07&#x27;, ...])],\n",
       "                                   verbose_feature_names_out=False)),\n",
       "                (&#x27;classifier&#x27;, DecisionTreeClassifier(random_state=42))])</pre><b>In a Jupyter environment, please rerun this cell to show the HTML representation or trust the notebook. <br />On GitHub, the HTML representation is unable to render, please try loading this page with nbviewer.org.</b></div><div class=\"sk-container\" hidden><div class=\"sk-item sk-dashed-wrapped\"><div class=\"sk-label-container\"><div class=\"sk-label sk-toggleable\"><input class=\"sk-toggleable__control sk-hidden--visually\" id=\"sk-estimator-id-73\" type=\"checkbox\" ><label for=\"sk-estimator-id-73\" class=\"sk-toggleable__label sk-toggleable__label-arrow\">Pipeline</label><div class=\"sk-toggleable__content\"><pre>Pipeline(steps=[(&#x27;preprocess&#x27;,\n",
       "                 ColumnTransformer(transformers=[(&#x27;cat&#x27;,\n",
       "                                                  OneHotEncoder(handle_unknown=&#x27;ignore&#x27;),\n",
       "                                                  [&#x27;B01&#x27;, &#x27;B02&#x27;, &#x27;B03&#x27;, &#x27;B04&#x27;,\n",
       "                                                   &#x27;B05&#x27;, &#x27;B06&#x27;, &#x27;B07&#x27;, &#x27;B08&#x27;,\n",
       "                                                   &#x27;B09&#x27;, &#x27;B10&#x27;, &#x27;B11&#x27;, &#x27;B12&#x27;,\n",
       "                                                   &#x27;B13&#x27;, &#x27;B14&#x27;, &#x27;B15&#x27;, &#x27;B16&#x27;,\n",
       "                                                   &#x27;B17&#x27;, &#x27;B18&#x27;, &#x27;B19&#x27;, &#x27;B20&#x27;,\n",
       "                                                   &#x27;B21&#x27;, &#x27;B22&#x27;, &#x27;B23&#x27;, &#x27;C01&#x27;,\n",
       "                                                   &#x27;C02&#x27;, &#x27;C03&#x27;, &#x27;C04&#x27;, &#x27;C05&#x27;,\n",
       "                                                   &#x27;C06&#x27;, &#x27;C07&#x27;, ...])],\n",
       "                                   verbose_feature_names_out=False)),\n",
       "                (&#x27;classifier&#x27;, DecisionTreeClassifier(random_state=42))])</pre></div></div></div><div class=\"sk-serial\"><div class=\"sk-item sk-dashed-wrapped\"><div class=\"sk-label-container\"><div class=\"sk-label sk-toggleable\"><input class=\"sk-toggleable__control sk-hidden--visually\" id=\"sk-estimator-id-74\" type=\"checkbox\" ><label for=\"sk-estimator-id-74\" class=\"sk-toggleable__label sk-toggleable__label-arrow\">preprocess: ColumnTransformer</label><div class=\"sk-toggleable__content\"><pre>ColumnTransformer(transformers=[(&#x27;cat&#x27;, OneHotEncoder(handle_unknown=&#x27;ignore&#x27;),\n",
       "                                 [&#x27;B01&#x27;, &#x27;B02&#x27;, &#x27;B03&#x27;, &#x27;B04&#x27;, &#x27;B05&#x27;, &#x27;B06&#x27;,\n",
       "                                  &#x27;B07&#x27;, &#x27;B08&#x27;, &#x27;B09&#x27;, &#x27;B10&#x27;, &#x27;B11&#x27;, &#x27;B12&#x27;,\n",
       "                                  &#x27;B13&#x27;, &#x27;B14&#x27;, &#x27;B15&#x27;, &#x27;B16&#x27;, &#x27;B17&#x27;, &#x27;B18&#x27;,\n",
       "                                  &#x27;B19&#x27;, &#x27;B20&#x27;, &#x27;B21&#x27;, &#x27;B22&#x27;, &#x27;B23&#x27;, &#x27;C01&#x27;,\n",
       "                                  &#x27;C02&#x27;, &#x27;C03&#x27;, &#x27;C04&#x27;, &#x27;C05&#x27;, &#x27;C06&#x27;, &#x27;C07&#x27;, ...])],\n",
       "                  verbose_feature_names_out=False)</pre></div></div></div><div class=\"sk-parallel\"><div class=\"sk-parallel-item\"><div class=\"sk-item\"><div class=\"sk-label-container\"><div class=\"sk-label sk-toggleable\"><input class=\"sk-toggleable__control sk-hidden--visually\" id=\"sk-estimator-id-75\" type=\"checkbox\" ><label for=\"sk-estimator-id-75\" class=\"sk-toggleable__label sk-toggleable__label-arrow\">cat</label><div class=\"sk-toggleable__content\"><pre>[&#x27;B01&#x27;, &#x27;B02&#x27;, &#x27;B03&#x27;, &#x27;B04&#x27;, &#x27;B05&#x27;, &#x27;B06&#x27;, &#x27;B07&#x27;, &#x27;B08&#x27;, &#x27;B09&#x27;, &#x27;B10&#x27;, &#x27;B11&#x27;, &#x27;B12&#x27;, &#x27;B13&#x27;, &#x27;B14&#x27;, &#x27;B15&#x27;, &#x27;B16&#x27;, &#x27;B17&#x27;, &#x27;B18&#x27;, &#x27;B19&#x27;, &#x27;B20&#x27;, &#x27;B21&#x27;, &#x27;B22&#x27;, &#x27;B23&#x27;, &#x27;C01&#x27;, &#x27;C02&#x27;, &#x27;C03&#x27;, &#x27;C04&#x27;, &#x27;C05&#x27;, &#x27;C06&#x27;, &#x27;C07&#x27;, &#x27;F01&#x27;, &#x27;F02&#x27;, &#x27;F03&#x27;, &#x27;F04&#x27;, &#x27;F05&#x27;, &#x27;F06&#x27;, &#x27;F07&#x27;, &#x27;F08&#x27;, &#x27;F09&#x27;, &#x27;F10&#x27;, &#x27;F11&#x27;, &#x27;F12&#x27;, &#x27;F13&#x27;, &#x27;F14&#x27;, &#x27;F15&#x27;, &#x27;F16&#x27;, &#x27;F17&#x27;, &#x27;F18&#x27;, &#x27;F19&#x27;, &#x27;F20&#x27;, &#x27;F21&#x27;, &#x27;F22&#x27;, &#x27;F23&#x27;, &#x27;F24&#x27;, &#x27;F25&#x27;, &#x27;F26&#x27;, &#x27;F27&#x27;, &#x27;G01&#x27;, &#x27;G02&#x27;, &#x27;G03&#x27;, &#x27;G04&#x27;, &#x27;G05&#x27;, &#x27;G06&#x27;, &#x27;G07&#x27;, &#x27;G08&#x27;, &#x27;G09&#x27;, &#x27;G10&#x27;, &#x27;G11&#x27;, &#x27;H01&#x27;, &#x27;H02&#x27;, &#x27;H03&#x27;, &#x27;H04&#x27;, &#x27;H05&#x27;, &#x27;H06&#x27;, &#x27;H07&#x27;, &#x27;H08&#x27;, &#x27;H09&#x27;, &#x27;H10&#x27;, &#x27;H11&#x27;, &#x27;H12&#x27;, &#x27;H13&#x27;, &#x27;H14&#x27;, &#x27;H15&#x27;, &#x27;H16&#x27;, &#x27;H17&#x27;, &#x27;J01&#x27;, &#x27;J02&#x27;, &#x27;J03&#x27;, &#x27;J04&#x27;, &#x27;J05&#x27;, &#x27;J06&#x27;, &#x27;J07&#x27;, &#x27;J08&#x27;, &#x27;J09&#x27;, &#x27;J10&#x27;, &#x27;J11&#x27;, &#x27;J12&#x27;, &#x27;K01&#x27;, &#x27;K02&#x27;, &#x27;K03&#x27;, &#x27;K04&#x27;, &#x27;K05&#x27;, &#x27;K06&#x27;, &#x27;K07&#x27;, &#x27;K08&#x27;, &#x27;K09&#x27;, &#x27;K10&#x27;, &#x27;K11&#x27;, &#x27;K12&#x27;, &#x27;K13&#x27;, &#x27;K14&#x27;, &#x27;K15&#x27;, &#x27;K16&#x27;, &#x27;K17&#x27;, &#x27;K18&#x27;, &#x27;L01&#x27;, &#x27;L02&#x27;, &#x27;L03&#x27;, &#x27;L04&#x27;, &#x27;L05&#x27;, &#x27;L06&#x27;, &#x27;M01&#x27;, &#x27;M02&#x27;, &#x27;M03&#x27;, &#x27;M04&#x27;, &#x27;M05&#x27;, &#x27;M06&#x27;, &#x27;M07&#x27;, &#x27;M08&#x27;, &#x27;M09&#x27;, &#x27;M10&#x27;, &#x27;M11&#x27;, &#x27;M12&#x27;, &#x27;M13&#x27;, &#x27;M14&#x27;, &#x27;M15&#x27;, &#x27;M16&#x27;, &#x27;M17&#x27;, &#x27;M18&#x27;, &#x27;M19&#x27;, &#x27;M20&#x27;, &#x27;N01&#x27;, &#x27;N02&#x27;, &#x27;N03&#x27;, &#x27;N04&#x27;, &#x27;N05&#x27;, &#x27;N06&#x27;, &#x27;N07&#x27;, &#x27;N08&#x27;, &#x27;P01&#x27;, &#x27;P02&#x27;, &#x27;P03&#x27;, &#x27;P04&#x27;, &#x27;P05&#x27;, &#x27;P06&#x27;, &#x27;P07&#x27;, &#x27;P08&#x27;, &#x27;P09&#x27;, &#x27;P10&#x27;, &#x27;P11&#x27;, &#x27;P12&#x27;, &#x27;P13&#x27;, &#x27;P14&#x27;, &#x27;P15&#x27;, &#x27;P16&#x27;, &#x27;P17&#x27;, &#x27;P18&#x27;, &#x27;P19&#x27;, &#x27;P20&#x27;, &#x27;P21&#x27;, &#x27;P22&#x27;, &#x27;P23&#x27;, &#x27;P24&#x27;, &#x27;P25&#x27;, &#x27;P26&#x27;, &#x27;P27&#x27;, &#x27;P28&#x27;, &#x27;P29&#x27;, &#x27;Q01&#x27;, &#x27;Q02&#x27;, &#x27;Q03&#x27;, &#x27;Q04&#x27;, &#x27;Q05&#x27;, &#x27;Q06&#x27;, &#x27;Q07&#x27;, &#x27;Q08&#x27;, &#x27;R01&#x27;, &#x27;R02&#x27;, &#x27;R03&#x27;, &#x27;R04&#x27;, &#x27;R05&#x27;, &#x27;R06&#x27;, &#x27;R07&#x27;, &#x27;R08&#x27;, &#x27;R09&#x27;, &#x27;R10&#x27;, &#x27;R11&#x27;, &#x27;R12&#x27;, &#x27;R13&#x27;, &#x27;R14&#x27;, &#x27;R15&#x27;, &#x27;R16&#x27;, &#x27;R17&#x27;, &#x27;R18&#x27;]</pre></div></div></div><div class=\"sk-serial\"><div class=\"sk-item\"><div class=\"sk-estimator sk-toggleable\"><input class=\"sk-toggleable__control sk-hidden--visually\" id=\"sk-estimator-id-76\" type=\"checkbox\" ><label for=\"sk-estimator-id-76\" class=\"sk-toggleable__label sk-toggleable__label-arrow\">OneHotEncoder</label><div class=\"sk-toggleable__content\"><pre>OneHotEncoder(handle_unknown=&#x27;ignore&#x27;)</pre></div></div></div></div></div></div></div></div><div class=\"sk-item\"><div class=\"sk-estimator sk-toggleable\"><input class=\"sk-toggleable__control sk-hidden--visually\" id=\"sk-estimator-id-77\" type=\"checkbox\" ><label for=\"sk-estimator-id-77\" class=\"sk-toggleable__label sk-toggleable__label-arrow\">DecisionTreeClassifier</label><div class=\"sk-toggleable__content\"><pre>DecisionTreeClassifier(random_state=42)</pre></div></div></div></div></div></div></div>"
      ],
      "text/plain": [
       "Pipeline(steps=[('preprocess',\n",
       "                 ColumnTransformer(transformers=[('cat',\n",
       "                                                  OneHotEncoder(handle_unknown='ignore'),\n",
       "                                                  ['B01', 'B02', 'B03', 'B04',\n",
       "                                                   'B05', 'B06', 'B07', 'B08',\n",
       "                                                   'B09', 'B10', 'B11', 'B12',\n",
       "                                                   'B13', 'B14', 'B15', 'B16',\n",
       "                                                   'B17', 'B18', 'B19', 'B20',\n",
       "                                                   'B21', 'B22', 'B23', 'C01',\n",
       "                                                   'C02', 'C03', 'C04', 'C05',\n",
       "                                                   'C06', 'C07', ...])],\n",
       "                                   verbose_feature_names_out=False)),\n",
       "                ('classifier', DecisionTreeClassifier(random_state=42))])"
      ]
     },
     "execution_count": 130,
     "metadata": {},
     "output_type": "execute_result"
    }
   ],
   "source": [
    "# Setting up one hot encoder to use with our categorical data\n",
    "categorical_processing = OneHotEncoder(handle_unknown='ignore')\n",
    "\n",
    "preprocessing = ColumnTransformer(\n",
    "    [\n",
    "        (\"cat\", categorical_processing, categorical_columns),\n",
    "    ],\n",
    "    verbose_feature_names_out=False,\n",
    ")\n",
    "\n",
    "# Setting up pipeline steps\n",
    "tree_pipe = Pipeline(\n",
    "    [\n",
    "        (\"preprocess\", preprocessing),\n",
    "        (\"classifier\", DecisionTreeClassifier(random_state=42)),\n",
    "    ]\n",
    ")\n",
    "# Fitting pipeline to the training data\n",
    "tree_pipe.fit(X_train, y_train)"
   ]
  },
  {
   "cell_type": "code",
   "execution_count": 131,
   "metadata": {
    "scrolled": true
   },
   "outputs": [
    {
     "name": "stdout",
     "output_type": "stream",
     "text": [
      "Training data prediction accuracy:  1.0\n",
      "CV accuracy: 0.9242730178905003\n"
     ]
    }
   ],
   "source": [
    "# Getting predictions\n",
    "y_pred = tree_pipe.predict(X_train)\n",
    "# Checking accuracy of predictions\n",
    "print(f\"Training data prediction accuracy: \", accuracy_score(y_train, y_pred))\n",
    "\n",
    "# Getting cross validation score \n",
    "print(f\"CV accuracy: {cross_val_score(tree_pipe, X_train, y_train, cv=5, scoring = 'accuracy').mean()}\")"
   ]
  },
  {
   "cell_type": "markdown",
   "metadata": {},
   "source": [
    "As a starting point that is a good score. Lets see if we can improve on it by tuning the hyper parameters using GridSearchCV  which tries every combonation of parameters looking for the best results"
   ]
  },
  {
   "cell_type": "markdown",
   "metadata": {},
   "source": [
    "# Decision Tree Second Iteration "
   ]
  },
  {
   "cell_type": "code",
   "execution_count": 17,
   "metadata": {},
   "outputs": [],
   "source": [
    "# # Setting up parameter grid\n",
    "# param_grid = {'classifier__criterion': ['gini', 'entropy', 'log_loss'],               \n",
    "#               'classifier__max_depth': [2, 4, 6, 8, 10, 12]\n",
    "#              }\n",
    "# # Executing gridsearch\n",
    "# gridsearch = GridSearchCV(estimator=tree_pipe,\n",
    "#                           param_grid=param_grid,\n",
    "#                           scoring='accuracy',\n",
    "#                           cv=5,\n",
    "#                           n_jobs = 3\n",
    "#                          )\n",
    "# # Fit the training data\n",
    "# gridsearch.fit(X_train, y_train)"
   ]
  },
  {
   "cell_type": "code",
   "execution_count": 18,
   "metadata": {
    "scrolled": true
   },
   "outputs": [],
   "source": [
    "# # Print accuracy score for the best estimator and the best parameters \n",
    "# print(f'Best estimator score: ' + '{:.4%}'.format(gridsearch.score(X_train, y_train)))\n",
    "# print(f'Gridsearch best params: ')\n",
    "# print(gridsearch.best_params_)"
   ]
  },
  {
   "cell_type": "markdown",
   "metadata": {},
   "source": [
    "### Results\n",
    "Gridsearch score:  0.979367866549605\n",
    "\n",
    "Gridsearch best params: \n",
    "- 'classifier__criterion': 'gini'\n",
    "- 'classifier__max_depth': 8"
   ]
  },
  {
   "cell_type": "code",
   "execution_count": 19,
   "metadata": {},
   "outputs": [
    {
     "data": {
      "text/html": [
       "<style>#sk-container-id-2 {color: black;background-color: white;}#sk-container-id-2 pre{padding: 0;}#sk-container-id-2 div.sk-toggleable {background-color: white;}#sk-container-id-2 label.sk-toggleable__label {cursor: pointer;display: block;width: 100%;margin-bottom: 0;padding: 0.3em;box-sizing: border-box;text-align: center;}#sk-container-id-2 label.sk-toggleable__label-arrow:before {content: \"▸\";float: left;margin-right: 0.25em;color: #696969;}#sk-container-id-2 label.sk-toggleable__label-arrow:hover:before {color: black;}#sk-container-id-2 div.sk-estimator:hover label.sk-toggleable__label-arrow:before {color: black;}#sk-container-id-2 div.sk-toggleable__content {max-height: 0;max-width: 0;overflow: hidden;text-align: left;background-color: #f0f8ff;}#sk-container-id-2 div.sk-toggleable__content pre {margin: 0.2em;color: black;border-radius: 0.25em;background-color: #f0f8ff;}#sk-container-id-2 input.sk-toggleable__control:checked~div.sk-toggleable__content {max-height: 200px;max-width: 100%;overflow: auto;}#sk-container-id-2 input.sk-toggleable__control:checked~label.sk-toggleable__label-arrow:before {content: \"▾\";}#sk-container-id-2 div.sk-estimator input.sk-toggleable__control:checked~label.sk-toggleable__label {background-color: #d4ebff;}#sk-container-id-2 div.sk-label input.sk-toggleable__control:checked~label.sk-toggleable__label {background-color: #d4ebff;}#sk-container-id-2 input.sk-hidden--visually {border: 0;clip: rect(1px 1px 1px 1px);clip: rect(1px, 1px, 1px, 1px);height: 1px;margin: -1px;overflow: hidden;padding: 0;position: absolute;width: 1px;}#sk-container-id-2 div.sk-estimator {font-family: monospace;background-color: #f0f8ff;border: 1px dotted black;border-radius: 0.25em;box-sizing: border-box;margin-bottom: 0.5em;}#sk-container-id-2 div.sk-estimator:hover {background-color: #d4ebff;}#sk-container-id-2 div.sk-parallel-item::after {content: \"\";width: 100%;border-bottom: 1px solid gray;flex-grow: 1;}#sk-container-id-2 div.sk-label:hover label.sk-toggleable__label {background-color: #d4ebff;}#sk-container-id-2 div.sk-serial::before {content: \"\";position: absolute;border-left: 1px solid gray;box-sizing: border-box;top: 0;bottom: 0;left: 50%;z-index: 0;}#sk-container-id-2 div.sk-serial {display: flex;flex-direction: column;align-items: center;background-color: white;padding-right: 0.2em;padding-left: 0.2em;position: relative;}#sk-container-id-2 div.sk-item {position: relative;z-index: 1;}#sk-container-id-2 div.sk-parallel {display: flex;align-items: stretch;justify-content: center;background-color: white;position: relative;}#sk-container-id-2 div.sk-item::before, #sk-container-id-2 div.sk-parallel-item::before {content: \"\";position: absolute;border-left: 1px solid gray;box-sizing: border-box;top: 0;bottom: 0;left: 50%;z-index: -1;}#sk-container-id-2 div.sk-parallel-item {display: flex;flex-direction: column;z-index: 1;position: relative;background-color: white;}#sk-container-id-2 div.sk-parallel-item:first-child::after {align-self: flex-end;width: 50%;}#sk-container-id-2 div.sk-parallel-item:last-child::after {align-self: flex-start;width: 50%;}#sk-container-id-2 div.sk-parallel-item:only-child::after {width: 0;}#sk-container-id-2 div.sk-dashed-wrapped {border: 1px dashed gray;margin: 0 0.4em 0.5em 0.4em;box-sizing: border-box;padding-bottom: 0.4em;background-color: white;}#sk-container-id-2 div.sk-label label {font-family: monospace;font-weight: bold;display: inline-block;line-height: 1.2em;}#sk-container-id-2 div.sk-label-container {text-align: center;}#sk-container-id-2 div.sk-container {/* jupyter's `normalize.less` sets `[hidden] { display: none; }` but bootstrap.min.css set `[hidden] { display: none !important; }` so we also need the `!important` here to be able to override the default hidden behavior on the sphinx rendered scikit-learn.org. See: https://github.com/scikit-learn/scikit-learn/issues/21755 */display: inline-block !important;position: relative;}#sk-container-id-2 div.sk-text-repr-fallback {display: none;}</style><div id=\"sk-container-id-2\" class=\"sk-top-container\"><div class=\"sk-text-repr-fallback\"><pre>Pipeline(steps=[(&#x27;preprocess&#x27;,\n",
       "                 ColumnTransformer(transformers=[(&#x27;cat&#x27;,\n",
       "                                                  OneHotEncoder(handle_unknown=&#x27;ignore&#x27;),\n",
       "                                                  [&#x27;B01&#x27;, &#x27;B02&#x27;, &#x27;B03&#x27;, &#x27;B04&#x27;,\n",
       "                                                   &#x27;B05&#x27;, &#x27;B06&#x27;, &#x27;B07&#x27;, &#x27;B08&#x27;,\n",
       "                                                   &#x27;B09&#x27;, &#x27;B10&#x27;, &#x27;B11&#x27;, &#x27;B12&#x27;,\n",
       "                                                   &#x27;B13&#x27;, &#x27;B14&#x27;, &#x27;B15&#x27;, &#x27;B16&#x27;,\n",
       "                                                   &#x27;B17&#x27;, &#x27;B18&#x27;, &#x27;B19&#x27;, &#x27;B20&#x27;,\n",
       "                                                   &#x27;B21&#x27;, &#x27;B22&#x27;, &#x27;B23&#x27;, &#x27;C01&#x27;,\n",
       "                                                   &#x27;C02&#x27;, &#x27;C03&#x27;, &#x27;C04&#x27;, &#x27;C05&#x27;,\n",
       "                                                   &#x27;C06&#x27;, &#x27;C07&#x27;, ...])],\n",
       "                                   verbose_feature_names_out=False)),\n",
       "                (&#x27;classifier&#x27;,\n",
       "                 DecisionTreeClassifier(max_depth=8, random_state=42))])</pre><b>In a Jupyter environment, please rerun this cell to show the HTML representation or trust the notebook. <br />On GitHub, the HTML representation is unable to render, please try loading this page with nbviewer.org.</b></div><div class=\"sk-container\" hidden><div class=\"sk-item sk-dashed-wrapped\"><div class=\"sk-label-container\"><div class=\"sk-label sk-toggleable\"><input class=\"sk-toggleable__control sk-hidden--visually\" id=\"sk-estimator-id-6\" type=\"checkbox\" ><label for=\"sk-estimator-id-6\" class=\"sk-toggleable__label sk-toggleable__label-arrow\">Pipeline</label><div class=\"sk-toggleable__content\"><pre>Pipeline(steps=[(&#x27;preprocess&#x27;,\n",
       "                 ColumnTransformer(transformers=[(&#x27;cat&#x27;,\n",
       "                                                  OneHotEncoder(handle_unknown=&#x27;ignore&#x27;),\n",
       "                                                  [&#x27;B01&#x27;, &#x27;B02&#x27;, &#x27;B03&#x27;, &#x27;B04&#x27;,\n",
       "                                                   &#x27;B05&#x27;, &#x27;B06&#x27;, &#x27;B07&#x27;, &#x27;B08&#x27;,\n",
       "                                                   &#x27;B09&#x27;, &#x27;B10&#x27;, &#x27;B11&#x27;, &#x27;B12&#x27;,\n",
       "                                                   &#x27;B13&#x27;, &#x27;B14&#x27;, &#x27;B15&#x27;, &#x27;B16&#x27;,\n",
       "                                                   &#x27;B17&#x27;, &#x27;B18&#x27;, &#x27;B19&#x27;, &#x27;B20&#x27;,\n",
       "                                                   &#x27;B21&#x27;, &#x27;B22&#x27;, &#x27;B23&#x27;, &#x27;C01&#x27;,\n",
       "                                                   &#x27;C02&#x27;, &#x27;C03&#x27;, &#x27;C04&#x27;, &#x27;C05&#x27;,\n",
       "                                                   &#x27;C06&#x27;, &#x27;C07&#x27;, ...])],\n",
       "                                   verbose_feature_names_out=False)),\n",
       "                (&#x27;classifier&#x27;,\n",
       "                 DecisionTreeClassifier(max_depth=8, random_state=42))])</pre></div></div></div><div class=\"sk-serial\"><div class=\"sk-item sk-dashed-wrapped\"><div class=\"sk-label-container\"><div class=\"sk-label sk-toggleable\"><input class=\"sk-toggleable__control sk-hidden--visually\" id=\"sk-estimator-id-7\" type=\"checkbox\" ><label for=\"sk-estimator-id-7\" class=\"sk-toggleable__label sk-toggleable__label-arrow\">preprocess: ColumnTransformer</label><div class=\"sk-toggleable__content\"><pre>ColumnTransformer(transformers=[(&#x27;cat&#x27;, OneHotEncoder(handle_unknown=&#x27;ignore&#x27;),\n",
       "                                 [&#x27;B01&#x27;, &#x27;B02&#x27;, &#x27;B03&#x27;, &#x27;B04&#x27;, &#x27;B05&#x27;, &#x27;B06&#x27;,\n",
       "                                  &#x27;B07&#x27;, &#x27;B08&#x27;, &#x27;B09&#x27;, &#x27;B10&#x27;, &#x27;B11&#x27;, &#x27;B12&#x27;,\n",
       "                                  &#x27;B13&#x27;, &#x27;B14&#x27;, &#x27;B15&#x27;, &#x27;B16&#x27;, &#x27;B17&#x27;, &#x27;B18&#x27;,\n",
       "                                  &#x27;B19&#x27;, &#x27;B20&#x27;, &#x27;B21&#x27;, &#x27;B22&#x27;, &#x27;B23&#x27;, &#x27;C01&#x27;,\n",
       "                                  &#x27;C02&#x27;, &#x27;C03&#x27;, &#x27;C04&#x27;, &#x27;C05&#x27;, &#x27;C06&#x27;, &#x27;C07&#x27;, ...])],\n",
       "                  verbose_feature_names_out=False)</pre></div></div></div><div class=\"sk-parallel\"><div class=\"sk-parallel-item\"><div class=\"sk-item\"><div class=\"sk-label-container\"><div class=\"sk-label sk-toggleable\"><input class=\"sk-toggleable__control sk-hidden--visually\" id=\"sk-estimator-id-8\" type=\"checkbox\" ><label for=\"sk-estimator-id-8\" class=\"sk-toggleable__label sk-toggleable__label-arrow\">cat</label><div class=\"sk-toggleable__content\"><pre>[&#x27;B01&#x27;, &#x27;B02&#x27;, &#x27;B03&#x27;, &#x27;B04&#x27;, &#x27;B05&#x27;, &#x27;B06&#x27;, &#x27;B07&#x27;, &#x27;B08&#x27;, &#x27;B09&#x27;, &#x27;B10&#x27;, &#x27;B11&#x27;, &#x27;B12&#x27;, &#x27;B13&#x27;, &#x27;B14&#x27;, &#x27;B15&#x27;, &#x27;B16&#x27;, &#x27;B17&#x27;, &#x27;B18&#x27;, &#x27;B19&#x27;, &#x27;B20&#x27;, &#x27;B21&#x27;, &#x27;B22&#x27;, &#x27;B23&#x27;, &#x27;C01&#x27;, &#x27;C02&#x27;, &#x27;C03&#x27;, &#x27;C04&#x27;, &#x27;C05&#x27;, &#x27;C06&#x27;, &#x27;C07&#x27;, &#x27;F01&#x27;, &#x27;F02&#x27;, &#x27;F03&#x27;, &#x27;F04&#x27;, &#x27;F05&#x27;, &#x27;F06&#x27;, &#x27;F07&#x27;, &#x27;F08&#x27;, &#x27;F09&#x27;, &#x27;F10&#x27;, &#x27;F11&#x27;, &#x27;F12&#x27;, &#x27;F13&#x27;, &#x27;F14&#x27;, &#x27;F15&#x27;, &#x27;F16&#x27;, &#x27;F17&#x27;, &#x27;F18&#x27;, &#x27;F19&#x27;, &#x27;F20&#x27;, &#x27;F21&#x27;, &#x27;F22&#x27;, &#x27;F23&#x27;, &#x27;F24&#x27;, &#x27;F25&#x27;, &#x27;F26&#x27;, &#x27;F27&#x27;, &#x27;G01&#x27;, &#x27;G02&#x27;, &#x27;G03&#x27;, &#x27;G04&#x27;, &#x27;G05&#x27;, &#x27;G06&#x27;, &#x27;G07&#x27;, &#x27;G08&#x27;, &#x27;G09&#x27;, &#x27;G10&#x27;, &#x27;G11&#x27;, &#x27;H01&#x27;, &#x27;H02&#x27;, &#x27;H03&#x27;, &#x27;H04&#x27;, &#x27;H05&#x27;, &#x27;H06&#x27;, &#x27;H07&#x27;, &#x27;H08&#x27;, &#x27;H09&#x27;, &#x27;H10&#x27;, &#x27;H11&#x27;, &#x27;H12&#x27;, &#x27;H13&#x27;, &#x27;H14&#x27;, &#x27;H15&#x27;, &#x27;H16&#x27;, &#x27;H17&#x27;, &#x27;J01&#x27;, &#x27;J02&#x27;, &#x27;J03&#x27;, &#x27;J04&#x27;, &#x27;J05&#x27;, &#x27;J06&#x27;, &#x27;J07&#x27;, &#x27;J08&#x27;, &#x27;J09&#x27;, &#x27;J10&#x27;, &#x27;J11&#x27;, &#x27;J12&#x27;, &#x27;K01&#x27;, &#x27;K02&#x27;, &#x27;K03&#x27;, &#x27;K04&#x27;, &#x27;K05&#x27;, &#x27;K06&#x27;, &#x27;K07&#x27;, &#x27;K08&#x27;, &#x27;K09&#x27;, &#x27;K10&#x27;, &#x27;K11&#x27;, &#x27;K12&#x27;, &#x27;K13&#x27;, &#x27;K14&#x27;, &#x27;K15&#x27;, &#x27;K16&#x27;, &#x27;K17&#x27;, &#x27;K18&#x27;, &#x27;L01&#x27;, &#x27;L02&#x27;, &#x27;L03&#x27;, &#x27;L04&#x27;, &#x27;L05&#x27;, &#x27;L06&#x27;, &#x27;M01&#x27;, &#x27;M02&#x27;, &#x27;M03&#x27;, &#x27;M04&#x27;, &#x27;M05&#x27;, &#x27;M06&#x27;, &#x27;M07&#x27;, &#x27;M08&#x27;, &#x27;M09&#x27;, &#x27;M10&#x27;, &#x27;M11&#x27;, &#x27;M12&#x27;, &#x27;M13&#x27;, &#x27;M14&#x27;, &#x27;M15&#x27;, &#x27;M16&#x27;, &#x27;M17&#x27;, &#x27;M18&#x27;, &#x27;M19&#x27;, &#x27;M20&#x27;, &#x27;N01&#x27;, &#x27;N02&#x27;, &#x27;N03&#x27;, &#x27;N04&#x27;, &#x27;N05&#x27;, &#x27;N06&#x27;, &#x27;N07&#x27;, &#x27;N08&#x27;, &#x27;P01&#x27;, &#x27;P02&#x27;, &#x27;P03&#x27;, &#x27;P04&#x27;, &#x27;P05&#x27;, &#x27;P06&#x27;, &#x27;P07&#x27;, &#x27;P08&#x27;, &#x27;P09&#x27;, &#x27;P10&#x27;, &#x27;P11&#x27;, &#x27;P12&#x27;, &#x27;P13&#x27;, &#x27;P14&#x27;, &#x27;P15&#x27;, &#x27;P16&#x27;, &#x27;P17&#x27;, &#x27;P18&#x27;, &#x27;P19&#x27;, &#x27;P20&#x27;, &#x27;P21&#x27;, &#x27;P22&#x27;, &#x27;P23&#x27;, &#x27;P24&#x27;, &#x27;P25&#x27;, &#x27;P26&#x27;, &#x27;P27&#x27;, &#x27;P28&#x27;, &#x27;P29&#x27;, &#x27;Q01&#x27;, &#x27;Q02&#x27;, &#x27;Q03&#x27;, &#x27;Q04&#x27;, &#x27;Q05&#x27;, &#x27;Q06&#x27;, &#x27;Q07&#x27;, &#x27;Q08&#x27;, &#x27;R01&#x27;, &#x27;R02&#x27;, &#x27;R03&#x27;, &#x27;R04&#x27;, &#x27;R05&#x27;, &#x27;R06&#x27;, &#x27;R07&#x27;, &#x27;R08&#x27;, &#x27;R09&#x27;, &#x27;R10&#x27;, &#x27;R11&#x27;, &#x27;R12&#x27;, &#x27;R13&#x27;, &#x27;R14&#x27;, &#x27;R15&#x27;, &#x27;R16&#x27;, &#x27;R17&#x27;, &#x27;R18&#x27;]</pre></div></div></div><div class=\"sk-serial\"><div class=\"sk-item\"><div class=\"sk-estimator sk-toggleable\"><input class=\"sk-toggleable__control sk-hidden--visually\" id=\"sk-estimator-id-9\" type=\"checkbox\" ><label for=\"sk-estimator-id-9\" class=\"sk-toggleable__label sk-toggleable__label-arrow\">OneHotEncoder</label><div class=\"sk-toggleable__content\"><pre>OneHotEncoder(handle_unknown=&#x27;ignore&#x27;)</pre></div></div></div></div></div></div></div></div><div class=\"sk-item\"><div class=\"sk-estimator sk-toggleable\"><input class=\"sk-toggleable__control sk-hidden--visually\" id=\"sk-estimator-id-10\" type=\"checkbox\" ><label for=\"sk-estimator-id-10\" class=\"sk-toggleable__label sk-toggleable__label-arrow\">DecisionTreeClassifier</label><div class=\"sk-toggleable__content\"><pre>DecisionTreeClassifier(max_depth=8, random_state=42)</pre></div></div></div></div></div></div></div>"
      ],
      "text/plain": [
       "Pipeline(steps=[('preprocess',\n",
       "                 ColumnTransformer(transformers=[('cat',\n",
       "                                                  OneHotEncoder(handle_unknown='ignore'),\n",
       "                                                  ['B01', 'B02', 'B03', 'B04',\n",
       "                                                   'B05', 'B06', 'B07', 'B08',\n",
       "                                                   'B09', 'B10', 'B11', 'B12',\n",
       "                                                   'B13', 'B14', 'B15', 'B16',\n",
       "                                                   'B17', 'B18', 'B19', 'B20',\n",
       "                                                   'B21', 'B22', 'B23', 'C01',\n",
       "                                                   'C02', 'C03', 'C04', 'C05',\n",
       "                                                   'C06', 'C07', ...])],\n",
       "                                   verbose_feature_names_out=False)),\n",
       "                ('classifier',\n",
       "                 DecisionTreeClassifier(max_depth=8, random_state=42))])"
      ]
     },
     "execution_count": 19,
     "metadata": {},
     "output_type": "execute_result"
    }
   ],
   "source": [
    "# Updating the parameters in the pipeline\n",
    "tree_pipe.set_params(classifier__criterion = 'gini',\n",
    "                     classifier__max_depth = 8,\n",
    "                    )\n",
    "# Refitting pipeline\n",
    "tree_pipe.fit(X_train, y_train)"
   ]
  },
  {
   "cell_type": "code",
   "execution_count": 20,
   "metadata": {},
   "outputs": [],
   "source": [
    "# # Updating the parameters in the pipeline\n",
    "# tree_pipe.set_params(classifier__criterion = gridsearch.best_params_['classifier__criterion'],\n",
    "#                      classifier__max_depth = gridsearch.best_params_['classifier__max_depth'],\n",
    "#                     )\n",
    "# # Refitting pipeline\n",
    "# tree_pipe.fit(X_train, y_train)"
   ]
  },
  {
   "cell_type": "code",
   "execution_count": 21,
   "metadata": {
    "scrolled": true
   },
   "outputs": [
    {
     "name": "stdout",
     "output_type": "stream",
     "text": [
      "Training data prediction accuracy:  0.979367866549605\n",
      "CV accuracy: 0.9381018063820363\n"
     ]
    }
   ],
   "source": [
    "# Getting predictions from pipeline\n",
    "y_pred = tree_pipe.predict(X_train)\n",
    "\n",
    "# Checking accuracy of predictions\n",
    "print(f\"Training data prediction accuracy: \", accuracy_score(y_train, y_pred))\n",
    "\n",
    "# Getting cross validation score for training data \n",
    "print(f\"CV accuracy: {cross_val_score(tree_pipe, X_train, y_train, cv=5, scoring = 'accuracy').mean()}\")"
   ]
  },
  {
   "cell_type": "markdown",
   "metadata": {},
   "source": [
    "There is some improvement there but the tree is still somewhat over fit. Let’s take a look at the feature importance to get a better sense of what is going on."
   ]
  },
  {
   "cell_type": "markdown",
   "metadata": {},
   "source": [
    "# Feature Importance"
   ]
  },
  {
   "cell_type": "code",
   "execution_count": 22,
   "metadata": {},
   "outputs": [],
   "source": [
    "# This function gets feature importances out of the pipeline. Single features are broken up into multiple columns because of \n",
    "# the encoding. This aggregates the importances by feature so high cardinality features are not discounted. \n",
    "\n",
    "def get_feature_importances(pipe):\n",
    "    # Getting feature names\n",
    "    feature_names = pipe[:-1].get_feature_names_out()\n",
    "    # Creating a series with the feature names and their importances \n",
    "    feature_importances = pd.Series(pipe[-1].feature_importances_, index=feature_names).sort_values(ascending=True)\n",
    "    # Creating a pandas datafram with the feature importances\n",
    "    importances = feature_importances.to_frame(name = 'importance').reset_index().rename(columns={\"index\": \"feature\"})\n",
    "    # Slicing the feature names stored in 'feature' to the first three letter which is the original feature name\n",
    "    importances['feature'] = importances['feature'].str.slice(0, 3)\n",
    "    # Grouping and summing the features\n",
    "    importances = importances.groupby('feature').sum()\n",
    "    # Returning a datafram with the feature importances\n",
    "    return importances"
   ]
  },
  {
   "cell_type": "code",
   "execution_count": 23,
   "metadata": {},
   "outputs": [
    {
     "data": {
      "text/html": [
       "<div>\n",
       "<style scoped>\n",
       "    .dataframe tbody tr th:only-of-type {\n",
       "        vertical-align: middle;\n",
       "    }\n",
       "\n",
       "    .dataframe tbody tr th {\n",
       "        vertical-align: top;\n",
       "    }\n",
       "\n",
       "    .dataframe thead th {\n",
       "        text-align: right;\n",
       "    }\n",
       "</style>\n",
       "<table border=\"1\" class=\"dataframe\">\n",
       "  <thead>\n",
       "    <tr style=\"text-align: right;\">\n",
       "      <th></th>\n",
       "      <th>importance</th>\n",
       "    </tr>\n",
       "    <tr>\n",
       "      <th>feature</th>\n",
       "      <th></th>\n",
       "    </tr>\n",
       "  </thead>\n",
       "  <tbody>\n",
       "    <tr>\n",
       "      <th>P28</th>\n",
       "      <td>0.661556</td>\n",
       "    </tr>\n",
       "    <tr>\n",
       "      <th>H05</th>\n",
       "      <td>0.109602</td>\n",
       "    </tr>\n",
       "    <tr>\n",
       "      <th>K11</th>\n",
       "      <td>0.039734</td>\n",
       "    </tr>\n",
       "    <tr>\n",
       "      <th>H04</th>\n",
       "      <td>0.030105</td>\n",
       "    </tr>\n",
       "    <tr>\n",
       "      <th>P27</th>\n",
       "      <td>0.018483</td>\n",
       "    </tr>\n",
       "    <tr>\n",
       "      <th>H02</th>\n",
       "      <td>0.017921</td>\n",
       "    </tr>\n",
       "    <tr>\n",
       "      <th>F26</th>\n",
       "      <td>0.014479</td>\n",
       "    </tr>\n",
       "    <tr>\n",
       "      <th>C02</th>\n",
       "      <td>0.013043</td>\n",
       "    </tr>\n",
       "    <tr>\n",
       "      <th>K09</th>\n",
       "      <td>0.011524</td>\n",
       "    </tr>\n",
       "    <tr>\n",
       "      <th>F27</th>\n",
       "      <td>0.008256</td>\n",
       "    </tr>\n",
       "  </tbody>\n",
       "</table>\n",
       "</div>"
      ],
      "text/plain": [
       "         importance\n",
       "feature            \n",
       "P28        0.661556\n",
       "H05        0.109602\n",
       "K11        0.039734\n",
       "H04        0.030105\n",
       "P27        0.018483\n",
       "H02        0.017921\n",
       "F26        0.014479\n",
       "C02        0.013043\n",
       "K09        0.011524\n",
       "F27        0.008256"
      ]
     },
     "execution_count": 23,
     "metadata": {},
     "output_type": "execute_result"
    }
   ],
   "source": [
    "# Getting top 10 feature importances for the Tree\n",
    "tree_importances = get_feature_importances(tree_pipe)\n",
    "tree_importances.nlargest(10, columns= 'importance')"
   ]
  },
  {
   "cell_type": "code",
   "execution_count": 24,
   "metadata": {},
   "outputs": [
    {
     "data": {
      "text/html": [
       "<div>\n",
       "<style scoped>\n",
       "    .dataframe tbody tr th:only-of-type {\n",
       "        vertical-align: middle;\n",
       "    }\n",
       "\n",
       "    .dataframe tbody tr th {\n",
       "        vertical-align: top;\n",
       "    }\n",
       "\n",
       "    .dataframe thead th {\n",
       "        text-align: right;\n",
       "    }\n",
       "</style>\n",
       "<table border=\"1\" class=\"dataframe\">\n",
       "  <thead>\n",
       "    <tr style=\"text-align: right;\">\n",
       "      <th></th>\n",
       "      <th>importance</th>\n",
       "    </tr>\n",
       "    <tr>\n",
       "      <th>feature</th>\n",
       "      <th></th>\n",
       "    </tr>\n",
       "  </thead>\n",
       "  <tbody>\n",
       "    <tr>\n",
       "      <th>B01</th>\n",
       "      <td>0.0</td>\n",
       "    </tr>\n",
       "    <tr>\n",
       "      <th>B02</th>\n",
       "      <td>0.0</td>\n",
       "    </tr>\n",
       "    <tr>\n",
       "      <th>B03</th>\n",
       "      <td>0.0</td>\n",
       "    </tr>\n",
       "    <tr>\n",
       "      <th>B04</th>\n",
       "      <td>0.0</td>\n",
       "    </tr>\n",
       "    <tr>\n",
       "      <th>B05</th>\n",
       "      <td>0.0</td>\n",
       "    </tr>\n",
       "    <tr>\n",
       "      <th>B06</th>\n",
       "      <td>0.0</td>\n",
       "    </tr>\n",
       "    <tr>\n",
       "      <th>B07</th>\n",
       "      <td>0.0</td>\n",
       "    </tr>\n",
       "    <tr>\n",
       "      <th>B08</th>\n",
       "      <td>0.0</td>\n",
       "    </tr>\n",
       "    <tr>\n",
       "      <th>B09</th>\n",
       "      <td>0.0</td>\n",
       "    </tr>\n",
       "    <tr>\n",
       "      <th>B10</th>\n",
       "      <td>0.0</td>\n",
       "    </tr>\n",
       "  </tbody>\n",
       "</table>\n",
       "</div>"
      ],
      "text/plain": [
       "         importance\n",
       "feature            \n",
       "B01             0.0\n",
       "B02             0.0\n",
       "B03             0.0\n",
       "B04             0.0\n",
       "B05             0.0\n",
       "B06             0.0\n",
       "B07             0.0\n",
       "B08             0.0\n",
       "B09             0.0\n",
       "B10             0.0"
      ]
     },
     "execution_count": 24,
     "metadata": {},
     "output_type": "execute_result"
    }
   ],
   "source": [
    "# getting 10 smallest feature importances\n",
    "tree_importances.nsmallest(10, columns= 'importance')"
   ]
  },
  {
   "cell_type": "code",
   "execution_count": 25,
   "metadata": {
    "scrolled": true
   },
   "outputs": [
    {
     "data": {
      "text/plain": [
       "importance    0.0\n",
       "dtype: float64"
      ]
     },
     "execution_count": 25,
     "metadata": {},
     "output_type": "execute_result"
    }
   ],
   "source": [
    "# Summing 100 smallest feature importances\n",
    "tree_importances.nsmallest(100, columns= 'importance').sum()"
   ]
  },
  {
   "cell_type": "markdown",
   "metadata": {},
   "source": [
    "The sum of the 100 least important features is zero so the tree is not taking those into account. Next we will try a random forest which creates a number of decision trees each using a different random subset of features. This will allow it to use a broader selection of the data and hopefully get better results. "
   ]
  },
  {
   "cell_type": "markdown",
   "metadata": {},
   "source": [
    "# Random Forest"
   ]
  },
  {
   "cell_type": "code",
   "execution_count": 26,
   "metadata": {},
   "outputs": [
    {
     "data": {
      "text/html": [
       "<style>#sk-container-id-3 {color: black;background-color: white;}#sk-container-id-3 pre{padding: 0;}#sk-container-id-3 div.sk-toggleable {background-color: white;}#sk-container-id-3 label.sk-toggleable__label {cursor: pointer;display: block;width: 100%;margin-bottom: 0;padding: 0.3em;box-sizing: border-box;text-align: center;}#sk-container-id-3 label.sk-toggleable__label-arrow:before {content: \"▸\";float: left;margin-right: 0.25em;color: #696969;}#sk-container-id-3 label.sk-toggleable__label-arrow:hover:before {color: black;}#sk-container-id-3 div.sk-estimator:hover label.sk-toggleable__label-arrow:before {color: black;}#sk-container-id-3 div.sk-toggleable__content {max-height: 0;max-width: 0;overflow: hidden;text-align: left;background-color: #f0f8ff;}#sk-container-id-3 div.sk-toggleable__content pre {margin: 0.2em;color: black;border-radius: 0.25em;background-color: #f0f8ff;}#sk-container-id-3 input.sk-toggleable__control:checked~div.sk-toggleable__content {max-height: 200px;max-width: 100%;overflow: auto;}#sk-container-id-3 input.sk-toggleable__control:checked~label.sk-toggleable__label-arrow:before {content: \"▾\";}#sk-container-id-3 div.sk-estimator input.sk-toggleable__control:checked~label.sk-toggleable__label {background-color: #d4ebff;}#sk-container-id-3 div.sk-label input.sk-toggleable__control:checked~label.sk-toggleable__label {background-color: #d4ebff;}#sk-container-id-3 input.sk-hidden--visually {border: 0;clip: rect(1px 1px 1px 1px);clip: rect(1px, 1px, 1px, 1px);height: 1px;margin: -1px;overflow: hidden;padding: 0;position: absolute;width: 1px;}#sk-container-id-3 div.sk-estimator {font-family: monospace;background-color: #f0f8ff;border: 1px dotted black;border-radius: 0.25em;box-sizing: border-box;margin-bottom: 0.5em;}#sk-container-id-3 div.sk-estimator:hover {background-color: #d4ebff;}#sk-container-id-3 div.sk-parallel-item::after {content: \"\";width: 100%;border-bottom: 1px solid gray;flex-grow: 1;}#sk-container-id-3 div.sk-label:hover label.sk-toggleable__label {background-color: #d4ebff;}#sk-container-id-3 div.sk-serial::before {content: \"\";position: absolute;border-left: 1px solid gray;box-sizing: border-box;top: 0;bottom: 0;left: 50%;z-index: 0;}#sk-container-id-3 div.sk-serial {display: flex;flex-direction: column;align-items: center;background-color: white;padding-right: 0.2em;padding-left: 0.2em;position: relative;}#sk-container-id-3 div.sk-item {position: relative;z-index: 1;}#sk-container-id-3 div.sk-parallel {display: flex;align-items: stretch;justify-content: center;background-color: white;position: relative;}#sk-container-id-3 div.sk-item::before, #sk-container-id-3 div.sk-parallel-item::before {content: \"\";position: absolute;border-left: 1px solid gray;box-sizing: border-box;top: 0;bottom: 0;left: 50%;z-index: -1;}#sk-container-id-3 div.sk-parallel-item {display: flex;flex-direction: column;z-index: 1;position: relative;background-color: white;}#sk-container-id-3 div.sk-parallel-item:first-child::after {align-self: flex-end;width: 50%;}#sk-container-id-3 div.sk-parallel-item:last-child::after {align-self: flex-start;width: 50%;}#sk-container-id-3 div.sk-parallel-item:only-child::after {width: 0;}#sk-container-id-3 div.sk-dashed-wrapped {border: 1px dashed gray;margin: 0 0.4em 0.5em 0.4em;box-sizing: border-box;padding-bottom: 0.4em;background-color: white;}#sk-container-id-3 div.sk-label label {font-family: monospace;font-weight: bold;display: inline-block;line-height: 1.2em;}#sk-container-id-3 div.sk-label-container {text-align: center;}#sk-container-id-3 div.sk-container {/* jupyter's `normalize.less` sets `[hidden] { display: none; }` but bootstrap.min.css set `[hidden] { display: none !important; }` so we also need the `!important` here to be able to override the default hidden behavior on the sphinx rendered scikit-learn.org. See: https://github.com/scikit-learn/scikit-learn/issues/21755 */display: inline-block !important;position: relative;}#sk-container-id-3 div.sk-text-repr-fallback {display: none;}</style><div id=\"sk-container-id-3\" class=\"sk-top-container\"><div class=\"sk-text-repr-fallback\"><pre>Pipeline(steps=[(&#x27;preprocess&#x27;,\n",
       "                 ColumnTransformer(transformers=[(&#x27;cat&#x27;,\n",
       "                                                  OneHotEncoder(handle_unknown=&#x27;ignore&#x27;),\n",
       "                                                  [&#x27;B01&#x27;, &#x27;B02&#x27;, &#x27;B03&#x27;, &#x27;B04&#x27;,\n",
       "                                                   &#x27;B05&#x27;, &#x27;B06&#x27;, &#x27;B07&#x27;, &#x27;B08&#x27;,\n",
       "                                                   &#x27;B09&#x27;, &#x27;B10&#x27;, &#x27;B11&#x27;, &#x27;B12&#x27;,\n",
       "                                                   &#x27;B13&#x27;, &#x27;B14&#x27;, &#x27;B15&#x27;, &#x27;B16&#x27;,\n",
       "                                                   &#x27;B17&#x27;, &#x27;B18&#x27;, &#x27;B19&#x27;, &#x27;B20&#x27;,\n",
       "                                                   &#x27;B21&#x27;, &#x27;B22&#x27;, &#x27;B23&#x27;, &#x27;C01&#x27;,\n",
       "                                                   &#x27;C02&#x27;, &#x27;C03&#x27;, &#x27;C04&#x27;, &#x27;C05&#x27;,\n",
       "                                                   &#x27;C06&#x27;, &#x27;C07&#x27;, ...])],\n",
       "                                   verbose_feature_names_out=False)),\n",
       "                (&#x27;classifier&#x27;, RandomForestClassifier(random_state=42))])</pre><b>In a Jupyter environment, please rerun this cell to show the HTML representation or trust the notebook. <br />On GitHub, the HTML representation is unable to render, please try loading this page with nbviewer.org.</b></div><div class=\"sk-container\" hidden><div class=\"sk-item sk-dashed-wrapped\"><div class=\"sk-label-container\"><div class=\"sk-label sk-toggleable\"><input class=\"sk-toggleable__control sk-hidden--visually\" id=\"sk-estimator-id-11\" type=\"checkbox\" ><label for=\"sk-estimator-id-11\" class=\"sk-toggleable__label sk-toggleable__label-arrow\">Pipeline</label><div class=\"sk-toggleable__content\"><pre>Pipeline(steps=[(&#x27;preprocess&#x27;,\n",
       "                 ColumnTransformer(transformers=[(&#x27;cat&#x27;,\n",
       "                                                  OneHotEncoder(handle_unknown=&#x27;ignore&#x27;),\n",
       "                                                  [&#x27;B01&#x27;, &#x27;B02&#x27;, &#x27;B03&#x27;, &#x27;B04&#x27;,\n",
       "                                                   &#x27;B05&#x27;, &#x27;B06&#x27;, &#x27;B07&#x27;, &#x27;B08&#x27;,\n",
       "                                                   &#x27;B09&#x27;, &#x27;B10&#x27;, &#x27;B11&#x27;, &#x27;B12&#x27;,\n",
       "                                                   &#x27;B13&#x27;, &#x27;B14&#x27;, &#x27;B15&#x27;, &#x27;B16&#x27;,\n",
       "                                                   &#x27;B17&#x27;, &#x27;B18&#x27;, &#x27;B19&#x27;, &#x27;B20&#x27;,\n",
       "                                                   &#x27;B21&#x27;, &#x27;B22&#x27;, &#x27;B23&#x27;, &#x27;C01&#x27;,\n",
       "                                                   &#x27;C02&#x27;, &#x27;C03&#x27;, &#x27;C04&#x27;, &#x27;C05&#x27;,\n",
       "                                                   &#x27;C06&#x27;, &#x27;C07&#x27;, ...])],\n",
       "                                   verbose_feature_names_out=False)),\n",
       "                (&#x27;classifier&#x27;, RandomForestClassifier(random_state=42))])</pre></div></div></div><div class=\"sk-serial\"><div class=\"sk-item sk-dashed-wrapped\"><div class=\"sk-label-container\"><div class=\"sk-label sk-toggleable\"><input class=\"sk-toggleable__control sk-hidden--visually\" id=\"sk-estimator-id-12\" type=\"checkbox\" ><label for=\"sk-estimator-id-12\" class=\"sk-toggleable__label sk-toggleable__label-arrow\">preprocess: ColumnTransformer</label><div class=\"sk-toggleable__content\"><pre>ColumnTransformer(transformers=[(&#x27;cat&#x27;, OneHotEncoder(handle_unknown=&#x27;ignore&#x27;),\n",
       "                                 [&#x27;B01&#x27;, &#x27;B02&#x27;, &#x27;B03&#x27;, &#x27;B04&#x27;, &#x27;B05&#x27;, &#x27;B06&#x27;,\n",
       "                                  &#x27;B07&#x27;, &#x27;B08&#x27;, &#x27;B09&#x27;, &#x27;B10&#x27;, &#x27;B11&#x27;, &#x27;B12&#x27;,\n",
       "                                  &#x27;B13&#x27;, &#x27;B14&#x27;, &#x27;B15&#x27;, &#x27;B16&#x27;, &#x27;B17&#x27;, &#x27;B18&#x27;,\n",
       "                                  &#x27;B19&#x27;, &#x27;B20&#x27;, &#x27;B21&#x27;, &#x27;B22&#x27;, &#x27;B23&#x27;, &#x27;C01&#x27;,\n",
       "                                  &#x27;C02&#x27;, &#x27;C03&#x27;, &#x27;C04&#x27;, &#x27;C05&#x27;, &#x27;C06&#x27;, &#x27;C07&#x27;, ...])],\n",
       "                  verbose_feature_names_out=False)</pre></div></div></div><div class=\"sk-parallel\"><div class=\"sk-parallel-item\"><div class=\"sk-item\"><div class=\"sk-label-container\"><div class=\"sk-label sk-toggleable\"><input class=\"sk-toggleable__control sk-hidden--visually\" id=\"sk-estimator-id-13\" type=\"checkbox\" ><label for=\"sk-estimator-id-13\" class=\"sk-toggleable__label sk-toggleable__label-arrow\">cat</label><div class=\"sk-toggleable__content\"><pre>[&#x27;B01&#x27;, &#x27;B02&#x27;, &#x27;B03&#x27;, &#x27;B04&#x27;, &#x27;B05&#x27;, &#x27;B06&#x27;, &#x27;B07&#x27;, &#x27;B08&#x27;, &#x27;B09&#x27;, &#x27;B10&#x27;, &#x27;B11&#x27;, &#x27;B12&#x27;, &#x27;B13&#x27;, &#x27;B14&#x27;, &#x27;B15&#x27;, &#x27;B16&#x27;, &#x27;B17&#x27;, &#x27;B18&#x27;, &#x27;B19&#x27;, &#x27;B20&#x27;, &#x27;B21&#x27;, &#x27;B22&#x27;, &#x27;B23&#x27;, &#x27;C01&#x27;, &#x27;C02&#x27;, &#x27;C03&#x27;, &#x27;C04&#x27;, &#x27;C05&#x27;, &#x27;C06&#x27;, &#x27;C07&#x27;, &#x27;F01&#x27;, &#x27;F02&#x27;, &#x27;F03&#x27;, &#x27;F04&#x27;, &#x27;F05&#x27;, &#x27;F06&#x27;, &#x27;F07&#x27;, &#x27;F08&#x27;, &#x27;F09&#x27;, &#x27;F10&#x27;, &#x27;F11&#x27;, &#x27;F12&#x27;, &#x27;F13&#x27;, &#x27;F14&#x27;, &#x27;F15&#x27;, &#x27;F16&#x27;, &#x27;F17&#x27;, &#x27;F18&#x27;, &#x27;F19&#x27;, &#x27;F20&#x27;, &#x27;F21&#x27;, &#x27;F22&#x27;, &#x27;F23&#x27;, &#x27;F24&#x27;, &#x27;F25&#x27;, &#x27;F26&#x27;, &#x27;F27&#x27;, &#x27;G01&#x27;, &#x27;G02&#x27;, &#x27;G03&#x27;, &#x27;G04&#x27;, &#x27;G05&#x27;, &#x27;G06&#x27;, &#x27;G07&#x27;, &#x27;G08&#x27;, &#x27;G09&#x27;, &#x27;G10&#x27;, &#x27;G11&#x27;, &#x27;H01&#x27;, &#x27;H02&#x27;, &#x27;H03&#x27;, &#x27;H04&#x27;, &#x27;H05&#x27;, &#x27;H06&#x27;, &#x27;H07&#x27;, &#x27;H08&#x27;, &#x27;H09&#x27;, &#x27;H10&#x27;, &#x27;H11&#x27;, &#x27;H12&#x27;, &#x27;H13&#x27;, &#x27;H14&#x27;, &#x27;H15&#x27;, &#x27;H16&#x27;, &#x27;H17&#x27;, &#x27;J01&#x27;, &#x27;J02&#x27;, &#x27;J03&#x27;, &#x27;J04&#x27;, &#x27;J05&#x27;, &#x27;J06&#x27;, &#x27;J07&#x27;, &#x27;J08&#x27;, &#x27;J09&#x27;, &#x27;J10&#x27;, &#x27;J11&#x27;, &#x27;J12&#x27;, &#x27;K01&#x27;, &#x27;K02&#x27;, &#x27;K03&#x27;, &#x27;K04&#x27;, &#x27;K05&#x27;, &#x27;K06&#x27;, &#x27;K07&#x27;, &#x27;K08&#x27;, &#x27;K09&#x27;, &#x27;K10&#x27;, &#x27;K11&#x27;, &#x27;K12&#x27;, &#x27;K13&#x27;, &#x27;K14&#x27;, &#x27;K15&#x27;, &#x27;K16&#x27;, &#x27;K17&#x27;, &#x27;K18&#x27;, &#x27;L01&#x27;, &#x27;L02&#x27;, &#x27;L03&#x27;, &#x27;L04&#x27;, &#x27;L05&#x27;, &#x27;L06&#x27;, &#x27;M01&#x27;, &#x27;M02&#x27;, &#x27;M03&#x27;, &#x27;M04&#x27;, &#x27;M05&#x27;, &#x27;M06&#x27;, &#x27;M07&#x27;, &#x27;M08&#x27;, &#x27;M09&#x27;, &#x27;M10&#x27;, &#x27;M11&#x27;, &#x27;M12&#x27;, &#x27;M13&#x27;, &#x27;M14&#x27;, &#x27;M15&#x27;, &#x27;M16&#x27;, &#x27;M17&#x27;, &#x27;M18&#x27;, &#x27;M19&#x27;, &#x27;M20&#x27;, &#x27;N01&#x27;, &#x27;N02&#x27;, &#x27;N03&#x27;, &#x27;N04&#x27;, &#x27;N05&#x27;, &#x27;N06&#x27;, &#x27;N07&#x27;, &#x27;N08&#x27;, &#x27;P01&#x27;, &#x27;P02&#x27;, &#x27;P03&#x27;, &#x27;P04&#x27;, &#x27;P05&#x27;, &#x27;P06&#x27;, &#x27;P07&#x27;, &#x27;P08&#x27;, &#x27;P09&#x27;, &#x27;P10&#x27;, &#x27;P11&#x27;, &#x27;P12&#x27;, &#x27;P13&#x27;, &#x27;P14&#x27;, &#x27;P15&#x27;, &#x27;P16&#x27;, &#x27;P17&#x27;, &#x27;P18&#x27;, &#x27;P19&#x27;, &#x27;P20&#x27;, &#x27;P21&#x27;, &#x27;P22&#x27;, &#x27;P23&#x27;, &#x27;P24&#x27;, &#x27;P25&#x27;, &#x27;P26&#x27;, &#x27;P27&#x27;, &#x27;P28&#x27;, &#x27;P29&#x27;, &#x27;Q01&#x27;, &#x27;Q02&#x27;, &#x27;Q03&#x27;, &#x27;Q04&#x27;, &#x27;Q05&#x27;, &#x27;Q06&#x27;, &#x27;Q07&#x27;, &#x27;Q08&#x27;, &#x27;R01&#x27;, &#x27;R02&#x27;, &#x27;R03&#x27;, &#x27;R04&#x27;, &#x27;R05&#x27;, &#x27;R06&#x27;, &#x27;R07&#x27;, &#x27;R08&#x27;, &#x27;R09&#x27;, &#x27;R10&#x27;, &#x27;R11&#x27;, &#x27;R12&#x27;, &#x27;R13&#x27;, &#x27;R14&#x27;, &#x27;R15&#x27;, &#x27;R16&#x27;, &#x27;R17&#x27;, &#x27;R18&#x27;]</pre></div></div></div><div class=\"sk-serial\"><div class=\"sk-item\"><div class=\"sk-estimator sk-toggleable\"><input class=\"sk-toggleable__control sk-hidden--visually\" id=\"sk-estimator-id-14\" type=\"checkbox\" ><label for=\"sk-estimator-id-14\" class=\"sk-toggleable__label sk-toggleable__label-arrow\">OneHotEncoder</label><div class=\"sk-toggleable__content\"><pre>OneHotEncoder(handle_unknown=&#x27;ignore&#x27;)</pre></div></div></div></div></div></div></div></div><div class=\"sk-item\"><div class=\"sk-estimator sk-toggleable\"><input class=\"sk-toggleable__control sk-hidden--visually\" id=\"sk-estimator-id-15\" type=\"checkbox\" ><label for=\"sk-estimator-id-15\" class=\"sk-toggleable__label sk-toggleable__label-arrow\">RandomForestClassifier</label><div class=\"sk-toggleable__content\"><pre>RandomForestClassifier(random_state=42)</pre></div></div></div></div></div></div></div>"
      ],
      "text/plain": [
       "Pipeline(steps=[('preprocess',\n",
       "                 ColumnTransformer(transformers=[('cat',\n",
       "                                                  OneHotEncoder(handle_unknown='ignore'),\n",
       "                                                  ['B01', 'B02', 'B03', 'B04',\n",
       "                                                   'B05', 'B06', 'B07', 'B08',\n",
       "                                                   'B09', 'B10', 'B11', 'B12',\n",
       "                                                   'B13', 'B14', 'B15', 'B16',\n",
       "                                                   'B17', 'B18', 'B19', 'B20',\n",
       "                                                   'B21', 'B22', 'B23', 'C01',\n",
       "                                                   'C02', 'C03', 'C04', 'C05',\n",
       "                                                   'C06', 'C07', ...])],\n",
       "                                   verbose_feature_names_out=False)),\n",
       "                ('classifier', RandomForestClassifier(random_state=42))])"
      ]
     },
     "execution_count": 26,
     "metadata": {},
     "output_type": "execute_result"
    }
   ],
   "source": [
    "# Setting up one hot encoder to use with our categorical data\n",
    "categorical_processing = OneHotEncoder(handle_unknown='ignore')\n",
    "\n",
    "preprocessing = ColumnTransformer(\n",
    "    [\n",
    "        (\"cat\", categorical_processing, categorical_columns),\n",
    "    ],\n",
    "    verbose_feature_names_out=False,\n",
    ")\n",
    "\n",
    "# Setting up pipeline steps\n",
    "forest_pipe = Pipeline(\n",
    "    [\n",
    "        (\"preprocess\", preprocessing),\n",
    "        (\"classifier\", RandomForestClassifier(random_state=42)),\n",
    "    ]\n",
    ")\n",
    "\n",
    "# Fitting pipeline to the training data\n",
    "forest_pipe.fit(X_train, y_train)"
   ]
  },
  {
   "cell_type": "code",
   "execution_count": 27,
   "metadata": {
    "scrolled": false
   },
   "outputs": [
    {
     "name": "stdout",
     "output_type": "stream",
     "text": [
      "Training data prediction accuracy:  1.0\n",
      "CV accuracy: 0.9613702890596414\n"
     ]
    }
   ],
   "source": [
    "# Getting predictions from pipeline using training data\n",
    "y_pred = forest_pipe.predict(X_train)\n",
    "\n",
    "# Checking accuracy of predictions\n",
    "print(f\"Training data prediction accuracy: \", accuracy_score(y_train, y_pred))\n",
    "\n",
    "# Getting cross validation score for training data \n",
    "print(f\"CV accuracy: {cross_val_score(forest_pipe, X_train, y_train, cv=5, scoring = 'accuracy').mean()}\")"
   ]
  },
  {
   "cell_type": "markdown",
   "metadata": {},
   "source": [
    "That’s a good score for an untuned model but it is over fit. I will try to address that using RandomizedSearchCV and GridSearchCV to tune the hyper parameters."
   ]
  },
  {
   "cell_type": "markdown",
   "metadata": {},
   "source": [
    "# RandomizedSearchCV"
   ]
  },
  {
   "cell_type": "code",
   "execution_count": 28,
   "metadata": {
    "scrolled": true
   },
   "outputs": [],
   "source": [
    "# Setting up the parameters for RandomizedSearchCV to test\n",
    "# Number of trees in random forest\n",
    "n_estimators = [int(x) for x in np.linspace(start = 200, stop = 2000, num = 10)]\n",
    "# Maximum number of levels in tree\n",
    "max_depth = [int(x) for x in np.linspace(10, 110, num = 11)]\n",
    "max_depth.append(None)\n",
    "# Minimum number of samples required to split a node\n",
    "min_samples_split = [2, 5, 10]\n",
    "# Minimum number of samples required at each leaf node\n",
    "min_samples_leaf = [1, 2, 4]\n",
    "# Method of selecting samples for training each tree\n",
    "bootstrap = [True, False]\n",
    "# Creating random grid\n",
    "random_grid = {'classifier__n_estimators': n_estimators,\n",
    "               'classifier__max_depth': max_depth,\n",
    "               'classifier__min_samples_split': min_samples_split,\n",
    "               'classifier__min_samples_leaf': min_samples_leaf,\n",
    "               'classifier__bootstrap': bootstrap}"
   ]
  },
  {
   "cell_type": "code",
   "execution_count": 29,
   "metadata": {},
   "outputs": [],
   "source": [
    "# # setting up RandomizedSearchCV \n",
    "# forest_random = RandomizedSearchCV(estimator = forest_pipe,\n",
    "#                                    param_distributions = random_grid,\n",
    "#                                    n_iter = 100,\n",
    "#                                    cv = 3,\n",
    "#                                    verbose=2,\n",
    "#                                    random_state=42,\n",
    "#                                    n_jobs = -1\n",
    "#                                   )\n",
    "# # Fiting random search model\n",
    "# forest_random.fit(X_train, y_train)"
   ]
  },
  {
   "cell_type": "code",
   "execution_count": 30,
   "metadata": {
    "scrolled": true
   },
   "outputs": [],
   "source": [
    "# #checking best parameters\n",
    "# forest_random.best_params_"
   ]
  },
  {
   "cell_type": "markdown",
   "metadata": {},
   "source": [
    "### Results\n",
    "- 'classifier__n_estimators': 400\n",
    "- 'classifier__min_samples_split': 5\n",
    "- 'classifier__min_samples_leaf': 2\n",
    "- 'classifier__max_depth': 90\n",
    "- 'classifier__bootstrap': False\n",
    " "
   ]
  },
  {
   "cell_type": "markdown",
   "metadata": {},
   "source": [
    "# GridSearchCV"
   ]
  },
  {
   "cell_type": "markdown",
   "metadata": {},
   "source": [
    "Based on the results from our randomized search I constructed this parameter grid to feed into GridSearchCV."
   ]
  },
  {
   "cell_type": "code",
   "execution_count": 31,
   "metadata": {},
   "outputs": [],
   "source": [
    "# # Setting up parameter grid\n",
    "# param_grid = {'classifier__n_estimators': [200, 300, 400],\n",
    "#               'classifier__criterion': ['gini', 'entropy', 'log_loss'],               \n",
    "#               'classifier__max_depth': [70, 80, 90],\n",
    "#               'classifier__min_samples_split': [4, 5, 6],\n",
    "#               'classifier__min_samples_leaf': [2, 3, 4],\n",
    "#               'classifier__bootstrap': [False, True]\n",
    "#              }\n",
    "# # Executing gridsearch\n",
    "# gridsearch = GridSearchCV(estimator=forest_pipe,\n",
    "#                           param_grid=param_grid,\n",
    "#                           scoring='accuracy',\n",
    "#                           cv=5,\n",
    "#                           n_jobs = 3\n",
    "#                          )\n",
    "# # Fit the training data\n",
    "# gridsearch.fit(X_train, y_train)"
   ]
  },
  {
   "cell_type": "code",
   "execution_count": 32,
   "metadata": {},
   "outputs": [],
   "source": [
    "# # Print the accuracy on train set\n",
    "# print(f'Best estimator score: ' + '{:.4%}'.format(gridsearch.score(X_train, y_train)))\n",
    "# print(f'Gridsearch best params: ')\n",
    "# print(gridsearch.best_params_)"
   ]
  },
  {
   "cell_type": "markdown",
   "metadata": {},
   "source": [
    "### Results\n",
    "\n",
    "Best estimator score: 99.2098%\n",
    "\n",
    "Gridsearch best params: \n",
    "- 'classifier__bootstrap': True \n",
    "- 'classifier__criterion': 'gini' \n",
    "- 'classifier__max_depth': 70 \n",
    "- 'classifier__min_samples_leaf': 3 \n",
    "- 'classifier__min_samples_split': 4 \n",
    "- 'classifier__n_estimators': 300"
   ]
  },
  {
   "cell_type": "code",
   "execution_count": 33,
   "metadata": {},
   "outputs": [
    {
     "data": {
      "text/html": [
       "<style>#sk-container-id-4 {color: black;background-color: white;}#sk-container-id-4 pre{padding: 0;}#sk-container-id-4 div.sk-toggleable {background-color: white;}#sk-container-id-4 label.sk-toggleable__label {cursor: pointer;display: block;width: 100%;margin-bottom: 0;padding: 0.3em;box-sizing: border-box;text-align: center;}#sk-container-id-4 label.sk-toggleable__label-arrow:before {content: \"▸\";float: left;margin-right: 0.25em;color: #696969;}#sk-container-id-4 label.sk-toggleable__label-arrow:hover:before {color: black;}#sk-container-id-4 div.sk-estimator:hover label.sk-toggleable__label-arrow:before {color: black;}#sk-container-id-4 div.sk-toggleable__content {max-height: 0;max-width: 0;overflow: hidden;text-align: left;background-color: #f0f8ff;}#sk-container-id-4 div.sk-toggleable__content pre {margin: 0.2em;color: black;border-radius: 0.25em;background-color: #f0f8ff;}#sk-container-id-4 input.sk-toggleable__control:checked~div.sk-toggleable__content {max-height: 200px;max-width: 100%;overflow: auto;}#sk-container-id-4 input.sk-toggleable__control:checked~label.sk-toggleable__label-arrow:before {content: \"▾\";}#sk-container-id-4 div.sk-estimator input.sk-toggleable__control:checked~label.sk-toggleable__label {background-color: #d4ebff;}#sk-container-id-4 div.sk-label input.sk-toggleable__control:checked~label.sk-toggleable__label {background-color: #d4ebff;}#sk-container-id-4 input.sk-hidden--visually {border: 0;clip: rect(1px 1px 1px 1px);clip: rect(1px, 1px, 1px, 1px);height: 1px;margin: -1px;overflow: hidden;padding: 0;position: absolute;width: 1px;}#sk-container-id-4 div.sk-estimator {font-family: monospace;background-color: #f0f8ff;border: 1px dotted black;border-radius: 0.25em;box-sizing: border-box;margin-bottom: 0.5em;}#sk-container-id-4 div.sk-estimator:hover {background-color: #d4ebff;}#sk-container-id-4 div.sk-parallel-item::after {content: \"\";width: 100%;border-bottom: 1px solid gray;flex-grow: 1;}#sk-container-id-4 div.sk-label:hover label.sk-toggleable__label {background-color: #d4ebff;}#sk-container-id-4 div.sk-serial::before {content: \"\";position: absolute;border-left: 1px solid gray;box-sizing: border-box;top: 0;bottom: 0;left: 50%;z-index: 0;}#sk-container-id-4 div.sk-serial {display: flex;flex-direction: column;align-items: center;background-color: white;padding-right: 0.2em;padding-left: 0.2em;position: relative;}#sk-container-id-4 div.sk-item {position: relative;z-index: 1;}#sk-container-id-4 div.sk-parallel {display: flex;align-items: stretch;justify-content: center;background-color: white;position: relative;}#sk-container-id-4 div.sk-item::before, #sk-container-id-4 div.sk-parallel-item::before {content: \"\";position: absolute;border-left: 1px solid gray;box-sizing: border-box;top: 0;bottom: 0;left: 50%;z-index: -1;}#sk-container-id-4 div.sk-parallel-item {display: flex;flex-direction: column;z-index: 1;position: relative;background-color: white;}#sk-container-id-4 div.sk-parallel-item:first-child::after {align-self: flex-end;width: 50%;}#sk-container-id-4 div.sk-parallel-item:last-child::after {align-self: flex-start;width: 50%;}#sk-container-id-4 div.sk-parallel-item:only-child::after {width: 0;}#sk-container-id-4 div.sk-dashed-wrapped {border: 1px dashed gray;margin: 0 0.4em 0.5em 0.4em;box-sizing: border-box;padding-bottom: 0.4em;background-color: white;}#sk-container-id-4 div.sk-label label {font-family: monospace;font-weight: bold;display: inline-block;line-height: 1.2em;}#sk-container-id-4 div.sk-label-container {text-align: center;}#sk-container-id-4 div.sk-container {/* jupyter's `normalize.less` sets `[hidden] { display: none; }` but bootstrap.min.css set `[hidden] { display: none !important; }` so we also need the `!important` here to be able to override the default hidden behavior on the sphinx rendered scikit-learn.org. See: https://github.com/scikit-learn/scikit-learn/issues/21755 */display: inline-block !important;position: relative;}#sk-container-id-4 div.sk-text-repr-fallback {display: none;}</style><div id=\"sk-container-id-4\" class=\"sk-top-container\"><div class=\"sk-text-repr-fallback\"><pre>Pipeline(steps=[(&#x27;preprocess&#x27;,\n",
       "                 ColumnTransformer(transformers=[(&#x27;cat&#x27;,\n",
       "                                                  OneHotEncoder(handle_unknown=&#x27;ignore&#x27;),\n",
       "                                                  [&#x27;B01&#x27;, &#x27;B02&#x27;, &#x27;B03&#x27;, &#x27;B04&#x27;,\n",
       "                                                   &#x27;B05&#x27;, &#x27;B06&#x27;, &#x27;B07&#x27;, &#x27;B08&#x27;,\n",
       "                                                   &#x27;B09&#x27;, &#x27;B10&#x27;, &#x27;B11&#x27;, &#x27;B12&#x27;,\n",
       "                                                   &#x27;B13&#x27;, &#x27;B14&#x27;, &#x27;B15&#x27;, &#x27;B16&#x27;,\n",
       "                                                   &#x27;B17&#x27;, &#x27;B18&#x27;, &#x27;B19&#x27;, &#x27;B20&#x27;,\n",
       "                                                   &#x27;B21&#x27;, &#x27;B22&#x27;, &#x27;B23&#x27;, &#x27;C01&#x27;,\n",
       "                                                   &#x27;C02&#x27;, &#x27;C03&#x27;, &#x27;C04&#x27;, &#x27;C05&#x27;,\n",
       "                                                   &#x27;C06&#x27;, &#x27;C07&#x27;, ...])],\n",
       "                                   verbose_feature_names_out=False)),\n",
       "                (&#x27;classifier&#x27;,\n",
       "                 RandomForestClassifier(max_depth=70, min_samples_leaf=3,\n",
       "                                        min_samples_split=4, n_estimators=300,\n",
       "                                        random_state=42))])</pre><b>In a Jupyter environment, please rerun this cell to show the HTML representation or trust the notebook. <br />On GitHub, the HTML representation is unable to render, please try loading this page with nbviewer.org.</b></div><div class=\"sk-container\" hidden><div class=\"sk-item sk-dashed-wrapped\"><div class=\"sk-label-container\"><div class=\"sk-label sk-toggleable\"><input class=\"sk-toggleable__control sk-hidden--visually\" id=\"sk-estimator-id-16\" type=\"checkbox\" ><label for=\"sk-estimator-id-16\" class=\"sk-toggleable__label sk-toggleable__label-arrow\">Pipeline</label><div class=\"sk-toggleable__content\"><pre>Pipeline(steps=[(&#x27;preprocess&#x27;,\n",
       "                 ColumnTransformer(transformers=[(&#x27;cat&#x27;,\n",
       "                                                  OneHotEncoder(handle_unknown=&#x27;ignore&#x27;),\n",
       "                                                  [&#x27;B01&#x27;, &#x27;B02&#x27;, &#x27;B03&#x27;, &#x27;B04&#x27;,\n",
       "                                                   &#x27;B05&#x27;, &#x27;B06&#x27;, &#x27;B07&#x27;, &#x27;B08&#x27;,\n",
       "                                                   &#x27;B09&#x27;, &#x27;B10&#x27;, &#x27;B11&#x27;, &#x27;B12&#x27;,\n",
       "                                                   &#x27;B13&#x27;, &#x27;B14&#x27;, &#x27;B15&#x27;, &#x27;B16&#x27;,\n",
       "                                                   &#x27;B17&#x27;, &#x27;B18&#x27;, &#x27;B19&#x27;, &#x27;B20&#x27;,\n",
       "                                                   &#x27;B21&#x27;, &#x27;B22&#x27;, &#x27;B23&#x27;, &#x27;C01&#x27;,\n",
       "                                                   &#x27;C02&#x27;, &#x27;C03&#x27;, &#x27;C04&#x27;, &#x27;C05&#x27;,\n",
       "                                                   &#x27;C06&#x27;, &#x27;C07&#x27;, ...])],\n",
       "                                   verbose_feature_names_out=False)),\n",
       "                (&#x27;classifier&#x27;,\n",
       "                 RandomForestClassifier(max_depth=70, min_samples_leaf=3,\n",
       "                                        min_samples_split=4, n_estimators=300,\n",
       "                                        random_state=42))])</pre></div></div></div><div class=\"sk-serial\"><div class=\"sk-item sk-dashed-wrapped\"><div class=\"sk-label-container\"><div class=\"sk-label sk-toggleable\"><input class=\"sk-toggleable__control sk-hidden--visually\" id=\"sk-estimator-id-17\" type=\"checkbox\" ><label for=\"sk-estimator-id-17\" class=\"sk-toggleable__label sk-toggleable__label-arrow\">preprocess: ColumnTransformer</label><div class=\"sk-toggleable__content\"><pre>ColumnTransformer(transformers=[(&#x27;cat&#x27;, OneHotEncoder(handle_unknown=&#x27;ignore&#x27;),\n",
       "                                 [&#x27;B01&#x27;, &#x27;B02&#x27;, &#x27;B03&#x27;, &#x27;B04&#x27;, &#x27;B05&#x27;, &#x27;B06&#x27;,\n",
       "                                  &#x27;B07&#x27;, &#x27;B08&#x27;, &#x27;B09&#x27;, &#x27;B10&#x27;, &#x27;B11&#x27;, &#x27;B12&#x27;,\n",
       "                                  &#x27;B13&#x27;, &#x27;B14&#x27;, &#x27;B15&#x27;, &#x27;B16&#x27;, &#x27;B17&#x27;, &#x27;B18&#x27;,\n",
       "                                  &#x27;B19&#x27;, &#x27;B20&#x27;, &#x27;B21&#x27;, &#x27;B22&#x27;, &#x27;B23&#x27;, &#x27;C01&#x27;,\n",
       "                                  &#x27;C02&#x27;, &#x27;C03&#x27;, &#x27;C04&#x27;, &#x27;C05&#x27;, &#x27;C06&#x27;, &#x27;C07&#x27;, ...])],\n",
       "                  verbose_feature_names_out=False)</pre></div></div></div><div class=\"sk-parallel\"><div class=\"sk-parallel-item\"><div class=\"sk-item\"><div class=\"sk-label-container\"><div class=\"sk-label sk-toggleable\"><input class=\"sk-toggleable__control sk-hidden--visually\" id=\"sk-estimator-id-18\" type=\"checkbox\" ><label for=\"sk-estimator-id-18\" class=\"sk-toggleable__label sk-toggleable__label-arrow\">cat</label><div class=\"sk-toggleable__content\"><pre>[&#x27;B01&#x27;, &#x27;B02&#x27;, &#x27;B03&#x27;, &#x27;B04&#x27;, &#x27;B05&#x27;, &#x27;B06&#x27;, &#x27;B07&#x27;, &#x27;B08&#x27;, &#x27;B09&#x27;, &#x27;B10&#x27;, &#x27;B11&#x27;, &#x27;B12&#x27;, &#x27;B13&#x27;, &#x27;B14&#x27;, &#x27;B15&#x27;, &#x27;B16&#x27;, &#x27;B17&#x27;, &#x27;B18&#x27;, &#x27;B19&#x27;, &#x27;B20&#x27;, &#x27;B21&#x27;, &#x27;B22&#x27;, &#x27;B23&#x27;, &#x27;C01&#x27;, &#x27;C02&#x27;, &#x27;C03&#x27;, &#x27;C04&#x27;, &#x27;C05&#x27;, &#x27;C06&#x27;, &#x27;C07&#x27;, &#x27;F01&#x27;, &#x27;F02&#x27;, &#x27;F03&#x27;, &#x27;F04&#x27;, &#x27;F05&#x27;, &#x27;F06&#x27;, &#x27;F07&#x27;, &#x27;F08&#x27;, &#x27;F09&#x27;, &#x27;F10&#x27;, &#x27;F11&#x27;, &#x27;F12&#x27;, &#x27;F13&#x27;, &#x27;F14&#x27;, &#x27;F15&#x27;, &#x27;F16&#x27;, &#x27;F17&#x27;, &#x27;F18&#x27;, &#x27;F19&#x27;, &#x27;F20&#x27;, &#x27;F21&#x27;, &#x27;F22&#x27;, &#x27;F23&#x27;, &#x27;F24&#x27;, &#x27;F25&#x27;, &#x27;F26&#x27;, &#x27;F27&#x27;, &#x27;G01&#x27;, &#x27;G02&#x27;, &#x27;G03&#x27;, &#x27;G04&#x27;, &#x27;G05&#x27;, &#x27;G06&#x27;, &#x27;G07&#x27;, &#x27;G08&#x27;, &#x27;G09&#x27;, &#x27;G10&#x27;, &#x27;G11&#x27;, &#x27;H01&#x27;, &#x27;H02&#x27;, &#x27;H03&#x27;, &#x27;H04&#x27;, &#x27;H05&#x27;, &#x27;H06&#x27;, &#x27;H07&#x27;, &#x27;H08&#x27;, &#x27;H09&#x27;, &#x27;H10&#x27;, &#x27;H11&#x27;, &#x27;H12&#x27;, &#x27;H13&#x27;, &#x27;H14&#x27;, &#x27;H15&#x27;, &#x27;H16&#x27;, &#x27;H17&#x27;, &#x27;J01&#x27;, &#x27;J02&#x27;, &#x27;J03&#x27;, &#x27;J04&#x27;, &#x27;J05&#x27;, &#x27;J06&#x27;, &#x27;J07&#x27;, &#x27;J08&#x27;, &#x27;J09&#x27;, &#x27;J10&#x27;, &#x27;J11&#x27;, &#x27;J12&#x27;, &#x27;K01&#x27;, &#x27;K02&#x27;, &#x27;K03&#x27;, &#x27;K04&#x27;, &#x27;K05&#x27;, &#x27;K06&#x27;, &#x27;K07&#x27;, &#x27;K08&#x27;, &#x27;K09&#x27;, &#x27;K10&#x27;, &#x27;K11&#x27;, &#x27;K12&#x27;, &#x27;K13&#x27;, &#x27;K14&#x27;, &#x27;K15&#x27;, &#x27;K16&#x27;, &#x27;K17&#x27;, &#x27;K18&#x27;, &#x27;L01&#x27;, &#x27;L02&#x27;, &#x27;L03&#x27;, &#x27;L04&#x27;, &#x27;L05&#x27;, &#x27;L06&#x27;, &#x27;M01&#x27;, &#x27;M02&#x27;, &#x27;M03&#x27;, &#x27;M04&#x27;, &#x27;M05&#x27;, &#x27;M06&#x27;, &#x27;M07&#x27;, &#x27;M08&#x27;, &#x27;M09&#x27;, &#x27;M10&#x27;, &#x27;M11&#x27;, &#x27;M12&#x27;, &#x27;M13&#x27;, &#x27;M14&#x27;, &#x27;M15&#x27;, &#x27;M16&#x27;, &#x27;M17&#x27;, &#x27;M18&#x27;, &#x27;M19&#x27;, &#x27;M20&#x27;, &#x27;N01&#x27;, &#x27;N02&#x27;, &#x27;N03&#x27;, &#x27;N04&#x27;, &#x27;N05&#x27;, &#x27;N06&#x27;, &#x27;N07&#x27;, &#x27;N08&#x27;, &#x27;P01&#x27;, &#x27;P02&#x27;, &#x27;P03&#x27;, &#x27;P04&#x27;, &#x27;P05&#x27;, &#x27;P06&#x27;, &#x27;P07&#x27;, &#x27;P08&#x27;, &#x27;P09&#x27;, &#x27;P10&#x27;, &#x27;P11&#x27;, &#x27;P12&#x27;, &#x27;P13&#x27;, &#x27;P14&#x27;, &#x27;P15&#x27;, &#x27;P16&#x27;, &#x27;P17&#x27;, &#x27;P18&#x27;, &#x27;P19&#x27;, &#x27;P20&#x27;, &#x27;P21&#x27;, &#x27;P22&#x27;, &#x27;P23&#x27;, &#x27;P24&#x27;, &#x27;P25&#x27;, &#x27;P26&#x27;, &#x27;P27&#x27;, &#x27;P28&#x27;, &#x27;P29&#x27;, &#x27;Q01&#x27;, &#x27;Q02&#x27;, &#x27;Q03&#x27;, &#x27;Q04&#x27;, &#x27;Q05&#x27;, &#x27;Q06&#x27;, &#x27;Q07&#x27;, &#x27;Q08&#x27;, &#x27;R01&#x27;, &#x27;R02&#x27;, &#x27;R03&#x27;, &#x27;R04&#x27;, &#x27;R05&#x27;, &#x27;R06&#x27;, &#x27;R07&#x27;, &#x27;R08&#x27;, &#x27;R09&#x27;, &#x27;R10&#x27;, &#x27;R11&#x27;, &#x27;R12&#x27;, &#x27;R13&#x27;, &#x27;R14&#x27;, &#x27;R15&#x27;, &#x27;R16&#x27;, &#x27;R17&#x27;, &#x27;R18&#x27;]</pre></div></div></div><div class=\"sk-serial\"><div class=\"sk-item\"><div class=\"sk-estimator sk-toggleable\"><input class=\"sk-toggleable__control sk-hidden--visually\" id=\"sk-estimator-id-19\" type=\"checkbox\" ><label for=\"sk-estimator-id-19\" class=\"sk-toggleable__label sk-toggleable__label-arrow\">OneHotEncoder</label><div class=\"sk-toggleable__content\"><pre>OneHotEncoder(handle_unknown=&#x27;ignore&#x27;)</pre></div></div></div></div></div></div></div></div><div class=\"sk-item\"><div class=\"sk-estimator sk-toggleable\"><input class=\"sk-toggleable__control sk-hidden--visually\" id=\"sk-estimator-id-20\" type=\"checkbox\" ><label for=\"sk-estimator-id-20\" class=\"sk-toggleable__label sk-toggleable__label-arrow\">RandomForestClassifier</label><div class=\"sk-toggleable__content\"><pre>RandomForestClassifier(max_depth=70, min_samples_leaf=3, min_samples_split=4,\n",
       "                       n_estimators=300, random_state=42)</pre></div></div></div></div></div></div></div>"
      ],
      "text/plain": [
       "Pipeline(steps=[('preprocess',\n",
       "                 ColumnTransformer(transformers=[('cat',\n",
       "                                                  OneHotEncoder(handle_unknown='ignore'),\n",
       "                                                  ['B01', 'B02', 'B03', 'B04',\n",
       "                                                   'B05', 'B06', 'B07', 'B08',\n",
       "                                                   'B09', 'B10', 'B11', 'B12',\n",
       "                                                   'B13', 'B14', 'B15', 'B16',\n",
       "                                                   'B17', 'B18', 'B19', 'B20',\n",
       "                                                   'B21', 'B22', 'B23', 'C01',\n",
       "                                                   'C02', 'C03', 'C04', 'C05',\n",
       "                                                   'C06', 'C07', ...])],\n",
       "                                   verbose_feature_names_out=False)),\n",
       "                ('classifier',\n",
       "                 RandomForestClassifier(max_depth=70, min_samples_leaf=3,\n",
       "                                        min_samples_split=4, n_estimators=300,\n",
       "                                        random_state=42))])"
      ]
     },
     "execution_count": 33,
     "metadata": {},
     "output_type": "execute_result"
    }
   ],
   "source": [
    "# Updating the parameters in the pipeline\n",
    "forest_pipe.set_params(classifier__bootstrap = True,\n",
    "                       classifier__criterion = 'gini',\n",
    "                       classifier__max_depth = 70,\n",
    "                       classifier__min_samples_leaf = 3,\n",
    "                       classifier__min_samples_split = 4,\n",
    "                       classifier__n_estimators = 300,\n",
    "                      )\n",
    "# Refitting pipeline\n",
    "forest_pipe.fit(X_train, y_train)"
   ]
  },
  {
   "cell_type": "code",
   "execution_count": 34,
   "metadata": {},
   "outputs": [],
   "source": [
    "# # Updating the parameters in the pipeline\n",
    "# forest_pipe.set_params(classifier__n_estimators = gridsearch.best_params_['classifier__n_estimators'],\n",
    "#                        classifier__criterion = gridsearch.best_params_['classifier__criterion'],\n",
    "#                        classifier__max_depth = gridsearch.best_params_['classifier__max_depth'],\n",
    "#                        classifier__min_samples_leaf = gridsearch.best_params_['classifier__min_samples_leaf'],\n",
    "#                        classifier__min_samples_split = gridsearch.best_params_['classifier__min_samples_split'],\n",
    "#                        classifier__bootstrap = gridsearch.best_params_['classifier__bootstrap'],\n",
    "#                       )\n",
    "# # Refitting pipeline\n",
    "# forest_pipe.fit(X_train, y_train)"
   ]
  },
  {
   "cell_type": "code",
   "execution_count": 35,
   "metadata": {},
   "outputs": [
    {
     "name": "stdout",
     "output_type": "stream",
     "text": [
      "Training data prediction accuracy:  0.9920983318700615\n",
      "CV accuracy: 0.966198942746548\n"
     ]
    }
   ],
   "source": [
    "#Getting predictions from pipeline using training data\n",
    "y_pred = forest_pipe.predict(X_train)\n",
    "\n",
    "#Checking accuracy of predictions\n",
    "print(f\"Training data prediction accuracy: \", accuracy_score(y_train, y_pred))\n",
    "\n",
    "#getting cross validation score for training data \n",
    "print(f\"CV accuracy: {cross_val_score(forest_pipe, X_train, y_train, cv=5, scoring = 'accuracy').mean()}\")"
   ]
  },
  {
   "cell_type": "markdown",
   "metadata": {},
   "source": [
    "Training data prediction accuracy:  0.9920983318700615\n",
    "\n",
    "CV accuracy: 0.966198942746548"
   ]
  },
  {
   "cell_type": "markdown",
   "metadata": {},
   "source": [
    "Slight improvement in both directions but the model is still clearly over fit. The RandomizedSearchCV suggested that the model preformed best with a max depth of 90 which is high. We are worried about overfitting our model so we can try to prune our tree by decreasing the max depth"
   ]
  },
  {
   "cell_type": "markdown",
   "metadata": {},
   "source": [
    "# Hyperparameter Tuning Second Iteration"
   ]
  },
  {
   "cell_type": "code",
   "execution_count": 36,
   "metadata": {},
   "outputs": [],
   "source": [
    "# # Setting up parameter grid\n",
    "# param_grid = {'classifier__n_estimators': [50, 100, 150, 200],\n",
    "#               'classifier__criterion': ['gini', 'entropy', 'log_loss'],               \n",
    "#               'classifier__max_depth': [4, 6, 8, 10, 12, 14],\n",
    "#               'classifier__bootstrap': [True, False]\n",
    "#              }\n",
    "# # Executing gridsearch\n",
    "# gridsearch = GridSearchCV(estimator=forest_pipe,\n",
    "#                           param_grid=param_grid,\n",
    "#                           scoring='accuracy',\n",
    "#                           cv=5,\n",
    "#                           n_jobs = 3\n",
    "#                          )\n",
    "# # Fit the training data\n",
    "# gridsearch.fit(X_train, y_train)\n",
    "# # Print the accuracy on test set"
   ]
  },
  {
   "cell_type": "code",
   "execution_count": 37,
   "metadata": {},
   "outputs": [],
   "source": [
    "# # Print the accuracy on train set\n",
    "# print(f'Best estimator score: ' + '{:.4%}'.format(gridsearch.score(X_train, y_train)))\n",
    "# print(f'Gridsearch best params: ')\n",
    "# print(gridsearch.best_params_)"
   ]
  },
  {
   "cell_type": "markdown",
   "metadata": {},
   "source": [
    "### Results\n",
    "\n",
    "Best estimator score: 99.1659%\n",
    "\n",
    "Gridsearch best params: \n",
    "- 'classifier__bootstrap': True\n",
    "- 'classifier__criterion': gini\n",
    "- 'classifier__max_depth': 14\n",
    "- 'classifier__n_estimators': 150"
   ]
  },
  {
   "cell_type": "code",
   "execution_count": 38,
   "metadata": {},
   "outputs": [
    {
     "data": {
      "text/html": [
       "<style>#sk-container-id-5 {color: black;background-color: white;}#sk-container-id-5 pre{padding: 0;}#sk-container-id-5 div.sk-toggleable {background-color: white;}#sk-container-id-5 label.sk-toggleable__label {cursor: pointer;display: block;width: 100%;margin-bottom: 0;padding: 0.3em;box-sizing: border-box;text-align: center;}#sk-container-id-5 label.sk-toggleable__label-arrow:before {content: \"▸\";float: left;margin-right: 0.25em;color: #696969;}#sk-container-id-5 label.sk-toggleable__label-arrow:hover:before {color: black;}#sk-container-id-5 div.sk-estimator:hover label.sk-toggleable__label-arrow:before {color: black;}#sk-container-id-5 div.sk-toggleable__content {max-height: 0;max-width: 0;overflow: hidden;text-align: left;background-color: #f0f8ff;}#sk-container-id-5 div.sk-toggleable__content pre {margin: 0.2em;color: black;border-radius: 0.25em;background-color: #f0f8ff;}#sk-container-id-5 input.sk-toggleable__control:checked~div.sk-toggleable__content {max-height: 200px;max-width: 100%;overflow: auto;}#sk-container-id-5 input.sk-toggleable__control:checked~label.sk-toggleable__label-arrow:before {content: \"▾\";}#sk-container-id-5 div.sk-estimator input.sk-toggleable__control:checked~label.sk-toggleable__label {background-color: #d4ebff;}#sk-container-id-5 div.sk-label input.sk-toggleable__control:checked~label.sk-toggleable__label {background-color: #d4ebff;}#sk-container-id-5 input.sk-hidden--visually {border: 0;clip: rect(1px 1px 1px 1px);clip: rect(1px, 1px, 1px, 1px);height: 1px;margin: -1px;overflow: hidden;padding: 0;position: absolute;width: 1px;}#sk-container-id-5 div.sk-estimator {font-family: monospace;background-color: #f0f8ff;border: 1px dotted black;border-radius: 0.25em;box-sizing: border-box;margin-bottom: 0.5em;}#sk-container-id-5 div.sk-estimator:hover {background-color: #d4ebff;}#sk-container-id-5 div.sk-parallel-item::after {content: \"\";width: 100%;border-bottom: 1px solid gray;flex-grow: 1;}#sk-container-id-5 div.sk-label:hover label.sk-toggleable__label {background-color: #d4ebff;}#sk-container-id-5 div.sk-serial::before {content: \"\";position: absolute;border-left: 1px solid gray;box-sizing: border-box;top: 0;bottom: 0;left: 50%;z-index: 0;}#sk-container-id-5 div.sk-serial {display: flex;flex-direction: column;align-items: center;background-color: white;padding-right: 0.2em;padding-left: 0.2em;position: relative;}#sk-container-id-5 div.sk-item {position: relative;z-index: 1;}#sk-container-id-5 div.sk-parallel {display: flex;align-items: stretch;justify-content: center;background-color: white;position: relative;}#sk-container-id-5 div.sk-item::before, #sk-container-id-5 div.sk-parallel-item::before {content: \"\";position: absolute;border-left: 1px solid gray;box-sizing: border-box;top: 0;bottom: 0;left: 50%;z-index: -1;}#sk-container-id-5 div.sk-parallel-item {display: flex;flex-direction: column;z-index: 1;position: relative;background-color: white;}#sk-container-id-5 div.sk-parallel-item:first-child::after {align-self: flex-end;width: 50%;}#sk-container-id-5 div.sk-parallel-item:last-child::after {align-self: flex-start;width: 50%;}#sk-container-id-5 div.sk-parallel-item:only-child::after {width: 0;}#sk-container-id-5 div.sk-dashed-wrapped {border: 1px dashed gray;margin: 0 0.4em 0.5em 0.4em;box-sizing: border-box;padding-bottom: 0.4em;background-color: white;}#sk-container-id-5 div.sk-label label {font-family: monospace;font-weight: bold;display: inline-block;line-height: 1.2em;}#sk-container-id-5 div.sk-label-container {text-align: center;}#sk-container-id-5 div.sk-container {/* jupyter's `normalize.less` sets `[hidden] { display: none; }` but bootstrap.min.css set `[hidden] { display: none !important; }` so we also need the `!important` here to be able to override the default hidden behavior on the sphinx rendered scikit-learn.org. See: https://github.com/scikit-learn/scikit-learn/issues/21755 */display: inline-block !important;position: relative;}#sk-container-id-5 div.sk-text-repr-fallback {display: none;}</style><div id=\"sk-container-id-5\" class=\"sk-top-container\"><div class=\"sk-text-repr-fallback\"><pre>Pipeline(steps=[(&#x27;preprocess&#x27;,\n",
       "                 ColumnTransformer(transformers=[(&#x27;cat&#x27;,\n",
       "                                                  OneHotEncoder(handle_unknown=&#x27;ignore&#x27;),\n",
       "                                                  [&#x27;B01&#x27;, &#x27;B02&#x27;, &#x27;B03&#x27;, &#x27;B04&#x27;,\n",
       "                                                   &#x27;B05&#x27;, &#x27;B06&#x27;, &#x27;B07&#x27;, &#x27;B08&#x27;,\n",
       "                                                   &#x27;B09&#x27;, &#x27;B10&#x27;, &#x27;B11&#x27;, &#x27;B12&#x27;,\n",
       "                                                   &#x27;B13&#x27;, &#x27;B14&#x27;, &#x27;B15&#x27;, &#x27;B16&#x27;,\n",
       "                                                   &#x27;B17&#x27;, &#x27;B18&#x27;, &#x27;B19&#x27;, &#x27;B20&#x27;,\n",
       "                                                   &#x27;B21&#x27;, &#x27;B22&#x27;, &#x27;B23&#x27;, &#x27;C01&#x27;,\n",
       "                                                   &#x27;C02&#x27;, &#x27;C03&#x27;, &#x27;C04&#x27;, &#x27;C05&#x27;,\n",
       "                                                   &#x27;C06&#x27;, &#x27;C07&#x27;, ...])],\n",
       "                                   verbose_feature_names_out=False)),\n",
       "                (&#x27;classifier&#x27;,\n",
       "                 RandomForestClassifier(max_depth=14, min_samples_leaf=3,\n",
       "                                        min_samples_split=4, n_estimators=150,\n",
       "                                        random_state=42))])</pre><b>In a Jupyter environment, please rerun this cell to show the HTML representation or trust the notebook. <br />On GitHub, the HTML representation is unable to render, please try loading this page with nbviewer.org.</b></div><div class=\"sk-container\" hidden><div class=\"sk-item sk-dashed-wrapped\"><div class=\"sk-label-container\"><div class=\"sk-label sk-toggleable\"><input class=\"sk-toggleable__control sk-hidden--visually\" id=\"sk-estimator-id-21\" type=\"checkbox\" ><label for=\"sk-estimator-id-21\" class=\"sk-toggleable__label sk-toggleable__label-arrow\">Pipeline</label><div class=\"sk-toggleable__content\"><pre>Pipeline(steps=[(&#x27;preprocess&#x27;,\n",
       "                 ColumnTransformer(transformers=[(&#x27;cat&#x27;,\n",
       "                                                  OneHotEncoder(handle_unknown=&#x27;ignore&#x27;),\n",
       "                                                  [&#x27;B01&#x27;, &#x27;B02&#x27;, &#x27;B03&#x27;, &#x27;B04&#x27;,\n",
       "                                                   &#x27;B05&#x27;, &#x27;B06&#x27;, &#x27;B07&#x27;, &#x27;B08&#x27;,\n",
       "                                                   &#x27;B09&#x27;, &#x27;B10&#x27;, &#x27;B11&#x27;, &#x27;B12&#x27;,\n",
       "                                                   &#x27;B13&#x27;, &#x27;B14&#x27;, &#x27;B15&#x27;, &#x27;B16&#x27;,\n",
       "                                                   &#x27;B17&#x27;, &#x27;B18&#x27;, &#x27;B19&#x27;, &#x27;B20&#x27;,\n",
       "                                                   &#x27;B21&#x27;, &#x27;B22&#x27;, &#x27;B23&#x27;, &#x27;C01&#x27;,\n",
       "                                                   &#x27;C02&#x27;, &#x27;C03&#x27;, &#x27;C04&#x27;, &#x27;C05&#x27;,\n",
       "                                                   &#x27;C06&#x27;, &#x27;C07&#x27;, ...])],\n",
       "                                   verbose_feature_names_out=False)),\n",
       "                (&#x27;classifier&#x27;,\n",
       "                 RandomForestClassifier(max_depth=14, min_samples_leaf=3,\n",
       "                                        min_samples_split=4, n_estimators=150,\n",
       "                                        random_state=42))])</pre></div></div></div><div class=\"sk-serial\"><div class=\"sk-item sk-dashed-wrapped\"><div class=\"sk-label-container\"><div class=\"sk-label sk-toggleable\"><input class=\"sk-toggleable__control sk-hidden--visually\" id=\"sk-estimator-id-22\" type=\"checkbox\" ><label for=\"sk-estimator-id-22\" class=\"sk-toggleable__label sk-toggleable__label-arrow\">preprocess: ColumnTransformer</label><div class=\"sk-toggleable__content\"><pre>ColumnTransformer(transformers=[(&#x27;cat&#x27;, OneHotEncoder(handle_unknown=&#x27;ignore&#x27;),\n",
       "                                 [&#x27;B01&#x27;, &#x27;B02&#x27;, &#x27;B03&#x27;, &#x27;B04&#x27;, &#x27;B05&#x27;, &#x27;B06&#x27;,\n",
       "                                  &#x27;B07&#x27;, &#x27;B08&#x27;, &#x27;B09&#x27;, &#x27;B10&#x27;, &#x27;B11&#x27;, &#x27;B12&#x27;,\n",
       "                                  &#x27;B13&#x27;, &#x27;B14&#x27;, &#x27;B15&#x27;, &#x27;B16&#x27;, &#x27;B17&#x27;, &#x27;B18&#x27;,\n",
       "                                  &#x27;B19&#x27;, &#x27;B20&#x27;, &#x27;B21&#x27;, &#x27;B22&#x27;, &#x27;B23&#x27;, &#x27;C01&#x27;,\n",
       "                                  &#x27;C02&#x27;, &#x27;C03&#x27;, &#x27;C04&#x27;, &#x27;C05&#x27;, &#x27;C06&#x27;, &#x27;C07&#x27;, ...])],\n",
       "                  verbose_feature_names_out=False)</pre></div></div></div><div class=\"sk-parallel\"><div class=\"sk-parallel-item\"><div class=\"sk-item\"><div class=\"sk-label-container\"><div class=\"sk-label sk-toggleable\"><input class=\"sk-toggleable__control sk-hidden--visually\" id=\"sk-estimator-id-23\" type=\"checkbox\" ><label for=\"sk-estimator-id-23\" class=\"sk-toggleable__label sk-toggleable__label-arrow\">cat</label><div class=\"sk-toggleable__content\"><pre>[&#x27;B01&#x27;, &#x27;B02&#x27;, &#x27;B03&#x27;, &#x27;B04&#x27;, &#x27;B05&#x27;, &#x27;B06&#x27;, &#x27;B07&#x27;, &#x27;B08&#x27;, &#x27;B09&#x27;, &#x27;B10&#x27;, &#x27;B11&#x27;, &#x27;B12&#x27;, &#x27;B13&#x27;, &#x27;B14&#x27;, &#x27;B15&#x27;, &#x27;B16&#x27;, &#x27;B17&#x27;, &#x27;B18&#x27;, &#x27;B19&#x27;, &#x27;B20&#x27;, &#x27;B21&#x27;, &#x27;B22&#x27;, &#x27;B23&#x27;, &#x27;C01&#x27;, &#x27;C02&#x27;, &#x27;C03&#x27;, &#x27;C04&#x27;, &#x27;C05&#x27;, &#x27;C06&#x27;, &#x27;C07&#x27;, &#x27;F01&#x27;, &#x27;F02&#x27;, &#x27;F03&#x27;, &#x27;F04&#x27;, &#x27;F05&#x27;, &#x27;F06&#x27;, &#x27;F07&#x27;, &#x27;F08&#x27;, &#x27;F09&#x27;, &#x27;F10&#x27;, &#x27;F11&#x27;, &#x27;F12&#x27;, &#x27;F13&#x27;, &#x27;F14&#x27;, &#x27;F15&#x27;, &#x27;F16&#x27;, &#x27;F17&#x27;, &#x27;F18&#x27;, &#x27;F19&#x27;, &#x27;F20&#x27;, &#x27;F21&#x27;, &#x27;F22&#x27;, &#x27;F23&#x27;, &#x27;F24&#x27;, &#x27;F25&#x27;, &#x27;F26&#x27;, &#x27;F27&#x27;, &#x27;G01&#x27;, &#x27;G02&#x27;, &#x27;G03&#x27;, &#x27;G04&#x27;, &#x27;G05&#x27;, &#x27;G06&#x27;, &#x27;G07&#x27;, &#x27;G08&#x27;, &#x27;G09&#x27;, &#x27;G10&#x27;, &#x27;G11&#x27;, &#x27;H01&#x27;, &#x27;H02&#x27;, &#x27;H03&#x27;, &#x27;H04&#x27;, &#x27;H05&#x27;, &#x27;H06&#x27;, &#x27;H07&#x27;, &#x27;H08&#x27;, &#x27;H09&#x27;, &#x27;H10&#x27;, &#x27;H11&#x27;, &#x27;H12&#x27;, &#x27;H13&#x27;, &#x27;H14&#x27;, &#x27;H15&#x27;, &#x27;H16&#x27;, &#x27;H17&#x27;, &#x27;J01&#x27;, &#x27;J02&#x27;, &#x27;J03&#x27;, &#x27;J04&#x27;, &#x27;J05&#x27;, &#x27;J06&#x27;, &#x27;J07&#x27;, &#x27;J08&#x27;, &#x27;J09&#x27;, &#x27;J10&#x27;, &#x27;J11&#x27;, &#x27;J12&#x27;, &#x27;K01&#x27;, &#x27;K02&#x27;, &#x27;K03&#x27;, &#x27;K04&#x27;, &#x27;K05&#x27;, &#x27;K06&#x27;, &#x27;K07&#x27;, &#x27;K08&#x27;, &#x27;K09&#x27;, &#x27;K10&#x27;, &#x27;K11&#x27;, &#x27;K12&#x27;, &#x27;K13&#x27;, &#x27;K14&#x27;, &#x27;K15&#x27;, &#x27;K16&#x27;, &#x27;K17&#x27;, &#x27;K18&#x27;, &#x27;L01&#x27;, &#x27;L02&#x27;, &#x27;L03&#x27;, &#x27;L04&#x27;, &#x27;L05&#x27;, &#x27;L06&#x27;, &#x27;M01&#x27;, &#x27;M02&#x27;, &#x27;M03&#x27;, &#x27;M04&#x27;, &#x27;M05&#x27;, &#x27;M06&#x27;, &#x27;M07&#x27;, &#x27;M08&#x27;, &#x27;M09&#x27;, &#x27;M10&#x27;, &#x27;M11&#x27;, &#x27;M12&#x27;, &#x27;M13&#x27;, &#x27;M14&#x27;, &#x27;M15&#x27;, &#x27;M16&#x27;, &#x27;M17&#x27;, &#x27;M18&#x27;, &#x27;M19&#x27;, &#x27;M20&#x27;, &#x27;N01&#x27;, &#x27;N02&#x27;, &#x27;N03&#x27;, &#x27;N04&#x27;, &#x27;N05&#x27;, &#x27;N06&#x27;, &#x27;N07&#x27;, &#x27;N08&#x27;, &#x27;P01&#x27;, &#x27;P02&#x27;, &#x27;P03&#x27;, &#x27;P04&#x27;, &#x27;P05&#x27;, &#x27;P06&#x27;, &#x27;P07&#x27;, &#x27;P08&#x27;, &#x27;P09&#x27;, &#x27;P10&#x27;, &#x27;P11&#x27;, &#x27;P12&#x27;, &#x27;P13&#x27;, &#x27;P14&#x27;, &#x27;P15&#x27;, &#x27;P16&#x27;, &#x27;P17&#x27;, &#x27;P18&#x27;, &#x27;P19&#x27;, &#x27;P20&#x27;, &#x27;P21&#x27;, &#x27;P22&#x27;, &#x27;P23&#x27;, &#x27;P24&#x27;, &#x27;P25&#x27;, &#x27;P26&#x27;, &#x27;P27&#x27;, &#x27;P28&#x27;, &#x27;P29&#x27;, &#x27;Q01&#x27;, &#x27;Q02&#x27;, &#x27;Q03&#x27;, &#x27;Q04&#x27;, &#x27;Q05&#x27;, &#x27;Q06&#x27;, &#x27;Q07&#x27;, &#x27;Q08&#x27;, &#x27;R01&#x27;, &#x27;R02&#x27;, &#x27;R03&#x27;, &#x27;R04&#x27;, &#x27;R05&#x27;, &#x27;R06&#x27;, &#x27;R07&#x27;, &#x27;R08&#x27;, &#x27;R09&#x27;, &#x27;R10&#x27;, &#x27;R11&#x27;, &#x27;R12&#x27;, &#x27;R13&#x27;, &#x27;R14&#x27;, &#x27;R15&#x27;, &#x27;R16&#x27;, &#x27;R17&#x27;, &#x27;R18&#x27;]</pre></div></div></div><div class=\"sk-serial\"><div class=\"sk-item\"><div class=\"sk-estimator sk-toggleable\"><input class=\"sk-toggleable__control sk-hidden--visually\" id=\"sk-estimator-id-24\" type=\"checkbox\" ><label for=\"sk-estimator-id-24\" class=\"sk-toggleable__label sk-toggleable__label-arrow\">OneHotEncoder</label><div class=\"sk-toggleable__content\"><pre>OneHotEncoder(handle_unknown=&#x27;ignore&#x27;)</pre></div></div></div></div></div></div></div></div><div class=\"sk-item\"><div class=\"sk-estimator sk-toggleable\"><input class=\"sk-toggleable__control sk-hidden--visually\" id=\"sk-estimator-id-25\" type=\"checkbox\" ><label for=\"sk-estimator-id-25\" class=\"sk-toggleable__label sk-toggleable__label-arrow\">RandomForestClassifier</label><div class=\"sk-toggleable__content\"><pre>RandomForestClassifier(max_depth=14, min_samples_leaf=3, min_samples_split=4,\n",
       "                       n_estimators=150, random_state=42)</pre></div></div></div></div></div></div></div>"
      ],
      "text/plain": [
       "Pipeline(steps=[('preprocess',\n",
       "                 ColumnTransformer(transformers=[('cat',\n",
       "                                                  OneHotEncoder(handle_unknown='ignore'),\n",
       "                                                  ['B01', 'B02', 'B03', 'B04',\n",
       "                                                   'B05', 'B06', 'B07', 'B08',\n",
       "                                                   'B09', 'B10', 'B11', 'B12',\n",
       "                                                   'B13', 'B14', 'B15', 'B16',\n",
       "                                                   'B17', 'B18', 'B19', 'B20',\n",
       "                                                   'B21', 'B22', 'B23', 'C01',\n",
       "                                                   'C02', 'C03', 'C04', 'C05',\n",
       "                                                   'C06', 'C07', ...])],\n",
       "                                   verbose_feature_names_out=False)),\n",
       "                ('classifier',\n",
       "                 RandomForestClassifier(max_depth=14, min_samples_leaf=3,\n",
       "                                        min_samples_split=4, n_estimators=150,\n",
       "                                        random_state=42))])"
      ]
     },
     "execution_count": 38,
     "metadata": {},
     "output_type": "execute_result"
    }
   ],
   "source": [
    "# Updating the parameters in the pipeline\n",
    "forest_pipe.set_params(classifier__bootstrap = True,\n",
    "                       classifier__criterion = 'gini',\n",
    "                       classifier__max_depth = 14,\n",
    "                       classifier__n_estimators = 150,\n",
    "                      )\n",
    "# Refitting pipeline\n",
    "forest_pipe.fit(X_train, y_train)"
   ]
  },
  {
   "cell_type": "code",
   "execution_count": 39,
   "metadata": {},
   "outputs": [],
   "source": [
    "# # Updating the parameters in the pipeline\n",
    "# forest_pipe.set_params(classifier__bootstrap = gridsearch.best_params_['classifier__bootstrap'],\n",
    "#                        classifier__criterion = gridsearch.best_params_['classifier__criterion'],\n",
    "#                        classifier__max_depth = gridsearch.best_params_['classifier__max_depth'],\n",
    "#                        classifier__n_estimators = gridsearch.best_params_['classifier__n_estimators'],\n",
    "#                       )\n",
    "# # Refitting pipeline\n",
    "# forest_pipe.fit(X_train, y_train)"
   ]
  },
  {
   "cell_type": "code",
   "execution_count": 40,
   "metadata": {},
   "outputs": [
    {
     "name": "stdout",
     "output_type": "stream",
     "text": [
      "Training data prediction accuracy:  0.9916593503072871\n",
      "CV accuracy: 0.9664187224372677\n"
     ]
    }
   ],
   "source": [
    "#Getting predictions from pipeline using training data\n",
    "y_pred = forest_pipe.predict(X_train)\n",
    "\n",
    "#Checking accuracy of predictions\n",
    "print(f\"Training data prediction accuracy: \", accuracy_score(y_train, y_pred))\n",
    "\n",
    "#getting cross validation score for training data \n",
    "print(f\"CV accuracy: {cross_val_score(forest_pipe, X_train, y_train, cv=5, scoring = 'accuracy').mean()}\")"
   ]
  },
  {
   "cell_type": "markdown",
   "metadata": {},
   "source": [
    "Almost no change with those scores. min_samples_split and min_samples_leaf can help prevent overfitting so I try to tune those next."
   ]
  },
  {
   "cell_type": "markdown",
   "metadata": {},
   "source": [
    "# Hyperparameter Tuning Third Iteration"
   ]
  },
  {
   "cell_type": "code",
   "execution_count": 41,
   "metadata": {},
   "outputs": [],
   "source": [
    "# # Setting up parameter grid\n",
    "# param_grid = {'classifier__n_estimators': [125, 150, 175],              \n",
    "#               'classifier__max_depth': [12, 14, 16],\n",
    "#               'classifier__min_samples_split': [4, 6, 8, 10],\n",
    "#               'classifier__min_samples_leaf': [3, 4, 5, 6],\n",
    "#              }\n",
    "# # Executing gridsearch\n",
    "# gridsearch = GridSearchCV(estimator=forest_pipe,\n",
    "#                           param_grid=param_grid,\n",
    "#                           scoring='accuracy',\n",
    "#                           cv=5,\n",
    "#                           n_jobs = 3\n",
    "#                          )\n",
    "# # Fit the training data\n",
    "# gridsearch.fit(X_train, y_train)"
   ]
  },
  {
   "cell_type": "code",
   "execution_count": 42,
   "metadata": {},
   "outputs": [],
   "source": [
    "# # Print the accuracy on train set\n",
    "# print(f'Best estimator score: ' + '{:.4%}'.format(gridsearch.score(X_train, y_train)))\n",
    "# print(f'Gridsearch best params: ')\n",
    "# print(gridsearch.best_params_)"
   ]
  },
  {
   "cell_type": "markdown",
   "metadata": {},
   "source": [
    "### Results\n",
    "\n",
    "Best estimator score: 99.1659%\n",
    "\n",
    "Gridsearch best params:\n",
    "\n",
    "- 'classifier__max_depth': 14,\n",
    "- 'classifier__min_samples_leaf': 3,\n",
    "- 'classifier__min_samples_split': 4,\n",
    "- 'classifier__n_estimators': 150"
   ]
  },
  {
   "cell_type": "code",
   "execution_count": 43,
   "metadata": {},
   "outputs": [
    {
     "data": {
      "text/html": [
       "<style>#sk-container-id-6 {color: black;background-color: white;}#sk-container-id-6 pre{padding: 0;}#sk-container-id-6 div.sk-toggleable {background-color: white;}#sk-container-id-6 label.sk-toggleable__label {cursor: pointer;display: block;width: 100%;margin-bottom: 0;padding: 0.3em;box-sizing: border-box;text-align: center;}#sk-container-id-6 label.sk-toggleable__label-arrow:before {content: \"▸\";float: left;margin-right: 0.25em;color: #696969;}#sk-container-id-6 label.sk-toggleable__label-arrow:hover:before {color: black;}#sk-container-id-6 div.sk-estimator:hover label.sk-toggleable__label-arrow:before {color: black;}#sk-container-id-6 div.sk-toggleable__content {max-height: 0;max-width: 0;overflow: hidden;text-align: left;background-color: #f0f8ff;}#sk-container-id-6 div.sk-toggleable__content pre {margin: 0.2em;color: black;border-radius: 0.25em;background-color: #f0f8ff;}#sk-container-id-6 input.sk-toggleable__control:checked~div.sk-toggleable__content {max-height: 200px;max-width: 100%;overflow: auto;}#sk-container-id-6 input.sk-toggleable__control:checked~label.sk-toggleable__label-arrow:before {content: \"▾\";}#sk-container-id-6 div.sk-estimator input.sk-toggleable__control:checked~label.sk-toggleable__label {background-color: #d4ebff;}#sk-container-id-6 div.sk-label input.sk-toggleable__control:checked~label.sk-toggleable__label {background-color: #d4ebff;}#sk-container-id-6 input.sk-hidden--visually {border: 0;clip: rect(1px 1px 1px 1px);clip: rect(1px, 1px, 1px, 1px);height: 1px;margin: -1px;overflow: hidden;padding: 0;position: absolute;width: 1px;}#sk-container-id-6 div.sk-estimator {font-family: monospace;background-color: #f0f8ff;border: 1px dotted black;border-radius: 0.25em;box-sizing: border-box;margin-bottom: 0.5em;}#sk-container-id-6 div.sk-estimator:hover {background-color: #d4ebff;}#sk-container-id-6 div.sk-parallel-item::after {content: \"\";width: 100%;border-bottom: 1px solid gray;flex-grow: 1;}#sk-container-id-6 div.sk-label:hover label.sk-toggleable__label {background-color: #d4ebff;}#sk-container-id-6 div.sk-serial::before {content: \"\";position: absolute;border-left: 1px solid gray;box-sizing: border-box;top: 0;bottom: 0;left: 50%;z-index: 0;}#sk-container-id-6 div.sk-serial {display: flex;flex-direction: column;align-items: center;background-color: white;padding-right: 0.2em;padding-left: 0.2em;position: relative;}#sk-container-id-6 div.sk-item {position: relative;z-index: 1;}#sk-container-id-6 div.sk-parallel {display: flex;align-items: stretch;justify-content: center;background-color: white;position: relative;}#sk-container-id-6 div.sk-item::before, #sk-container-id-6 div.sk-parallel-item::before {content: \"\";position: absolute;border-left: 1px solid gray;box-sizing: border-box;top: 0;bottom: 0;left: 50%;z-index: -1;}#sk-container-id-6 div.sk-parallel-item {display: flex;flex-direction: column;z-index: 1;position: relative;background-color: white;}#sk-container-id-6 div.sk-parallel-item:first-child::after {align-self: flex-end;width: 50%;}#sk-container-id-6 div.sk-parallel-item:last-child::after {align-self: flex-start;width: 50%;}#sk-container-id-6 div.sk-parallel-item:only-child::after {width: 0;}#sk-container-id-6 div.sk-dashed-wrapped {border: 1px dashed gray;margin: 0 0.4em 0.5em 0.4em;box-sizing: border-box;padding-bottom: 0.4em;background-color: white;}#sk-container-id-6 div.sk-label label {font-family: monospace;font-weight: bold;display: inline-block;line-height: 1.2em;}#sk-container-id-6 div.sk-label-container {text-align: center;}#sk-container-id-6 div.sk-container {/* jupyter's `normalize.less` sets `[hidden] { display: none; }` but bootstrap.min.css set `[hidden] { display: none !important; }` so we also need the `!important` here to be able to override the default hidden behavior on the sphinx rendered scikit-learn.org. See: https://github.com/scikit-learn/scikit-learn/issues/21755 */display: inline-block !important;position: relative;}#sk-container-id-6 div.sk-text-repr-fallback {display: none;}</style><div id=\"sk-container-id-6\" class=\"sk-top-container\"><div class=\"sk-text-repr-fallback\"><pre>Pipeline(steps=[(&#x27;preprocess&#x27;,\n",
       "                 ColumnTransformer(transformers=[(&#x27;cat&#x27;,\n",
       "                                                  OneHotEncoder(handle_unknown=&#x27;ignore&#x27;),\n",
       "                                                  [&#x27;B01&#x27;, &#x27;B02&#x27;, &#x27;B03&#x27;, &#x27;B04&#x27;,\n",
       "                                                   &#x27;B05&#x27;, &#x27;B06&#x27;, &#x27;B07&#x27;, &#x27;B08&#x27;,\n",
       "                                                   &#x27;B09&#x27;, &#x27;B10&#x27;, &#x27;B11&#x27;, &#x27;B12&#x27;,\n",
       "                                                   &#x27;B13&#x27;, &#x27;B14&#x27;, &#x27;B15&#x27;, &#x27;B16&#x27;,\n",
       "                                                   &#x27;B17&#x27;, &#x27;B18&#x27;, &#x27;B19&#x27;, &#x27;B20&#x27;,\n",
       "                                                   &#x27;B21&#x27;, &#x27;B22&#x27;, &#x27;B23&#x27;, &#x27;C01&#x27;,\n",
       "                                                   &#x27;C02&#x27;, &#x27;C03&#x27;, &#x27;C04&#x27;, &#x27;C05&#x27;,\n",
       "                                                   &#x27;C06&#x27;, &#x27;C07&#x27;, ...])],\n",
       "                                   verbose_feature_names_out=False)),\n",
       "                (&#x27;classifier&#x27;,\n",
       "                 RandomForestClassifier(max_depth=14, min_samples_leaf=3,\n",
       "                                        min_samples_split=4, n_estimators=150,\n",
       "                                        random_state=42))])</pre><b>In a Jupyter environment, please rerun this cell to show the HTML representation or trust the notebook. <br />On GitHub, the HTML representation is unable to render, please try loading this page with nbviewer.org.</b></div><div class=\"sk-container\" hidden><div class=\"sk-item sk-dashed-wrapped\"><div class=\"sk-label-container\"><div class=\"sk-label sk-toggleable\"><input class=\"sk-toggleable__control sk-hidden--visually\" id=\"sk-estimator-id-26\" type=\"checkbox\" ><label for=\"sk-estimator-id-26\" class=\"sk-toggleable__label sk-toggleable__label-arrow\">Pipeline</label><div class=\"sk-toggleable__content\"><pre>Pipeline(steps=[(&#x27;preprocess&#x27;,\n",
       "                 ColumnTransformer(transformers=[(&#x27;cat&#x27;,\n",
       "                                                  OneHotEncoder(handle_unknown=&#x27;ignore&#x27;),\n",
       "                                                  [&#x27;B01&#x27;, &#x27;B02&#x27;, &#x27;B03&#x27;, &#x27;B04&#x27;,\n",
       "                                                   &#x27;B05&#x27;, &#x27;B06&#x27;, &#x27;B07&#x27;, &#x27;B08&#x27;,\n",
       "                                                   &#x27;B09&#x27;, &#x27;B10&#x27;, &#x27;B11&#x27;, &#x27;B12&#x27;,\n",
       "                                                   &#x27;B13&#x27;, &#x27;B14&#x27;, &#x27;B15&#x27;, &#x27;B16&#x27;,\n",
       "                                                   &#x27;B17&#x27;, &#x27;B18&#x27;, &#x27;B19&#x27;, &#x27;B20&#x27;,\n",
       "                                                   &#x27;B21&#x27;, &#x27;B22&#x27;, &#x27;B23&#x27;, &#x27;C01&#x27;,\n",
       "                                                   &#x27;C02&#x27;, &#x27;C03&#x27;, &#x27;C04&#x27;, &#x27;C05&#x27;,\n",
       "                                                   &#x27;C06&#x27;, &#x27;C07&#x27;, ...])],\n",
       "                                   verbose_feature_names_out=False)),\n",
       "                (&#x27;classifier&#x27;,\n",
       "                 RandomForestClassifier(max_depth=14, min_samples_leaf=3,\n",
       "                                        min_samples_split=4, n_estimators=150,\n",
       "                                        random_state=42))])</pre></div></div></div><div class=\"sk-serial\"><div class=\"sk-item sk-dashed-wrapped\"><div class=\"sk-label-container\"><div class=\"sk-label sk-toggleable\"><input class=\"sk-toggleable__control sk-hidden--visually\" id=\"sk-estimator-id-27\" type=\"checkbox\" ><label for=\"sk-estimator-id-27\" class=\"sk-toggleable__label sk-toggleable__label-arrow\">preprocess: ColumnTransformer</label><div class=\"sk-toggleable__content\"><pre>ColumnTransformer(transformers=[(&#x27;cat&#x27;, OneHotEncoder(handle_unknown=&#x27;ignore&#x27;),\n",
       "                                 [&#x27;B01&#x27;, &#x27;B02&#x27;, &#x27;B03&#x27;, &#x27;B04&#x27;, &#x27;B05&#x27;, &#x27;B06&#x27;,\n",
       "                                  &#x27;B07&#x27;, &#x27;B08&#x27;, &#x27;B09&#x27;, &#x27;B10&#x27;, &#x27;B11&#x27;, &#x27;B12&#x27;,\n",
       "                                  &#x27;B13&#x27;, &#x27;B14&#x27;, &#x27;B15&#x27;, &#x27;B16&#x27;, &#x27;B17&#x27;, &#x27;B18&#x27;,\n",
       "                                  &#x27;B19&#x27;, &#x27;B20&#x27;, &#x27;B21&#x27;, &#x27;B22&#x27;, &#x27;B23&#x27;, &#x27;C01&#x27;,\n",
       "                                  &#x27;C02&#x27;, &#x27;C03&#x27;, &#x27;C04&#x27;, &#x27;C05&#x27;, &#x27;C06&#x27;, &#x27;C07&#x27;, ...])],\n",
       "                  verbose_feature_names_out=False)</pre></div></div></div><div class=\"sk-parallel\"><div class=\"sk-parallel-item\"><div class=\"sk-item\"><div class=\"sk-label-container\"><div class=\"sk-label sk-toggleable\"><input class=\"sk-toggleable__control sk-hidden--visually\" id=\"sk-estimator-id-28\" type=\"checkbox\" ><label for=\"sk-estimator-id-28\" class=\"sk-toggleable__label sk-toggleable__label-arrow\">cat</label><div class=\"sk-toggleable__content\"><pre>[&#x27;B01&#x27;, &#x27;B02&#x27;, &#x27;B03&#x27;, &#x27;B04&#x27;, &#x27;B05&#x27;, &#x27;B06&#x27;, &#x27;B07&#x27;, &#x27;B08&#x27;, &#x27;B09&#x27;, &#x27;B10&#x27;, &#x27;B11&#x27;, &#x27;B12&#x27;, &#x27;B13&#x27;, &#x27;B14&#x27;, &#x27;B15&#x27;, &#x27;B16&#x27;, &#x27;B17&#x27;, &#x27;B18&#x27;, &#x27;B19&#x27;, &#x27;B20&#x27;, &#x27;B21&#x27;, &#x27;B22&#x27;, &#x27;B23&#x27;, &#x27;C01&#x27;, &#x27;C02&#x27;, &#x27;C03&#x27;, &#x27;C04&#x27;, &#x27;C05&#x27;, &#x27;C06&#x27;, &#x27;C07&#x27;, &#x27;F01&#x27;, &#x27;F02&#x27;, &#x27;F03&#x27;, &#x27;F04&#x27;, &#x27;F05&#x27;, &#x27;F06&#x27;, &#x27;F07&#x27;, &#x27;F08&#x27;, &#x27;F09&#x27;, &#x27;F10&#x27;, &#x27;F11&#x27;, &#x27;F12&#x27;, &#x27;F13&#x27;, &#x27;F14&#x27;, &#x27;F15&#x27;, &#x27;F16&#x27;, &#x27;F17&#x27;, &#x27;F18&#x27;, &#x27;F19&#x27;, &#x27;F20&#x27;, &#x27;F21&#x27;, &#x27;F22&#x27;, &#x27;F23&#x27;, &#x27;F24&#x27;, &#x27;F25&#x27;, &#x27;F26&#x27;, &#x27;F27&#x27;, &#x27;G01&#x27;, &#x27;G02&#x27;, &#x27;G03&#x27;, &#x27;G04&#x27;, &#x27;G05&#x27;, &#x27;G06&#x27;, &#x27;G07&#x27;, &#x27;G08&#x27;, &#x27;G09&#x27;, &#x27;G10&#x27;, &#x27;G11&#x27;, &#x27;H01&#x27;, &#x27;H02&#x27;, &#x27;H03&#x27;, &#x27;H04&#x27;, &#x27;H05&#x27;, &#x27;H06&#x27;, &#x27;H07&#x27;, &#x27;H08&#x27;, &#x27;H09&#x27;, &#x27;H10&#x27;, &#x27;H11&#x27;, &#x27;H12&#x27;, &#x27;H13&#x27;, &#x27;H14&#x27;, &#x27;H15&#x27;, &#x27;H16&#x27;, &#x27;H17&#x27;, &#x27;J01&#x27;, &#x27;J02&#x27;, &#x27;J03&#x27;, &#x27;J04&#x27;, &#x27;J05&#x27;, &#x27;J06&#x27;, &#x27;J07&#x27;, &#x27;J08&#x27;, &#x27;J09&#x27;, &#x27;J10&#x27;, &#x27;J11&#x27;, &#x27;J12&#x27;, &#x27;K01&#x27;, &#x27;K02&#x27;, &#x27;K03&#x27;, &#x27;K04&#x27;, &#x27;K05&#x27;, &#x27;K06&#x27;, &#x27;K07&#x27;, &#x27;K08&#x27;, &#x27;K09&#x27;, &#x27;K10&#x27;, &#x27;K11&#x27;, &#x27;K12&#x27;, &#x27;K13&#x27;, &#x27;K14&#x27;, &#x27;K15&#x27;, &#x27;K16&#x27;, &#x27;K17&#x27;, &#x27;K18&#x27;, &#x27;L01&#x27;, &#x27;L02&#x27;, &#x27;L03&#x27;, &#x27;L04&#x27;, &#x27;L05&#x27;, &#x27;L06&#x27;, &#x27;M01&#x27;, &#x27;M02&#x27;, &#x27;M03&#x27;, &#x27;M04&#x27;, &#x27;M05&#x27;, &#x27;M06&#x27;, &#x27;M07&#x27;, &#x27;M08&#x27;, &#x27;M09&#x27;, &#x27;M10&#x27;, &#x27;M11&#x27;, &#x27;M12&#x27;, &#x27;M13&#x27;, &#x27;M14&#x27;, &#x27;M15&#x27;, &#x27;M16&#x27;, &#x27;M17&#x27;, &#x27;M18&#x27;, &#x27;M19&#x27;, &#x27;M20&#x27;, &#x27;N01&#x27;, &#x27;N02&#x27;, &#x27;N03&#x27;, &#x27;N04&#x27;, &#x27;N05&#x27;, &#x27;N06&#x27;, &#x27;N07&#x27;, &#x27;N08&#x27;, &#x27;P01&#x27;, &#x27;P02&#x27;, &#x27;P03&#x27;, &#x27;P04&#x27;, &#x27;P05&#x27;, &#x27;P06&#x27;, &#x27;P07&#x27;, &#x27;P08&#x27;, &#x27;P09&#x27;, &#x27;P10&#x27;, &#x27;P11&#x27;, &#x27;P12&#x27;, &#x27;P13&#x27;, &#x27;P14&#x27;, &#x27;P15&#x27;, &#x27;P16&#x27;, &#x27;P17&#x27;, &#x27;P18&#x27;, &#x27;P19&#x27;, &#x27;P20&#x27;, &#x27;P21&#x27;, &#x27;P22&#x27;, &#x27;P23&#x27;, &#x27;P24&#x27;, &#x27;P25&#x27;, &#x27;P26&#x27;, &#x27;P27&#x27;, &#x27;P28&#x27;, &#x27;P29&#x27;, &#x27;Q01&#x27;, &#x27;Q02&#x27;, &#x27;Q03&#x27;, &#x27;Q04&#x27;, &#x27;Q05&#x27;, &#x27;Q06&#x27;, &#x27;Q07&#x27;, &#x27;Q08&#x27;, &#x27;R01&#x27;, &#x27;R02&#x27;, &#x27;R03&#x27;, &#x27;R04&#x27;, &#x27;R05&#x27;, &#x27;R06&#x27;, &#x27;R07&#x27;, &#x27;R08&#x27;, &#x27;R09&#x27;, &#x27;R10&#x27;, &#x27;R11&#x27;, &#x27;R12&#x27;, &#x27;R13&#x27;, &#x27;R14&#x27;, &#x27;R15&#x27;, &#x27;R16&#x27;, &#x27;R17&#x27;, &#x27;R18&#x27;]</pre></div></div></div><div class=\"sk-serial\"><div class=\"sk-item\"><div class=\"sk-estimator sk-toggleable\"><input class=\"sk-toggleable__control sk-hidden--visually\" id=\"sk-estimator-id-29\" type=\"checkbox\" ><label for=\"sk-estimator-id-29\" class=\"sk-toggleable__label sk-toggleable__label-arrow\">OneHotEncoder</label><div class=\"sk-toggleable__content\"><pre>OneHotEncoder(handle_unknown=&#x27;ignore&#x27;)</pre></div></div></div></div></div></div></div></div><div class=\"sk-item\"><div class=\"sk-estimator sk-toggleable\"><input class=\"sk-toggleable__control sk-hidden--visually\" id=\"sk-estimator-id-30\" type=\"checkbox\" ><label for=\"sk-estimator-id-30\" class=\"sk-toggleable__label sk-toggleable__label-arrow\">RandomForestClassifier</label><div class=\"sk-toggleable__content\"><pre>RandomForestClassifier(max_depth=14, min_samples_leaf=3, min_samples_split=4,\n",
       "                       n_estimators=150, random_state=42)</pre></div></div></div></div></div></div></div>"
      ],
      "text/plain": [
       "Pipeline(steps=[('preprocess',\n",
       "                 ColumnTransformer(transformers=[('cat',\n",
       "                                                  OneHotEncoder(handle_unknown='ignore'),\n",
       "                                                  ['B01', 'B02', 'B03', 'B04',\n",
       "                                                   'B05', 'B06', 'B07', 'B08',\n",
       "                                                   'B09', 'B10', 'B11', 'B12',\n",
       "                                                   'B13', 'B14', 'B15', 'B16',\n",
       "                                                   'B17', 'B18', 'B19', 'B20',\n",
       "                                                   'B21', 'B22', 'B23', 'C01',\n",
       "                                                   'C02', 'C03', 'C04', 'C05',\n",
       "                                                   'C06', 'C07', ...])],\n",
       "                                   verbose_feature_names_out=False)),\n",
       "                ('classifier',\n",
       "                 RandomForestClassifier(max_depth=14, min_samples_leaf=3,\n",
       "                                        min_samples_split=4, n_estimators=150,\n",
       "                                        random_state=42))])"
      ]
     },
     "execution_count": 43,
     "metadata": {},
     "output_type": "execute_result"
    }
   ],
   "source": [
    "# Updating the parameters in the pipeline\n",
    "forest_pipe.set_params(classifier__max_depth = 14,\n",
    "                       classifier__min_samples_leaf = 3,\n",
    "                       classifier__min_samples_split = 4,\n",
    "                       classifier__n_estimators = 150,\n",
    "                      )\n",
    "# Refitting pipeline\n",
    "forest_pipe.fit(X_train, y_train)"
   ]
  },
  {
   "cell_type": "code",
   "execution_count": 44,
   "metadata": {},
   "outputs": [],
   "source": [
    "# # Updating the parameters in the pipeline\n",
    "# forest_pipe.set_params(classifier__max_depth = gridsearch.best_params_['classifier__max_depth'],\n",
    "#                        classifier__min_samples_leaf = gridsearch.best_params_['classifier__min_samples_leaf'],\n",
    "#                        classifier__min_samples_split = gridsearch.best_params_['classifier__min_samples_split'],\n",
    "#                        classifier__n_estimators = gridsearch.best_params_['classifier__n_estimators'],\n",
    "#                       )\n",
    "# # Refitting pipeline\n",
    "# forest_pipe.fit(X_train, y_train)"
   ]
  },
  {
   "cell_type": "code",
   "execution_count": 45,
   "metadata": {
    "scrolled": true
   },
   "outputs": [
    {
     "name": "stdout",
     "output_type": "stream",
     "text": [
      "Training data prediction accuracy:  0.9916593503072871\n",
      "CV accuracy: 0.9664187224372677\n"
     ]
    }
   ],
   "source": [
    "#Getting predictions from pipeline using training data\n",
    "y_pred = forest_pipe.predict(X_train)\n",
    "\n",
    "#Checking accuracy of predictions\n",
    "print(f\"Training data prediction accuracy: \", accuracy_score(y_train, y_pred))\n",
    "\n",
    "#getting cross validation score for training data \n",
    "print(f\"CV accuracy: {cross_val_score(forest_pipe, X_train, y_train, cv=5, scoring = 'accuracy').mean()}\")"
   ]
  },
  {
   "cell_type": "markdown",
   "metadata": {},
   "source": [
    "This iteration resulted in no change from the previous iteration so parameter tuning has gotten me as far as it can. Next I will try incorporating dimensionality reduction using TruncatedSVD."
   ]
  },
  {
   "cell_type": "markdown",
   "metadata": {},
   "source": [
    "# TruncatedSVD"
   ]
  },
  {
   "cell_type": "code",
   "execution_count": 46,
   "metadata": {},
   "outputs": [
    {
     "data": {
      "text/html": [
       "<style>#sk-container-id-7 {color: black;background-color: white;}#sk-container-id-7 pre{padding: 0;}#sk-container-id-7 div.sk-toggleable {background-color: white;}#sk-container-id-7 label.sk-toggleable__label {cursor: pointer;display: block;width: 100%;margin-bottom: 0;padding: 0.3em;box-sizing: border-box;text-align: center;}#sk-container-id-7 label.sk-toggleable__label-arrow:before {content: \"▸\";float: left;margin-right: 0.25em;color: #696969;}#sk-container-id-7 label.sk-toggleable__label-arrow:hover:before {color: black;}#sk-container-id-7 div.sk-estimator:hover label.sk-toggleable__label-arrow:before {color: black;}#sk-container-id-7 div.sk-toggleable__content {max-height: 0;max-width: 0;overflow: hidden;text-align: left;background-color: #f0f8ff;}#sk-container-id-7 div.sk-toggleable__content pre {margin: 0.2em;color: black;border-radius: 0.25em;background-color: #f0f8ff;}#sk-container-id-7 input.sk-toggleable__control:checked~div.sk-toggleable__content {max-height: 200px;max-width: 100%;overflow: auto;}#sk-container-id-7 input.sk-toggleable__control:checked~label.sk-toggleable__label-arrow:before {content: \"▾\";}#sk-container-id-7 div.sk-estimator input.sk-toggleable__control:checked~label.sk-toggleable__label {background-color: #d4ebff;}#sk-container-id-7 div.sk-label input.sk-toggleable__control:checked~label.sk-toggleable__label {background-color: #d4ebff;}#sk-container-id-7 input.sk-hidden--visually {border: 0;clip: rect(1px 1px 1px 1px);clip: rect(1px, 1px, 1px, 1px);height: 1px;margin: -1px;overflow: hidden;padding: 0;position: absolute;width: 1px;}#sk-container-id-7 div.sk-estimator {font-family: monospace;background-color: #f0f8ff;border: 1px dotted black;border-radius: 0.25em;box-sizing: border-box;margin-bottom: 0.5em;}#sk-container-id-7 div.sk-estimator:hover {background-color: #d4ebff;}#sk-container-id-7 div.sk-parallel-item::after {content: \"\";width: 100%;border-bottom: 1px solid gray;flex-grow: 1;}#sk-container-id-7 div.sk-label:hover label.sk-toggleable__label {background-color: #d4ebff;}#sk-container-id-7 div.sk-serial::before {content: \"\";position: absolute;border-left: 1px solid gray;box-sizing: border-box;top: 0;bottom: 0;left: 50%;z-index: 0;}#sk-container-id-7 div.sk-serial {display: flex;flex-direction: column;align-items: center;background-color: white;padding-right: 0.2em;padding-left: 0.2em;position: relative;}#sk-container-id-7 div.sk-item {position: relative;z-index: 1;}#sk-container-id-7 div.sk-parallel {display: flex;align-items: stretch;justify-content: center;background-color: white;position: relative;}#sk-container-id-7 div.sk-item::before, #sk-container-id-7 div.sk-parallel-item::before {content: \"\";position: absolute;border-left: 1px solid gray;box-sizing: border-box;top: 0;bottom: 0;left: 50%;z-index: -1;}#sk-container-id-7 div.sk-parallel-item {display: flex;flex-direction: column;z-index: 1;position: relative;background-color: white;}#sk-container-id-7 div.sk-parallel-item:first-child::after {align-self: flex-end;width: 50%;}#sk-container-id-7 div.sk-parallel-item:last-child::after {align-self: flex-start;width: 50%;}#sk-container-id-7 div.sk-parallel-item:only-child::after {width: 0;}#sk-container-id-7 div.sk-dashed-wrapped {border: 1px dashed gray;margin: 0 0.4em 0.5em 0.4em;box-sizing: border-box;padding-bottom: 0.4em;background-color: white;}#sk-container-id-7 div.sk-label label {font-family: monospace;font-weight: bold;display: inline-block;line-height: 1.2em;}#sk-container-id-7 div.sk-label-container {text-align: center;}#sk-container-id-7 div.sk-container {/* jupyter's `normalize.less` sets `[hidden] { display: none; }` but bootstrap.min.css set `[hidden] { display: none !important; }` so we also need the `!important` here to be able to override the default hidden behavior on the sphinx rendered scikit-learn.org. See: https://github.com/scikit-learn/scikit-learn/issues/21755 */display: inline-block !important;position: relative;}#sk-container-id-7 div.sk-text-repr-fallback {display: none;}</style><div id=\"sk-container-id-7\" class=\"sk-top-container\"><div class=\"sk-text-repr-fallback\"><pre>Pipeline(steps=[(&#x27;preprocess&#x27;,\n",
       "                 ColumnTransformer(transformers=[(&#x27;cat&#x27;,\n",
       "                                                  OneHotEncoder(handle_unknown=&#x27;ignore&#x27;),\n",
       "                                                  [&#x27;B01&#x27;, &#x27;B02&#x27;, &#x27;B03&#x27;, &#x27;B04&#x27;,\n",
       "                                                   &#x27;B05&#x27;, &#x27;B06&#x27;, &#x27;B07&#x27;, &#x27;B08&#x27;,\n",
       "                                                   &#x27;B09&#x27;, &#x27;B10&#x27;, &#x27;B11&#x27;, &#x27;B12&#x27;,\n",
       "                                                   &#x27;B13&#x27;, &#x27;B14&#x27;, &#x27;B15&#x27;, &#x27;B16&#x27;,\n",
       "                                                   &#x27;B17&#x27;, &#x27;B18&#x27;, &#x27;B19&#x27;, &#x27;B20&#x27;,\n",
       "                                                   &#x27;B21&#x27;, &#x27;B22&#x27;, &#x27;B23&#x27;, &#x27;C01&#x27;,\n",
       "                                                   &#x27;C02&#x27;, &#x27;C03&#x27;, &#x27;C04&#x27;, &#x27;C05&#x27;,\n",
       "                                                   &#x27;C06&#x27;, &#x27;C07&#x27;, ...])],\n",
       "                                   verbose_feature_names_out=False)),\n",
       "                (&#x27;SVD&#x27;, TruncatedSVD(n_components=200)),\n",
       "                (&#x27;classifier&#x27;,\n",
       "                 RandomForestClassifier(max_depth=12, min_samples_leaf=4,\n",
       "                                        min_samples_split=5,\n",
       "                                        n_estimators=200))])</pre><b>In a Jupyter environment, please rerun this cell to show the HTML representation or trust the notebook. <br />On GitHub, the HTML representation is unable to render, please try loading this page with nbviewer.org.</b></div><div class=\"sk-container\" hidden><div class=\"sk-item sk-dashed-wrapped\"><div class=\"sk-label-container\"><div class=\"sk-label sk-toggleable\"><input class=\"sk-toggleable__control sk-hidden--visually\" id=\"sk-estimator-id-31\" type=\"checkbox\" ><label for=\"sk-estimator-id-31\" class=\"sk-toggleable__label sk-toggleable__label-arrow\">Pipeline</label><div class=\"sk-toggleable__content\"><pre>Pipeline(steps=[(&#x27;preprocess&#x27;,\n",
       "                 ColumnTransformer(transformers=[(&#x27;cat&#x27;,\n",
       "                                                  OneHotEncoder(handle_unknown=&#x27;ignore&#x27;),\n",
       "                                                  [&#x27;B01&#x27;, &#x27;B02&#x27;, &#x27;B03&#x27;, &#x27;B04&#x27;,\n",
       "                                                   &#x27;B05&#x27;, &#x27;B06&#x27;, &#x27;B07&#x27;, &#x27;B08&#x27;,\n",
       "                                                   &#x27;B09&#x27;, &#x27;B10&#x27;, &#x27;B11&#x27;, &#x27;B12&#x27;,\n",
       "                                                   &#x27;B13&#x27;, &#x27;B14&#x27;, &#x27;B15&#x27;, &#x27;B16&#x27;,\n",
       "                                                   &#x27;B17&#x27;, &#x27;B18&#x27;, &#x27;B19&#x27;, &#x27;B20&#x27;,\n",
       "                                                   &#x27;B21&#x27;, &#x27;B22&#x27;, &#x27;B23&#x27;, &#x27;C01&#x27;,\n",
       "                                                   &#x27;C02&#x27;, &#x27;C03&#x27;, &#x27;C04&#x27;, &#x27;C05&#x27;,\n",
       "                                                   &#x27;C06&#x27;, &#x27;C07&#x27;, ...])],\n",
       "                                   verbose_feature_names_out=False)),\n",
       "                (&#x27;SVD&#x27;, TruncatedSVD(n_components=200)),\n",
       "                (&#x27;classifier&#x27;,\n",
       "                 RandomForestClassifier(max_depth=12, min_samples_leaf=4,\n",
       "                                        min_samples_split=5,\n",
       "                                        n_estimators=200))])</pre></div></div></div><div class=\"sk-serial\"><div class=\"sk-item sk-dashed-wrapped\"><div class=\"sk-label-container\"><div class=\"sk-label sk-toggleable\"><input class=\"sk-toggleable__control sk-hidden--visually\" id=\"sk-estimator-id-32\" type=\"checkbox\" ><label for=\"sk-estimator-id-32\" class=\"sk-toggleable__label sk-toggleable__label-arrow\">preprocess: ColumnTransformer</label><div class=\"sk-toggleable__content\"><pre>ColumnTransformer(transformers=[(&#x27;cat&#x27;, OneHotEncoder(handle_unknown=&#x27;ignore&#x27;),\n",
       "                                 [&#x27;B01&#x27;, &#x27;B02&#x27;, &#x27;B03&#x27;, &#x27;B04&#x27;, &#x27;B05&#x27;, &#x27;B06&#x27;,\n",
       "                                  &#x27;B07&#x27;, &#x27;B08&#x27;, &#x27;B09&#x27;, &#x27;B10&#x27;, &#x27;B11&#x27;, &#x27;B12&#x27;,\n",
       "                                  &#x27;B13&#x27;, &#x27;B14&#x27;, &#x27;B15&#x27;, &#x27;B16&#x27;, &#x27;B17&#x27;, &#x27;B18&#x27;,\n",
       "                                  &#x27;B19&#x27;, &#x27;B20&#x27;, &#x27;B21&#x27;, &#x27;B22&#x27;, &#x27;B23&#x27;, &#x27;C01&#x27;,\n",
       "                                  &#x27;C02&#x27;, &#x27;C03&#x27;, &#x27;C04&#x27;, &#x27;C05&#x27;, &#x27;C06&#x27;, &#x27;C07&#x27;, ...])],\n",
       "                  verbose_feature_names_out=False)</pre></div></div></div><div class=\"sk-parallel\"><div class=\"sk-parallel-item\"><div class=\"sk-item\"><div class=\"sk-label-container\"><div class=\"sk-label sk-toggleable\"><input class=\"sk-toggleable__control sk-hidden--visually\" id=\"sk-estimator-id-33\" type=\"checkbox\" ><label for=\"sk-estimator-id-33\" class=\"sk-toggleable__label sk-toggleable__label-arrow\">cat</label><div class=\"sk-toggleable__content\"><pre>[&#x27;B01&#x27;, &#x27;B02&#x27;, &#x27;B03&#x27;, &#x27;B04&#x27;, &#x27;B05&#x27;, &#x27;B06&#x27;, &#x27;B07&#x27;, &#x27;B08&#x27;, &#x27;B09&#x27;, &#x27;B10&#x27;, &#x27;B11&#x27;, &#x27;B12&#x27;, &#x27;B13&#x27;, &#x27;B14&#x27;, &#x27;B15&#x27;, &#x27;B16&#x27;, &#x27;B17&#x27;, &#x27;B18&#x27;, &#x27;B19&#x27;, &#x27;B20&#x27;, &#x27;B21&#x27;, &#x27;B22&#x27;, &#x27;B23&#x27;, &#x27;C01&#x27;, &#x27;C02&#x27;, &#x27;C03&#x27;, &#x27;C04&#x27;, &#x27;C05&#x27;, &#x27;C06&#x27;, &#x27;C07&#x27;, &#x27;F01&#x27;, &#x27;F02&#x27;, &#x27;F03&#x27;, &#x27;F04&#x27;, &#x27;F05&#x27;, &#x27;F06&#x27;, &#x27;F07&#x27;, &#x27;F08&#x27;, &#x27;F09&#x27;, &#x27;F10&#x27;, &#x27;F11&#x27;, &#x27;F12&#x27;, &#x27;F13&#x27;, &#x27;F14&#x27;, &#x27;F15&#x27;, &#x27;F16&#x27;, &#x27;F17&#x27;, &#x27;F18&#x27;, &#x27;F19&#x27;, &#x27;F20&#x27;, &#x27;F21&#x27;, &#x27;F22&#x27;, &#x27;F23&#x27;, &#x27;F24&#x27;, &#x27;F25&#x27;, &#x27;F26&#x27;, &#x27;F27&#x27;, &#x27;G01&#x27;, &#x27;G02&#x27;, &#x27;G03&#x27;, &#x27;G04&#x27;, &#x27;G05&#x27;, &#x27;G06&#x27;, &#x27;G07&#x27;, &#x27;G08&#x27;, &#x27;G09&#x27;, &#x27;G10&#x27;, &#x27;G11&#x27;, &#x27;H01&#x27;, &#x27;H02&#x27;, &#x27;H03&#x27;, &#x27;H04&#x27;, &#x27;H05&#x27;, &#x27;H06&#x27;, &#x27;H07&#x27;, &#x27;H08&#x27;, &#x27;H09&#x27;, &#x27;H10&#x27;, &#x27;H11&#x27;, &#x27;H12&#x27;, &#x27;H13&#x27;, &#x27;H14&#x27;, &#x27;H15&#x27;, &#x27;H16&#x27;, &#x27;H17&#x27;, &#x27;J01&#x27;, &#x27;J02&#x27;, &#x27;J03&#x27;, &#x27;J04&#x27;, &#x27;J05&#x27;, &#x27;J06&#x27;, &#x27;J07&#x27;, &#x27;J08&#x27;, &#x27;J09&#x27;, &#x27;J10&#x27;, &#x27;J11&#x27;, &#x27;J12&#x27;, &#x27;K01&#x27;, &#x27;K02&#x27;, &#x27;K03&#x27;, &#x27;K04&#x27;, &#x27;K05&#x27;, &#x27;K06&#x27;, &#x27;K07&#x27;, &#x27;K08&#x27;, &#x27;K09&#x27;, &#x27;K10&#x27;, &#x27;K11&#x27;, &#x27;K12&#x27;, &#x27;K13&#x27;, &#x27;K14&#x27;, &#x27;K15&#x27;, &#x27;K16&#x27;, &#x27;K17&#x27;, &#x27;K18&#x27;, &#x27;L01&#x27;, &#x27;L02&#x27;, &#x27;L03&#x27;, &#x27;L04&#x27;, &#x27;L05&#x27;, &#x27;L06&#x27;, &#x27;M01&#x27;, &#x27;M02&#x27;, &#x27;M03&#x27;, &#x27;M04&#x27;, &#x27;M05&#x27;, &#x27;M06&#x27;, &#x27;M07&#x27;, &#x27;M08&#x27;, &#x27;M09&#x27;, &#x27;M10&#x27;, &#x27;M11&#x27;, &#x27;M12&#x27;, &#x27;M13&#x27;, &#x27;M14&#x27;, &#x27;M15&#x27;, &#x27;M16&#x27;, &#x27;M17&#x27;, &#x27;M18&#x27;, &#x27;M19&#x27;, &#x27;M20&#x27;, &#x27;N01&#x27;, &#x27;N02&#x27;, &#x27;N03&#x27;, &#x27;N04&#x27;, &#x27;N05&#x27;, &#x27;N06&#x27;, &#x27;N07&#x27;, &#x27;N08&#x27;, &#x27;P01&#x27;, &#x27;P02&#x27;, &#x27;P03&#x27;, &#x27;P04&#x27;, &#x27;P05&#x27;, &#x27;P06&#x27;, &#x27;P07&#x27;, &#x27;P08&#x27;, &#x27;P09&#x27;, &#x27;P10&#x27;, &#x27;P11&#x27;, &#x27;P12&#x27;, &#x27;P13&#x27;, &#x27;P14&#x27;, &#x27;P15&#x27;, &#x27;P16&#x27;, &#x27;P17&#x27;, &#x27;P18&#x27;, &#x27;P19&#x27;, &#x27;P20&#x27;, &#x27;P21&#x27;, &#x27;P22&#x27;, &#x27;P23&#x27;, &#x27;P24&#x27;, &#x27;P25&#x27;, &#x27;P26&#x27;, &#x27;P27&#x27;, &#x27;P28&#x27;, &#x27;P29&#x27;, &#x27;Q01&#x27;, &#x27;Q02&#x27;, &#x27;Q03&#x27;, &#x27;Q04&#x27;, &#x27;Q05&#x27;, &#x27;Q06&#x27;, &#x27;Q07&#x27;, &#x27;Q08&#x27;, &#x27;R01&#x27;, &#x27;R02&#x27;, &#x27;R03&#x27;, &#x27;R04&#x27;, &#x27;R05&#x27;, &#x27;R06&#x27;, &#x27;R07&#x27;, &#x27;R08&#x27;, &#x27;R09&#x27;, &#x27;R10&#x27;, &#x27;R11&#x27;, &#x27;R12&#x27;, &#x27;R13&#x27;, &#x27;R14&#x27;, &#x27;R15&#x27;, &#x27;R16&#x27;, &#x27;R17&#x27;, &#x27;R18&#x27;]</pre></div></div></div><div class=\"sk-serial\"><div class=\"sk-item\"><div class=\"sk-estimator sk-toggleable\"><input class=\"sk-toggleable__control sk-hidden--visually\" id=\"sk-estimator-id-34\" type=\"checkbox\" ><label for=\"sk-estimator-id-34\" class=\"sk-toggleable__label sk-toggleable__label-arrow\">OneHotEncoder</label><div class=\"sk-toggleable__content\"><pre>OneHotEncoder(handle_unknown=&#x27;ignore&#x27;)</pre></div></div></div></div></div></div></div></div><div class=\"sk-item\"><div class=\"sk-estimator sk-toggleable\"><input class=\"sk-toggleable__control sk-hidden--visually\" id=\"sk-estimator-id-35\" type=\"checkbox\" ><label for=\"sk-estimator-id-35\" class=\"sk-toggleable__label sk-toggleable__label-arrow\">TruncatedSVD</label><div class=\"sk-toggleable__content\"><pre>TruncatedSVD(n_components=200)</pre></div></div></div><div class=\"sk-item\"><div class=\"sk-estimator sk-toggleable\"><input class=\"sk-toggleable__control sk-hidden--visually\" id=\"sk-estimator-id-36\" type=\"checkbox\" ><label for=\"sk-estimator-id-36\" class=\"sk-toggleable__label sk-toggleable__label-arrow\">RandomForestClassifier</label><div class=\"sk-toggleable__content\"><pre>RandomForestClassifier(max_depth=12, min_samples_leaf=4, min_samples_split=5,\n",
       "                       n_estimators=200)</pre></div></div></div></div></div></div></div>"
      ],
      "text/plain": [
       "Pipeline(steps=[('preprocess',\n",
       "                 ColumnTransformer(transformers=[('cat',\n",
       "                                                  OneHotEncoder(handle_unknown='ignore'),\n",
       "                                                  ['B01', 'B02', 'B03', 'B04',\n",
       "                                                   'B05', 'B06', 'B07', 'B08',\n",
       "                                                   'B09', 'B10', 'B11', 'B12',\n",
       "                                                   'B13', 'B14', 'B15', 'B16',\n",
       "                                                   'B17', 'B18', 'B19', 'B20',\n",
       "                                                   'B21', 'B22', 'B23', 'C01',\n",
       "                                                   'C02', 'C03', 'C04', 'C05',\n",
       "                                                   'C06', 'C07', ...])],\n",
       "                                   verbose_feature_names_out=False)),\n",
       "                ('SVD', TruncatedSVD(n_components=200)),\n",
       "                ('classifier',\n",
       "                 RandomForestClassifier(max_depth=12, min_samples_leaf=4,\n",
       "                                        min_samples_split=5,\n",
       "                                        n_estimators=200))])"
      ]
     },
     "execution_count": 46,
     "metadata": {},
     "output_type": "execute_result"
    }
   ],
   "source": [
    "# Setting up pipeline steps\n",
    "forest_pipe_SVD = Pipeline(\n",
    "    [\n",
    "        (\"preprocess\", preprocessing),\n",
    "        (\"SVD\", TruncatedSVD(n_components = 200)),\n",
    "        (\"classifier\", RandomForestClassifier(max_depth = 12,\n",
    "                                              n_estimators = 200,\n",
    "                                              min_samples_split = 5,\n",
    "                                              min_samples_leaf = 4,\n",
    "                                              bootstrap = True,\n",
    "                                              \n",
    "                                             )\n",
    "        )\n",
    "    ]\n",
    ")\n",
    "# Fitting pipeline to the training data\n",
    "forest_pipe_SVD.fit(X_train, y_train)"
   ]
  },
  {
   "cell_type": "code",
   "execution_count": 47,
   "metadata": {},
   "outputs": [],
   "source": [
    "# # Setting up parameter grid\n",
    "# param_grid = {'classifier__n_estimators': [175, 200, 225],\n",
    "#               'classifier__max_depth': [8, 10, 12],\n",
    "#               'SVD__n_components' : [10, 100, 200, 300, 1000]\n",
    "#              }\n",
    "# # Executing gridsearch\n",
    "# gridsearch = GridSearchCV(estimator=forest_pipe_SVD, param_grid=param_grid, scoring='accuracy', cv=5, n_jobs = 3)\n",
    "# # Fit the training data\n",
    "# gridsearch.fit(X_train, y_train)"
   ]
  },
  {
   "cell_type": "code",
   "execution_count": 48,
   "metadata": {},
   "outputs": [],
   "source": [
    "# # Print the accuracy on train set\n",
    "# print(f'Best estimator score: ' + '{:.4%}'.format(gridsearch.score(X_train, y_train)))\n",
    "# print(f'Gridsearch best params: ')\n",
    "# print(gridsearch.best_params_)"
   ]
  },
  {
   "cell_type": "markdown",
   "metadata": {},
   "source": [
    "### Results \n",
    "\n",
    "- 'SVD__n_components': 10\n",
    "- 'classifier__max_depth': 10\n",
    "- 'classifier__n_estimators': 200"
   ]
  },
  {
   "cell_type": "code",
   "execution_count": 49,
   "metadata": {},
   "outputs": [
    {
     "data": {
      "text/html": [
       "<style>#sk-container-id-8 {color: black;background-color: white;}#sk-container-id-8 pre{padding: 0;}#sk-container-id-8 div.sk-toggleable {background-color: white;}#sk-container-id-8 label.sk-toggleable__label {cursor: pointer;display: block;width: 100%;margin-bottom: 0;padding: 0.3em;box-sizing: border-box;text-align: center;}#sk-container-id-8 label.sk-toggleable__label-arrow:before {content: \"▸\";float: left;margin-right: 0.25em;color: #696969;}#sk-container-id-8 label.sk-toggleable__label-arrow:hover:before {color: black;}#sk-container-id-8 div.sk-estimator:hover label.sk-toggleable__label-arrow:before {color: black;}#sk-container-id-8 div.sk-toggleable__content {max-height: 0;max-width: 0;overflow: hidden;text-align: left;background-color: #f0f8ff;}#sk-container-id-8 div.sk-toggleable__content pre {margin: 0.2em;color: black;border-radius: 0.25em;background-color: #f0f8ff;}#sk-container-id-8 input.sk-toggleable__control:checked~div.sk-toggleable__content {max-height: 200px;max-width: 100%;overflow: auto;}#sk-container-id-8 input.sk-toggleable__control:checked~label.sk-toggleable__label-arrow:before {content: \"▾\";}#sk-container-id-8 div.sk-estimator input.sk-toggleable__control:checked~label.sk-toggleable__label {background-color: #d4ebff;}#sk-container-id-8 div.sk-label input.sk-toggleable__control:checked~label.sk-toggleable__label {background-color: #d4ebff;}#sk-container-id-8 input.sk-hidden--visually {border: 0;clip: rect(1px 1px 1px 1px);clip: rect(1px, 1px, 1px, 1px);height: 1px;margin: -1px;overflow: hidden;padding: 0;position: absolute;width: 1px;}#sk-container-id-8 div.sk-estimator {font-family: monospace;background-color: #f0f8ff;border: 1px dotted black;border-radius: 0.25em;box-sizing: border-box;margin-bottom: 0.5em;}#sk-container-id-8 div.sk-estimator:hover {background-color: #d4ebff;}#sk-container-id-8 div.sk-parallel-item::after {content: \"\";width: 100%;border-bottom: 1px solid gray;flex-grow: 1;}#sk-container-id-8 div.sk-label:hover label.sk-toggleable__label {background-color: #d4ebff;}#sk-container-id-8 div.sk-serial::before {content: \"\";position: absolute;border-left: 1px solid gray;box-sizing: border-box;top: 0;bottom: 0;left: 50%;z-index: 0;}#sk-container-id-8 div.sk-serial {display: flex;flex-direction: column;align-items: center;background-color: white;padding-right: 0.2em;padding-left: 0.2em;position: relative;}#sk-container-id-8 div.sk-item {position: relative;z-index: 1;}#sk-container-id-8 div.sk-parallel {display: flex;align-items: stretch;justify-content: center;background-color: white;position: relative;}#sk-container-id-8 div.sk-item::before, #sk-container-id-8 div.sk-parallel-item::before {content: \"\";position: absolute;border-left: 1px solid gray;box-sizing: border-box;top: 0;bottom: 0;left: 50%;z-index: -1;}#sk-container-id-8 div.sk-parallel-item {display: flex;flex-direction: column;z-index: 1;position: relative;background-color: white;}#sk-container-id-8 div.sk-parallel-item:first-child::after {align-self: flex-end;width: 50%;}#sk-container-id-8 div.sk-parallel-item:last-child::after {align-self: flex-start;width: 50%;}#sk-container-id-8 div.sk-parallel-item:only-child::after {width: 0;}#sk-container-id-8 div.sk-dashed-wrapped {border: 1px dashed gray;margin: 0 0.4em 0.5em 0.4em;box-sizing: border-box;padding-bottom: 0.4em;background-color: white;}#sk-container-id-8 div.sk-label label {font-family: monospace;font-weight: bold;display: inline-block;line-height: 1.2em;}#sk-container-id-8 div.sk-label-container {text-align: center;}#sk-container-id-8 div.sk-container {/* jupyter's `normalize.less` sets `[hidden] { display: none; }` but bootstrap.min.css set `[hidden] { display: none !important; }` so we also need the `!important` here to be able to override the default hidden behavior on the sphinx rendered scikit-learn.org. See: https://github.com/scikit-learn/scikit-learn/issues/21755 */display: inline-block !important;position: relative;}#sk-container-id-8 div.sk-text-repr-fallback {display: none;}</style><div id=\"sk-container-id-8\" class=\"sk-top-container\"><div class=\"sk-text-repr-fallback\"><pre>Pipeline(steps=[(&#x27;preprocess&#x27;,\n",
       "                 ColumnTransformer(transformers=[(&#x27;cat&#x27;,\n",
       "                                                  OneHotEncoder(handle_unknown=&#x27;ignore&#x27;),\n",
       "                                                  [&#x27;B01&#x27;, &#x27;B02&#x27;, &#x27;B03&#x27;, &#x27;B04&#x27;,\n",
       "                                                   &#x27;B05&#x27;, &#x27;B06&#x27;, &#x27;B07&#x27;, &#x27;B08&#x27;,\n",
       "                                                   &#x27;B09&#x27;, &#x27;B10&#x27;, &#x27;B11&#x27;, &#x27;B12&#x27;,\n",
       "                                                   &#x27;B13&#x27;, &#x27;B14&#x27;, &#x27;B15&#x27;, &#x27;B16&#x27;,\n",
       "                                                   &#x27;B17&#x27;, &#x27;B18&#x27;, &#x27;B19&#x27;, &#x27;B20&#x27;,\n",
       "                                                   &#x27;B21&#x27;, &#x27;B22&#x27;, &#x27;B23&#x27;, &#x27;C01&#x27;,\n",
       "                                                   &#x27;C02&#x27;, &#x27;C03&#x27;, &#x27;C04&#x27;, &#x27;C05&#x27;,\n",
       "                                                   &#x27;C06&#x27;, &#x27;C07&#x27;, ...])],\n",
       "                                   verbose_feature_names_out=False)),\n",
       "                (&#x27;SVD&#x27;, TruncatedSVD(n_components=10)),\n",
       "                (&#x27;classifier&#x27;,\n",
       "                 RandomForestClassifier(max_depth=10, min_samples_leaf=4,\n",
       "                                        min_samples_split=5,\n",
       "                                        n_estimators=200))])</pre><b>In a Jupyter environment, please rerun this cell to show the HTML representation or trust the notebook. <br />On GitHub, the HTML representation is unable to render, please try loading this page with nbviewer.org.</b></div><div class=\"sk-container\" hidden><div class=\"sk-item sk-dashed-wrapped\"><div class=\"sk-label-container\"><div class=\"sk-label sk-toggleable\"><input class=\"sk-toggleable__control sk-hidden--visually\" id=\"sk-estimator-id-37\" type=\"checkbox\" ><label for=\"sk-estimator-id-37\" class=\"sk-toggleable__label sk-toggleable__label-arrow\">Pipeline</label><div class=\"sk-toggleable__content\"><pre>Pipeline(steps=[(&#x27;preprocess&#x27;,\n",
       "                 ColumnTransformer(transformers=[(&#x27;cat&#x27;,\n",
       "                                                  OneHotEncoder(handle_unknown=&#x27;ignore&#x27;),\n",
       "                                                  [&#x27;B01&#x27;, &#x27;B02&#x27;, &#x27;B03&#x27;, &#x27;B04&#x27;,\n",
       "                                                   &#x27;B05&#x27;, &#x27;B06&#x27;, &#x27;B07&#x27;, &#x27;B08&#x27;,\n",
       "                                                   &#x27;B09&#x27;, &#x27;B10&#x27;, &#x27;B11&#x27;, &#x27;B12&#x27;,\n",
       "                                                   &#x27;B13&#x27;, &#x27;B14&#x27;, &#x27;B15&#x27;, &#x27;B16&#x27;,\n",
       "                                                   &#x27;B17&#x27;, &#x27;B18&#x27;, &#x27;B19&#x27;, &#x27;B20&#x27;,\n",
       "                                                   &#x27;B21&#x27;, &#x27;B22&#x27;, &#x27;B23&#x27;, &#x27;C01&#x27;,\n",
       "                                                   &#x27;C02&#x27;, &#x27;C03&#x27;, &#x27;C04&#x27;, &#x27;C05&#x27;,\n",
       "                                                   &#x27;C06&#x27;, &#x27;C07&#x27;, ...])],\n",
       "                                   verbose_feature_names_out=False)),\n",
       "                (&#x27;SVD&#x27;, TruncatedSVD(n_components=10)),\n",
       "                (&#x27;classifier&#x27;,\n",
       "                 RandomForestClassifier(max_depth=10, min_samples_leaf=4,\n",
       "                                        min_samples_split=5,\n",
       "                                        n_estimators=200))])</pre></div></div></div><div class=\"sk-serial\"><div class=\"sk-item sk-dashed-wrapped\"><div class=\"sk-label-container\"><div class=\"sk-label sk-toggleable\"><input class=\"sk-toggleable__control sk-hidden--visually\" id=\"sk-estimator-id-38\" type=\"checkbox\" ><label for=\"sk-estimator-id-38\" class=\"sk-toggleable__label sk-toggleable__label-arrow\">preprocess: ColumnTransformer</label><div class=\"sk-toggleable__content\"><pre>ColumnTransformer(transformers=[(&#x27;cat&#x27;, OneHotEncoder(handle_unknown=&#x27;ignore&#x27;),\n",
       "                                 [&#x27;B01&#x27;, &#x27;B02&#x27;, &#x27;B03&#x27;, &#x27;B04&#x27;, &#x27;B05&#x27;, &#x27;B06&#x27;,\n",
       "                                  &#x27;B07&#x27;, &#x27;B08&#x27;, &#x27;B09&#x27;, &#x27;B10&#x27;, &#x27;B11&#x27;, &#x27;B12&#x27;,\n",
       "                                  &#x27;B13&#x27;, &#x27;B14&#x27;, &#x27;B15&#x27;, &#x27;B16&#x27;, &#x27;B17&#x27;, &#x27;B18&#x27;,\n",
       "                                  &#x27;B19&#x27;, &#x27;B20&#x27;, &#x27;B21&#x27;, &#x27;B22&#x27;, &#x27;B23&#x27;, &#x27;C01&#x27;,\n",
       "                                  &#x27;C02&#x27;, &#x27;C03&#x27;, &#x27;C04&#x27;, &#x27;C05&#x27;, &#x27;C06&#x27;, &#x27;C07&#x27;, ...])],\n",
       "                  verbose_feature_names_out=False)</pre></div></div></div><div class=\"sk-parallel\"><div class=\"sk-parallel-item\"><div class=\"sk-item\"><div class=\"sk-label-container\"><div class=\"sk-label sk-toggleable\"><input class=\"sk-toggleable__control sk-hidden--visually\" id=\"sk-estimator-id-39\" type=\"checkbox\" ><label for=\"sk-estimator-id-39\" class=\"sk-toggleable__label sk-toggleable__label-arrow\">cat</label><div class=\"sk-toggleable__content\"><pre>[&#x27;B01&#x27;, &#x27;B02&#x27;, &#x27;B03&#x27;, &#x27;B04&#x27;, &#x27;B05&#x27;, &#x27;B06&#x27;, &#x27;B07&#x27;, &#x27;B08&#x27;, &#x27;B09&#x27;, &#x27;B10&#x27;, &#x27;B11&#x27;, &#x27;B12&#x27;, &#x27;B13&#x27;, &#x27;B14&#x27;, &#x27;B15&#x27;, &#x27;B16&#x27;, &#x27;B17&#x27;, &#x27;B18&#x27;, &#x27;B19&#x27;, &#x27;B20&#x27;, &#x27;B21&#x27;, &#x27;B22&#x27;, &#x27;B23&#x27;, &#x27;C01&#x27;, &#x27;C02&#x27;, &#x27;C03&#x27;, &#x27;C04&#x27;, &#x27;C05&#x27;, &#x27;C06&#x27;, &#x27;C07&#x27;, &#x27;F01&#x27;, &#x27;F02&#x27;, &#x27;F03&#x27;, &#x27;F04&#x27;, &#x27;F05&#x27;, &#x27;F06&#x27;, &#x27;F07&#x27;, &#x27;F08&#x27;, &#x27;F09&#x27;, &#x27;F10&#x27;, &#x27;F11&#x27;, &#x27;F12&#x27;, &#x27;F13&#x27;, &#x27;F14&#x27;, &#x27;F15&#x27;, &#x27;F16&#x27;, &#x27;F17&#x27;, &#x27;F18&#x27;, &#x27;F19&#x27;, &#x27;F20&#x27;, &#x27;F21&#x27;, &#x27;F22&#x27;, &#x27;F23&#x27;, &#x27;F24&#x27;, &#x27;F25&#x27;, &#x27;F26&#x27;, &#x27;F27&#x27;, &#x27;G01&#x27;, &#x27;G02&#x27;, &#x27;G03&#x27;, &#x27;G04&#x27;, &#x27;G05&#x27;, &#x27;G06&#x27;, &#x27;G07&#x27;, &#x27;G08&#x27;, &#x27;G09&#x27;, &#x27;G10&#x27;, &#x27;G11&#x27;, &#x27;H01&#x27;, &#x27;H02&#x27;, &#x27;H03&#x27;, &#x27;H04&#x27;, &#x27;H05&#x27;, &#x27;H06&#x27;, &#x27;H07&#x27;, &#x27;H08&#x27;, &#x27;H09&#x27;, &#x27;H10&#x27;, &#x27;H11&#x27;, &#x27;H12&#x27;, &#x27;H13&#x27;, &#x27;H14&#x27;, &#x27;H15&#x27;, &#x27;H16&#x27;, &#x27;H17&#x27;, &#x27;J01&#x27;, &#x27;J02&#x27;, &#x27;J03&#x27;, &#x27;J04&#x27;, &#x27;J05&#x27;, &#x27;J06&#x27;, &#x27;J07&#x27;, &#x27;J08&#x27;, &#x27;J09&#x27;, &#x27;J10&#x27;, &#x27;J11&#x27;, &#x27;J12&#x27;, &#x27;K01&#x27;, &#x27;K02&#x27;, &#x27;K03&#x27;, &#x27;K04&#x27;, &#x27;K05&#x27;, &#x27;K06&#x27;, &#x27;K07&#x27;, &#x27;K08&#x27;, &#x27;K09&#x27;, &#x27;K10&#x27;, &#x27;K11&#x27;, &#x27;K12&#x27;, &#x27;K13&#x27;, &#x27;K14&#x27;, &#x27;K15&#x27;, &#x27;K16&#x27;, &#x27;K17&#x27;, &#x27;K18&#x27;, &#x27;L01&#x27;, &#x27;L02&#x27;, &#x27;L03&#x27;, &#x27;L04&#x27;, &#x27;L05&#x27;, &#x27;L06&#x27;, &#x27;M01&#x27;, &#x27;M02&#x27;, &#x27;M03&#x27;, &#x27;M04&#x27;, &#x27;M05&#x27;, &#x27;M06&#x27;, &#x27;M07&#x27;, &#x27;M08&#x27;, &#x27;M09&#x27;, &#x27;M10&#x27;, &#x27;M11&#x27;, &#x27;M12&#x27;, &#x27;M13&#x27;, &#x27;M14&#x27;, &#x27;M15&#x27;, &#x27;M16&#x27;, &#x27;M17&#x27;, &#x27;M18&#x27;, &#x27;M19&#x27;, &#x27;M20&#x27;, &#x27;N01&#x27;, &#x27;N02&#x27;, &#x27;N03&#x27;, &#x27;N04&#x27;, &#x27;N05&#x27;, &#x27;N06&#x27;, &#x27;N07&#x27;, &#x27;N08&#x27;, &#x27;P01&#x27;, &#x27;P02&#x27;, &#x27;P03&#x27;, &#x27;P04&#x27;, &#x27;P05&#x27;, &#x27;P06&#x27;, &#x27;P07&#x27;, &#x27;P08&#x27;, &#x27;P09&#x27;, &#x27;P10&#x27;, &#x27;P11&#x27;, &#x27;P12&#x27;, &#x27;P13&#x27;, &#x27;P14&#x27;, &#x27;P15&#x27;, &#x27;P16&#x27;, &#x27;P17&#x27;, &#x27;P18&#x27;, &#x27;P19&#x27;, &#x27;P20&#x27;, &#x27;P21&#x27;, &#x27;P22&#x27;, &#x27;P23&#x27;, &#x27;P24&#x27;, &#x27;P25&#x27;, &#x27;P26&#x27;, &#x27;P27&#x27;, &#x27;P28&#x27;, &#x27;P29&#x27;, &#x27;Q01&#x27;, &#x27;Q02&#x27;, &#x27;Q03&#x27;, &#x27;Q04&#x27;, &#x27;Q05&#x27;, &#x27;Q06&#x27;, &#x27;Q07&#x27;, &#x27;Q08&#x27;, &#x27;R01&#x27;, &#x27;R02&#x27;, &#x27;R03&#x27;, &#x27;R04&#x27;, &#x27;R05&#x27;, &#x27;R06&#x27;, &#x27;R07&#x27;, &#x27;R08&#x27;, &#x27;R09&#x27;, &#x27;R10&#x27;, &#x27;R11&#x27;, &#x27;R12&#x27;, &#x27;R13&#x27;, &#x27;R14&#x27;, &#x27;R15&#x27;, &#x27;R16&#x27;, &#x27;R17&#x27;, &#x27;R18&#x27;]</pre></div></div></div><div class=\"sk-serial\"><div class=\"sk-item\"><div class=\"sk-estimator sk-toggleable\"><input class=\"sk-toggleable__control sk-hidden--visually\" id=\"sk-estimator-id-40\" type=\"checkbox\" ><label for=\"sk-estimator-id-40\" class=\"sk-toggleable__label sk-toggleable__label-arrow\">OneHotEncoder</label><div class=\"sk-toggleable__content\"><pre>OneHotEncoder(handle_unknown=&#x27;ignore&#x27;)</pre></div></div></div></div></div></div></div></div><div class=\"sk-item\"><div class=\"sk-estimator sk-toggleable\"><input class=\"sk-toggleable__control sk-hidden--visually\" id=\"sk-estimator-id-41\" type=\"checkbox\" ><label for=\"sk-estimator-id-41\" class=\"sk-toggleable__label sk-toggleable__label-arrow\">TruncatedSVD</label><div class=\"sk-toggleable__content\"><pre>TruncatedSVD(n_components=10)</pre></div></div></div><div class=\"sk-item\"><div class=\"sk-estimator sk-toggleable\"><input class=\"sk-toggleable__control sk-hidden--visually\" id=\"sk-estimator-id-42\" type=\"checkbox\" ><label for=\"sk-estimator-id-42\" class=\"sk-toggleable__label sk-toggleable__label-arrow\">RandomForestClassifier</label><div class=\"sk-toggleable__content\"><pre>RandomForestClassifier(max_depth=10, min_samples_leaf=4, min_samples_split=5,\n",
       "                       n_estimators=200)</pre></div></div></div></div></div></div></div>"
      ],
      "text/plain": [
       "Pipeline(steps=[('preprocess',\n",
       "                 ColumnTransformer(transformers=[('cat',\n",
       "                                                  OneHotEncoder(handle_unknown='ignore'),\n",
       "                                                  ['B01', 'B02', 'B03', 'B04',\n",
       "                                                   'B05', 'B06', 'B07', 'B08',\n",
       "                                                   'B09', 'B10', 'B11', 'B12',\n",
       "                                                   'B13', 'B14', 'B15', 'B16',\n",
       "                                                   'B17', 'B18', 'B19', 'B20',\n",
       "                                                   'B21', 'B22', 'B23', 'C01',\n",
       "                                                   'C02', 'C03', 'C04', 'C05',\n",
       "                                                   'C06', 'C07', ...])],\n",
       "                                   verbose_feature_names_out=False)),\n",
       "                ('SVD', TruncatedSVD(n_components=10)),\n",
       "                ('classifier',\n",
       "                 RandomForestClassifier(max_depth=10, min_samples_leaf=4,\n",
       "                                        min_samples_split=5,\n",
       "                                        n_estimators=200))])"
      ]
     },
     "execution_count": 49,
     "metadata": {},
     "output_type": "execute_result"
    }
   ],
   "source": [
    "# Updating the parameters in the pipeline\n",
    "forest_pipe_SVD.set_params(SVD__n_components = 10,\n",
    "                           classifier__max_depth = 10,\n",
    "                           classifier__n_estimators = 200\n",
    "                          )\n",
    "# Refitting pipeline\n",
    "forest_pipe_SVD.fit(X_train, y_train)"
   ]
  },
  {
   "cell_type": "code",
   "execution_count": 50,
   "metadata": {},
   "outputs": [],
   "source": [
    "# # Updating the parameters in the pipeline\n",
    "# forest_pipe_SVD.set_params(SVD__n_components = gridsearch.best_params_['SVD__n_components'],\n",
    "#                            classifier__max_depth = gridsearch.best_params_['classifier__max_depth'],\n",
    "#                            classifier__n_estimators = gridsearch.best_params_['classifier__n_estimators']\n",
    "#                           )\n",
    "# # Refitting pipeline\n",
    "# forest_pipe_SVD.fit(X_train, y_train)"
   ]
  },
  {
   "cell_type": "code",
   "execution_count": 51,
   "metadata": {},
   "outputs": [
    {
     "name": "stdout",
     "output_type": "stream",
     "text": [
      "Training data prediction accuracy:  0.9749780509218613\n",
      "CV accuracy: 0.9552246422862865\n"
     ]
    }
   ],
   "source": [
    "#Getting predictions from pipeline using training data\n",
    "y_pred = forest_pipe_SVD.predict(X_train)\n",
    "\n",
    "#Checking accuracy of predictions\n",
    "print(f\"Training data prediction accuracy: \", accuracy_score(y_train, y_pred))\n",
    "\n",
    "#getting cross validation score for training data \n",
    "print(f\"CV accuracy: {cross_val_score(forest_pipe_SVD, X_train, y_train, cv=5, scoring = 'accuracy').mean()}\")"
   ]
  },
  {
   "cell_type": "markdown",
   "metadata": {},
   "source": [
    "The scores actually got slightly worse. XGBoost is another tree based model that often preforms better than random forests so I will try that next."
   ]
  },
  {
   "cell_type": "markdown",
   "metadata": {},
   "source": [
    "# XGBoost"
   ]
  },
  {
   "cell_type": "code",
   "execution_count": 134,
   "metadata": {},
   "outputs": [
    {
     "data": {
      "text/html": [
       "<style>#sk-container-id-16 {color: black;background-color: white;}#sk-container-id-16 pre{padding: 0;}#sk-container-id-16 div.sk-toggleable {background-color: white;}#sk-container-id-16 label.sk-toggleable__label {cursor: pointer;display: block;width: 100%;margin-bottom: 0;padding: 0.3em;box-sizing: border-box;text-align: center;}#sk-container-id-16 label.sk-toggleable__label-arrow:before {content: \"▸\";float: left;margin-right: 0.25em;color: #696969;}#sk-container-id-16 label.sk-toggleable__label-arrow:hover:before {color: black;}#sk-container-id-16 div.sk-estimator:hover label.sk-toggleable__label-arrow:before {color: black;}#sk-container-id-16 div.sk-toggleable__content {max-height: 0;max-width: 0;overflow: hidden;text-align: left;background-color: #f0f8ff;}#sk-container-id-16 div.sk-toggleable__content pre {margin: 0.2em;color: black;border-radius: 0.25em;background-color: #f0f8ff;}#sk-container-id-16 input.sk-toggleable__control:checked~div.sk-toggleable__content {max-height: 200px;max-width: 100%;overflow: auto;}#sk-container-id-16 input.sk-toggleable__control:checked~label.sk-toggleable__label-arrow:before {content: \"▾\";}#sk-container-id-16 div.sk-estimator input.sk-toggleable__control:checked~label.sk-toggleable__label {background-color: #d4ebff;}#sk-container-id-16 div.sk-label input.sk-toggleable__control:checked~label.sk-toggleable__label {background-color: #d4ebff;}#sk-container-id-16 input.sk-hidden--visually {border: 0;clip: rect(1px 1px 1px 1px);clip: rect(1px, 1px, 1px, 1px);height: 1px;margin: -1px;overflow: hidden;padding: 0;position: absolute;width: 1px;}#sk-container-id-16 div.sk-estimator {font-family: monospace;background-color: #f0f8ff;border: 1px dotted black;border-radius: 0.25em;box-sizing: border-box;margin-bottom: 0.5em;}#sk-container-id-16 div.sk-estimator:hover {background-color: #d4ebff;}#sk-container-id-16 div.sk-parallel-item::after {content: \"\";width: 100%;border-bottom: 1px solid gray;flex-grow: 1;}#sk-container-id-16 div.sk-label:hover label.sk-toggleable__label {background-color: #d4ebff;}#sk-container-id-16 div.sk-serial::before {content: \"\";position: absolute;border-left: 1px solid gray;box-sizing: border-box;top: 0;bottom: 0;left: 50%;z-index: 0;}#sk-container-id-16 div.sk-serial {display: flex;flex-direction: column;align-items: center;background-color: white;padding-right: 0.2em;padding-left: 0.2em;position: relative;}#sk-container-id-16 div.sk-item {position: relative;z-index: 1;}#sk-container-id-16 div.sk-parallel {display: flex;align-items: stretch;justify-content: center;background-color: white;position: relative;}#sk-container-id-16 div.sk-item::before, #sk-container-id-16 div.sk-parallel-item::before {content: \"\";position: absolute;border-left: 1px solid gray;box-sizing: border-box;top: 0;bottom: 0;left: 50%;z-index: -1;}#sk-container-id-16 div.sk-parallel-item {display: flex;flex-direction: column;z-index: 1;position: relative;background-color: white;}#sk-container-id-16 div.sk-parallel-item:first-child::after {align-self: flex-end;width: 50%;}#sk-container-id-16 div.sk-parallel-item:last-child::after {align-self: flex-start;width: 50%;}#sk-container-id-16 div.sk-parallel-item:only-child::after {width: 0;}#sk-container-id-16 div.sk-dashed-wrapped {border: 1px dashed gray;margin: 0 0.4em 0.5em 0.4em;box-sizing: border-box;padding-bottom: 0.4em;background-color: white;}#sk-container-id-16 div.sk-label label {font-family: monospace;font-weight: bold;display: inline-block;line-height: 1.2em;}#sk-container-id-16 div.sk-label-container {text-align: center;}#sk-container-id-16 div.sk-container {/* jupyter's `normalize.less` sets `[hidden] { display: none; }` but bootstrap.min.css set `[hidden] { display: none !important; }` so we also need the `!important` here to be able to override the default hidden behavior on the sphinx rendered scikit-learn.org. See: https://github.com/scikit-learn/scikit-learn/issues/21755 */display: inline-block !important;position: relative;}#sk-container-id-16 div.sk-text-repr-fallback {display: none;}</style><div id=\"sk-container-id-16\" class=\"sk-top-container\"><div class=\"sk-text-repr-fallback\"><pre>Pipeline(steps=[(&#x27;preprocess&#x27;,\n",
       "                 ColumnTransformer(transformers=[(&#x27;cat&#x27;,\n",
       "                                                  OneHotEncoder(handle_unknown=&#x27;ignore&#x27;),\n",
       "                                                  [&#x27;B01&#x27;, &#x27;B02&#x27;, &#x27;B03&#x27;, &#x27;B04&#x27;,\n",
       "                                                   &#x27;B05&#x27;, &#x27;B06&#x27;, &#x27;B07&#x27;, &#x27;B08&#x27;,\n",
       "                                                   &#x27;B09&#x27;, &#x27;B10&#x27;, &#x27;B11&#x27;, &#x27;B12&#x27;,\n",
       "                                                   &#x27;B13&#x27;, &#x27;B14&#x27;, &#x27;B15&#x27;, &#x27;B16&#x27;,\n",
       "                                                   &#x27;B17&#x27;, &#x27;B18&#x27;, &#x27;B19&#x27;, &#x27;B20&#x27;,\n",
       "                                                   &#x27;B21&#x27;, &#x27;B22&#x27;, &#x27;B23&#x27;, &#x27;C01&#x27;,\n",
       "                                                   &#x27;C02&#x27;, &#x27;C03&#x27;, &#x27;C04&#x27;, &#x27;C05&#x27;,\n",
       "                                                   &#x27;C06&#x27;, &#x27;C07&#x27;, ...])],\n",
       "                                   verbose_feature_names_out=False)),\n",
       "                (&#x27;classifier&#x27;,\n",
       "                 XGBCla...\n",
       "                               colsample_bytree=1, gamma=0, gpu_id=-1,\n",
       "                               importance_type=&#x27;gain&#x27;,\n",
       "                               interaction_constraints=&#x27;&#x27;,\n",
       "                               learning_rate=0.300000012, max_delta_step=0,\n",
       "                               max_depth=6, min_child_weight=1, missing=nan,\n",
       "                               monotone_constraints=&#x27;()&#x27;, n_estimators=100,\n",
       "                               n_jobs=0, num_parallel_tree=1, random_state=42,\n",
       "                               reg_alpha=0, reg_lambda=1, scale_pos_weight=1,\n",
       "                               subsample=1, tree_method=&#x27;exact&#x27;,\n",
       "                               validate_parameters=1, verbosity=None))])</pre><b>In a Jupyter environment, please rerun this cell to show the HTML representation or trust the notebook. <br />On GitHub, the HTML representation is unable to render, please try loading this page with nbviewer.org.</b></div><div class=\"sk-container\" hidden><div class=\"sk-item sk-dashed-wrapped\"><div class=\"sk-label-container\"><div class=\"sk-label sk-toggleable\"><input class=\"sk-toggleable__control sk-hidden--visually\" id=\"sk-estimator-id-78\" type=\"checkbox\" ><label for=\"sk-estimator-id-78\" class=\"sk-toggleable__label sk-toggleable__label-arrow\">Pipeline</label><div class=\"sk-toggleable__content\"><pre>Pipeline(steps=[(&#x27;preprocess&#x27;,\n",
       "                 ColumnTransformer(transformers=[(&#x27;cat&#x27;,\n",
       "                                                  OneHotEncoder(handle_unknown=&#x27;ignore&#x27;),\n",
       "                                                  [&#x27;B01&#x27;, &#x27;B02&#x27;, &#x27;B03&#x27;, &#x27;B04&#x27;,\n",
       "                                                   &#x27;B05&#x27;, &#x27;B06&#x27;, &#x27;B07&#x27;, &#x27;B08&#x27;,\n",
       "                                                   &#x27;B09&#x27;, &#x27;B10&#x27;, &#x27;B11&#x27;, &#x27;B12&#x27;,\n",
       "                                                   &#x27;B13&#x27;, &#x27;B14&#x27;, &#x27;B15&#x27;, &#x27;B16&#x27;,\n",
       "                                                   &#x27;B17&#x27;, &#x27;B18&#x27;, &#x27;B19&#x27;, &#x27;B20&#x27;,\n",
       "                                                   &#x27;B21&#x27;, &#x27;B22&#x27;, &#x27;B23&#x27;, &#x27;C01&#x27;,\n",
       "                                                   &#x27;C02&#x27;, &#x27;C03&#x27;, &#x27;C04&#x27;, &#x27;C05&#x27;,\n",
       "                                                   &#x27;C06&#x27;, &#x27;C07&#x27;, ...])],\n",
       "                                   verbose_feature_names_out=False)),\n",
       "                (&#x27;classifier&#x27;,\n",
       "                 XGBCla...\n",
       "                               colsample_bytree=1, gamma=0, gpu_id=-1,\n",
       "                               importance_type=&#x27;gain&#x27;,\n",
       "                               interaction_constraints=&#x27;&#x27;,\n",
       "                               learning_rate=0.300000012, max_delta_step=0,\n",
       "                               max_depth=6, min_child_weight=1, missing=nan,\n",
       "                               monotone_constraints=&#x27;()&#x27;, n_estimators=100,\n",
       "                               n_jobs=0, num_parallel_tree=1, random_state=42,\n",
       "                               reg_alpha=0, reg_lambda=1, scale_pos_weight=1,\n",
       "                               subsample=1, tree_method=&#x27;exact&#x27;,\n",
       "                               validate_parameters=1, verbosity=None))])</pre></div></div></div><div class=\"sk-serial\"><div class=\"sk-item sk-dashed-wrapped\"><div class=\"sk-label-container\"><div class=\"sk-label sk-toggleable\"><input class=\"sk-toggleable__control sk-hidden--visually\" id=\"sk-estimator-id-79\" type=\"checkbox\" ><label for=\"sk-estimator-id-79\" class=\"sk-toggleable__label sk-toggleable__label-arrow\">preprocess: ColumnTransformer</label><div class=\"sk-toggleable__content\"><pre>ColumnTransformer(transformers=[(&#x27;cat&#x27;, OneHotEncoder(handle_unknown=&#x27;ignore&#x27;),\n",
       "                                 [&#x27;B01&#x27;, &#x27;B02&#x27;, &#x27;B03&#x27;, &#x27;B04&#x27;, &#x27;B05&#x27;, &#x27;B06&#x27;,\n",
       "                                  &#x27;B07&#x27;, &#x27;B08&#x27;, &#x27;B09&#x27;, &#x27;B10&#x27;, &#x27;B11&#x27;, &#x27;B12&#x27;,\n",
       "                                  &#x27;B13&#x27;, &#x27;B14&#x27;, &#x27;B15&#x27;, &#x27;B16&#x27;, &#x27;B17&#x27;, &#x27;B18&#x27;,\n",
       "                                  &#x27;B19&#x27;, &#x27;B20&#x27;, &#x27;B21&#x27;, &#x27;B22&#x27;, &#x27;B23&#x27;, &#x27;C01&#x27;,\n",
       "                                  &#x27;C02&#x27;, &#x27;C03&#x27;, &#x27;C04&#x27;, &#x27;C05&#x27;, &#x27;C06&#x27;, &#x27;C07&#x27;, ...])],\n",
       "                  verbose_feature_names_out=False)</pre></div></div></div><div class=\"sk-parallel\"><div class=\"sk-parallel-item\"><div class=\"sk-item\"><div class=\"sk-label-container\"><div class=\"sk-label sk-toggleable\"><input class=\"sk-toggleable__control sk-hidden--visually\" id=\"sk-estimator-id-80\" type=\"checkbox\" ><label for=\"sk-estimator-id-80\" class=\"sk-toggleable__label sk-toggleable__label-arrow\">cat</label><div class=\"sk-toggleable__content\"><pre>[&#x27;B01&#x27;, &#x27;B02&#x27;, &#x27;B03&#x27;, &#x27;B04&#x27;, &#x27;B05&#x27;, &#x27;B06&#x27;, &#x27;B07&#x27;, &#x27;B08&#x27;, &#x27;B09&#x27;, &#x27;B10&#x27;, &#x27;B11&#x27;, &#x27;B12&#x27;, &#x27;B13&#x27;, &#x27;B14&#x27;, &#x27;B15&#x27;, &#x27;B16&#x27;, &#x27;B17&#x27;, &#x27;B18&#x27;, &#x27;B19&#x27;, &#x27;B20&#x27;, &#x27;B21&#x27;, &#x27;B22&#x27;, &#x27;B23&#x27;, &#x27;C01&#x27;, &#x27;C02&#x27;, &#x27;C03&#x27;, &#x27;C04&#x27;, &#x27;C05&#x27;, &#x27;C06&#x27;, &#x27;C07&#x27;, &#x27;F01&#x27;, &#x27;F02&#x27;, &#x27;F03&#x27;, &#x27;F04&#x27;, &#x27;F05&#x27;, &#x27;F06&#x27;, &#x27;F07&#x27;, &#x27;F08&#x27;, &#x27;F09&#x27;, &#x27;F10&#x27;, &#x27;F11&#x27;, &#x27;F12&#x27;, &#x27;F13&#x27;, &#x27;F14&#x27;, &#x27;F15&#x27;, &#x27;F16&#x27;, &#x27;F17&#x27;, &#x27;F18&#x27;, &#x27;F19&#x27;, &#x27;F20&#x27;, &#x27;F21&#x27;, &#x27;F22&#x27;, &#x27;F23&#x27;, &#x27;F24&#x27;, &#x27;F25&#x27;, &#x27;F26&#x27;, &#x27;F27&#x27;, &#x27;G01&#x27;, &#x27;G02&#x27;, &#x27;G03&#x27;, &#x27;G04&#x27;, &#x27;G05&#x27;, &#x27;G06&#x27;, &#x27;G07&#x27;, &#x27;G08&#x27;, &#x27;G09&#x27;, &#x27;G10&#x27;, &#x27;G11&#x27;, &#x27;H01&#x27;, &#x27;H02&#x27;, &#x27;H03&#x27;, &#x27;H04&#x27;, &#x27;H05&#x27;, &#x27;H06&#x27;, &#x27;H07&#x27;, &#x27;H08&#x27;, &#x27;H09&#x27;, &#x27;H10&#x27;, &#x27;H11&#x27;, &#x27;H12&#x27;, &#x27;H13&#x27;, &#x27;H14&#x27;, &#x27;H15&#x27;, &#x27;H16&#x27;, &#x27;H17&#x27;, &#x27;J01&#x27;, &#x27;J02&#x27;, &#x27;J03&#x27;, &#x27;J04&#x27;, &#x27;J05&#x27;, &#x27;J06&#x27;, &#x27;J07&#x27;, &#x27;J08&#x27;, &#x27;J09&#x27;, &#x27;J10&#x27;, &#x27;J11&#x27;, &#x27;J12&#x27;, &#x27;K01&#x27;, &#x27;K02&#x27;, &#x27;K03&#x27;, &#x27;K04&#x27;, &#x27;K05&#x27;, &#x27;K06&#x27;, &#x27;K07&#x27;, &#x27;K08&#x27;, &#x27;K09&#x27;, &#x27;K10&#x27;, &#x27;K11&#x27;, &#x27;K12&#x27;, &#x27;K13&#x27;, &#x27;K14&#x27;, &#x27;K15&#x27;, &#x27;K16&#x27;, &#x27;K17&#x27;, &#x27;K18&#x27;, &#x27;L01&#x27;, &#x27;L02&#x27;, &#x27;L03&#x27;, &#x27;L04&#x27;, &#x27;L05&#x27;, &#x27;L06&#x27;, &#x27;M01&#x27;, &#x27;M02&#x27;, &#x27;M03&#x27;, &#x27;M04&#x27;, &#x27;M05&#x27;, &#x27;M06&#x27;, &#x27;M07&#x27;, &#x27;M08&#x27;, &#x27;M09&#x27;, &#x27;M10&#x27;, &#x27;M11&#x27;, &#x27;M12&#x27;, &#x27;M13&#x27;, &#x27;M14&#x27;, &#x27;M15&#x27;, &#x27;M16&#x27;, &#x27;M17&#x27;, &#x27;M18&#x27;, &#x27;M19&#x27;, &#x27;M20&#x27;, &#x27;N01&#x27;, &#x27;N02&#x27;, &#x27;N03&#x27;, &#x27;N04&#x27;, &#x27;N05&#x27;, &#x27;N06&#x27;, &#x27;N07&#x27;, &#x27;N08&#x27;, &#x27;P01&#x27;, &#x27;P02&#x27;, &#x27;P03&#x27;, &#x27;P04&#x27;, &#x27;P05&#x27;, &#x27;P06&#x27;, &#x27;P07&#x27;, &#x27;P08&#x27;, &#x27;P09&#x27;, &#x27;P10&#x27;, &#x27;P11&#x27;, &#x27;P12&#x27;, &#x27;P13&#x27;, &#x27;P14&#x27;, &#x27;P15&#x27;, &#x27;P16&#x27;, &#x27;P17&#x27;, &#x27;P18&#x27;, &#x27;P19&#x27;, &#x27;P20&#x27;, &#x27;P21&#x27;, &#x27;P22&#x27;, &#x27;P23&#x27;, &#x27;P24&#x27;, &#x27;P25&#x27;, &#x27;P26&#x27;, &#x27;P27&#x27;, &#x27;P28&#x27;, &#x27;P29&#x27;, &#x27;Q01&#x27;, &#x27;Q02&#x27;, &#x27;Q03&#x27;, &#x27;Q04&#x27;, &#x27;Q05&#x27;, &#x27;Q06&#x27;, &#x27;Q07&#x27;, &#x27;Q08&#x27;, &#x27;R01&#x27;, &#x27;R02&#x27;, &#x27;R03&#x27;, &#x27;R04&#x27;, &#x27;R05&#x27;, &#x27;R06&#x27;, &#x27;R07&#x27;, &#x27;R08&#x27;, &#x27;R09&#x27;, &#x27;R10&#x27;, &#x27;R11&#x27;, &#x27;R12&#x27;, &#x27;R13&#x27;, &#x27;R14&#x27;, &#x27;R15&#x27;, &#x27;R16&#x27;, &#x27;R17&#x27;, &#x27;R18&#x27;]</pre></div></div></div><div class=\"sk-serial\"><div class=\"sk-item\"><div class=\"sk-estimator sk-toggleable\"><input class=\"sk-toggleable__control sk-hidden--visually\" id=\"sk-estimator-id-81\" type=\"checkbox\" ><label for=\"sk-estimator-id-81\" class=\"sk-toggleable__label sk-toggleable__label-arrow\">OneHotEncoder</label><div class=\"sk-toggleable__content\"><pre>OneHotEncoder(handle_unknown=&#x27;ignore&#x27;)</pre></div></div></div></div></div></div></div></div><div class=\"sk-item\"><div class=\"sk-estimator sk-toggleable\"><input class=\"sk-toggleable__control sk-hidden--visually\" id=\"sk-estimator-id-82\" type=\"checkbox\" ><label for=\"sk-estimator-id-82\" class=\"sk-toggleable__label sk-toggleable__label-arrow\">XGBClassifier</label><div class=\"sk-toggleable__content\"><pre>XGBClassifier(base_score=0.5, booster=&#x27;gbtree&#x27;, colsample_bylevel=1,\n",
       "              colsample_bynode=1, colsample_bytree=1, gamma=0, gpu_id=-1,\n",
       "              importance_type=&#x27;gain&#x27;, interaction_constraints=&#x27;&#x27;,\n",
       "              learning_rate=0.300000012, max_delta_step=0, max_depth=6,\n",
       "              min_child_weight=1, missing=nan, monotone_constraints=&#x27;()&#x27;,\n",
       "              n_estimators=100, n_jobs=0, num_parallel_tree=1, random_state=42,\n",
       "              reg_alpha=0, reg_lambda=1, scale_pos_weight=1, subsample=1,\n",
       "              tree_method=&#x27;exact&#x27;, validate_parameters=1, verbosity=None)</pre></div></div></div></div></div></div></div>"
      ],
      "text/plain": [
       "Pipeline(steps=[('preprocess',\n",
       "                 ColumnTransformer(transformers=[('cat',\n",
       "                                                  OneHotEncoder(handle_unknown='ignore'),\n",
       "                                                  ['B01', 'B02', 'B03', 'B04',\n",
       "                                                   'B05', 'B06', 'B07', 'B08',\n",
       "                                                   'B09', 'B10', 'B11', 'B12',\n",
       "                                                   'B13', 'B14', 'B15', 'B16',\n",
       "                                                   'B17', 'B18', 'B19', 'B20',\n",
       "                                                   'B21', 'B22', 'B23', 'C01',\n",
       "                                                   'C02', 'C03', 'C04', 'C05',\n",
       "                                                   'C06', 'C07', ...])],\n",
       "                                   verbose_feature_names_out=False)),\n",
       "                ('classifier',\n",
       "                 XGBCla...\n",
       "                               colsample_bytree=1, gamma=0, gpu_id=-1,\n",
       "                               importance_type='gain',\n",
       "                               interaction_constraints='',\n",
       "                               learning_rate=0.300000012, max_delta_step=0,\n",
       "                               max_depth=6, min_child_weight=1, missing=nan,\n",
       "                               monotone_constraints='()', n_estimators=100,\n",
       "                               n_jobs=0, num_parallel_tree=1, random_state=42,\n",
       "                               reg_alpha=0, reg_lambda=1, scale_pos_weight=1,\n",
       "                               subsample=1, tree_method='exact',\n",
       "                               validate_parameters=1, verbosity=None))])"
      ]
     },
     "execution_count": 134,
     "metadata": {},
     "output_type": "execute_result"
    }
   ],
   "source": [
    "# Setting up pipeline steps\n",
    "XGBoost_pipe = Pipeline(\n",
    "    [\n",
    "        (\"preprocess\", preprocessing),\n",
    "        (\"classifier\", XGBClassifier(random_state=42))\n",
    "    ]\n",
    ")\n",
    "# Fitting pipeline to the training data\n",
    "XGBoost_pipe.fit(X_train, y_train)"
   ]
  },
  {
   "cell_type": "code",
   "execution_count": 53,
   "metadata": {},
   "outputs": [],
   "source": [
    "# #Getting predictions from pipeline using training data\n",
    "# y_pred = XGBoost_pipe.predict(X_train)\n",
    "# dd\n",
    "# #Checking accuracy of predictions\n",
    "# print(f\"Training data prediction accuracy: \", accuracy_score(y_train, y_pred))\n",
    "\n",
    "# #getting cross validation score for training data \n",
    "# print(f\"CV accuracy: {cross_val_score(XGBoost_pipe, X_train, y_train, cv=5, scoring = 'accuracy').mean()}\")"
   ]
  },
  {
   "cell_type": "code",
   "execution_count": 54,
   "metadata": {},
   "outputs": [],
   "source": [
    "# param_grid = {'classifier__learning_rate': [0.1, 0.2, 0.3],\n",
    "#               'classifier__max_depth': [2, 6, 8],\n",
    "#               'classifier__min_child_weight': [1, 2],\n",
    "#               'classifier__subsample': [0.5, 0.7],\n",
    "#               'classifier__n_estimators': [50, 100, 150],\n",
    "#              }\n",
    "# # Executing gridsearch\n",
    "# gridsearch = GridSearchCV(estimator=XGBoost_pipe, param_grid=param_grid, scoring='accuracy', cv=5, n_jobs = 3)\n",
    "# # Fit the training data\n",
    "# gridsearch.fit(X_train, y_train)"
   ]
  },
  {
   "cell_type": "code",
   "execution_count": 55,
   "metadata": {},
   "outputs": [],
   "source": [
    "# # Print the accuracy on train set\n",
    "# print(f'Best estimator score: ' + '{:.4%}'.format(gridsearch.score(X_train, y_train)))\n",
    "# print(f'Gridsearch best params: ')\n",
    "# print(gridsearch.best_params_)"
   ]
  },
  {
   "cell_type": "markdown",
   "metadata": {},
   "source": [
    "Best estimator score: 98.1782%\n",
    "\n",
    "Gridsearch best params: \n",
    "\n",
    "- 'classifier__learning_rate': 0.1,\n",
    "- 'classifier__max_depth': 2,\n",
    "- 'classifier__min_child_weight': 1,\n",
    "- 'classifier__n_estimators': 150,\n",
    "- 'classifier__subsample': 0.5"
   ]
  },
  {
   "cell_type": "code",
   "execution_count": 135,
   "metadata": {},
   "outputs": [
    {
     "data": {
      "text/html": [
       "<style>#sk-container-id-17 {color: black;background-color: white;}#sk-container-id-17 pre{padding: 0;}#sk-container-id-17 div.sk-toggleable {background-color: white;}#sk-container-id-17 label.sk-toggleable__label {cursor: pointer;display: block;width: 100%;margin-bottom: 0;padding: 0.3em;box-sizing: border-box;text-align: center;}#sk-container-id-17 label.sk-toggleable__label-arrow:before {content: \"▸\";float: left;margin-right: 0.25em;color: #696969;}#sk-container-id-17 label.sk-toggleable__label-arrow:hover:before {color: black;}#sk-container-id-17 div.sk-estimator:hover label.sk-toggleable__label-arrow:before {color: black;}#sk-container-id-17 div.sk-toggleable__content {max-height: 0;max-width: 0;overflow: hidden;text-align: left;background-color: #f0f8ff;}#sk-container-id-17 div.sk-toggleable__content pre {margin: 0.2em;color: black;border-radius: 0.25em;background-color: #f0f8ff;}#sk-container-id-17 input.sk-toggleable__control:checked~div.sk-toggleable__content {max-height: 200px;max-width: 100%;overflow: auto;}#sk-container-id-17 input.sk-toggleable__control:checked~label.sk-toggleable__label-arrow:before {content: \"▾\";}#sk-container-id-17 div.sk-estimator input.sk-toggleable__control:checked~label.sk-toggleable__label {background-color: #d4ebff;}#sk-container-id-17 div.sk-label input.sk-toggleable__control:checked~label.sk-toggleable__label {background-color: #d4ebff;}#sk-container-id-17 input.sk-hidden--visually {border: 0;clip: rect(1px 1px 1px 1px);clip: rect(1px, 1px, 1px, 1px);height: 1px;margin: -1px;overflow: hidden;padding: 0;position: absolute;width: 1px;}#sk-container-id-17 div.sk-estimator {font-family: monospace;background-color: #f0f8ff;border: 1px dotted black;border-radius: 0.25em;box-sizing: border-box;margin-bottom: 0.5em;}#sk-container-id-17 div.sk-estimator:hover {background-color: #d4ebff;}#sk-container-id-17 div.sk-parallel-item::after {content: \"\";width: 100%;border-bottom: 1px solid gray;flex-grow: 1;}#sk-container-id-17 div.sk-label:hover label.sk-toggleable__label {background-color: #d4ebff;}#sk-container-id-17 div.sk-serial::before {content: \"\";position: absolute;border-left: 1px solid gray;box-sizing: border-box;top: 0;bottom: 0;left: 50%;z-index: 0;}#sk-container-id-17 div.sk-serial {display: flex;flex-direction: column;align-items: center;background-color: white;padding-right: 0.2em;padding-left: 0.2em;position: relative;}#sk-container-id-17 div.sk-item {position: relative;z-index: 1;}#sk-container-id-17 div.sk-parallel {display: flex;align-items: stretch;justify-content: center;background-color: white;position: relative;}#sk-container-id-17 div.sk-item::before, #sk-container-id-17 div.sk-parallel-item::before {content: \"\";position: absolute;border-left: 1px solid gray;box-sizing: border-box;top: 0;bottom: 0;left: 50%;z-index: -1;}#sk-container-id-17 div.sk-parallel-item {display: flex;flex-direction: column;z-index: 1;position: relative;background-color: white;}#sk-container-id-17 div.sk-parallel-item:first-child::after {align-self: flex-end;width: 50%;}#sk-container-id-17 div.sk-parallel-item:last-child::after {align-self: flex-start;width: 50%;}#sk-container-id-17 div.sk-parallel-item:only-child::after {width: 0;}#sk-container-id-17 div.sk-dashed-wrapped {border: 1px dashed gray;margin: 0 0.4em 0.5em 0.4em;box-sizing: border-box;padding-bottom: 0.4em;background-color: white;}#sk-container-id-17 div.sk-label label {font-family: monospace;font-weight: bold;display: inline-block;line-height: 1.2em;}#sk-container-id-17 div.sk-label-container {text-align: center;}#sk-container-id-17 div.sk-container {/* jupyter's `normalize.less` sets `[hidden] { display: none; }` but bootstrap.min.css set `[hidden] { display: none !important; }` so we also need the `!important` here to be able to override the default hidden behavior on the sphinx rendered scikit-learn.org. See: https://github.com/scikit-learn/scikit-learn/issues/21755 */display: inline-block !important;position: relative;}#sk-container-id-17 div.sk-text-repr-fallback {display: none;}</style><div id=\"sk-container-id-17\" class=\"sk-top-container\"><div class=\"sk-text-repr-fallback\"><pre>Pipeline(steps=[(&#x27;preprocess&#x27;,\n",
       "                 ColumnTransformer(transformers=[(&#x27;cat&#x27;,\n",
       "                                                  OneHotEncoder(handle_unknown=&#x27;ignore&#x27;),\n",
       "                                                  [&#x27;B01&#x27;, &#x27;B02&#x27;, &#x27;B03&#x27;, &#x27;B04&#x27;,\n",
       "                                                   &#x27;B05&#x27;, &#x27;B06&#x27;, &#x27;B07&#x27;, &#x27;B08&#x27;,\n",
       "                                                   &#x27;B09&#x27;, &#x27;B10&#x27;, &#x27;B11&#x27;, &#x27;B12&#x27;,\n",
       "                                                   &#x27;B13&#x27;, &#x27;B14&#x27;, &#x27;B15&#x27;, &#x27;B16&#x27;,\n",
       "                                                   &#x27;B17&#x27;, &#x27;B18&#x27;, &#x27;B19&#x27;, &#x27;B20&#x27;,\n",
       "                                                   &#x27;B21&#x27;, &#x27;B22&#x27;, &#x27;B23&#x27;, &#x27;C01&#x27;,\n",
       "                                                   &#x27;C02&#x27;, &#x27;C03&#x27;, &#x27;C04&#x27;, &#x27;C05&#x27;,\n",
       "                                                   &#x27;C06&#x27;, &#x27;C07&#x27;, ...])],\n",
       "                                   verbose_feature_names_out=False)),\n",
       "                (&#x27;classifier&#x27;,\n",
       "                 XGBCla...\n",
       "                               colsample_bytree=1, gamma=0, gpu_id=-1,\n",
       "                               importance_type=&#x27;gain&#x27;,\n",
       "                               interaction_constraints=&#x27;&#x27;, learning_rate=0.1,\n",
       "                               max_delta_step=0, max_depth=2,\n",
       "                               min_child_weight=1, missing=nan,\n",
       "                               monotone_constraints=&#x27;()&#x27;, n_estimators=150,\n",
       "                               n_jobs=0, num_parallel_tree=1, random_state=42,\n",
       "                               reg_alpha=0, reg_lambda=1, scale_pos_weight=1,\n",
       "                               subsample=0.5, tree_method=&#x27;exact&#x27;,\n",
       "                               validate_parameters=1, verbosity=None))])</pre><b>In a Jupyter environment, please rerun this cell to show the HTML representation or trust the notebook. <br />On GitHub, the HTML representation is unable to render, please try loading this page with nbviewer.org.</b></div><div class=\"sk-container\" hidden><div class=\"sk-item sk-dashed-wrapped\"><div class=\"sk-label-container\"><div class=\"sk-label sk-toggleable\"><input class=\"sk-toggleable__control sk-hidden--visually\" id=\"sk-estimator-id-83\" type=\"checkbox\" ><label for=\"sk-estimator-id-83\" class=\"sk-toggleable__label sk-toggleable__label-arrow\">Pipeline</label><div class=\"sk-toggleable__content\"><pre>Pipeline(steps=[(&#x27;preprocess&#x27;,\n",
       "                 ColumnTransformer(transformers=[(&#x27;cat&#x27;,\n",
       "                                                  OneHotEncoder(handle_unknown=&#x27;ignore&#x27;),\n",
       "                                                  [&#x27;B01&#x27;, &#x27;B02&#x27;, &#x27;B03&#x27;, &#x27;B04&#x27;,\n",
       "                                                   &#x27;B05&#x27;, &#x27;B06&#x27;, &#x27;B07&#x27;, &#x27;B08&#x27;,\n",
       "                                                   &#x27;B09&#x27;, &#x27;B10&#x27;, &#x27;B11&#x27;, &#x27;B12&#x27;,\n",
       "                                                   &#x27;B13&#x27;, &#x27;B14&#x27;, &#x27;B15&#x27;, &#x27;B16&#x27;,\n",
       "                                                   &#x27;B17&#x27;, &#x27;B18&#x27;, &#x27;B19&#x27;, &#x27;B20&#x27;,\n",
       "                                                   &#x27;B21&#x27;, &#x27;B22&#x27;, &#x27;B23&#x27;, &#x27;C01&#x27;,\n",
       "                                                   &#x27;C02&#x27;, &#x27;C03&#x27;, &#x27;C04&#x27;, &#x27;C05&#x27;,\n",
       "                                                   &#x27;C06&#x27;, &#x27;C07&#x27;, ...])],\n",
       "                                   verbose_feature_names_out=False)),\n",
       "                (&#x27;classifier&#x27;,\n",
       "                 XGBCla...\n",
       "                               colsample_bytree=1, gamma=0, gpu_id=-1,\n",
       "                               importance_type=&#x27;gain&#x27;,\n",
       "                               interaction_constraints=&#x27;&#x27;, learning_rate=0.1,\n",
       "                               max_delta_step=0, max_depth=2,\n",
       "                               min_child_weight=1, missing=nan,\n",
       "                               monotone_constraints=&#x27;()&#x27;, n_estimators=150,\n",
       "                               n_jobs=0, num_parallel_tree=1, random_state=42,\n",
       "                               reg_alpha=0, reg_lambda=1, scale_pos_weight=1,\n",
       "                               subsample=0.5, tree_method=&#x27;exact&#x27;,\n",
       "                               validate_parameters=1, verbosity=None))])</pre></div></div></div><div class=\"sk-serial\"><div class=\"sk-item sk-dashed-wrapped\"><div class=\"sk-label-container\"><div class=\"sk-label sk-toggleable\"><input class=\"sk-toggleable__control sk-hidden--visually\" id=\"sk-estimator-id-84\" type=\"checkbox\" ><label for=\"sk-estimator-id-84\" class=\"sk-toggleable__label sk-toggleable__label-arrow\">preprocess: ColumnTransformer</label><div class=\"sk-toggleable__content\"><pre>ColumnTransformer(transformers=[(&#x27;cat&#x27;, OneHotEncoder(handle_unknown=&#x27;ignore&#x27;),\n",
       "                                 [&#x27;B01&#x27;, &#x27;B02&#x27;, &#x27;B03&#x27;, &#x27;B04&#x27;, &#x27;B05&#x27;, &#x27;B06&#x27;,\n",
       "                                  &#x27;B07&#x27;, &#x27;B08&#x27;, &#x27;B09&#x27;, &#x27;B10&#x27;, &#x27;B11&#x27;, &#x27;B12&#x27;,\n",
       "                                  &#x27;B13&#x27;, &#x27;B14&#x27;, &#x27;B15&#x27;, &#x27;B16&#x27;, &#x27;B17&#x27;, &#x27;B18&#x27;,\n",
       "                                  &#x27;B19&#x27;, &#x27;B20&#x27;, &#x27;B21&#x27;, &#x27;B22&#x27;, &#x27;B23&#x27;, &#x27;C01&#x27;,\n",
       "                                  &#x27;C02&#x27;, &#x27;C03&#x27;, &#x27;C04&#x27;, &#x27;C05&#x27;, &#x27;C06&#x27;, &#x27;C07&#x27;, ...])],\n",
       "                  verbose_feature_names_out=False)</pre></div></div></div><div class=\"sk-parallel\"><div class=\"sk-parallel-item\"><div class=\"sk-item\"><div class=\"sk-label-container\"><div class=\"sk-label sk-toggleable\"><input class=\"sk-toggleable__control sk-hidden--visually\" id=\"sk-estimator-id-85\" type=\"checkbox\" ><label for=\"sk-estimator-id-85\" class=\"sk-toggleable__label sk-toggleable__label-arrow\">cat</label><div class=\"sk-toggleable__content\"><pre>[&#x27;B01&#x27;, &#x27;B02&#x27;, &#x27;B03&#x27;, &#x27;B04&#x27;, &#x27;B05&#x27;, &#x27;B06&#x27;, &#x27;B07&#x27;, &#x27;B08&#x27;, &#x27;B09&#x27;, &#x27;B10&#x27;, &#x27;B11&#x27;, &#x27;B12&#x27;, &#x27;B13&#x27;, &#x27;B14&#x27;, &#x27;B15&#x27;, &#x27;B16&#x27;, &#x27;B17&#x27;, &#x27;B18&#x27;, &#x27;B19&#x27;, &#x27;B20&#x27;, &#x27;B21&#x27;, &#x27;B22&#x27;, &#x27;B23&#x27;, &#x27;C01&#x27;, &#x27;C02&#x27;, &#x27;C03&#x27;, &#x27;C04&#x27;, &#x27;C05&#x27;, &#x27;C06&#x27;, &#x27;C07&#x27;, &#x27;F01&#x27;, &#x27;F02&#x27;, &#x27;F03&#x27;, &#x27;F04&#x27;, &#x27;F05&#x27;, &#x27;F06&#x27;, &#x27;F07&#x27;, &#x27;F08&#x27;, &#x27;F09&#x27;, &#x27;F10&#x27;, &#x27;F11&#x27;, &#x27;F12&#x27;, &#x27;F13&#x27;, &#x27;F14&#x27;, &#x27;F15&#x27;, &#x27;F16&#x27;, &#x27;F17&#x27;, &#x27;F18&#x27;, &#x27;F19&#x27;, &#x27;F20&#x27;, &#x27;F21&#x27;, &#x27;F22&#x27;, &#x27;F23&#x27;, &#x27;F24&#x27;, &#x27;F25&#x27;, &#x27;F26&#x27;, &#x27;F27&#x27;, &#x27;G01&#x27;, &#x27;G02&#x27;, &#x27;G03&#x27;, &#x27;G04&#x27;, &#x27;G05&#x27;, &#x27;G06&#x27;, &#x27;G07&#x27;, &#x27;G08&#x27;, &#x27;G09&#x27;, &#x27;G10&#x27;, &#x27;G11&#x27;, &#x27;H01&#x27;, &#x27;H02&#x27;, &#x27;H03&#x27;, &#x27;H04&#x27;, &#x27;H05&#x27;, &#x27;H06&#x27;, &#x27;H07&#x27;, &#x27;H08&#x27;, &#x27;H09&#x27;, &#x27;H10&#x27;, &#x27;H11&#x27;, &#x27;H12&#x27;, &#x27;H13&#x27;, &#x27;H14&#x27;, &#x27;H15&#x27;, &#x27;H16&#x27;, &#x27;H17&#x27;, &#x27;J01&#x27;, &#x27;J02&#x27;, &#x27;J03&#x27;, &#x27;J04&#x27;, &#x27;J05&#x27;, &#x27;J06&#x27;, &#x27;J07&#x27;, &#x27;J08&#x27;, &#x27;J09&#x27;, &#x27;J10&#x27;, &#x27;J11&#x27;, &#x27;J12&#x27;, &#x27;K01&#x27;, &#x27;K02&#x27;, &#x27;K03&#x27;, &#x27;K04&#x27;, &#x27;K05&#x27;, &#x27;K06&#x27;, &#x27;K07&#x27;, &#x27;K08&#x27;, &#x27;K09&#x27;, &#x27;K10&#x27;, &#x27;K11&#x27;, &#x27;K12&#x27;, &#x27;K13&#x27;, &#x27;K14&#x27;, &#x27;K15&#x27;, &#x27;K16&#x27;, &#x27;K17&#x27;, &#x27;K18&#x27;, &#x27;L01&#x27;, &#x27;L02&#x27;, &#x27;L03&#x27;, &#x27;L04&#x27;, &#x27;L05&#x27;, &#x27;L06&#x27;, &#x27;M01&#x27;, &#x27;M02&#x27;, &#x27;M03&#x27;, &#x27;M04&#x27;, &#x27;M05&#x27;, &#x27;M06&#x27;, &#x27;M07&#x27;, &#x27;M08&#x27;, &#x27;M09&#x27;, &#x27;M10&#x27;, &#x27;M11&#x27;, &#x27;M12&#x27;, &#x27;M13&#x27;, &#x27;M14&#x27;, &#x27;M15&#x27;, &#x27;M16&#x27;, &#x27;M17&#x27;, &#x27;M18&#x27;, &#x27;M19&#x27;, &#x27;M20&#x27;, &#x27;N01&#x27;, &#x27;N02&#x27;, &#x27;N03&#x27;, &#x27;N04&#x27;, &#x27;N05&#x27;, &#x27;N06&#x27;, &#x27;N07&#x27;, &#x27;N08&#x27;, &#x27;P01&#x27;, &#x27;P02&#x27;, &#x27;P03&#x27;, &#x27;P04&#x27;, &#x27;P05&#x27;, &#x27;P06&#x27;, &#x27;P07&#x27;, &#x27;P08&#x27;, &#x27;P09&#x27;, &#x27;P10&#x27;, &#x27;P11&#x27;, &#x27;P12&#x27;, &#x27;P13&#x27;, &#x27;P14&#x27;, &#x27;P15&#x27;, &#x27;P16&#x27;, &#x27;P17&#x27;, &#x27;P18&#x27;, &#x27;P19&#x27;, &#x27;P20&#x27;, &#x27;P21&#x27;, &#x27;P22&#x27;, &#x27;P23&#x27;, &#x27;P24&#x27;, &#x27;P25&#x27;, &#x27;P26&#x27;, &#x27;P27&#x27;, &#x27;P28&#x27;, &#x27;P29&#x27;, &#x27;Q01&#x27;, &#x27;Q02&#x27;, &#x27;Q03&#x27;, &#x27;Q04&#x27;, &#x27;Q05&#x27;, &#x27;Q06&#x27;, &#x27;Q07&#x27;, &#x27;Q08&#x27;, &#x27;R01&#x27;, &#x27;R02&#x27;, &#x27;R03&#x27;, &#x27;R04&#x27;, &#x27;R05&#x27;, &#x27;R06&#x27;, &#x27;R07&#x27;, &#x27;R08&#x27;, &#x27;R09&#x27;, &#x27;R10&#x27;, &#x27;R11&#x27;, &#x27;R12&#x27;, &#x27;R13&#x27;, &#x27;R14&#x27;, &#x27;R15&#x27;, &#x27;R16&#x27;, &#x27;R17&#x27;, &#x27;R18&#x27;]</pre></div></div></div><div class=\"sk-serial\"><div class=\"sk-item\"><div class=\"sk-estimator sk-toggleable\"><input class=\"sk-toggleable__control sk-hidden--visually\" id=\"sk-estimator-id-86\" type=\"checkbox\" ><label for=\"sk-estimator-id-86\" class=\"sk-toggleable__label sk-toggleable__label-arrow\">OneHotEncoder</label><div class=\"sk-toggleable__content\"><pre>OneHotEncoder(handle_unknown=&#x27;ignore&#x27;)</pre></div></div></div></div></div></div></div></div><div class=\"sk-item\"><div class=\"sk-estimator sk-toggleable\"><input class=\"sk-toggleable__control sk-hidden--visually\" id=\"sk-estimator-id-87\" type=\"checkbox\" ><label for=\"sk-estimator-id-87\" class=\"sk-toggleable__label sk-toggleable__label-arrow\">XGBClassifier</label><div class=\"sk-toggleable__content\"><pre>XGBClassifier(base_score=0.5, booster=&#x27;gbtree&#x27;, colsample_bylevel=1,\n",
       "              colsample_bynode=1, colsample_bytree=1, gamma=0, gpu_id=-1,\n",
       "              importance_type=&#x27;gain&#x27;, interaction_constraints=&#x27;&#x27;,\n",
       "              learning_rate=0.1, max_delta_step=0, max_depth=2,\n",
       "              min_child_weight=1, missing=nan, monotone_constraints=&#x27;()&#x27;,\n",
       "              n_estimators=150, n_jobs=0, num_parallel_tree=1, random_state=42,\n",
       "              reg_alpha=0, reg_lambda=1, scale_pos_weight=1, subsample=0.5,\n",
       "              tree_method=&#x27;exact&#x27;, validate_parameters=1, verbosity=None)</pre></div></div></div></div></div></div></div>"
      ],
      "text/plain": [
       "Pipeline(steps=[('preprocess',\n",
       "                 ColumnTransformer(transformers=[('cat',\n",
       "                                                  OneHotEncoder(handle_unknown='ignore'),\n",
       "                                                  ['B01', 'B02', 'B03', 'B04',\n",
       "                                                   'B05', 'B06', 'B07', 'B08',\n",
       "                                                   'B09', 'B10', 'B11', 'B12',\n",
       "                                                   'B13', 'B14', 'B15', 'B16',\n",
       "                                                   'B17', 'B18', 'B19', 'B20',\n",
       "                                                   'B21', 'B22', 'B23', 'C01',\n",
       "                                                   'C02', 'C03', 'C04', 'C05',\n",
       "                                                   'C06', 'C07', ...])],\n",
       "                                   verbose_feature_names_out=False)),\n",
       "                ('classifier',\n",
       "                 XGBCla...\n",
       "                               colsample_bytree=1, gamma=0, gpu_id=-1,\n",
       "                               importance_type='gain',\n",
       "                               interaction_constraints='', learning_rate=0.1,\n",
       "                               max_delta_step=0, max_depth=2,\n",
       "                               min_child_weight=1, missing=nan,\n",
       "                               monotone_constraints='()', n_estimators=150,\n",
       "                               n_jobs=0, num_parallel_tree=1, random_state=42,\n",
       "                               reg_alpha=0, reg_lambda=1, scale_pos_weight=1,\n",
       "                               subsample=0.5, tree_method='exact',\n",
       "                               validate_parameters=1, verbosity=None))])"
      ]
     },
     "execution_count": 135,
     "metadata": {},
     "output_type": "execute_result"
    }
   ],
   "source": [
    "XGBoost_pipe.set_params(classifier__learning_rate = 0.1,\n",
    "                        classifier__max_depth = 2,\n",
    "                        classifier__min_child_weight = 1,\n",
    "                        classifier__subsample = .5,\n",
    "                        classifier__n_estimators = 150)\n",
    "XGBoost_pipe.fit(X_train, y_train)"
   ]
  },
  {
   "cell_type": "code",
   "execution_count": 57,
   "metadata": {},
   "outputs": [],
   "source": [
    "# XGBoost_pipe.set_params(classifier__learning_rate = gridsearch.best_params_['classifier__learning_rate'],\n",
    "#                         classifier__max_depth = gridsearch.best_params_['classifier__max_depth'],\n",
    "#                         classifier__min_child_weight = gridsearch.best_params_['classifier__min_child_weight'],\n",
    "#                         classifier__subsample = gridsearch.best_params_['classifier__subsample'],\n",
    "#                         classifier__n_estimators = gridsearch.best_params_['classifier__n_estimators'])\n",
    "# # Refitting pipeline\n",
    "# XGBoost_pipe.fit(X_train, y_train)"
   ]
  },
  {
   "cell_type": "code",
   "execution_count": 58,
   "metadata": {},
   "outputs": [
    {
     "name": "stdout",
     "output_type": "stream",
     "text": [
      "Training data prediction accuracy:  0.9817822651448639\n",
      "CV accuracy: 0.9664184817147149\n"
     ]
    }
   ],
   "source": [
    "#Getting predictions from pipeline using training data\n",
    "y_pred = XGBoost_pipe.predict(X_train)\n",
    "\n",
    "#Checking accuracy of predictions\n",
    "print(f\"Training data prediction accuracy: \", accuracy_score(y_train, y_pred))\n",
    "\n",
    "#getting cross validation score for training data \n",
    "print(f\"CV accuracy: {cross_val_score(XGBoost_pipe, X_train, y_train, cv=5, scoring = 'accuracy').mean()}\")"
   ]
  },
  {
   "cell_type": "markdown",
   "metadata": {},
   "source": [
    "The improvements with the XGBoost model are slight but it is less over fit and has a higher cross validation score so it is the model I will go with."
   ]
  },
  {
   "cell_type": "code",
   "execution_count": 59,
   "metadata": {},
   "outputs": [
    {
     "name": "stdout",
     "output_type": "stream",
     "text": [
      "Testing data accuracy score:  0.9684002633311389\n"
     ]
    }
   ],
   "source": [
    "#Getting predictions from pipeline using testing data\n",
    "y_pred = XGBoost_pipe.predict(X_test)\n",
    "\n",
    "#Checking accuracy of predictions\n",
    "print(f\"Testing data accuracy score: \", accuracy_score(y_test, y_pred))"
   ]
  },
  {
   "cell_type": "markdown",
   "metadata": {},
   "source": [
    "The final testing accuracy score is quite good and shows how predictable voting behavior can be"
   ]
  },
  {
   "cell_type": "code",
   "execution_count": 60,
   "metadata": {},
   "outputs": [
    {
     "data": {
      "text/plain": [
       "<sklearn.metrics._plot.confusion_matrix.ConfusionMatrixDisplay at 0x1c3807c4190>"
      ]
     },
     "execution_count": 60,
     "metadata": {},
     "output_type": "execute_result"
    },
    {
     "data": {
      "image/png": "[encoded data removed]",
      "text/plain": [
       "<Figure size 432x288 with 2 Axes>"
      ]
     },
     "metadata": {
      "needs_background": "light"
     },
     "output_type": "display_data"
    }
   ],
   "source": [
    "#Creating confusion matrix\n",
    "cf = confusion_matrix(y_test, y_pred)\n",
    "ConfusionMatrixDisplay(cf, display_labels=['Trump vote', 'Biden vote']).plot(cmap = plt.cm.cividis)"
   ]
  },
  {
   "cell_type": "markdown",
   "metadata": {},
   "source": [
    "# Categorical Analysis"
   ]
  },
  {
   "cell_type": "markdown",
   "metadata": {},
   "source": [
    "Now that I have a functional model that can predict how an individual will vote based on the whole dataset, I will analyze how well the model preforms when it only has access to a subset of the data. "
   ]
  },
  {
   "cell_type": "code",
   "execution_count": 145,
   "metadata": {},
   "outputs": [],
   "source": [
    "# Getting column dictionary for X_train\n",
    "X_train_dict = get_columns(X_train)\n",
    "# Setting up scoring dictionary\n",
    "score_dict = {}"
   ]
  },
  {
   "cell_type": "code",
   "execution_count": 242,
   "metadata": {},
   "outputs": [],
   "source": [
    "# Looping through the data by category\n",
    "for key in X_train_dict:\n",
    "    # Getting columns in the category\n",
    "    columns = X_train_dict[key]\n",
    "    # Subsetting the data\n",
    "    X_train_subset = X_train[columns]\n",
    "    # Updating the pipeling\n",
    "    XGBoost_pipe.set_params(preprocess__transformers = [(\"cat\", categorical_processing, columns)])\n",
    "    # Refitting the model\n",
    "    XGBoost_pipe.fit(X_train_subset, y_train)\n",
    "    # Getting the cross validation score\n",
    "    score_dict[key] = {'cross validation score' : cross_val_score(XGBoost_pipe, \n",
    "                                                                          X_train_subset, \n",
    "                                                                          y_train, \n",
    "                                                                          cv=5, \n",
    "                                                                          scoring = 'accuracy').mean()}"
   ]
  },
  {
   "cell_type": "code",
   "execution_count": 181,
   "metadata": {},
   "outputs": [],
   "source": [
    "# Creating a dictionary to update the category labels\n",
    "Catagory_labels = {'B' : 'Political Engagement',\n",
    "                   'C' : 'Media Trust & Consumption',\n",
    "                   'F' : 'Economy',\n",
    "                   'G' : 'Direction of Country',\n",
    "                   'H' : 'Health Care & Policy',\n",
    "                   'J' : 'Federal Spending',\n",
    "                   'K' : 'Abortion, Guns, Imigration',\n",
    "                   'L' : 'Womens and Gender Issues',\n",
    "                   'M' : 'Race, Diversity & Religious Minorities',\n",
    "                   'N' : 'Security & Foreign Policy',\n",
    "                   'P' : 'Trust in Government',\n",
    "                   'Q' : 'LGBTQ Rights',\n",
    "                   'R' : 'Demographics'}"
   ]
  },
  {
   "cell_type": "code",
   "execution_count": 244,
   "metadata": {
    "scrolled": false
   },
   "outputs": [
    {
     "data": {
      "text/html": [
       "<div>\n",
       "<style scoped>\n",
       "    .dataframe tbody tr th:only-of-type {\n",
       "        vertical-align: middle;\n",
       "    }\n",
       "\n",
       "    .dataframe tbody tr th {\n",
       "        vertical-align: top;\n",
       "    }\n",
       "\n",
       "    .dataframe thead th {\n",
       "        text-align: right;\n",
       "    }\n",
       "</style>\n",
       "<table border=\"1\" class=\"dataframe\">\n",
       "  <thead>\n",
       "    <tr style=\"text-align: right;\">\n",
       "      <th></th>\n",
       "      <th>cross validation score</th>\n",
       "    </tr>\n",
       "  </thead>\n",
       "  <tbody>\n",
       "    <tr>\n",
       "      <th>Political Engagement</th>\n",
       "      <td>0.606675</td>\n",
       "    </tr>\n",
       "    <tr>\n",
       "      <th>Media Trust &amp; Consumption</th>\n",
       "      <td>0.814310</td>\n",
       "    </tr>\n",
       "    <tr>\n",
       "      <th>Economy</th>\n",
       "      <td>0.931521</td>\n",
       "    </tr>\n",
       "    <tr>\n",
       "      <th>Direction of Country</th>\n",
       "      <td>0.827479</td>\n",
       "    </tr>\n",
       "    <tr>\n",
       "      <th>Health Care &amp; Policy</th>\n",
       "      <td>0.943809</td>\n",
       "    </tr>\n",
       "    <tr>\n",
       "      <th>Federal Spending</th>\n",
       "      <td>0.916156</td>\n",
       "    </tr>\n",
       "    <tr>\n",
       "      <th>Abortion, Guns, Imigration</th>\n",
       "      <td>0.933058</td>\n",
       "    </tr>\n",
       "    <tr>\n",
       "      <th>Womens and Gender Issues</th>\n",
       "      <td>0.790387</td>\n",
       "    </tr>\n",
       "    <tr>\n",
       "      <th>Race, Diversity &amp; Religious Minorities</th>\n",
       "      <td>0.902764</td>\n",
       "    </tr>\n",
       "    <tr>\n",
       "      <th>Security &amp; Foreign Policy</th>\n",
       "      <td>0.856455</td>\n",
       "    </tr>\n",
       "    <tr>\n",
       "      <th>Trust in Government</th>\n",
       "      <td>0.945786</td>\n",
       "    </tr>\n",
       "    <tr>\n",
       "      <th>LGBTQ Rights</th>\n",
       "      <td>0.804435</td>\n",
       "    </tr>\n",
       "    <tr>\n",
       "      <th>Demographics</th>\n",
       "      <td>0.764484</td>\n",
       "    </tr>\n",
       "  </tbody>\n",
       "</table>\n",
       "</div>"
      ],
      "text/plain": [
       "                                        cross validation score\n",
       "Political Engagement                                  0.606675\n",
       "Media Trust & Consumption                             0.814310\n",
       "Economy                                               0.931521\n",
       "Direction of Country                                  0.827479\n",
       "Health Care & Policy                                  0.943809\n",
       "Federal Spending                                      0.916156\n",
       "Abortion, Guns, Imigration                            0.933058\n",
       "Womens and Gender Issues                              0.790387\n",
       "Race, Diversity & Religious Minorities                0.902764\n",
       "Security & Foreign Policy                             0.856455\n",
       "Trust in Government                                   0.945786\n",
       "LGBTQ Rights                                          0.804435\n",
       "Demographics                                          0.764484"
      ]
     },
     "execution_count": 244,
     "metadata": {},
     "output_type": "execute_result"
    }
   ],
   "source": [
    "# Creating a data frame with updated labels \n",
    "score_df = pd.DataFrame.from_dict(score_dict, orient = 'index')\n",
    "score_df.rename(index = Catagory_labels,inplace=True)\n",
    "score_df"
   ]
  },
  {
   "cell_type": "markdown",
   "metadata": {},
   "source": [
    "When looking at the accurate scores for individual categories a few things jump out. Political Engagement has the lowest score which is not particularly surprising because with the country being so narrowly divided, both parties have similar levels of political engagement. The next lowest score is for the Demographics category. This is unfortunate this information is often available at the state or county level so being able to predict how a state or county will vote based on demographics alone would be useful. However the predictions using this data alone are still fairly accurate at 76.4% \n",
    "\n",
    "Looking at the most accurate categories, the Trust in Government and Health Care & Policy categories have the highest score with both being above 94.5%. This tracks with what we know American Politics at the moment. Democrats and Republicans don’t agree on much when it comes to health care policy. For example, a study from 2020 by a team from the Harvard T.H. Chan School of Public Health found that three quarters of democrats would like the federal government to ensure that all citizens have health insurance. In contrast, 79% of Republicans preferred a healthcare system that relies on private insurance. (https://jamanetwork.com/journals/jama/fullarticle/2777394) \n",
    "\n",
    "The reliability of the Trust in Government category when it comes to predicting ones vote is a bit more troubling. It has long been the case that trust in government declines when an individual’s preferred party is out of power in Washington as one can see in this analysis from Pew: https://www.pewresearch.org/politics/2023/09/19/public-trust-in-government-1958-2023/. However, as we saw following the 2020 election a lack of trust in institutions can quickly turn violent and deadly. The fact that this lack of trust is concentrated on one side of the political spectrum makes that an even more dangerous possibility.   "
   ]
  },
  {
   "cell_type": "code",
   "execution_count": 207,
   "metadata": {},
   "outputs": [
    {
     "data": {
      "text/html": [
       "<style>#sk-container-id-23 {color: black;background-color: white;}#sk-container-id-23 pre{padding: 0;}#sk-container-id-23 div.sk-toggleable {background-color: white;}#sk-container-id-23 label.sk-toggleable__label {cursor: pointer;display: block;width: 100%;margin-bottom: 0;padding: 0.3em;box-sizing: border-box;text-align: center;}#sk-container-id-23 label.sk-toggleable__label-arrow:before {content: \"▸\";float: left;margin-right: 0.25em;color: #696969;}#sk-container-id-23 label.sk-toggleable__label-arrow:hover:before {color: black;}#sk-container-id-23 div.sk-estimator:hover label.sk-toggleable__label-arrow:before {color: black;}#sk-container-id-23 div.sk-toggleable__content {max-height: 0;max-width: 0;overflow: hidden;text-align: left;background-color: #f0f8ff;}#sk-container-id-23 div.sk-toggleable__content pre {margin: 0.2em;color: black;border-radius: 0.25em;background-color: #f0f8ff;}#sk-container-id-23 input.sk-toggleable__control:checked~div.sk-toggleable__content {max-height: 200px;max-width: 100%;overflow: auto;}#sk-container-id-23 input.sk-toggleable__control:checked~label.sk-toggleable__label-arrow:before {content: \"▾\";}#sk-container-id-23 div.sk-estimator input.sk-toggleable__control:checked~label.sk-toggleable__label {background-color: #d4ebff;}#sk-container-id-23 div.sk-label input.sk-toggleable__control:checked~label.sk-toggleable__label {background-color: #d4ebff;}#sk-container-id-23 input.sk-hidden--visually {border: 0;clip: rect(1px 1px 1px 1px);clip: rect(1px, 1px, 1px, 1px);height: 1px;margin: -1px;overflow: hidden;padding: 0;position: absolute;width: 1px;}#sk-container-id-23 div.sk-estimator {font-family: monospace;background-color: #f0f8ff;border: 1px dotted black;border-radius: 0.25em;box-sizing: border-box;margin-bottom: 0.5em;}#sk-container-id-23 div.sk-estimator:hover {background-color: #d4ebff;}#sk-container-id-23 div.sk-parallel-item::after {content: \"\";width: 100%;border-bottom: 1px solid gray;flex-grow: 1;}#sk-container-id-23 div.sk-label:hover label.sk-toggleable__label {background-color: #d4ebff;}#sk-container-id-23 div.sk-serial::before {content: \"\";position: absolute;border-left: 1px solid gray;box-sizing: border-box;top: 0;bottom: 0;left: 50%;z-index: 0;}#sk-container-id-23 div.sk-serial {display: flex;flex-direction: column;align-items: center;background-color: white;padding-right: 0.2em;padding-left: 0.2em;position: relative;}#sk-container-id-23 div.sk-item {position: relative;z-index: 1;}#sk-container-id-23 div.sk-parallel {display: flex;align-items: stretch;justify-content: center;background-color: white;position: relative;}#sk-container-id-23 div.sk-item::before, #sk-container-id-23 div.sk-parallel-item::before {content: \"\";position: absolute;border-left: 1px solid gray;box-sizing: border-box;top: 0;bottom: 0;left: 50%;z-index: -1;}#sk-container-id-23 div.sk-parallel-item {display: flex;flex-direction: column;z-index: 1;position: relative;background-color: white;}#sk-container-id-23 div.sk-parallel-item:first-child::after {align-self: flex-end;width: 50%;}#sk-container-id-23 div.sk-parallel-item:last-child::after {align-self: flex-start;width: 50%;}#sk-container-id-23 div.sk-parallel-item:only-child::after {width: 0;}#sk-container-id-23 div.sk-dashed-wrapped {border: 1px dashed gray;margin: 0 0.4em 0.5em 0.4em;box-sizing: border-box;padding-bottom: 0.4em;background-color: white;}#sk-container-id-23 div.sk-label label {font-family: monospace;font-weight: bold;display: inline-block;line-height: 1.2em;}#sk-container-id-23 div.sk-label-container {text-align: center;}#sk-container-id-23 div.sk-container {/* jupyter's `normalize.less` sets `[hidden] { display: none; }` but bootstrap.min.css set `[hidden] { display: none !important; }` so we also need the `!important` here to be able to override the default hidden behavior on the sphinx rendered scikit-learn.org. See: https://github.com/scikit-learn/scikit-learn/issues/21755 */display: inline-block !important;position: relative;}#sk-container-id-23 div.sk-text-repr-fallback {display: none;}</style><div id=\"sk-container-id-23\" class=\"sk-top-container\"><div class=\"sk-text-repr-fallback\"><pre>Pipeline(steps=[(&#x27;preprocess&#x27;,\n",
       "                 ColumnTransformer(transformers=[(&#x27;cat&#x27;,\n",
       "                                                  OneHotEncoder(handle_unknown=&#x27;ignore&#x27;),\n",
       "                                                  [&#x27;B01&#x27;, &#x27;B02&#x27;, &#x27;B03&#x27;, &#x27;B04&#x27;,\n",
       "                                                   &#x27;B05&#x27;, &#x27;B06&#x27;, &#x27;B07&#x27;, &#x27;B08&#x27;,\n",
       "                                                   &#x27;B09&#x27;, &#x27;B10&#x27;, &#x27;B11&#x27;, &#x27;B12&#x27;,\n",
       "                                                   &#x27;B13&#x27;, &#x27;B14&#x27;, &#x27;B15&#x27;, &#x27;B16&#x27;,\n",
       "                                                   &#x27;B17&#x27;, &#x27;B18&#x27;, &#x27;B19&#x27;, &#x27;B20&#x27;,\n",
       "                                                   &#x27;B21&#x27;, &#x27;B22&#x27;, &#x27;B23&#x27;, &#x27;C01&#x27;,\n",
       "                                                   &#x27;C02&#x27;, &#x27;C03&#x27;, &#x27;C04&#x27;, &#x27;C05&#x27;,\n",
       "                                                   &#x27;C06&#x27;, &#x27;C07&#x27;, ...])],\n",
       "                                   verbose_feature_names_out=False)),\n",
       "                (&#x27;classifier&#x27;,\n",
       "                 XGBCla...\n",
       "                               colsample_bytree=1, gamma=0, gpu_id=-1,\n",
       "                               importance_type=&#x27;gain&#x27;,\n",
       "                               interaction_constraints=&#x27;&#x27;, learning_rate=0.1,\n",
       "                               max_delta_step=0, max_depth=2,\n",
       "                               min_child_weight=1, missing=nan,\n",
       "                               monotone_constraints=&#x27;()&#x27;, n_estimators=150,\n",
       "                               n_jobs=0, num_parallel_tree=1, random_state=42,\n",
       "                               reg_alpha=0, reg_lambda=1, scale_pos_weight=1,\n",
       "                               subsample=0.5, tree_method=&#x27;exact&#x27;,\n",
       "                               validate_parameters=1, verbosity=None))])</pre><b>In a Jupyter environment, please rerun this cell to show the HTML representation or trust the notebook. <br />On GitHub, the HTML representation is unable to render, please try loading this page with nbviewer.org.</b></div><div class=\"sk-container\" hidden><div class=\"sk-item sk-dashed-wrapped\"><div class=\"sk-label-container\"><div class=\"sk-label sk-toggleable\"><input class=\"sk-toggleable__control sk-hidden--visually\" id=\"sk-estimator-id-113\" type=\"checkbox\" ><label for=\"sk-estimator-id-113\" class=\"sk-toggleable__label sk-toggleable__label-arrow\">Pipeline</label><div class=\"sk-toggleable__content\"><pre>Pipeline(steps=[(&#x27;preprocess&#x27;,\n",
       "                 ColumnTransformer(transformers=[(&#x27;cat&#x27;,\n",
       "                                                  OneHotEncoder(handle_unknown=&#x27;ignore&#x27;),\n",
       "                                                  [&#x27;B01&#x27;, &#x27;B02&#x27;, &#x27;B03&#x27;, &#x27;B04&#x27;,\n",
       "                                                   &#x27;B05&#x27;, &#x27;B06&#x27;, &#x27;B07&#x27;, &#x27;B08&#x27;,\n",
       "                                                   &#x27;B09&#x27;, &#x27;B10&#x27;, &#x27;B11&#x27;, &#x27;B12&#x27;,\n",
       "                                                   &#x27;B13&#x27;, &#x27;B14&#x27;, &#x27;B15&#x27;, &#x27;B16&#x27;,\n",
       "                                                   &#x27;B17&#x27;, &#x27;B18&#x27;, &#x27;B19&#x27;, &#x27;B20&#x27;,\n",
       "                                                   &#x27;B21&#x27;, &#x27;B22&#x27;, &#x27;B23&#x27;, &#x27;C01&#x27;,\n",
       "                                                   &#x27;C02&#x27;, &#x27;C03&#x27;, &#x27;C04&#x27;, &#x27;C05&#x27;,\n",
       "                                                   &#x27;C06&#x27;, &#x27;C07&#x27;, ...])],\n",
       "                                   verbose_feature_names_out=False)),\n",
       "                (&#x27;classifier&#x27;,\n",
       "                 XGBCla...\n",
       "                               colsample_bytree=1, gamma=0, gpu_id=-1,\n",
       "                               importance_type=&#x27;gain&#x27;,\n",
       "                               interaction_constraints=&#x27;&#x27;, learning_rate=0.1,\n",
       "                               max_delta_step=0, max_depth=2,\n",
       "                               min_child_weight=1, missing=nan,\n",
       "                               monotone_constraints=&#x27;()&#x27;, n_estimators=150,\n",
       "                               n_jobs=0, num_parallel_tree=1, random_state=42,\n",
       "                               reg_alpha=0, reg_lambda=1, scale_pos_weight=1,\n",
       "                               subsample=0.5, tree_method=&#x27;exact&#x27;,\n",
       "                               validate_parameters=1, verbosity=None))])</pre></div></div></div><div class=\"sk-serial\"><div class=\"sk-item sk-dashed-wrapped\"><div class=\"sk-label-container\"><div class=\"sk-label sk-toggleable\"><input class=\"sk-toggleable__control sk-hidden--visually\" id=\"sk-estimator-id-114\" type=\"checkbox\" ><label for=\"sk-estimator-id-114\" class=\"sk-toggleable__label sk-toggleable__label-arrow\">preprocess: ColumnTransformer</label><div class=\"sk-toggleable__content\"><pre>ColumnTransformer(transformers=[(&#x27;cat&#x27;, OneHotEncoder(handle_unknown=&#x27;ignore&#x27;),\n",
       "                                 [&#x27;B01&#x27;, &#x27;B02&#x27;, &#x27;B03&#x27;, &#x27;B04&#x27;, &#x27;B05&#x27;, &#x27;B06&#x27;,\n",
       "                                  &#x27;B07&#x27;, &#x27;B08&#x27;, &#x27;B09&#x27;, &#x27;B10&#x27;, &#x27;B11&#x27;, &#x27;B12&#x27;,\n",
       "                                  &#x27;B13&#x27;, &#x27;B14&#x27;, &#x27;B15&#x27;, &#x27;B16&#x27;, &#x27;B17&#x27;, &#x27;B18&#x27;,\n",
       "                                  &#x27;B19&#x27;, &#x27;B20&#x27;, &#x27;B21&#x27;, &#x27;B22&#x27;, &#x27;B23&#x27;, &#x27;C01&#x27;,\n",
       "                                  &#x27;C02&#x27;, &#x27;C03&#x27;, &#x27;C04&#x27;, &#x27;C05&#x27;, &#x27;C06&#x27;, &#x27;C07&#x27;, ...])],\n",
       "                  verbose_feature_names_out=False)</pre></div></div></div><div class=\"sk-parallel\"><div class=\"sk-parallel-item\"><div class=\"sk-item\"><div class=\"sk-label-container\"><div class=\"sk-label sk-toggleable\"><input class=\"sk-toggleable__control sk-hidden--visually\" id=\"sk-estimator-id-115\" type=\"checkbox\" ><label for=\"sk-estimator-id-115\" class=\"sk-toggleable__label sk-toggleable__label-arrow\">cat</label><div class=\"sk-toggleable__content\"><pre>[&#x27;B01&#x27;, &#x27;B02&#x27;, &#x27;B03&#x27;, &#x27;B04&#x27;, &#x27;B05&#x27;, &#x27;B06&#x27;, &#x27;B07&#x27;, &#x27;B08&#x27;, &#x27;B09&#x27;, &#x27;B10&#x27;, &#x27;B11&#x27;, &#x27;B12&#x27;, &#x27;B13&#x27;, &#x27;B14&#x27;, &#x27;B15&#x27;, &#x27;B16&#x27;, &#x27;B17&#x27;, &#x27;B18&#x27;, &#x27;B19&#x27;, &#x27;B20&#x27;, &#x27;B21&#x27;, &#x27;B22&#x27;, &#x27;B23&#x27;, &#x27;C01&#x27;, &#x27;C02&#x27;, &#x27;C03&#x27;, &#x27;C04&#x27;, &#x27;C05&#x27;, &#x27;C06&#x27;, &#x27;C07&#x27;, &#x27;F01&#x27;, &#x27;F02&#x27;, &#x27;F03&#x27;, &#x27;F04&#x27;, &#x27;F05&#x27;, &#x27;F06&#x27;, &#x27;F07&#x27;, &#x27;F08&#x27;, &#x27;F09&#x27;, &#x27;F10&#x27;, &#x27;F11&#x27;, &#x27;F12&#x27;, &#x27;F13&#x27;, &#x27;F14&#x27;, &#x27;F15&#x27;, &#x27;F16&#x27;, &#x27;F17&#x27;, &#x27;F18&#x27;, &#x27;F19&#x27;, &#x27;F20&#x27;, &#x27;F21&#x27;, &#x27;F22&#x27;, &#x27;F23&#x27;, &#x27;F24&#x27;, &#x27;F25&#x27;, &#x27;F26&#x27;, &#x27;F27&#x27;, &#x27;G01&#x27;, &#x27;G02&#x27;, &#x27;G03&#x27;, &#x27;G04&#x27;, &#x27;G05&#x27;, &#x27;G06&#x27;, &#x27;G07&#x27;, &#x27;G08&#x27;, &#x27;G09&#x27;, &#x27;G10&#x27;, &#x27;G11&#x27;, &#x27;H01&#x27;, &#x27;H02&#x27;, &#x27;H03&#x27;, &#x27;H04&#x27;, &#x27;H05&#x27;, &#x27;H06&#x27;, &#x27;H07&#x27;, &#x27;H08&#x27;, &#x27;H09&#x27;, &#x27;H10&#x27;, &#x27;H11&#x27;, &#x27;H12&#x27;, &#x27;H13&#x27;, &#x27;H14&#x27;, &#x27;H15&#x27;, &#x27;H16&#x27;, &#x27;H17&#x27;, &#x27;J01&#x27;, &#x27;J02&#x27;, &#x27;J03&#x27;, &#x27;J04&#x27;, &#x27;J05&#x27;, &#x27;J06&#x27;, &#x27;J07&#x27;, &#x27;J08&#x27;, &#x27;J09&#x27;, &#x27;J10&#x27;, &#x27;J11&#x27;, &#x27;J12&#x27;, &#x27;K01&#x27;, &#x27;K02&#x27;, &#x27;K03&#x27;, &#x27;K04&#x27;, &#x27;K05&#x27;, &#x27;K06&#x27;, &#x27;K07&#x27;, &#x27;K08&#x27;, &#x27;K09&#x27;, &#x27;K10&#x27;, &#x27;K11&#x27;, &#x27;K12&#x27;, &#x27;K13&#x27;, &#x27;K14&#x27;, &#x27;K15&#x27;, &#x27;K16&#x27;, &#x27;K17&#x27;, &#x27;K18&#x27;, &#x27;L01&#x27;, &#x27;L02&#x27;, &#x27;L03&#x27;, &#x27;L04&#x27;, &#x27;L05&#x27;, &#x27;L06&#x27;, &#x27;M01&#x27;, &#x27;M02&#x27;, &#x27;M03&#x27;, &#x27;M04&#x27;, &#x27;M05&#x27;, &#x27;M06&#x27;, &#x27;M07&#x27;, &#x27;M08&#x27;, &#x27;M09&#x27;, &#x27;M10&#x27;, &#x27;M11&#x27;, &#x27;M12&#x27;, &#x27;M13&#x27;, &#x27;M14&#x27;, &#x27;M15&#x27;, &#x27;M16&#x27;, &#x27;M17&#x27;, &#x27;M18&#x27;, &#x27;M19&#x27;, &#x27;M20&#x27;, &#x27;N01&#x27;, &#x27;N02&#x27;, &#x27;N03&#x27;, &#x27;N04&#x27;, &#x27;N05&#x27;, &#x27;N06&#x27;, &#x27;N07&#x27;, &#x27;N08&#x27;, &#x27;P01&#x27;, &#x27;P02&#x27;, &#x27;P03&#x27;, &#x27;P04&#x27;, &#x27;P05&#x27;, &#x27;P06&#x27;, &#x27;P07&#x27;, &#x27;P08&#x27;, &#x27;P09&#x27;, &#x27;P10&#x27;, &#x27;P11&#x27;, &#x27;P12&#x27;, &#x27;P13&#x27;, &#x27;P14&#x27;, &#x27;P15&#x27;, &#x27;P16&#x27;, &#x27;P17&#x27;, &#x27;P18&#x27;, &#x27;P19&#x27;, &#x27;P20&#x27;, &#x27;P21&#x27;, &#x27;P22&#x27;, &#x27;P23&#x27;, &#x27;P24&#x27;, &#x27;P25&#x27;, &#x27;P26&#x27;, &#x27;P27&#x27;, &#x27;P28&#x27;, &#x27;P29&#x27;, &#x27;Q01&#x27;, &#x27;Q02&#x27;, &#x27;Q03&#x27;, &#x27;Q04&#x27;, &#x27;Q05&#x27;, &#x27;Q06&#x27;, &#x27;Q07&#x27;, &#x27;Q08&#x27;, &#x27;R01&#x27;, &#x27;R02&#x27;, &#x27;R03&#x27;, &#x27;R04&#x27;, &#x27;R05&#x27;, &#x27;R06&#x27;, &#x27;R07&#x27;, &#x27;R08&#x27;, &#x27;R09&#x27;, &#x27;R10&#x27;, &#x27;R11&#x27;, &#x27;R12&#x27;, &#x27;R13&#x27;, &#x27;R14&#x27;, &#x27;R15&#x27;, &#x27;R16&#x27;, &#x27;R17&#x27;, &#x27;R18&#x27;]</pre></div></div></div><div class=\"sk-serial\"><div class=\"sk-item\"><div class=\"sk-estimator sk-toggleable\"><input class=\"sk-toggleable__control sk-hidden--visually\" id=\"sk-estimator-id-116\" type=\"checkbox\" ><label for=\"sk-estimator-id-116\" class=\"sk-toggleable__label sk-toggleable__label-arrow\">OneHotEncoder</label><div class=\"sk-toggleable__content\"><pre>OneHotEncoder(handle_unknown=&#x27;ignore&#x27;)</pre></div></div></div></div></div></div></div></div><div class=\"sk-item\"><div class=\"sk-estimator sk-toggleable\"><input class=\"sk-toggleable__control sk-hidden--visually\" id=\"sk-estimator-id-117\" type=\"checkbox\" ><label for=\"sk-estimator-id-117\" class=\"sk-toggleable__label sk-toggleable__label-arrow\">XGBClassifier</label><div class=\"sk-toggleable__content\"><pre>XGBClassifier(base_score=0.5, booster=&#x27;gbtree&#x27;, colsample_bylevel=1,\n",
       "              colsample_bynode=1, colsample_bytree=1, gamma=0, gpu_id=-1,\n",
       "              importance_type=&#x27;gain&#x27;, interaction_constraints=&#x27;&#x27;,\n",
       "              learning_rate=0.1, max_delta_step=0, max_depth=2,\n",
       "              min_child_weight=1, missing=nan, monotone_constraints=&#x27;()&#x27;,\n",
       "              n_estimators=150, n_jobs=0, num_parallel_tree=1, random_state=42,\n",
       "              reg_alpha=0, reg_lambda=1, scale_pos_weight=1, subsample=0.5,\n",
       "              tree_method=&#x27;exact&#x27;, validate_parameters=1, verbosity=None)</pre></div></div></div></div></div></div></div>"
      ],
      "text/plain": [
       "Pipeline(steps=[('preprocess',\n",
       "                 ColumnTransformer(transformers=[('cat',\n",
       "                                                  OneHotEncoder(handle_unknown='ignore'),\n",
       "                                                  ['B01', 'B02', 'B03', 'B04',\n",
       "                                                   'B05', 'B06', 'B07', 'B08',\n",
       "                                                   'B09', 'B10', 'B11', 'B12',\n",
       "                                                   'B13', 'B14', 'B15', 'B16',\n",
       "                                                   'B17', 'B18', 'B19', 'B20',\n",
       "                                                   'B21', 'B22', 'B23', 'C01',\n",
       "                                                   'C02', 'C03', 'C04', 'C05',\n",
       "                                                   'C06', 'C07', ...])],\n",
       "                                   verbose_feature_names_out=False)),\n",
       "                ('classifier',\n",
       "                 XGBCla...\n",
       "                               colsample_bytree=1, gamma=0, gpu_id=-1,\n",
       "                               importance_type='gain',\n",
       "                               interaction_constraints='', learning_rate=0.1,\n",
       "                               max_delta_step=0, max_depth=2,\n",
       "                               min_child_weight=1, missing=nan,\n",
       "                               monotone_constraints='()', n_estimators=150,\n",
       "                               n_jobs=0, num_parallel_tree=1, random_state=42,\n",
       "                               reg_alpha=0, reg_lambda=1, scale_pos_weight=1,\n",
       "                               subsample=0.5, tree_method='exact',\n",
       "                               validate_parameters=1, verbosity=None))])"
      ]
     },
     "execution_count": 207,
     "metadata": {},
     "output_type": "execute_result"
    }
   ],
   "source": [
    "# Setting up new pipeline \n",
    "# Preprocessing steps\n",
    "preprocessing = ColumnTransformer(\n",
    "    [\n",
    "        (\"cat\", categorical_processing, categorical_columns),\n",
    "    ],\n",
    "    verbose_feature_names_out=False,\n",
    ")\n",
    "\n",
    "# Setting up pipeline\n",
    "XGBoost_pipe = Pipeline(\n",
    "    [\n",
    "        (\"preprocess\", preprocessing),\n",
    "        (\"classifier\", XGBClassifier(random_state=42,\n",
    "                                     learning_rate = 0.1,\n",
    "                                     max_depth = 2,\n",
    "                                     min_child_weight = 1,\n",
    "                                     subsample = .5,\n",
    "                                     n_estimators = 150\n",
    "                                    )\n",
    "        )\n",
    "    ]\n",
    ")\n",
    "\n",
    "# Fitting pipeline to the training data\n",
    "XGBoost_pipe.fit(X_train, y_train)"
   ]
  },
  {
   "cell_type": "code",
   "execution_count": 202,
   "metadata": {
    "scrolled": true
   },
   "outputs": [
    {
     "data": {
      "text/html": [
       "<div>\n",
       "<style scoped>\n",
       "    .dataframe tbody tr th:only-of-type {\n",
       "        vertical-align: middle;\n",
       "    }\n",
       "\n",
       "    .dataframe tbody tr th {\n",
       "        vertical-align: top;\n",
       "    }\n",
       "\n",
       "    .dataframe thead th {\n",
       "        text-align: right;\n",
       "    }\n",
       "</style>\n",
       "<table border=\"1\" class=\"dataframe\">\n",
       "  <thead>\n",
       "    <tr style=\"text-align: right;\">\n",
       "      <th></th>\n",
       "      <th>importance</th>\n",
       "    </tr>\n",
       "    <tr>\n",
       "      <th>feature</th>\n",
       "      <th></th>\n",
       "    </tr>\n",
       "  </thead>\n",
       "  <tbody>\n",
       "    <tr>\n",
       "      <th>P28</th>\n",
       "      <td>0.230252</td>\n",
       "    </tr>\n",
       "    <tr>\n",
       "      <th>H05</th>\n",
       "      <td>0.114018</td>\n",
       "    </tr>\n",
       "    <tr>\n",
       "      <th>P29</th>\n",
       "      <td>0.109391</td>\n",
       "    </tr>\n",
       "    <tr>\n",
       "      <th>F26</th>\n",
       "      <td>0.036291</td>\n",
       "    </tr>\n",
       "    <tr>\n",
       "      <th>K09</th>\n",
       "      <td>0.033216</td>\n",
       "    </tr>\n",
       "    <tr>\n",
       "      <th>P27</th>\n",
       "      <td>0.032782</td>\n",
       "    </tr>\n",
       "    <tr>\n",
       "      <th>N01</th>\n",
       "      <td>0.027380</td>\n",
       "    </tr>\n",
       "    <tr>\n",
       "      <th>G01</th>\n",
       "      <td>0.022928</td>\n",
       "    </tr>\n",
       "    <tr>\n",
       "      <th>M12</th>\n",
       "      <td>0.021016</td>\n",
       "    </tr>\n",
       "    <tr>\n",
       "      <th>J09</th>\n",
       "      <td>0.018592</td>\n",
       "    </tr>\n",
       "  </tbody>\n",
       "</table>\n",
       "</div>"
      ],
      "text/plain": [
       "         importance\n",
       "feature            \n",
       "P28        0.230252\n",
       "H05        0.114018\n",
       "P29        0.109391\n",
       "F26        0.036291\n",
       "K09        0.033216\n",
       "P27        0.032782\n",
       "N01        0.027380\n",
       "G01        0.022928\n",
       "M12        0.021016\n",
       "J09        0.018592"
      ]
     },
     "execution_count": 202,
     "metadata": {},
     "output_type": "execute_result"
    }
   ],
   "source": [
    "# getting individual feature importances\n",
    "XGBoost_importances = get_feature_importances(XGBoost_pipe)\n",
    "XGBoost_importances.nlargest(10, columns= 'importance')"
   ]
  },
  {
   "cell_type": "markdown",
   "metadata": {},
   "source": [
    "When looking at the most important features there are a couple that aren’t surprising. Question P28 asks if the respondent favors the House of Representatives decision to impeach Donald Trump in 2019 and P29 asks if the respondent favors the Senates decision not to convict. Similarly H05 asks if the COVID-19 response was adequate. These were obviously major issues in the 2020 election."
   ]
  },
  {
   "cell_type": "code",
   "execution_count": 232,
   "metadata": {},
   "outputs": [
    {
     "name": "stdout",
     "output_type": "stream",
     "text": [
      "cross validation score 0.8711571051668688\n"
     ]
    }
   ],
   "source": [
    "# modeling with a single column\n",
    "X_train_subset = X_train['H05']\n",
    "# Updating pipeline\n",
    "XGBoost_pipe.set_params(preprocess__transformers = [(\"cat\", categorical_processing, _10_most_important_features)])\n",
    "# Refitting pipeline\n",
    "XGBoost_pipe.fit(X_train_subset, y_train)\n",
    "# getting new predictions\n",
    "y_pred = XGBoost_pipe.predict(X_train_subset)\n",
    "print(f'cross validation score' , cross_val_score(XGBoost_pipe,\n",
    "                                           X_train_subset, \n",
    "                                           y_train, \n",
    "                                           cv=5, \n",
    "                                           scoring = 'accuracy').mean())"
   ]
  },
  {
   "cell_type": "markdown",
   "metadata": {},
   "source": [
    "Something that is interesting is that the model can predict with 87.1% accuracy who the respondent would vote for based on their opinion of the federal government's response to COVID-19. Taking this just a bit further the model loses very little in terms of accuracy as I restrict the features it has access to. Below I've given it features ranked 11 through 20 and 21 through 30 "
   ]
  },
  {
   "cell_type": "code",
   "execution_count": 238,
   "metadata": {},
   "outputs": [],
   "source": [
    "# Getting features 11 through 20 ranked by importance\n",
    "next_10_most_important_features = list(XGBoost_importances.nlargest(20, columns= 'importance').index)[10:20]"
   ]
  },
  {
   "cell_type": "code",
   "execution_count": 239,
   "metadata": {},
   "outputs": [
    {
     "name": "stdout",
     "output_type": "stream",
     "text": [
      "cross validation score 0.9563230592947791\n"
     ]
    }
   ],
   "source": [
    "# modeling with a single column\n",
    "X_train_subset = X_train[next_10_most_important_features]\n",
    "# Updating pipeline\n",
    "XGBoost_pipe.set_params(preprocess__transformers = [(\"cat\", categorical_processing, next_10_most_important_features)])\n",
    "# Refitting pipeline\n",
    "XGBoost_pipe.fit(X_train_subset, y_train)\n",
    "# getting new predictions\n",
    "y_pred = XGBoost_pipe.predict(X_train_subset)\n",
    "print(f'cross validation score' , cross_val_score(XGBoost_pipe,\n",
    "                                           X_train_subset, \n",
    "                                           y_train, \n",
    "                                           cv=5, \n",
    "                                           scoring = 'accuracy').mean())"
   ]
  },
  {
   "cell_type": "code",
   "execution_count": 240,
   "metadata": {},
   "outputs": [],
   "source": [
    "# Getting features 21 through 30 ranked by importance\n",
    "next_10_most_important_features = list(XGBoost_importances.nlargest(30, columns= 'importance').index)[20:30]"
   ]
  },
  {
   "cell_type": "code",
   "execution_count": 241,
   "metadata": {
    "scrolled": false
   },
   "outputs": [
    {
     "name": "stdout",
     "output_type": "stream",
     "text": [
      "cross validation score 0.9201053883336222\n",
      "features:  ['M05', 'H08', 'J08', 'C02', 'P08', 'M07', 'N07', 'P04', 'K08', 'M17']\n"
     ]
    }
   ],
   "source": [
    "# modeling with a single column\n",
    "X_train_subset = X_train[next_10_most_important_features]\n",
    "# Updating pipeline\n",
    "XGBoost_pipe.set_params(preprocess__transformers = [(\"cat\", categorical_processing, next_10_most_important_features)])\n",
    "# Refitting pipeline\n",
    "XGBoost_pipe.fit(X_train_subset, y_train)\n",
    "# getting new predictions\n",
    "y_pred = XGBoost_pipe.predict(X_train_subset)\n",
    "print(f'cross validation score' , cross_val_score(XGBoost_pipe,\n",
    "                                           X_train_subset, \n",
    "                                           y_train, \n",
    "                                           cv=5, \n",
    "                                           scoring = 'accuracy').mean())"
   ]
  },
  {
   "cell_type": "markdown",
   "metadata": {},
   "source": [
    "Even with these less politically charged questions the model still has a very good idea how an individual will vote. For example, one of the columns the model had access to in the final run asked \"how important should science be for decisions about COVID-19?\" another asked \"How much is Iran a threat to the United States?\" These are not inherently political questions and in the U.S. they did not used to be politically relevant. However, in the era of hyper polarization, they can accurately predict how an individual will vote"
   ]
  }
 ],
 "metadata": {
  "kernelspec": {
   "display_name": "Python (learn-env)",
   "language": "python",
   "name": "learn-env"
  },
  "language_info": {
   "codemirror_mode": {
    "name": "ipython",
    "version": 3
   },
   "file_extension": ".py",
   "mimetype": "text/x-python",
   "name": "python",
   "nbconvert_exporter": "python",
   "pygments_lexer": "ipython3",
   "version": "3.8.5"
  }
 },
 "nbformat": 4,
 "nbformat_minor": 4
}
